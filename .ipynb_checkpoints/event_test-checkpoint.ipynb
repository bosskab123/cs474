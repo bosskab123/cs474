{
 "cells": [
  {
   "cell_type": "markdown",
   "id": "15f1e39d",
   "metadata": {},
   "source": [
    "### Libs & Data"
   ]
  },
  {
   "cell_type": "code",
   "execution_count": 1,
   "id": "74952819",
   "metadata": {},
   "outputs": [],
   "source": [
    "# D:\\Program Files\\anaconda3\\envs\\tmining\\Lib\\site-packages\\Giveme5W1H\\runtime-resources\\stanford-corenlp-full-2018-10-05\n",
    "# java -Xmx4g -cp \"*\" edu.stanford.nlp.pipeline.StanfordCoreNLPServer -port 9000 -timeout 15000\n",
    "import numpy as np\n",
    "import pandas as pd\n",
    "import os\n",
    "import re\n",
    "import nltk\n",
    "\n",
    "from Giveme5W1H.extractor.document import Document\n",
    "from Giveme5W1H.extractor.extractor import MasterExtractor\n",
    "\n",
    "import matplotlib.pyplot as plt"
   ]
  },
  {
   "cell_type": "code",
   "execution_count": 2,
   "id": "8638d2b7",
   "metadata": {},
   "outputs": [
    {
     "data": {
      "text/plain": [
       "(23769, 6)"
      ]
     },
     "execution_count": 2,
     "metadata": {},
     "output_type": "execute_result"
    }
   ],
   "source": [
    "data_dir = 'data/'\n",
    "filename_prefix = 'koreaherald_1517_'\n",
    "df = []\n",
    "for i in range(8):\n",
    "    df.append(pd.read_json(os.path.join(data_dir, filename_prefix + str(i) + '.json')))\n",
    "df = pd.concat(df)\n",
    "df.reset_index(inplace=True)\n",
    "df = df.rename(columns=dict(zip(df.columns,[df.columns[i].strip() for i in range(len(df.columns))])))\n",
    "df.drop('index', inplace=True, axis=1)\n",
    "df.shape"
   ]
  },
  {
   "cell_type": "code",
   "execution_count": 3,
   "id": "58199f3d",
   "metadata": {},
   "outputs": [
    {
     "data": {
      "text/html": [
       "<div>\n",
       "<style scoped>\n",
       "    .dataframe tbody tr th:only-of-type {\n",
       "        vertical-align: middle;\n",
       "    }\n",
       "\n",
       "    .dataframe tbody tr th {\n",
       "        vertical-align: top;\n",
       "    }\n",
       "\n",
       "    .dataframe thead th {\n",
       "        text-align: right;\n",
       "    }\n",
       "</style>\n",
       "<table border=\"1\" class=\"dataframe\">\n",
       "  <thead>\n",
       "    <tr style=\"text-align: right;\">\n",
       "      <th></th>\n",
       "      <th>author</th>\n",
       "      <th>body</th>\n",
       "      <th>description</th>\n",
       "      <th>section</th>\n",
       "      <th>time</th>\n",
       "      <th>title</th>\n",
       "    </tr>\n",
       "  </thead>\n",
       "  <tbody>\n",
       "    <tr>\n",
       "      <th>0</th>\n",
       "      <td>Lee Sun-young</td>\n",
       "      <td>With birthrates persistently low and the senio...</td>\n",
       "      <td>With birthrates persistently low and the senio...</td>\n",
       "      <td>Social affairs</td>\n",
       "      <td>2018-01-01 17:07:00</td>\n",
       "      <td>A snapshot of multiculturalism in South Korea</td>\n",
       "    </tr>\n",
       "    <tr>\n",
       "      <th>1</th>\n",
       "      <td>Choi He-suk</td>\n",
       "      <td>From North Korea’s nuclear weapons program nea...</td>\n",
       "      <td>From North Korea’s nuclear weapons program nea...</td>\n",
       "      <td>Social affairs</td>\n",
       "      <td>2018-01-01 13:22:00</td>\n",
       "      <td>[Weekender] Korea’s dynamic 2017</td>\n",
       "    </tr>\n",
       "    <tr>\n",
       "      <th>2</th>\n",
       "      <td>Yonhap</td>\n",
       "      <td>South Korea's parliament on Friday passed moti...</td>\n",
       "      <td>South Korea's parliament on Friday passed moti...</td>\n",
       "      <td>Politics</td>\n",
       "      <td>2017-12-29 20:41:00</td>\n",
       "      <td>Parliament approves nominees for chief state a...</td>\n",
       "    </tr>\n",
       "    <tr>\n",
       "      <th>3</th>\n",
       "      <td>Lim Jeong-yeo</td>\n",
       "      <td>A 3.5 magnitude earthquake occurred in Pohang,...</td>\n",
       "      <td>A 3.5 magnitude earthquake occurred in Pohang,...</td>\n",
       "      <td>Social affairs</td>\n",
       "      <td>2017-12-25 16:54:00</td>\n",
       "      <td>70th aftershock of Pohang quake occurs on Chri...</td>\n",
       "    </tr>\n",
       "    <tr>\n",
       "      <th>4</th>\n",
       "      <td>Yonhap</td>\n",
       "      <td>The president of Uzbekistan will come to South...</td>\n",
       "      <td>The president of Uzbekistan will come to South...</td>\n",
       "      <td>Politics</td>\n",
       "      <td>2017-11-17 16:16:00</td>\n",
       "      <td>Uzbek president to make state visit to Korea</td>\n",
       "    </tr>\n",
       "  </tbody>\n",
       "</table>\n",
       "</div>"
      ],
      "text/plain": [
       "          author                                               body  \\\n",
       "0  Lee Sun-young  With birthrates persistently low and the senio...   \n",
       "1    Choi He-suk  From North Korea’s nuclear weapons program nea...   \n",
       "2         Yonhap  South Korea's parliament on Friday passed moti...   \n",
       "3  Lim Jeong-yeo  A 3.5 magnitude earthquake occurred in Pohang,...   \n",
       "4         Yonhap  The president of Uzbekistan will come to South...   \n",
       "\n",
       "                                         description         section  \\\n",
       "0  With birthrates persistently low and the senio...  Social affairs   \n",
       "1  From North Korea’s nuclear weapons program nea...  Social affairs   \n",
       "2  South Korea's parliament on Friday passed moti...        Politics   \n",
       "3  A 3.5 magnitude earthquake occurred in Pohang,...  Social affairs   \n",
       "4  The president of Uzbekistan will come to South...        Politics   \n",
       "\n",
       "                  time                                              title  \n",
       "0  2018-01-01 17:07:00      A snapshot of multiculturalism in South Korea  \n",
       "1  2018-01-01 13:22:00                   [Weekender] Korea’s dynamic 2017  \n",
       "2  2017-12-29 20:41:00  Parliament approves nominees for chief state a...  \n",
       "3  2017-12-25 16:54:00  70th aftershock of Pohang quake occurs on Chri...  \n",
       "4  2017-11-17 16:16:00       Uzbek president to make state visit to Korea  "
      ]
     },
     "execution_count": 3,
     "metadata": {},
     "output_type": "execute_result"
    }
   ],
   "source": [
    "df.head()"
   ]
  },
  {
   "cell_type": "markdown",
   "id": "a9425a74",
   "metadata": {},
   "source": [
    "### Event Extraction"
   ]
  },
  {
   "cell_type": "code",
   "execution_count": 4,
   "id": "91557038",
   "metadata": {},
   "outputs": [
    {
     "data": {
      "text/plain": [
       "'With birthrates persistently low and the senior population growing, South Korea‘s working age population is projected to shrink from 2018 onward. Against this backdrop, a steady inflow of immigrants and foreign residents is a potent factor that could bring about major changes to the fabric of South Korean society, long considered culturally and ethnically homogeneous. Here’s a look at the multiculturalism’s growing hold here, although it may not be visible yet in the mainstream.Migrant workers As of 2016, more than 2 million foreign nationals were residing in South Korea under various visa schemes. The lion’s share, totaling about 549,000, is migrant workers brought in from China and Southeast Asian countries to take up jobs that are shunned by more educated South Korean workers. The majority of these workers are in manufacturing, but there has been a noticeable rise of them in agricultural and fishery sectors which have been struggling with chronic labor shortages. The tally from Statistics Korea, however, leaves out thousands of undocumented foreign laborers living and working here without a valid visa. Foreign wives Since late 1990s, international marriages have risen rapidly to become a major route of immigration into Korea, but in recent years their pace of growth has moderated. In 2008, 11.2 percent of all marriages here involved a non-Korean national but the ratio was down to 7.7 percent in 2016. Over 65 percent of the international unions in 2016 were between a foreign wife and a Korean husband. For the first time that year, Vietnam took over China as the No. 1 country of birth for the foreign wives, with 27.4 percent. China came in second at 26.9 percent, while 4.3 percent of the wives came from the Philippines and 3.9 percent from Japan. In such unions, the average age of first marriage was 36 for the Korean husbands and 27.8 of their wives. Foreign studentsThe number of international students receiving higher education here topped the 100,000 mark for the first time in 2016. Chinese are the overwhelming No. 1 group among them with over 70 percent. Vietnam, Mongolia, Japan and the United States followed although their shares are marginal, less than 5 percent. Rise of new generation\\xa0 (Yonhap)In 2016, 19,431 babies of mixed heritage were born in South Korea, which accounted for 4.8 percent of all births in the country. Rural provinces of Jeolla recorded the highest number of multicultural babies born, followed by the southern island province of Jeju. The Education Ministry data puts the number of multicultural students attending elementary, middle and high school at 109,385 as of August 2017, surpassing the 100,000 mark for the first time. It marked a fivefold increase from 2008, when the number was around 20,000. By Lee Sun-young\\xa0 (milaya@heraldcorp.com)'"
      ]
     },
     "execution_count": 4,
     "metadata": {},
     "output_type": "execute_result"
    }
   ],
   "source": [
    "text = df['body'][0]\n",
    "text"
   ]
  },
  {
   "cell_type": "code",
   "execution_count": 5,
   "id": "af840d12",
   "metadata": {},
   "outputs": [
    {
     "data": {
      "text/plain": [
       "'2018-01-01 17:07:00'"
      ]
     },
     "execution_count": 5,
     "metadata": {},
     "output_type": "execute_result"
    }
   ],
   "source": [
    "date_publish = df['time'][0]\n",
    "date_publish"
   ]
  },
  {
   "cell_type": "code",
   "execution_count": 6,
   "id": "b92bfa13",
   "metadata": {},
   "outputs": [
    {
     "ename": "AnnotationException",
     "evalue": "Could not handle incoming annotation",
     "output_type": "error",
     "traceback": [
      "\u001b[1;31m---------------------------------------------------------------------------\u001b[0m",
      "\u001b[1;31mHTTPError\u001b[0m                                 Traceback (most recent call last)",
      "\u001b[1;32mD:\\Program Files\\anaconda3\\envs\\tmining\\lib\\site-packages\\stanza\\server\\client.py\u001b[0m in \u001b[0;36m_request\u001b[1;34m(self, buf, properties, reset_default, **kwargs)\u001b[0m\n\u001b[0;32m    454\u001b[0m                               timeout=(self.timeout*2)/1000, **kwargs)\n\u001b[1;32m--> 455\u001b[1;33m             \u001b[0mr\u001b[0m\u001b[1;33m.\u001b[0m\u001b[0mraise_for_status\u001b[0m\u001b[1;33m(\u001b[0m\u001b[1;33m)\u001b[0m\u001b[1;33m\u001b[0m\u001b[1;33m\u001b[0m\u001b[0m\n\u001b[0m\u001b[0;32m    456\u001b[0m             \u001b[1;32mreturn\u001b[0m \u001b[0mr\u001b[0m\u001b[1;33m\u001b[0m\u001b[1;33m\u001b[0m\u001b[0m\n",
      "\u001b[1;32mD:\\Program Files\\anaconda3\\envs\\tmining\\lib\\site-packages\\requests\\models.py\u001b[0m in \u001b[0;36mraise_for_status\u001b[1;34m(self)\u001b[0m\n\u001b[0;32m    952\u001b[0m         \u001b[1;32mif\u001b[0m \u001b[0mhttp_error_msg\u001b[0m\u001b[1;33m:\u001b[0m\u001b[1;33m\u001b[0m\u001b[1;33m\u001b[0m\u001b[0m\n\u001b[1;32m--> 953\u001b[1;33m             \u001b[1;32mraise\u001b[0m \u001b[0mHTTPError\u001b[0m\u001b[1;33m(\u001b[0m\u001b[0mhttp_error_msg\u001b[0m\u001b[1;33m,\u001b[0m \u001b[0mresponse\u001b[0m\u001b[1;33m=\u001b[0m\u001b[0mself\u001b[0m\u001b[1;33m)\u001b[0m\u001b[1;33m\u001b[0m\u001b[1;33m\u001b[0m\u001b[0m\n\u001b[0m\u001b[0;32m    954\u001b[0m \u001b[1;33m\u001b[0m\u001b[0m\n",
      "\u001b[1;31mHTTPError\u001b[0m: 500 Server Error: Internal Server Error for url: http://localhost:9000/?properties=%7B%27outputFormat%27%3A+%27json%27%2C+%27timeout%27%3A+500000%2C+%27annotators%27%3A+%27tokenize%2Cssplit%2Cpos%2Clemma%2Cparse%2Cner%2Cdepparse%2Cmention%2Ccoref%27%2C+%27tokenize.language%27%3A+%27English%27%2C+%27date%27%3A+%272018-01-01+17%3A07%3A00%27%7D&resetDefault=false",
      "\nDuring handling of the above exception, another exception occurred:\n",
      "\u001b[1;31mAnnotationException\u001b[0m                       Traceback (most recent call last)",
      "\u001b[1;32m<ipython-input-6-216b047c21b9>\u001b[0m in \u001b[0;36m<module>\u001b[1;34m\u001b[0m\n\u001b[0;32m      2\u001b[0m \u001b[0mdoc\u001b[0m \u001b[1;33m=\u001b[0m \u001b[0mDocument\u001b[0m\u001b[1;33m.\u001b[0m\u001b[0mfrom_text\u001b[0m\u001b[1;33m(\u001b[0m\u001b[0mtext\u001b[0m\u001b[1;33m,\u001b[0m \u001b[0mdate_publish\u001b[0m\u001b[1;33m)\u001b[0m\u001b[1;33m\u001b[0m\u001b[1;33m\u001b[0m\u001b[0m\n\u001b[0;32m      3\u001b[0m \u001b[1;31m# or: doc = Document(title, lead, text, date_publish)\u001b[0m\u001b[1;33m\u001b[0m\u001b[1;33m\u001b[0m\u001b[1;33m\u001b[0m\u001b[0m\n\u001b[1;32m----> 4\u001b[1;33m \u001b[0mdoc\u001b[0m \u001b[1;33m=\u001b[0m \u001b[0mextractor\u001b[0m\u001b[1;33m.\u001b[0m\u001b[0mparse\u001b[0m\u001b[1;33m(\u001b[0m\u001b[0mdoc\u001b[0m\u001b[1;33m)\u001b[0m\u001b[1;33m\u001b[0m\u001b[1;33m\u001b[0m\u001b[0m\n\u001b[0m\u001b[0;32m      5\u001b[0m \u001b[1;33m\u001b[0m\u001b[0m\n\u001b[0;32m      6\u001b[0m \u001b[0mtop_who_answer\u001b[0m \u001b[1;33m=\u001b[0m \u001b[0mdoc\u001b[0m\u001b[1;33m.\u001b[0m\u001b[0mget_top_answer\u001b[0m\u001b[1;33m(\u001b[0m\u001b[1;34m'who'\u001b[0m\u001b[1;33m)\u001b[0m\u001b[1;33m.\u001b[0m\u001b[0mget_parts_as_text\u001b[0m\u001b[1;33m(\u001b[0m\u001b[1;33m)\u001b[0m\u001b[1;33m\u001b[0m\u001b[1;33m\u001b[0m\u001b[0m\n",
      "\u001b[1;32mD:\\Program Files\\anaconda3\\envs\\tmining\\lib\\site-packages\\Giveme5W1H\\extractor\\extractor.py\u001b[0m in \u001b[0;36mparse\u001b[1;34m(self, doc)\u001b[0m\n\u001b[0;32m    102\u001b[0m         \"\"\"\n\u001b[0;32m    103\u001b[0m         \u001b[1;31m# preprocess -> coreNLP and enhancer\u001b[0m\u001b[1;33m\u001b[0m\u001b[1;33m\u001b[0m\u001b[1;33m\u001b[0m\u001b[0m\n\u001b[1;32m--> 104\u001b[1;33m         \u001b[0mself\u001b[0m\u001b[1;33m.\u001b[0m\u001b[0mpreprocess\u001b[0m\u001b[1;33m(\u001b[0m\u001b[0mdoc\u001b[0m\u001b[1;33m)\u001b[0m\u001b[1;33m\u001b[0m\u001b[1;33m\u001b[0m\u001b[0m\n\u001b[0m\u001b[0;32m    105\u001b[0m \u001b[1;33m\u001b[0m\u001b[0m\n\u001b[0;32m    106\u001b[0m         \u001b[1;31m# run extractors in different threads\u001b[0m\u001b[1;33m\u001b[0m\u001b[1;33m\u001b[0m\u001b[1;33m\u001b[0m\u001b[0m\n",
      "\u001b[1;32mD:\\Program Files\\anaconda3\\envs\\tmining\\lib\\site-packages\\Giveme5W1H\\extractor\\extractor.py\u001b[0m in \u001b[0;36mpreprocess\u001b[1;34m(self, doc)\u001b[0m\n\u001b[0;32m     85\u001b[0m     \u001b[1;32mdef\u001b[0m \u001b[0mpreprocess\u001b[0m\u001b[1;33m(\u001b[0m\u001b[0mself\u001b[0m\u001b[1;33m,\u001b[0m \u001b[0mdoc\u001b[0m\u001b[1;33m)\u001b[0m\u001b[1;33m:\u001b[0m\u001b[1;33m\u001b[0m\u001b[1;33m\u001b[0m\u001b[0m\n\u001b[0;32m     86\u001b[0m         \u001b[1;32mif\u001b[0m \u001b[1;32mnot\u001b[0m \u001b[0mdoc\u001b[0m\u001b[1;33m.\u001b[0m\u001b[0mis_preprocessed\u001b[0m\u001b[1;33m(\u001b[0m\u001b[1;33m)\u001b[0m\u001b[1;33m:\u001b[0m\u001b[1;33m\u001b[0m\u001b[1;33m\u001b[0m\u001b[0m\n\u001b[1;32m---> 87\u001b[1;33m             \u001b[0mself\u001b[0m\u001b[1;33m.\u001b[0m\u001b[0mpreprocessor\u001b[0m\u001b[1;33m.\u001b[0m\u001b[0mpreprocess\u001b[0m\u001b[1;33m(\u001b[0m\u001b[0mdoc\u001b[0m\u001b[1;33m)\u001b[0m\u001b[1;33m\u001b[0m\u001b[1;33m\u001b[0m\u001b[0m\n\u001b[0m\u001b[0;32m     88\u001b[0m \u001b[1;33m\u001b[0m\u001b[0m\n\u001b[0;32m     89\u001b[0m             \u001b[1;31m# enhancer parsing\u001b[0m\u001b[1;33m\u001b[0m\u001b[1;33m\u001b[0m\u001b[1;33m\u001b[0m\u001b[0m\n",
      "\u001b[1;32mD:\\Program Files\\anaconda3\\envs\\tmining\\lib\\site-packages\\Giveme5W1H\\extractor\\preprocessors\\preprocessor_core_nlp.py\u001b[0m in \u001b[0;36mpreprocess\u001b[1;34m(self, document)\u001b[0m\n\u001b[0;32m    110\u001b[0m         \u001b[0mactual_config\u001b[0m \u001b[1;33m=\u001b[0m \u001b[0mself\u001b[0m\u001b[1;33m.\u001b[0m\u001b[0m_build_actual_config\u001b[0m\u001b[1;33m(\u001b[0m\u001b[0mdocument\u001b[0m\u001b[1;33m)\u001b[0m\u001b[1;33m\u001b[0m\u001b[1;33m\u001b[0m\u001b[0m\n\u001b[0;32m    111\u001b[0m         annotation = self.cnlp.annotate(text=document.get_full_text(),\n\u001b[1;32m--> 112\u001b[1;33m                                         properties = actual_config)\n\u001b[0m\u001b[0;32m    113\u001b[0m \u001b[1;33m\u001b[0m\u001b[0m\n\u001b[0;32m    114\u001b[0m         \u001b[1;32mif\u001b[0m \u001b[0mtype\u001b[0m\u001b[1;33m(\u001b[0m\u001b[0mannotation\u001b[0m\u001b[1;33m)\u001b[0m \u001b[1;32mis\u001b[0m \u001b[0mstr\u001b[0m\u001b[1;33m:\u001b[0m\u001b[1;33m\u001b[0m\u001b[1;33m\u001b[0m\u001b[0m\n",
      "\u001b[1;32mD:\\Program Files\\anaconda3\\envs\\tmining\\lib\\site-packages\\stanza\\server\\client.py\u001b[0m in \u001b[0;36mannotate\u001b[1;34m(self, text, annotators, output_format, properties, reset_default, **kwargs)\u001b[0m\n\u001b[0;32m    521\u001b[0m         \u001b[1;32mif\u001b[0m \u001b[0mreset_default\u001b[0m \u001b[1;32mis\u001b[0m \u001b[1;32mNone\u001b[0m\u001b[1;33m:\u001b[0m\u001b[1;33m\u001b[0m\u001b[1;33m\u001b[0m\u001b[0m\n\u001b[0;32m    522\u001b[0m             \u001b[0mreset_default\u001b[0m \u001b[1;33m=\u001b[0m \u001b[1;32mFalse\u001b[0m\u001b[1;33m\u001b[0m\u001b[1;33m\u001b[0m\u001b[0m\n\u001b[1;32m--> 523\u001b[1;33m         \u001b[0mr\u001b[0m \u001b[1;33m=\u001b[0m \u001b[0mself\u001b[0m\u001b[1;33m.\u001b[0m\u001b[0m_request\u001b[0m\u001b[1;33m(\u001b[0m\u001b[0mtext\u001b[0m\u001b[1;33m.\u001b[0m\u001b[0mencode\u001b[0m\u001b[1;33m(\u001b[0m\u001b[1;34m'utf-8'\u001b[0m\u001b[1;33m)\u001b[0m\u001b[1;33m,\u001b[0m \u001b[0mrequest_properties\u001b[0m\u001b[1;33m,\u001b[0m \u001b[0mreset_default\u001b[0m\u001b[1;33m,\u001b[0m \u001b[1;33m**\u001b[0m\u001b[0mkwargs\u001b[0m\u001b[1;33m)\u001b[0m\u001b[1;33m\u001b[0m\u001b[1;33m\u001b[0m\u001b[0m\n\u001b[0m\u001b[0;32m    524\u001b[0m         \u001b[1;32mif\u001b[0m \u001b[0mrequest_properties\u001b[0m\u001b[1;33m[\u001b[0m\u001b[1;34m\"outputFormat\"\u001b[0m\u001b[1;33m]\u001b[0m \u001b[1;33m==\u001b[0m \u001b[1;34m\"json\"\u001b[0m\u001b[1;33m:\u001b[0m\u001b[1;33m\u001b[0m\u001b[1;33m\u001b[0m\u001b[0m\n\u001b[0;32m    525\u001b[0m             \u001b[1;32mreturn\u001b[0m \u001b[0mr\u001b[0m\u001b[1;33m.\u001b[0m\u001b[0mjson\u001b[0m\u001b[1;33m(\u001b[0m\u001b[1;33m)\u001b[0m\u001b[1;33m\u001b[0m\u001b[1;33m\u001b[0m\u001b[0m\n",
      "\u001b[1;32mD:\\Program Files\\anaconda3\\envs\\tmining\\lib\\site-packages\\stanza\\server\\client.py\u001b[0m in \u001b[0;36m_request\u001b[1;34m(self, buf, properties, reset_default, **kwargs)\u001b[0m\n\u001b[0;32m    459\u001b[0m                 \u001b[1;32mraise\u001b[0m \u001b[0mTimeoutException\u001b[0m\u001b[1;33m(\u001b[0m\u001b[0mr\u001b[0m\u001b[1;33m.\u001b[0m\u001b[0mtext\u001b[0m\u001b[1;33m)\u001b[0m\u001b[1;33m\u001b[0m\u001b[1;33m\u001b[0m\u001b[0m\n\u001b[0;32m    460\u001b[0m             \u001b[1;32melse\u001b[0m\u001b[1;33m:\u001b[0m\u001b[1;33m\u001b[0m\u001b[1;33m\u001b[0m\u001b[0m\n\u001b[1;32m--> 461\u001b[1;33m                 \u001b[1;32mraise\u001b[0m \u001b[0mAnnotationException\u001b[0m\u001b[1;33m(\u001b[0m\u001b[0mr\u001b[0m\u001b[1;33m.\u001b[0m\u001b[0mtext\u001b[0m\u001b[1;33m)\u001b[0m\u001b[1;33m\u001b[0m\u001b[1;33m\u001b[0m\u001b[0m\n\u001b[0m\u001b[0;32m    462\u001b[0m \u001b[1;33m\u001b[0m\u001b[0m\n\u001b[0;32m    463\u001b[0m     \u001b[1;32mdef\u001b[0m \u001b[0mannotate\u001b[0m\u001b[1;33m(\u001b[0m\u001b[0mself\u001b[0m\u001b[1;33m,\u001b[0m \u001b[0mtext\u001b[0m\u001b[1;33m,\u001b[0m \u001b[0mannotators\u001b[0m\u001b[1;33m=\u001b[0m\u001b[1;32mNone\u001b[0m\u001b[1;33m,\u001b[0m \u001b[0moutput_format\u001b[0m\u001b[1;33m=\u001b[0m\u001b[1;32mNone\u001b[0m\u001b[1;33m,\u001b[0m \u001b[0mproperties\u001b[0m\u001b[1;33m=\u001b[0m\u001b[1;32mNone\u001b[0m\u001b[1;33m,\u001b[0m \u001b[0mreset_default\u001b[0m\u001b[1;33m=\u001b[0m\u001b[1;32mNone\u001b[0m\u001b[1;33m,\u001b[0m \u001b[1;33m**\u001b[0m\u001b[0mkwargs\u001b[0m\u001b[1;33m)\u001b[0m\u001b[1;33m:\u001b[0m\u001b[1;33m\u001b[0m\u001b[1;33m\u001b[0m\u001b[0m\n",
      "\u001b[1;31mAnnotationException\u001b[0m: Could not handle incoming annotation"
     ]
    }
   ],
   "source": [
    "extractor = MasterExtractor()\n",
    "doc = Document.from_text(text, date_publish)\n",
    "# or: doc = Document(title, lead, text, date_publish) \n",
    "doc = extractor.parse(doc)\n",
    "\n",
    "top_who_answer = doc.get_top_answer('who').get_parts_as_text()\n",
    "# top_what_answer = doc.get_top_answer('what').get_parts_as_text()\n",
    "# top_when_answer = doc.get_top_answer('when').get_parts_as_text()\n",
    "# top_where_answer = doc.get_top_answer('where').get_parts_as_text()\n",
    "# top_why_answer = doc.get_top_answer('why').get_parts_as_text()\n",
    "# top_how_answer = doc.get_top_answer('how').get_parts_as_text()\n",
    "\n",
    "print(top_who_answer)\n",
    "# print(top_what_answer)\n",
    "# print(top_when_answer)\n",
    "# print(top_where_answer)\n",
    "# print(top_why_answer)\n",
    "# print(top_how_answer)"
   ]
  },
  {
   "cell_type": "code",
   "execution_count": null,
   "id": "c2ebe0f6",
   "metadata": {},
   "outputs": [],
   "source": []
  }
 ],
 "metadata": {
  "kernelspec": {
   "display_name": "tmining",
   "language": "python",
   "name": "tmining"
  },
  "language_info": {
   "codemirror_mode": {
    "name": "ipython",
    "version": 3
   },
   "file_extension": ".py",
   "mimetype": "text/x-python",
   "name": "python",
   "nbconvert_exporter": "python",
   "pygments_lexer": "ipython3",
   "version": "3.6.13"
  }
 },
 "nbformat": 4,
 "nbformat_minor": 5
}
