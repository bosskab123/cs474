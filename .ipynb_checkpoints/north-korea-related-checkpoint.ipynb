{
 "cells": [
  {
   "cell_type": "code",
   "execution_count": 1,
   "id": "8ed88c4c",
   "metadata": {},
   "outputs": [
    {
     "name": "stderr",
     "output_type": "stream",
     "text": [
      "[nltk_data] Downloading package stopwords to\n",
      "[nltk_data]     C:\\Users\\Modern\\AppData\\Roaming\\nltk_data...\n",
      "[nltk_data]   Package stopwords is already up-to-date!\n",
      "[nltk_data] Downloading package wordnet to\n",
      "[nltk_data]     C:\\Users\\Modern\\AppData\\Roaming\\nltk_data...\n",
      "[nltk_data]   Package wordnet is already up-to-date!\n"
     ]
    }
   ],
   "source": [
    "import pandas as pd\n",
    "import numpy as np\n",
    "import os\n",
    "import re\n",
    "import nltk\n",
    "nltk.download('stopwords')\n",
    "nltk.download('wordnet')\n",
    "import string\n",
    "import random\n",
    "import unicodedata\n",
    "from string import punctuation\n",
    "from string import digits\n",
    "from nltk.stem import WordNetLemmatizer\n",
    "import joblib\n",
    "\n",
    "from sklearn.feature_extraction.text import CountVectorizer\n",
    "from sklearn.metrics import silhouette_score\n",
    "from sklearn.decomposition import LatentDirichletAllocation\n",
    "\n",
    "from tqdm import tqdm\n",
    "\n",
    "import spacy\n",
    "from spacy.matcher import Matcher"
   ]
  },
  {
   "cell_type": "code",
   "execution_count": 2,
   "id": "40289b7b",
   "metadata": {},
   "outputs": [
    {
     "data": {
      "text/plain": [
       "(23769, 7)"
      ]
     },
     "execution_count": 2,
     "metadata": {},
     "output_type": "execute_result"
    }
   ],
   "source": [
    "pd.set_option('max_colwidth',200)\n",
    "### Reading data\n",
    "data_dir = 'data/'\n",
    "filename_prefix = 'koreaherald_1517_'\n",
    "df = []\n",
    "\n",
    "for i in range(8):\n",
    "    df.append(pd.read_json(os.path.join(data_dir, filename_prefix + str(i) + '.json')))\n",
    "df = pd.concat(df)\n",
    "df.reset_index(inplace=True)\n",
    "df = df.rename(columns=dict(zip(df.columns,[df.columns[i].strip() for i in range(len(df.columns))])))\n",
    "df.drop('index', inplace=True, axis=1)\n",
    "\n",
    "df['agg_title_body'] = df['title'] + df['body']\n",
    "\n",
    "df.shape"
   ]
  },
  {
   "cell_type": "code",
   "execution_count": 3,
   "id": "9988ce40",
   "metadata": {},
   "outputs": [],
   "source": [
    "nlp = spacy.load('en_core_web_lg')"
   ]
  },
  {
   "cell_type": "code",
   "execution_count": 4,
   "id": "2fd940ad",
   "metadata": {},
   "outputs": [],
   "source": [
    "### Lemmatization tool\n",
    "stemmer = WordNetLemmatizer()\n",
    "### Change similar words to the same word\n",
    "UN_WORD = \"The United Nations\"\n",
    "US_WORD = \"The United States\"\n",
    "NK_WORD = \"North Korea\"\n",
    "SK_WORD = \"South Korea\"\n",
    "\n",
    "similar_words = {\n",
    "    # Change to \"The United States\"\n",
    "    \"U.S.\": US_WORD,\n",
    "    \"US\": US_WORD,\n",
    "    \"USA\": US_WORD,\n",
    "    \"United States\": US_WORD,\n",
    "    \"United States'\": US_WORD,\n",
    "    \"The United States'\": US_WORD,\n",
    "    \n",
    "    # Change to \"North Korea\"\n",
    "    \"NK\": NK_WORD,\n",
    "    \"NK's\": NK_WORD,\n",
    "    \"N. Korea\": NK_WORD,\n",
    "    \"N. Korea's\": NK_WORD,\n",
    "    \"North Korea's\": NK_WORD,\n",
    "    \n",
    "    # Change to \"South Korea\"\n",
    "    \"SK\": SK_WORD,\n",
    "    \"SK's\": SK_WORD,\n",
    "    \"S. Korea\": SK_WORD,\n",
    "    \"S. Korea's\": SK_WORD,\n",
    "    \"South Korea's\": SK_WORD,\n",
    "    \n",
    "    # Change to \"The United Nations\"\n",
    "    \"United Nations\": UN_WORD,\n",
    "    \"United Nations'\": UN_WORD,\n",
    "    \"The United Nations'\": UN_WORD,\n",
    "    \"UN\": UN_WORD,\n",
    "}\n",
    "\n",
    "### Transform function\n",
    "def text_cleaning(s: str):\n",
    "        \n",
    "    def replace_strange_char(s: str):\n",
    "        non_en_chars = {\n",
    "            \"’\": \"'\",\n",
    "            \"‘\": \"'\"\n",
    "        }\n",
    "\n",
    "        def remove_non_en_chars(txt):\n",
    "            # remove non english characters\n",
    "            txt = convert_latin_chars(txt)\n",
    "            for char in non_en_chars.keys():\n",
    "                txt = re.sub(char, non_en_chars[char], txt)\n",
    "            txt = re.sub(r'[^\\x00-\\x7F]+', ' ', txt)\n",
    "            return txt\n",
    "\n",
    "        def convert_latin_chars(txt):\n",
    "            # convert latin characters\n",
    "            return ''.join(char for char in unicodedata.normalize('NFKD', txt) if unicodedata.category(char) != 'Mn')\n",
    "\n",
    "        s = remove_non_en_chars(s)\n",
    "        s = convert_latin_chars(s)\n",
    "        return s\n",
    "    s = replace_strange_char(s)\n",
    "    for key,value in similar_words.items():\n",
    "        s = re.sub(key, value, s)\n",
    "    return s\n",
    "\n",
    "def spacy_tokenizer(s: str):\n",
    "    # Change similar terms to the same term\n",
    "    new_str = text_cleaning(s)\n",
    "    doc = nlp(s)\n",
    "    # Group tokens\n",
    "    matcher = Matcher(nlp.vocab)\n",
    "    token_groupup_pattern = [\n",
    "        [{\"LOWER\": \"the\"}, {\"LOWER\": \"united\"}, {\"LOWER\": \"nations\"}],\n",
    "        [{\"LOWER\": \"the\"}, {\"LOWER\": \"united\"}, {\"LOWER\": \"states\"}],\n",
    "        [{\"LOWER\": \"north\"}, {\"LOWER\": \"korea\"}],\n",
    "        [{\"LOWER\": \"south\"}, {\"LOWER\": \"korea\"}],\n",
    "    ]\n",
    "    matcher.add(\"TermGroup\",token_groupup_pattern)\n",
    "    matches = matcher(doc)\n",
    "    merge_doc = []\n",
    "    for nid, start, end in matches:\n",
    "        merge_doc.append((start,end))\n",
    "    with doc.retokenize() as retokenizer:\n",
    "        for i in range(len(merge_doc)-1,-1,-1):\n",
    "            retokenizer.merge(doc[merge_doc[i][0]:merge_doc[i][1]])\n",
    "        \n",
    "    # Remove all stopword, punctuation, number\n",
    "    tokens = [ token.lemma_.lower() for token in doc \\\n",
    "              if not token.is_stop and not token.is_punct and not token.like_num and token.lemma_.strip()!= '']\n",
    "    return tokens\n"
   ]
  },
  {
   "cell_type": "code",
   "execution_count": 5,
   "id": "bacc1a38",
   "metadata": {},
   "outputs": [],
   "source": [
    "def print_top_words(model, vectorizer, n_top_words):\n",
    "    feature_names = vectorizer.get_feature_names()\n",
    "    for topic_idx, topic in enumerate(model.components_):\n",
    "        message = \"\\nTopic #%d: \" % topic_idx\n",
    "        message += \" \".join([feature_names[i]\n",
    "                             for i in topic.argsort()[:-n_top_words - 1:-1]])\n",
    "        print(message)\n",
    "    print()"
   ]
  },
  {
   "cell_type": "code",
   "execution_count": 6,
   "id": "1f440f5a",
   "metadata": {},
   "outputs": [],
   "source": [
    "def most_related_docs(df, doc_topic_dist, topic_index, num_docs=5):\n",
    "    sorted_doc = doc_topic_dist.sort_values(by=['{}'.format(topic_index)], ascending=False)\n",
    "    return df.iloc[sorted_doc[:num_docs].index]"
   ]
  },
  {
   "cell_type": "code",
   "execution_count": 7,
   "id": "079b0b8d",
   "metadata": {},
   "outputs": [],
   "source": [
    "df_nk = df[df['section'] == 'North Korea']"
   ]
  },
  {
   "cell_type": "code",
   "execution_count": 8,
   "id": "04e35da0",
   "metadata": {},
   "outputs": [],
   "source": [
    "# # Find all doc contains \"North Korea\"\n",
    "# nk_vectorizer = CountVectorizer(tokenizer=spacy_tokenizer)\n",
    "# nk_data_vectorized = nk_vectorizer.fit_transform(df_nk['agg_title_body'])\n",
    "# joblib.dump(nk_vectorizer, '../data/nk_vectorizer.csv')\n",
    "# joblib.dump(nk_data_vectorized, '../data/nk_data_vectorized.csv')"
   ]
  },
  {
   "cell_type": "code",
   "execution_count": 9,
   "id": "f9421b41",
   "metadata": {},
   "outputs": [],
   "source": [
    "nk_vectorizer = joblib.load('../data/nk_vectorizer.csv')\n",
    "nk_data_vectorized = joblib.load('../data/nk_data_vectorized.csv')"
   ]
  },
  {
   "cell_type": "code",
   "execution_count": 10,
   "id": "f720e1f3",
   "metadata": {},
   "outputs": [],
   "source": [
    "nk_lda_components = 50\n",
    "# nk_lda = LatentDirichletAllocation(n_components=nk_lda_components, random_state=0)\n",
    "# nk_lda.fit(nk_data_vectorized)\n",
    "# joblib.dump(nk_lda, '../data/nk_{}lda.csv'.format(nk_lda_components))"
   ]
  },
  {
   "cell_type": "code",
   "execution_count": 11,
   "id": "52e3feca",
   "metadata": {},
   "outputs": [],
   "source": [
    "nk_lda = joblib.load('../data/nk_{}lda.csv'.format(nk_lda_components))"
   ]
  },
  {
   "cell_type": "code",
   "execution_count": 12,
   "id": "39f71c90",
   "metadata": {},
   "outputs": [
    {
     "name": "stdout",
     "output_type": "stream",
     "text": [
      "\n",
      "Topic #0: tour tourist north travel foreign tourism zone north korea pyongyang border visit say resort ebola korea city year agency ban chinese country wonsan report virus international\n",
      "\n",
      "Topic #1: missile launch north ballistic test say range north korea rocket korea fire long security council korean nuclear u.n provocation satellite pyongyang military resolution late international japan\n",
      "\n",
      "Topic #2: north wage korean south firm industrial gaeseong worker complex say park pay government joint ministry seoul unilateral cash $ set month committee korea percent inter\n",
      "\n",
      "Topic #3: right human north u.n north korea say resolution call international korean people korea un situation violation abuse country report council year issue regime assembly hold political\n",
      "\n",
      "Topic #4: say korean north korea war resolution north shin d ri report country lawmaker book committee flight airspace intelligence bomber house force merkel royce veteran address pyongyang\n",
      "\n",
      "Topic #5: right human north korean office say north korea report international crime center record coi pyongyang seoul kirby world go take testimony abuse september year include leader\n",
      "\n",
      "Topic #6: test nuclear north say north korea conduct u.s bomb korea pyongyang site weapon claim carry time activity korean country hydrogen report show yonhap launch satellite expert\n",
      "\n",
      "Topic #7: korean north south say border defector south korea military seoul soldier official ministry korea koreans defect send north korea broadcast defection line cross yonhap near sea accord\n",
      "\n",
      "Topic #8: nuclear reactor weapon plutonium produce yongbyon institute facility spend water fuel plant grade north say bomb reprocess complex report material restart megawatt international clapper imagery\n",
      "\n",
      "Topic #9: south korea korean say north korea nuclear foreign issue japan minister country north seoul cooperation meeting korea ministry south peninsula talk kang peace u.s yonhap china discuss\n",
      "\n",
      "Topic #10: nuclear u.s talk north korea north u.n meeting security foreign hold minister test say pyongyang china yun council seoul washington party official discuss envoy beijing sanction\n",
      "\n",
      "Topic #11: china north korea trade export import coal sanction oil north $ chinese nuclear korea pyongyang u.n say number percent year ban product test economic yonhap supply\n",
      "\n",
      "Topic #12: moon north korea president say korean nuclear park security wa meeting north cheong provocation south dae office leader jae test country south korea missile korea international council\n",
      "\n",
      "Topic #13: aid humanitarian north north korea say provide assistance government group korea food $ korean un international organization drone plan child support ministry fund report program drought\n",
      "\n",
      "Topic #14: slbm test ejection report develop capability u.s underwater conduct free away gallucci fully month room sinpo submarine rfa carry shipyard kn-11 pyongyang say voa fail\n",
      "\n",
      "Topic #15: russia visit russian kim moscow north korea china say korean leader north president attend putin world invitation flight war ceremony chinese invite economic un pyongyang foreign\n",
      "\n",
      "Topic #16: trump say president north korea military korean north provocation statement tension action war peninsula korea threat warn urge call dprk threaten donald ministry act day defense\n",
      "\n",
      "Topic #17: north korean say kim malaysia official ri nam police jong airport north korea suspect minister report pyongyang diplomat foreign woman malaysian choe diplomatic ambassador country embassy\n",
      "\n",
      "Topic #18: north say report korean public korea kim show construction pyongyang agency broadcaster province nis yonhap footage year flood photo spy area north korea accord tv official\n",
      "\n",
      "Topic #19: letter send unsc mlrs ja seoul attack provocation investigation act land justice navy engage anti post storage coast intend dearly drill nature thursday.the propaganda mm\n",
      "\n",
      "Topic #20: military say korean missile defense north korea north south korea nuclear force korea drill threat exercise strike joint war south seoul washington u.s ally peninsula attack system\n",
      "\n",
      "Topic #21: complex korean industrial kaesong factory south north firm zone park north korea inter company government shut say border city decision operation business businessman good produce asset\n",
      "\n",
      "Topic #22: report iran say submit bill religious food country year north legislation implementation congress house freedom committee rice pass plan senate iranian north korea agricultural yonhap gram\n",
      "\n",
      "Topic #23: north nuclear say party north korea korea test sanction u.n korean pyongyang congress south korea range ban seoul nuke weapon long rocket early tough conduct visit launch\n",
      "\n",
      "Topic #24: submarine north economy economic say report ton year market development korea class country slbm production korean growth institute large shortage show build expert appear north korea\n",
      "\n",
      "Topic #25: uranium enrichment time say north korea debt north standard korea report kilogram enrich base sweden colonial push credit japan hecker centrifuge cell swedish yonhap country new\n",
      "\n",
      "Topic #26: korean north south inter seoul talk family hold say koreas reunion north korea pyongyang korea border separate war tension joint event official dialogue cross exchange level\n",
      "\n",
      "Topic #27: court radioactive safety lawyer say korea hearing radiation trace material commission government minbyun swiss eu find hydrogen agency sample wednesday ruling group district north korea european\n",
      "\n",
      "Topic #28: kim jong leader korean un north say il late north korea official nam military father year state general death power yong regime sing young party agency\n",
      "\n",
      "Topic #29: north korea say korean north cyber south game winter pyeongchang hack attack south korea internet cyberattack olympic sport olympics government korea information hacker year hacking accord security\n",
      "\n",
      "Topic #30: say north korea north korean warmbier detain release student american ` year citizen state government pyongyang koreans south university sentence people arrest travel life otto old\n",
      "\n",
      "Topic #31: ministry unification government north korea plan say seoul cho minister korean inter korea spokesman official north seek policy committee cooperation year briefing s. yonhap hyun foundation\n",
      "\n",
      "Topic #32: north korean sanction say country source report north korea worker pyongyang official korea bank financial include work koreans state foreign government year money regime currency yonhap\n",
      "\n",
      "Topic #33: korean north ship project port city sport taekwondo world railway team vessel south korea south international north korea ceremony u.n ban logistic rajin russia new say ri\n",
      "\n",
      "Topic #34: nuclear say north talk north korea pyongyang policy dialogue u.s denuclearization washington program seoul regime issue pressure state administration negotiation president weapon change party think call\n",
      "\n",
      "Topic #35: terrorism sponsor list house state korean u.s north korea bill north terror sony attack korea cyber say designation government white pyongyang dokdo bombing yonhap reliste call\n",
      "\n",
      "Topic #36: kim party leader north korea country korean say jong nuclear central un state congress anniversary worker rule pyongyang people official hold power news kcna year\n",
      "\n",
      "Topic #37: missile say test north ballistic launch range north korea icbm nuclear fire warhead rocket new intercontinental capable technology kilometer korea reach defense capability develop u.s pyongyang\n",
      "\n",
      "Topic #38: air new unit force say system kim parade military control building visit use aircraft center inspect build space defense trump world get high budget need\n",
      "\n",
      "Topic #39: say korean seoul north korea pyongyang government north joint park inter closure official year president minister take project need visit support base give lead issue korea\n",
      "\n",
      "Topic #40: haley nikki ambassador the united nations go choue abc perfect maritime beg clinton recertify sunday.trump regime.on farhan \"what interdiction send dog hwangju decision \"we're short watch year.trump\n",
      "\n",
      "Topic #41: labor report force traffic country trafficking camp government north korea say human subject north tier prison world prisoner bad korean include sale condition designate annual woman\n",
      "\n",
      "Topic #42: sanction north korea say north nuclear resolution un missile council security test new korean pyongyang trump international foreign regime pressure state ballistic president measure country program\n",
      "\n",
      "Topic #43: china chinese say north korea north beijing xi pyongyang korean trump president nuclear relation tie pressure ally jinping economic yonhap official thaad international work program regime\n",
      "\n",
      "Topic #44: percent year $ datum show number survey north total accord average period compare rate reach country rise korean fall poll drop korea account point north korea\n",
      "\n",
      "Topic #45: biological statue chemical aiib bank report anthrax descendant join infrastructure hyong welcome asian bio japanese head intention focus public guerrilla gil jik man mer found\n",
      "\n",
      "Topic #46: cia bear korean slogan leader say kim north country year plot source yonhap fruit terrorist list public ko show number intelligence south korea badge biochemical korea\n",
      "\n",
      "Topic #47: mount kumgang mountain korean program hyundai tour asan pine visit east project coast korea suspend seoul group death piano volcanic mt scenic peak forest expert\n",
      "\n",
      "Topic #48: wedding mill dress qu couple wear ceremony collusion outing house white like university social bride cake faculty gangster dream piece lee life catastrophic flee light\n",
      "\n",
      "Topic #49: park party say korean hye geun south opposition presidential national seoul korea south korea government rule president election north korea conservative office country parliamentary assembly unification lee\n",
      "\n"
     ]
    }
   ],
   "source": [
    "print_top_words(nk_lda, nk_vectorizer, n_top_words=25)"
   ]
  },
  {
   "cell_type": "code",
   "execution_count": 13,
   "id": "6bba0ab3",
   "metadata": {},
   "outputs": [],
   "source": [
    "# nk_doc_topic_dist = pd.DataFrame(nk_lda.transform(nk_data_vectorized))\n",
    "# nk_doc_topic_dist.to_csv('../data/nk_doc_topic_dist.csv', index=False)"
   ]
  },
  {
   "cell_type": "code",
   "execution_count": 14,
   "id": "7f00f4ad",
   "metadata": {},
   "outputs": [],
   "source": [
    "nk_doc_topic_dist = pd.read_csv('../data/nk_doc_topic_dist.csv')"
   ]
  },
  {
   "cell_type": "code",
   "execution_count": 32,
   "id": "76854dcd",
   "metadata": {},
   "outputs": [
    {
     "data": {
      "text/plain": [
       "22226                 Chinese tours to N. Korea back on track after Ebola ban lifted\n",
       "16605                First batch of Chinese tourists visit new tour zone in N. Korea\n",
       "14315                    Foreigners continue to visit N.K. despite sanctions: report\n",
       "22435        Tourists to arrive in N. Korea next week after lifting Ebola travel ban\n",
       "17385                     Pyongyang to launch 'large-scale' ski tours for foreigners\n",
       "22571                     N. Korea may lift Ebola restrictions on April 1: tour firm\n",
       "23443                         N. Korea seen to lift Ebola travel ban soon: tour firm\n",
       "22493                             N. Korea set to lift Ebola restrictions: tour firm\n",
       "22470                                        N. Korea ends Ebola travel restrictions\n",
       "22641                N. Korea bans foreigners from marathon race over Ebola concerns\n",
       "16754        N. Korea rebukes Canada for taking issue with its ruling against pastor\n",
       "6448                               Chinese tour operators halt travel to North Korea\n",
       "13329    Ex-U.S. nuclear negotiator expresses condolences over N.K. diplomat's death\n",
       "21386                  N. Korea, China's Zhengzhou launch 1st tourist charter flight\n",
       "22058                   N. Korea to hold tour fair at stalled mountain resort in May\n",
       "6416                                British tour company keeps N. Korea tour package\n",
       "21755                N. Korea builds statutes of ex-leaders in special economic zone\n",
       "19542                                       N. Korea strives to develop tourism zone\n",
       "21331                             N. Korea creates special tour zone near Mt. Baekdu\n",
       "3042          Sanctions-hit N. Korea to hold investment seminar, trade expo in Sept.\n",
       "Name: title, dtype: object"
      ]
     },
     "execution_count": 32,
     "metadata": {},
     "output_type": "execute_result"
    }
   ],
   "source": [
    "# Tour\n",
    "most_related_docs(df_nk, nk_doc_topic_dist, 0, num_docs=20)['title']"
   ]
  },
  {
   "cell_type": "code",
   "execution_count": 33,
   "id": "c68ac28b",
   "metadata": {},
   "outputs": [
    {
     "data": {
      "text/plain": [
       "14090         Time names N.K. leader among 100 influential people, calls him 'exploiter of fears'\n",
       "23564                                                   N. Korea has about 2,500 armored vehicles\n",
       "599                                   US weekly Time shortlists Kim, Trump for Person of the Year\n",
       "8045                                                                    The murder as it happened\n",
       "23239                                          N. Korea all out to discredit rights abuse charges\n",
       "12545         Aid supply to N.K. should be 'quid pro quo' for human rights improvement: professor\n",
       "22180                                UN expert demands international action on N.Korea abductions\n",
       "22855                          S. Korean watchdog to hold forum on N.K. human rights in Indonesia\n",
       "18742                                 N. Korea's all-female music band disappears from broadcasts\n",
       "6500                                   S. Korea seeks to set up museum on NK human rights by 2019\n",
       "11698                                 Hungry N. Korean soldiers committing various crimes: report\n",
       "15062                                  London conference puts spotlight on N. Korea rights abuses\n",
       "20096                          [NEWS ANALYSIS] U.N. human rights office ups pressure on Pyongyang\n",
       "2386                           S. Korea holds first meeting on NK human rights under Moon‘s govt.\n",
       "11870                                           Seoul to set up N. Korean human rights foundation\n",
       "2768                                                       ‘50-kiloton nuke would wipe out Seoul’\n",
       "8891                              Defectors send testimonies of NK human rights violations to ICC\n",
       "22688    Landmark U.N. report on N.K. human rights stands strong despite Shin's retraction: Kirby\n",
       "14411                                    Justice ministry to set up N. Korea human rights archive\n",
       "20081                                     U.S. hails opening of U.N. human rights office in Seoul\n",
       "Name: title, dtype: object"
      ]
     },
     "execution_count": 33,
     "metadata": {},
     "output_type": "execute_result"
    }
   ],
   "source": [
    "# Human right\n",
    "most_related_docs(df_nk, nk_doc_topic_dist, 5, num_docs=20)['title']"
   ]
  },
  {
   "cell_type": "code",
   "execution_count": 35,
   "id": "c6fdbc9d",
   "metadata": {},
   "outputs": [
    {
     "data": {
      "text/plain": [
       "12948                          N. Korea has begun nuclear reprocessing for plutonium production: report\n",
       "12920               U.S. views N.K. with 'great concern' amid reports of reprocessing: State Department\n",
       "13193                                 N. Korea continues to show signs of nuclear reprocessing activity\n",
       "8542                                      Satellite image shows NK restarts plutonium-producing reactor\n",
       "13100                                N. Korea showing possible signs of reprocessing activity: 38 North\n",
       "16324                N.K. nuclear reactor running intermittently, uranium enrichment plant in operation\n",
       "14506         N. Korea could have already started harvesting plutonium from spent fuel: U.S. think tank\n",
       "12973                                            IAEA: N. Korea could have started nuclear reprocessing\n",
       "14241                 Satellite imagery shows strong signs of N. Korea's nuclear reprocessing: 38 North\n",
       "12803           N. Korea believed to have produced additional 4-6 nuclear weapons since late 2014: ISIS\n",
       "8511          US urges N. Korea to refrain from raising tensions after resumption of reactor operations\n",
       "10807                N. Korea finishes extracting plutonium from spent fuel: US research institute ISIS\n",
       "11409              State Deparment: N. Korea's nuclear reprocessing 'clear violation' of UN resolutions\n",
       "11411                                           N.Korea says it has resumed plutonium production: Kyodo\n",
       "14535                                     'Suspicious activity' at N. Korea's nuclear complex: 38 North\n",
       "18699                             Activity significantly increases at N. Korea's nuclear site: 38 North\n",
       "12927                       China urges dialogue as N. Korea apparently restarts atomic bomb fuel plant\n",
       "23095                         N. Korea appears to be trying to restart nuclear reactor: U.S. think tank\n",
       "20208                                N.K. nuclear reactor running at low levels or not at all: 38 North\n",
       "18543    N.K. building isotope separation facility to build more powerful nuclear bombs: U.S. institute\n",
       "Name: title, dtype: object"
      ]
     },
     "execution_count": 35,
     "metadata": {},
     "output_type": "execute_result"
    }
   ],
   "source": [
    "# Reactor\n",
    "most_related_docs(df_nk, nk_doc_topic_dist, 8, num_docs=20)['title']"
   ]
  },
  {
   "cell_type": "code",
   "execution_count": 36,
   "id": "a598f1c2",
   "metadata": {},
   "outputs": [
    {
     "data": {
      "text/plain": [
       "19477                     U.S. puts N. Korea among world's worst countries for human trafficking\n",
       "12426                  U.S. puts North Korea among world's worst countries for human trafficking\n",
       "4456                     US labels N. Korea one of world's worst countries for human trafficking\n",
       "17239                              Hyundai, Kia likely to see SUV sales exceed 100,000 in Europe\n",
       "17973                                   Obama blacklists North Korea again for human trafficking\n",
       "10474                                   Obama blacklists North Korea again for human trafficking\n",
       "17241                            Park's memoir tops bestseller chart in China's online bookstore\n",
       "11607                        North Korean army sergeant kills company commander's family: report\n",
       "4379                                                     NK condemns US human trafficking report\n",
       "16517                                                         N.K. quake magnitude raised to 4.8\n",
       "7639                                 Fatality rate at N. Korean prisons estimated at 25%: report\n",
       "3042                      Sanctions-hit N. Korea to hold investment seminar, trade expo in Sept.\n",
       "584       S. Korea regrets Japan’s lack of respect for forced labor victims after UNESCO listing\n",
       "16526                                   Quake in North Korea suspected to be 'explosion': report\n",
       "21983                                               Foreign businessmen to visit Kaesong complex\n",
       "4454                       N. Korea builds children's traffic parks amid heavy vehicular traffic\n",
       "12803    N. Korea believed to have produced additional 4-6 nuclear weapons since late 2014: ISIS\n",
       "12014                    Seoul report draws renewed attention to Pyongyang's human rights abuses\n",
       "11156                 US State Department submits report on N. Korea's labor exports to Congress\n",
       "18318                                      Koreas' labor unions meet to discuss football matches\n",
       "Name: title, dtype: object"
      ]
     },
     "execution_count": 36,
     "metadata": {},
     "output_type": "execute_result"
    }
   ],
   "source": [
    "# Olympics game\n",
    "most_related_docs(df_nk, nk_doc_topic_dist, 41, num_docs=20)['title']"
   ]
  },
  {
   "cell_type": "code",
   "execution_count": 31,
   "id": "d6d54ad2",
   "metadata": {},
   "outputs": [
    {
     "data": {
      "text/plain": [
       "6146                                            Trump: Xi should be rewarded for lowering tensions with NK\n",
       "6143     US experts call for 'secondary sanctions' on China to get Beijing to exercise real pressure on NK\n",
       "17003                                      Beijing vows to improve relations with Pyongyang to 'new level'\n",
       "16068                                                           China won't take N. Korea off life support\n",
       "4249                                            Trump questions sincerity of China's efforts to rein in NK\n",
       "6109                                        McCain: China should suffer 'penalties' if it won't rein in NK\n",
       "5886                                    China's handling of NK 'litmus test' of US-China relations: Snyder\n",
       "5229                                             Trump says NK missile launch 'great disrespect' for China\n",
       "16879                                              China still mum on N. Korean band's abrupt cancellation\n",
       "22386                                                    China says it will replace ambassador to N. Korea\n",
       "16930                               Chinese state media silent on North Korean band's concert cancellation\n",
       "23686                                          China party paper urges 'common-sense' approach to N. Korea\n",
       "13077                                                   Leaders of N. Korea, China voice hope to mend ties\n",
       "18349                                   Chinese ambassador calls for deepening economic ties with N. Korea\n",
       "16779                                        N. Korea, China sign accord on sports exchanges for next year\n",
       "16096                                               Kerry: N.K. leader 'questionable in terms of judgment'\n",
       "16932                                                  North Korean band's performance in Beijing canceled\n",
       "16962                                                   N. Korea's all-female pop group arrives in Beijing\n",
       "5866                                     Rice: US should press China to take 'very tough steps' against NK\n",
       "10442                                                   US expert calls for grand bargain with China on NK\n",
       "Name: title, dtype: object"
      ]
     },
     "execution_count": 31,
     "metadata": {},
     "output_type": "execute_result"
    }
   ],
   "source": [
    "# Olympics game\n",
    "most_related_docs(df_nk, nk_doc_topic_dist, 43, num_docs=20)['title']"
   ]
  },
  {
   "cell_type": "code",
   "execution_count": 34,
   "id": "ccbec297",
   "metadata": {},
   "outputs": [
    {
     "data": {
      "text/plain": [
       "3558                                                          North Korea launches own “FIFA” PC game\n",
       "11779                                              N. Korea behind latest online mall hacking: police\n",
       "11901                                       Gov't bolsters countermeasures to deter N.K. cyberattacks\n",
       "11900                                       Gov't bolsters countermeasures to deter N.K. cyberattacks\n",
       "12173                                      More N.Korean defectors’ food trucks coming to Busan, Jeju\n",
       "502      [PyeongChang 2018] IOC chief apparently seeks to visit NK over PyeongChang Olympics: sources\n",
       "402                                                NK defector soldier given free choco pies for life\n",
       "12                                                Number of N. Koreans seeking asylum in Europe drops\n",
       "662          [Newsmaker] NK’s PyeongChang participation looks bleak with figure-skating deadline miss\n",
       "482                                  [PyeongChang 2018] IOC chief seeking to visit Pyongyang: sources\n",
       "6971                           Presumably NK hackers target defectors, human rights activists: report\n",
       "9502                    Suspected NK attackers hack into S. Korea's cyber command through main server\n",
       "3812          Moon says S. Korea will keep doors to PyeongChang open for N. Korea until ‘last minute’\n",
       "13123                                      N. Korea suspected of hacking S. Korean cybersecurity firm\n",
       "440                                                   N. Korean hackers target bitcoin market: report\n",
       "7745                                              Illicit drug production widespread in NK: US report\n",
       "202                                          Cash-strapped North Korea turning more to cryptocurrency\n",
       "16107                             Gov't raises cyber alert level amid signs of N. Korean hack attacks\n",
       "9188                                              NK hackers could disable US Pacific Command: report\n",
       "10663                                     NK math prodigy arrives in S. Korea after defection: report\n",
       "Name: title, dtype: object"
      ]
     },
     "execution_count": 34,
     "metadata": {},
     "output_type": "execute_result"
    }
   ],
   "source": [
    "# Game, attack\n",
    "most_related_docs(df_nk, nk_doc_topic_dist, 29, num_docs=20)['title']"
   ]
  },
  {
   "cell_type": "code",
   "execution_count": 22,
   "id": "11618b2e",
   "metadata": {},
   "outputs": [],
   "source": [
    "df_nk_missile = df[(df['section'] == 'North Korea') & (df['agg_title_body'].str.contains('issile', flags=re.IGNORECASE, regex=True))]"
   ]
  },
  {
   "cell_type": "code",
   "execution_count": 23,
   "id": "50b86776",
   "metadata": {},
   "outputs": [],
   "source": [
    "# # Find all doc contains \"North Korea\" with Missile\n",
    "# nk_missile_vectorizer = CountVectorizer(tokenizer=spacy_tokenizer)\n",
    "# nk_missile_data_vectorized = nk_missile_vectorizer.fit_transform(df_nk_missile['agg_title_body'])\n",
    "# joblib.dump(nk_missile_vectorizer, '../data/nk_missile_vectorizer.csv')\n",
    "# joblib.dump(nk_missile_data_vectorized, '../data/nk_missile_data_vectorized.csv')"
   ]
  },
  {
   "cell_type": "code",
   "execution_count": 24,
   "id": "836151ad",
   "metadata": {},
   "outputs": [],
   "source": [
    "nk_missile_vectorizer = joblib.load('../data/nk_missile_vectorizer.csv')\n",
    "nk_missile_data_vectorized = joblib.load('../data/nk_missile_data_vectorized.csv')"
   ]
  },
  {
   "cell_type": "code",
   "execution_count": 25,
   "id": "e1638854",
   "metadata": {},
   "outputs": [],
   "source": [
    "nk_missile_lda_components = 25\n",
    "# nk_missile_lda = LatentDirichletAllocation(n_components=25, random_state=0)\n",
    "# nk_missile_lda.fit(nk_missile_data_vectorized)\n",
    "# joblib.dump(nk_missile_lda, '../data/nk_missile_{}lda.csv'.format(nk_missile_lda_components))"
   ]
  },
  {
   "cell_type": "code",
   "execution_count": 26,
   "id": "408746a2",
   "metadata": {},
   "outputs": [],
   "source": [
    "nk_missile_lda = joblib.load('../data/nk_missile_{}lda.csv'.format(nk_missile_lda_components))"
   ]
  },
  {
   "cell_type": "code",
   "execution_count": 27,
   "id": "e7498dbd",
   "metadata": {
    "scrolled": true
   },
   "outputs": [
    {
     "name": "stdout",
     "output_type": "stream",
     "text": [
      "\n",
      "Topic #0: trump north korea president say moon donald missile leader nuclear korean house north un administration pressure china threat security regime sanction white wa pyongyang cheong military\n",
      "\n",
      "Topic #1: sanction north north korea resolution korean say country council export nuclear ban china foreign pyongyang security source un include trade new missile oil $ bank report\n",
      "\n",
      "Topic #2: nuclear north weapon say bomb plutonium test produce institute develop uranium reactor expert north korea missile program u.s material kilogram report facility fuel pyongyang believe year\n",
      "\n",
      "Topic #3: number broadcast page cell order chairperson agent socialist encrypt radio executive book broadcasting announcer spy day resume party conference operate address kind north korea mysterious message\n",
      "\n",
      "Topic #4: school police japan chemical record northern middle saku realtime consecutive shimbun asahi prefecture yonhap)“we train part region major warning railway utmost follow fly tuesday outlet\n",
      "\n",
      "Topic #5: north council un say kim resolution korean security north korea jong member dprk sanction state u.n international official pyongyang nuclear statement human right report missile unsc\n",
      "\n",
      "Topic #6: nuclear test north korea north say korean missile pyongyang conduct military korea weapon official report bomb site claim kim agency un ballistic ri country ` threat\n",
      "\n",
      "Topic #7: korean north south inter family seoul reunion koreas border hold north korea say tension cross military separate exchange talk war official korea event leaflet pyongyang anniversary\n",
      "\n",
      "Topic #8: say north north korea percent year warmbier american pyongyang release citizen travel korean student americans detain survey state country otto tillerson work trump university tourist kim\n",
      "\n",
      "Topic #9: say north korean north korea people kim choe leader meet trump nuclear president report official news state world go country like yonhap tell sport know watch\n",
      "\n",
      "Topic #10: submarine slbm test north say underwater develop u.s class report ejection conduct capability sinpo ton pyongyang development shipyard kn-11 website show year expert imagery slbms\n",
      "\n",
      "Topic #11: china north say north korea chinese beijing pyongyang korean u.s nuclear year relation xi tie international economic missile right kim seoul regime trade human official country\n",
      "\n",
      "Topic #12: missile launch north say test ballistic range north korea fire korea rocket military korean long kilometer pyongyang new provocation icbm late fly nuclear satellite musudan east\n",
      "\n",
      "Topic #13: nuclear north korea say u.s north sanction security test missile u.n china international pyongyang council korean resolution program korea launch long south korea weapon call country yonhap\n",
      "\n",
      "Topic #14: rice search jeju traveler ciis ration foreigner southwest clearly store select exclude assurance truly italy ja absent nature nk‘s u.s.-south may.north entice budget absolutely squarely\n",
      "\n",
      "Topic #15: missile air defense force military say u.s bomber chief joint aircraft threat seoul exercise han ally strategic strike fighter staff sea north korea asset anti navy\n",
      "\n",
      "Topic #16: iran report say iranian tehran nuclear facility construction nato country water year north korea drought provide activity food iaea production assistance deal nonproliferation missile past work\n",
      "\n",
      "Topic #17: defense missile say system thaad south korea military deployment threat deploy korean korea north north korea south capability seoul terminal altitude area force nuclear u.s ally high\n",
      "\n",
      "Topic #18: korean military north say seoul north korea korea nuclear south korea south joint pyongyang war drill peninsula provocation exercise president kim party missile strike washington government call\n",
      "\n",
      "Topic #19: nuclear say missile north test u.s ballistic weapon range long claim warhead capability korea threat conduct north korea capable launch defense yonhap intercontinental develop bomb rocket\n",
      "\n",
      "Topic #20: korean north say south complex north korea seoul industrial park government kaesong factory inter ministry border unification south korea korea pyongyang zone launch joint rocket official firm\n",
      "\n",
      "Topic #21: kim north party leader say jong korea nuclear country korean year un congress anniversary rule north korea worker pyongyang test state late il official missile hold\n",
      "\n",
      "Topic #22: north korea flight air say country koryo pyongyang korean chinese china tourism international year north wonsan tourist send airline route official mount zone kumgang police carrier\n",
      "\n",
      "Topic #23: aid humanitarian government ministry unification provide hong $ korean say plan support seoul fund north gaeseong political child international party project food park north korea organization\n",
      "\n",
      "Topic #24: say north korea nuclear north talk korean minister foreign missile dialogue meeting south korea pyongyang issue seoul state korea ministry hold official security denuclearization washington test pressure\n",
      "\n"
     ]
    }
   ],
   "source": [
    "print_top_words(nk_missile_lda, nk_missile_vectorizer, n_top_words=25)"
   ]
  },
  {
   "cell_type": "code",
   "execution_count": 28,
   "id": "cb00420b",
   "metadata": {},
   "outputs": [],
   "source": [
    "# nk_missile_doc_topic_dist = pd.DataFrame(nk_missile_lda.transform(nk_missile_data_vectorized))\n",
    "# nk_missile_doc_topic_dist.to_csv('../data/nk_missile_doc_topic_dist.csv', index=False)"
   ]
  },
  {
   "cell_type": "code",
   "execution_count": 29,
   "id": "2d3ced52",
   "metadata": {},
   "outputs": [],
   "source": [
    "nk_missile_doc_topic_dist = pd.read_csv('../data/nk_missile_doc_topic_dist.csv')"
   ]
  },
  {
   "cell_type": "code",
   "execution_count": 39,
   "id": "e864a9fb",
   "metadata": {},
   "outputs": [
    {
     "data": {
      "text/plain": [
       "12754       U.S. think tank report lays out military strike scenario against North Korea\n",
       "10567                        Seoul buys more Taurus missiles amid Pyongyang nuke threats\n",
       "13014         S. Korea has undoubtedly clear intention to deploy THAAD: defense minister\n",
       "3676           S. Korea to upgrade Patriot missiles against N. Korea's threats: minister\n",
       "20650                   THAAD is 'excellent deterrent' against N. Korean threats: McCain\n",
       "12213                                THAAD can intercept North's SLBMs: defense minister\n",
       "983                South Korea refuses to share military intelligence with Japan: report\n",
       "16913                          Seoul to beef up anti-terrorism posture against Pyongyang\n",
       "8870                    CIA chief nominee picks N. Korea as one of biggest threats to US\n",
       "2821           US vows close consultation with S. Korea over military options against NK\n",
       "6071           PACOM commander: It's matter of time before NK perfects ICBM capabilities\n",
       "1957                 Concern rises over alleged leak of allies’ wartime operational plan\n",
       "14054                            N. Korea deploys 300 new MLRS along front line: sources\n",
       "4829         S. Korean president calls for deterrence against N. Korea's missile threats\n",
       "22103                   N. Korea slams allies for possible THAAD deployment on peninsula\n",
       "16909                Pyongyang may continue provocations after canceled concert in China\n",
       "6304                   US senator calls for preemptive strike on NK even if it means war\n",
       "13430    N. Korea waging nonsmoking campaign as Kim Jong-un not seen smoking in 2 months\n",
       "4800                       N. Korea sent drone to acquire THAAD target: defense minister\n",
       "2162                               Seoul scores success in test of countermissile system\n",
       "Name: title, dtype: object"
      ]
     },
     "execution_count": 39,
     "metadata": {},
     "output_type": "execute_result"
    }
   ],
   "source": [
    "# Defense missile\n",
    "most_related_docs(df_nk_missile, nk_missile_doc_topic_dist, 17, num_docs=20)['title']"
   ]
  },
  {
   "cell_type": "code",
   "execution_count": null,
   "id": "6c70e12d",
   "metadata": {},
   "outputs": [],
   "source": [
    "'''\n",
    "22641                N. Korea bans foreigners from marathon race over Ebola concerns\n",
    "18742                                 N. Korea's all-female music band disappears from broadcasts\n",
    "9502                    Suspected NK attackers hack into S. Korea's cyber command through main server\n",
    "19477                     U.S. puts N. Korea among world's worst countries for human trafficking\n",
    "13014         S. Korea has undoubtedly clear intention to deploy THAAD: defense minister\n",
    "'''"
   ]
  },
  {
   "cell_type": "code",
   "execution_count": 40,
   "id": "f4ce00c5",
   "metadata": {},
   "outputs": [],
   "source": [
    "related_issue_index = [22641, 18742, 9502, 19477, 13014]"
   ]
  },
  {
   "cell_type": "code",
   "execution_count": 41,
   "id": "e4cd53d6",
   "metadata": {},
   "outputs": [],
   "source": [
    "# Extract entities from sentences\n",
    "def extract_entity(sents, index, df):\n",
    "    print(\"[ Detailed Information (per event) ]\\n\")\n",
    "    \n",
    "    ent_per = []\n",
    "    ent_org = []\n",
    "    ent_loc = []\n",
    "    \n",
    "    event = df.iloc[index].sort_values(by=['time'])['title'].tolist()\n",
    "    \n",
    "    for i in reversed(range(len(sents))):\n",
    "        doc = nlp(sents[i])\n",
    "        for ent in doc.ents:\n",
    "            word = ent.text.title()\n",
    "            if word in ent_per or word in ent_org or word in ent_loc:\n",
    "                continue\n",
    "            if ent.label_ == 'PERSON':\n",
    "                ent_per.append(word)\n",
    "            elif ent.label_ == 'ORG':\n",
    "                ent_org.append(word)\n",
    "            elif ent.label_ in ['GPE', 'LOC']:\n",
    "                ent_loc.append(word)\n",
    "        \n",
    "        print(\"Event: \", event[i])\n",
    "        print(\"- Person: \", \", \".join([i for i in ent_per]))\n",
    "        print(\"- Organization: \", \", \".join([i for i in ent_org]))\n",
    "        print(\"- Place: \", \", \".join([i for i in ent_loc]))\n",
    "        print()"
   ]
  },
  {
   "cell_type": "code",
   "execution_count": 46,
   "id": "7427d7d8",
   "metadata": {},
   "outputs": [],
   "source": [
    "def print_events(df, index):\n",
    "    event = df.iloc[index].sort_values(by=['time'])['title'].tolist()\n",
    "    print(\"[ Related-Issue Events ]\\n\")\n",
    "    print(\", \".join([i for i in event]))\n",
    "    print()"
   ]
  },
  {
   "cell_type": "code",
   "execution_count": 47,
   "id": "2d27f832",
   "metadata": {},
   "outputs": [
    {
     "name": "stdout",
     "output_type": "stream",
     "text": [
      "[ Related-Issue Events ]\n",
      "\n",
      "N. Korea bans foreigners from marathon race over Ebola concerns, U.S. puts N. Korea among world's worst countries for human trafficking, N. Korea's all-female music band disappears from broadcasts, S. Korea has undoubtedly clear intention to deploy THAAD: defense minister, Suspected NK attackers hack into S. Korea's cyber command through main server\n",
      "\n",
      "[ Detailed Information (per event) ]\n",
      "\n",
      "Event:  Suspected NK attackers hack into S. Korea's cyber command through main server\n",
      "- Person:  Han Min Koo, Kim Jin Pyo, Kim\n",
      "- Organization:  National Defense Committee\n",
      "- Place:  South Korea, China, North Korea, The United States\n",
      "\n",
      "Event:  S. Korea has undoubtedly clear intention to deploy THAAD: defense minister\n",
      "- Person:  Han Min Koo, Kim Jin Pyo, Kim\n",
      "- Organization:  National Defense Committee\n",
      "- Place:  South Korea, China, North Korea, The United States, U.S., Singapore, Korea\n",
      "\n",
      "Event:  N. Korea's all-female music band disappears from broadcasts\n",
      "- Person:  Han Min Koo, Kim Jin Pyo, Kim, Kim Jong\n",
      "- Organization:  National Defense Committee, Korean Central News Agency\n",
      "- Place:  South Korea, China, North Korea, The United States, U.S., Singapore, Korea, Pyongyang, Russia\n",
      "\n",
      "Event:  U.S. puts N. Korea among world's worst countries for human trafficking\n",
      "- Person:  Han Min Koo, Kim Jin Pyo, Kim, Kim Jong, Accorde\n",
      "- Organization:  National Defense Committee, Korean Central News Agency\n",
      "- Place:  South Korea, China, North Korea, The United States, U.S., Singapore, Korea, Pyongyang, Russia, Iran, Libya, Syria, Zimbabwe, Thailand, Britain, France Germany\n",
      "\n",
      "Event:  N. Korea bans foreigners from marathon race over Ebola concerns\n",
      "- Person:  Han Min Koo, Kim Jin Pyo, Kim, Kim Jong, Accorde, Koryo Tours\n",
      "- Organization:  National Defense Committee, Korean Central News Agency\n",
      "- Place:  South Korea, China, North Korea, The United States, U.S., Singapore, Korea, Pyongyang, Russia, Iran, Libya, Syria, Zimbabwe, Thailand, Britain, France Germany, Beijing\n",
      "\n"
     ]
    }
   ],
   "source": [
    "sents_nk = [ ' '.join(spacy_tokenizer(s)) for s in df.iloc[related_issue_index].sort_values(by=['time'])['body']]\n",
    "print_events(df, related_issue_index)\n",
    "extract_entity(sents_nk, related_issue_index, df)"
   ]
  },
  {
   "cell_type": "code",
   "execution_count": null,
   "id": "95e6e22d",
   "metadata": {},
   "outputs": [],
   "source": []
  }
 ],
 "metadata": {
  "kernelspec": {
   "display_name": "Python 3 (ipykernel)",
   "language": "python",
   "name": "python3"
  },
  "language_info": {
   "codemirror_mode": {
    "name": "ipython",
    "version": 3
   },
   "file_extension": ".py",
   "mimetype": "text/x-python",
   "name": "python",
   "nbconvert_exporter": "python",
   "pygments_lexer": "ipython3",
   "version": "3.8.8"
  }
 },
 "nbformat": 4,
 "nbformat_minor": 5
}
