{
 "cells": [
  {
   "cell_type": "markdown",
   "id": "d43cc01a",
   "metadata": {},
   "source": [
    "### Libs & Data"
   ]
  },
  {
   "cell_type": "code",
   "execution_count": 1,
   "id": "3168280d",
   "metadata": {},
   "outputs": [
    {
     "name": "stderr",
     "output_type": "stream",
     "text": [
      "[nltk_data] Downloading package stopwords to\n",
      "[nltk_data]     C:\\Users\\kwsst\\AppData\\Roaming\\nltk_data...\n",
      "[nltk_data]   Package stopwords is already up-to-date!\n",
      "[nltk_data] Downloading package wordnet to\n",
      "[nltk_data]     C:\\Users\\kwsst\\AppData\\Roaming\\nltk_data...\n",
      "[nltk_data]   Package wordnet is already up-to-date!\n"
     ]
    }
   ],
   "source": [
    "import pandas as pd\n",
    "import numpy as np\n",
    "import os\n",
    "import re\n",
    "import nltk\n",
    "nltk.download('stopwords')\n",
    "nltk.download('wordnet')\n",
    "import string\n",
    "import random\n",
    "import unicodedata\n",
    "from string import punctuation\n",
    "from string import digits\n",
    "from nltk.stem import WordNetLemmatizer\n",
    "import joblib\n",
    "\n",
    "from sklearn.feature_extraction.text import CountVectorizer\n",
    "from sklearn.feature_extraction.text import TfidfTransformer\n",
    "from sklearn.feature_extraction.text import TfidfVectorizer\n",
    "from sklearn.decomposition import PCA\n",
    "from sklearn.decomposition import TruncatedSVD\n",
    "from sklearn.manifold import TSNE\n",
    "from sklearn.cluster import KMeans\n",
    "from sklearn.cluster import DBSCAN\n",
    "from sklearn.neighbors import NearestNeighbors\n",
    "from sklearn.metrics import silhouette_score\n",
    "\n",
    "import matplotlib.pyplot as plt\n",
    "\n",
    "import torch\n",
    "from transformers import BartTokenizer, BartForConditionalGeneration, BartConfig\n",
    "\n",
    "import spacy\n",
    "from spacy.matcher import Matcher"
   ]
  },
  {
   "cell_type": "code",
   "execution_count": 3,
   "id": "ced89a4f",
   "metadata": {},
   "outputs": [
    {
     "data": {
      "text/plain": [
       "(5324, 9)"
      ]
     },
     "execution_count": 3,
     "metadata": {},
     "output_type": "execute_result"
    }
   ],
   "source": [
    "df = pd.read_csv(\"data/df_park.csv\")\n",
    "df.shape"
   ]
  },
  {
   "cell_type": "code",
   "execution_count": 4,
   "id": "fe631771",
   "metadata": {},
   "outputs": [
    {
     "data": {
      "text/html": [
       "<div>\n",
       "<style scoped>\n",
       "    .dataframe tbody tr th:only-of-type {\n",
       "        vertical-align: middle;\n",
       "    }\n",
       "\n",
       "    .dataframe tbody tr th {\n",
       "        vertical-align: top;\n",
       "    }\n",
       "\n",
       "    .dataframe thead th {\n",
       "        text-align: right;\n",
       "    }\n",
       "</style>\n",
       "<table border=\"1\" class=\"dataframe\">\n",
       "  <thead>\n",
       "    <tr style=\"text-align: right;\">\n",
       "      <th></th>\n",
       "      <th>Unnamed: 0</th>\n",
       "      <th>title</th>\n",
       "      <th>author</th>\n",
       "      <th>time</th>\n",
       "      <th>description</th>\n",
       "      <th>body</th>\n",
       "      <th>section</th>\n",
       "      <th>summarized_body</th>\n",
       "      <th>agg_title_body</th>\n",
       "    </tr>\n",
       "  </thead>\n",
       "  <tbody>\n",
       "    <tr>\n",
       "      <th>0</th>\n",
       "      <td>1</td>\n",
       "      <td>[Weekender] Korea’s dynamic 2017</td>\n",
       "      <td>Choi He-suk</td>\n",
       "      <td>2018-01-01 13:22:00</td>\n",
       "      <td>From North Korea’s nuclear weapons program nea...</td>\n",
       "      <td>From North Korea’s nuclear weapons program nea...</td>\n",
       "      <td>Social affairs</td>\n",
       "      <td>The corruption scandal that broke out in 2016 ...</td>\n",
       "      <td>[Weekender] Korea’s dynamic 2017. From North K...</td>\n",
       "    </tr>\n",
       "    <tr>\n",
       "      <th>1</th>\n",
       "      <td>13</td>\n",
       "      <td>Headline makers of 2017</td>\n",
       "      <td>Korea Herald</td>\n",
       "      <td>2017-12-29 16:42:00</td>\n",
       "      <td>Moon Jae-inPresident Moon Jae-in (Yonhap)Moon ...</td>\n",
       "      <td>Moon Jae-inPresident Moon Jae-in (Yonhap)Moon ...</td>\n",
       "      <td>Social affairs</td>\n",
       "      <td>South Korean President Moon Jae-in rose to bec...</td>\n",
       "      <td>Headline makers of 2017. Moon Jae-inPresident ...</td>\n",
       "    </tr>\n",
       "    <tr>\n",
       "      <th>2</th>\n",
       "      <td>16</td>\n",
       "      <td>Moon pardons 6,444 people, excluding business ...</td>\n",
       "      <td>Ock Hyun-ju</td>\n",
       "      <td>2017-12-29 16:01:00</td>\n",
       "      <td>President Moon Jae-in granted pardons to 6,444...</td>\n",
       "      <td>President Moon Jae-in granted pardons to 6,444...</td>\n",
       "      <td>Social affairs</td>\n",
       "      <td>President Moon Jae-in granted pardons to 6,444...</td>\n",
       "      <td>Moon pardons 6,444 people, excluding business ...</td>\n",
       "    </tr>\n",
       "    <tr>\n",
       "      <th>3</th>\n",
       "      <td>19</td>\n",
       "      <td>Businessmen call for probe into shutdown of fa...</td>\n",
       "      <td>Yonhap</td>\n",
       "      <td>2017-12-29 15:04:00</td>\n",
       "      <td>A private task force on Friday pressed the gov...</td>\n",
       "      <td>A private task force on Friday pressed the gov...</td>\n",
       "      <td>North Korea</td>\n",
       "      <td>South Korea pulled the plug on the factory par...</td>\n",
       "      <td>Businessmen call for probe into shutdown of fa...</td>\n",
       "    </tr>\n",
       "    <tr>\n",
       "      <th>4</th>\n",
       "      <td>21</td>\n",
       "      <td>Special pardons aimed at helping ordinary peop...</td>\n",
       "      <td>Yonhap</td>\n",
       "      <td>2017-12-29 11:39:00</td>\n",
       "      <td>The latest pardon extended to more than 6,000 ...</td>\n",
       "      <td>The latest pardon extended to more than 6,000 ...</td>\n",
       "      <td>Politics</td>\n",
       "      <td>The latest pardon extended to more than 6,000 ...</td>\n",
       "      <td>Special pardons aimed at helping ordinary peop...</td>\n",
       "    </tr>\n",
       "  </tbody>\n",
       "</table>\n",
       "</div>"
      ],
      "text/plain": [
       "   Unnamed: 0                                              title  \\\n",
       "0           1                   [Weekender] Korea’s dynamic 2017   \n",
       "1          13                            Headline makers of 2017   \n",
       "2          16  Moon pardons 6,444 people, excluding business ...   \n",
       "3          19  Businessmen call for probe into shutdown of fa...   \n",
       "4          21  Special pardons aimed at helping ordinary peop...   \n",
       "\n",
       "         author                 time  \\\n",
       "0   Choi He-suk  2018-01-01 13:22:00   \n",
       "1  Korea Herald  2017-12-29 16:42:00   \n",
       "2   Ock Hyun-ju  2017-12-29 16:01:00   \n",
       "3        Yonhap  2017-12-29 15:04:00   \n",
       "4        Yonhap  2017-12-29 11:39:00   \n",
       "\n",
       "                                         description  \\\n",
       "0  From North Korea’s nuclear weapons program nea...   \n",
       "1  Moon Jae-inPresident Moon Jae-in (Yonhap)Moon ...   \n",
       "2  President Moon Jae-in granted pardons to 6,444...   \n",
       "3  A private task force on Friday pressed the gov...   \n",
       "4  The latest pardon extended to more than 6,000 ...   \n",
       "\n",
       "                                                body         section  \\\n",
       "0  From North Korea’s nuclear weapons program nea...  Social affairs   \n",
       "1  Moon Jae-inPresident Moon Jae-in (Yonhap)Moon ...  Social affairs   \n",
       "2  President Moon Jae-in granted pardons to 6,444...  Social affairs   \n",
       "3  A private task force on Friday pressed the gov...     North Korea   \n",
       "4  The latest pardon extended to more than 6,000 ...        Politics   \n",
       "\n",
       "                                     summarized_body  \\\n",
       "0  The corruption scandal that broke out in 2016 ...   \n",
       "1  South Korean President Moon Jae-in rose to bec...   \n",
       "2  President Moon Jae-in granted pardons to 6,444...   \n",
       "3  South Korea pulled the plug on the factory par...   \n",
       "4  The latest pardon extended to more than 6,000 ...   \n",
       "\n",
       "                                      agg_title_body  \n",
       "0  [Weekender] Korea’s dynamic 2017. From North K...  \n",
       "1  Headline makers of 2017. Moon Jae-inPresident ...  \n",
       "2  Moon pardons 6,444 people, excluding business ...  \n",
       "3  Businessmen call for probe into shutdown of fa...  \n",
       "4  Special pardons aimed at helping ordinary peop...  "
      ]
     },
     "execution_count": 4,
     "metadata": {},
     "output_type": "execute_result"
    }
   ],
   "source": [
    "df.head()"
   ]
  },
  {
   "cell_type": "markdown",
   "id": "35caf4fd",
   "metadata": {},
   "source": [
    "### Import the embedded documents"
   ]
  },
  {
   "cell_type": "code",
   "execution_count": 5,
   "id": "65845658",
   "metadata": {},
   "outputs": [
    {
     "data": {
      "text/plain": [
       "(5324, 300)"
      ]
     },
     "execution_count": 5,
     "metadata": {},
     "output_type": "execute_result"
    }
   ],
   "source": [
    "vects = joblib.load('data/tfidf_titlebody_park.csv')\n",
    "vects.shape"
   ]
  },
  {
   "cell_type": "markdown",
   "id": "d0ef198a",
   "metadata": {},
   "source": [
    "### Clustering"
   ]
  },
  {
   "cell_type": "code",
   "execution_count": 8,
   "id": "56488d7f",
   "metadata": {},
   "outputs": [],
   "source": [
    "### Clustering \n",
    "def document_clustering(doc_vectors, clustering_method='kmeans', evaluate=False):\n",
    "    if clustering_method=='kmeans':\n",
    "        # Hyperparameters\n",
    "        k_event = 10000\n",
    "        k_issue = 6000\n",
    "        \n",
    "        # Clustering event\n",
    "        kmeans_event = KMeans(n_clusters=k_event, random_state=69).fit(doc_vectors)\n",
    "        # Represent each event by average sum of related news\n",
    "        event_vectors = np.zeros((k_event, doc_vectors.shape[1]))\n",
    "        for i in range(k_event):\n",
    "            event_vectors[i] = sum(doc_vectors[kmeans_event.labels_ == i])\n",
    "        \n",
    "        # Clustering issue\n",
    "        kmeans_issue = KMeans(n_clusters=k_issue, random_state=69).fit(event_vectors)\n",
    "        # Represent each issue by average sum of related news\n",
    "        issue_vectors = np.zeros((k_issue, doc_vectors.shape[1]))\n",
    "        for i in range(k_issue):\n",
    "            issue_vectors[i] = sum(event_vectors[kmeans_issue.labels_ == i])\n",
    "\n",
    "        issue_labels = np.array([ kmeans_issue.labels_[kmeans_event.labels_[i]] for i in range(doc_vectors.shape[0]) ])\n",
    "        \n",
    "        return k_issue, k_event, issue_labels, kmeans_event.labels_\n",
    "    \n",
    "    elif clustering_method=='DBSCAN':\n",
    "        \n",
    "        # Hyperparameters\n",
    "        doc_eps = 0.255\n",
    "        doc_neighbors = 1\n",
    "        event_eps = 0.40\n",
    "        event_neighbors = 1\n",
    "        \n",
    "        '''\n",
    "            Find best doc_eps and event_eps\n",
    "        '''\n",
    "        if evaluate:\n",
    "            # Find best eps to group same document\n",
    "            doc_eps_list = [ 0.2 + 0.001*i for i in range(1,1001) ]\n",
    "            doc_score = []\n",
    "            doc_event = []\n",
    "            doc_best_score = 0\n",
    "            doc_best_eps = 0.0001\n",
    "            for doc_eps in doc_eps_list:\n",
    "                # Clustering event\n",
    "                db_event = DBSCAN(eps=doc_eps, min_samples=doc_neighbors).fit(doc_vectors)\n",
    "                # Number of clusters in labels, ignoring noise if present.\n",
    "                n_events_ = len(set(db_event.labels_)) - (1 if -1 in db_event.labels_ else 0)\n",
    "                if len(set(db_event.labels_)) >= 2 and len(set(db_event.labels_)) <= len(doc_vectors)-1:\n",
    "                    score_ = silhouette_score(doc_vectors, db_event.labels_)\n",
    "                else:\n",
    "                    score_ = -1\n",
    "                doc_event.append(n_events_)\n",
    "                doc_score.append(score_)\n",
    "                if score_ > doc_best_score:\n",
    "                    doc_best_score = score_\n",
    "                    doc_best_eps = doc_eps\n",
    "            print(\"Best Silhouete score is {} at eps: {} and number of events: {}\".format(doc_best_score, doc_eps, n_events_))\n",
    "            fig = plt.figure()\n",
    "            plt.plot(doc_eps_list, doc_score)\n",
    "            fig.suptitle('Doc eps and Silhouette score', fontsize=20)\n",
    "            plt.xlabel('eps', fontsize=18)\n",
    "            plt.ylabel('Silhouette score', fontsize=16)\n",
    "            plt.show()\n",
    "            \n",
    "            fig = plt.figure()\n",
    "            plt.plot(doc_eps_list, doc_event)\n",
    "            fig.suptitle('Doc eps and number of events', fontsize=20)\n",
    "            plt.xlabel('eps', fontsize=18)\n",
    "            plt.ylabel('number of events', fontsize=16)\n",
    "            plt.show()\n",
    "            \n",
    "            # Set doc_eps to the best value\n",
    "            doc_eps = doc_best_eps\n",
    "            # Find best eps to group same event\n",
    "            # Clustering event\n",
    "            db_event = DBSCAN(eps=doc_eps, min_samples=doc_neighbors).fit(doc_vectors)\n",
    "            n_events_ = len(set(db_event.labels_)) - (1 if -1 in db_event.labels_ else 0)\n",
    "            event_labels = np.array(list(map(lambda x: n_events_ if x==-1 else x, db_event.labels_)))\n",
    "            event_vectors = np.zeros((n_events_, doc_vectors.shape[1]))\n",
    "            for i in range(n_events_+1):\n",
    "                if np.sum(event_labels == i) != 0:\n",
    "                    event_vectors[i] = np.sum(doc_vectors[event_labels == i], axis=0)/np.sum(event_labels == i)\n",
    "            \n",
    "            # Clustering issue\n",
    "            event_eps_list = [ 0.2 + 0.001*i for i in range(1,1001) ]\n",
    "            event_score = []\n",
    "            event_issue = []\n",
    "            event_best_score = 0\n",
    "            event_best_eps = 0.001\n",
    "            for event_eps in event_eps_list:\n",
    "                db_issue = DBSCAN(eps=event_eps, min_samples=event_neighbors).fit(event_vectors)\n",
    "                # Number of clusters in labels, ignoring noise if present.\n",
    "                n_issues_ = len(set(db_issue.labels_)) - (1 if -1 in db_issue.labels_ else 0)\n",
    "                if len(set(db_issue.labels_)) >= 2 and len(set(db_issue.labels_)) <= len(event_vectors)-1:\n",
    "                    score_ = silhouette_score(event_vectors, db_issue.labels_)\n",
    "                else:\n",
    "                    score_ = -1\n",
    "                event_issue.append(n_issues_)\n",
    "                event_score.append(score_)\n",
    "                if score_ > event_best_score:\n",
    "                    event_best_score = score_\n",
    "                    event_best_eps = event_eps\n",
    "            print(\"Best Silhouete score is {} at eps: {} and number of issues: {}\".format(event_best_score, event_eps, n_issues_))\n",
    "            fig = plt.figure()\n",
    "            plt.plot(event_eps_list, event_score)\n",
    "            fig.suptitle('Event eps and Silhouette score', fontsize=20)\n",
    "            plt.xlabel('eps', fontsize=18)\n",
    "            plt.ylabel('Silhouette score', fontsize=16)\n",
    "            plt.show()\n",
    "            \n",
    "            fig = plt.figure()\n",
    "            plt.plot(event_eps_list, event_issue)\n",
    "            fig.suptitle('Event eps and number of issues', fontsize=20)\n",
    "            plt.xlabel('eps', fontsize=18)\n",
    "            plt.ylabel('number of issues', fontsize=16)\n",
    "            plt.show()\n",
    "            \n",
    "            # Set event_eps to best value\n",
    "            event_eps = event_best_eps\n",
    "            # Clustering issue\n",
    "            db_issue = DBSCAN(eps=event_eps, min_samples=event_neighbors).fit(event_vectors)\n",
    "            # Number of clusters in labels, ignoring noise if present.\n",
    "            n_issues_ = len(set(db_issue.labels_)) - (1 if -1 in db_issue.labels_ else 0)\n",
    "            n_noise_ = list(db_issue.labels_).count(-1)\n",
    "            print(n_issues_, n_noise_)\n",
    "            # Represent each issue by average sum of related news\n",
    "            issue_labels = np.array(list(map(lambda x: n_issues_ if x==-1 else x, db_issue.labels_)))\n",
    "            issue_vectors = np.zeros((n_issues_, doc_vectors.shape[1]))\n",
    "            for i in range(n_issues_+1):\n",
    "                if np.sum(issue_labels == i) != 0:\n",
    "                    issue_vectors[i] = np.sum(event_vectors[issue_labels == i], axis=0)/np.sum(issue_labels == i)\n",
    "       \n",
    "            issue_labels = np.array([ issue_labels[event_labels[i]] for i in range(doc_vectors.shape[0]) ])\n",
    "        \n",
    "        else:\n",
    "            '''\n",
    "            Clustering using specific value\n",
    "            '''\n",
    "            # Clustering event\n",
    "            db_event = DBSCAN(eps=doc_eps, min_samples=doc_neighbors).fit(doc_vectors)\n",
    "            # Number of clusters in labels, ignoring noise if present.\n",
    "            n_events_ = len(set(db_event.labels_)) - (1 if -1 in db_event.labels_ else 0)\n",
    "            n_noise_ = list(db_event.labels_).count(-1)\n",
    "            print(n_events_, n_noise_)\n",
    "            # Represent each event by average sum of related news\n",
    "            event_labels = np.array(list(map(lambda x: n_events_ if x==-1 else x, db_event.labels_)))\n",
    "            event_vectors = np.zeros((n_events_, doc_vectors.shape[1]))\n",
    "            for i in range(n_events_+1):\n",
    "                if np.sum(event_labels == i) != 0:\n",
    "                    event_vectors[i] = np.sum(doc_vectors[event_labels == i], axis=0)/np.sum(event_labels == i)\n",
    "\n",
    "            # Clustering issue\n",
    "            db_issue = DBSCAN(eps=event_eps, min_samples=event_neighbors).fit(event_vectors)\n",
    "            # Number of clusters in labels, ignoring noise if present.\n",
    "            n_issues_ = len(set(db_issue.labels_)) - (1 if -1 in db_issue.labels_ else 0)\n",
    "            n_noise_ = list(db_issue.labels_).count(-1)\n",
    "            print(n_issues_, n_noise_)\n",
    "            # Represent each issue by average sum of related news\n",
    "            issue_labels = np.array(list(map(lambda x: n_issues_ if x==-1 else x, db_issue.labels_)))\n",
    "            issue_vectors = np.zeros((n_issues_, doc_vectors.shape[1]))\n",
    "            for i in range(n_issues_+1):\n",
    "                if np.sum(issue_labels == i) != 0:\n",
    "                    issue_vectors[i] = np.sum(event_vectors[issue_labels == i], axis=0)/np.sum(issue_labels == i)\n",
    "        \n",
    "            issue_labels = np.array([ issue_labels[event_labels[i]] for i in range(doc_vectors.shape[0]) ])\n",
    "        \n",
    "        return n_issues_, n_events_, issue_labels, event_labels\n",
    "    \n",
    "    elif clustering_method=='agglomerative':\n",
    "        \n",
    "        pass\n",
    "    \n",
    "    elif clustering_method=='LDA':\n",
    "        \n",
    "        pass\n",
    "    \n",
    "    else:\n",
    "        assert(\"Doesn't support {}\".format(clustering_method))"
   ]
  },
  {
   "cell_type": "code",
   "execution_count": 9,
   "id": "10e82b0a",
   "metadata": {},
   "outputs": [
    {
     "name": "stdout",
     "output_type": "stream",
     "text": [
      "Best Silhouete score is 0.08860119834279026 at eps: 1.2 and number of events: 1\n"
     ]
    },
    {
     "data": {
      "image/png": "[encoded data removed]",
      "text/plain": [
       "<Figure size 432x288 with 1 Axes>"
      ]
     },
     "metadata": {
      "needs_background": "light"
     },
     "output_type": "display_data"
    },
    {
     "data": {
      "image/png": "[encoded data removed]",
      "text/plain": [
       "<Figure size 432x288 with 1 Axes>"
      ]
     },
     "metadata": {
      "needs_background": "light"
     },
     "output_type": "display_data"
    },
    {
     "name": "stdout",
     "output_type": "stream",
     "text": [
      "Best Silhouete score is 0.03024189954905668 at eps: 1.2 and number of issues: 1\n"
     ]
    },
    {
     "data": {
      "image/png": "[encoded data removed]",
      "text/plain": [
       "<Figure size 432x288 with 1 Axes>"
      ]
     },
     "metadata": {
      "needs_background": "light"
     },
     "output_type": "display_data"
    },
    {
     "data": {
      "image/png": "[encoded data removed]",
      "text/plain": [
       "<Figure size 432x288 with 1 Axes>"
      ]
     },
     "metadata": {
      "needs_background": "light"
     },
     "output_type": "display_data"
    },
    {
     "name": "stdout",
     "output_type": "stream",
     "text": [
      "2 0\n"
     ]
    }
   ],
   "source": [
    "num_issue, num_event, issue_labels, event_labels = document_clustering(vects,\n",
    "                                                                       clustering_method='DBSCAN',\n",
    "                                                                       evaluate=True)"
   ]
  },
  {
   "cell_type": "code",
   "execution_count": 10,
   "id": "d55d9eea",
   "metadata": {},
   "outputs": [
    {
     "name": "stdout",
     "output_type": "stream",
     "text": [
      "5140 0\n",
      "4256 0\n"
     ]
    }
   ],
   "source": [
    "num_issue, num_event, issue_labels, event_labels = document_clustering(vects,\n",
    "                                                                       clustering_method='DBSCAN',\n",
    "                                                                       evaluate=False)"
   ]
  },
  {
   "cell_type": "code",
   "execution_count": 11,
   "id": "71b271a0",
   "metadata": {},
   "outputs": [
    {
     "data": {
      "text/html": [
       "<div>\n",
       "<style scoped>\n",
       "    .dataframe tbody tr th:only-of-type {\n",
       "        vertical-align: middle;\n",
       "    }\n",
       "\n",
       "    .dataframe tbody tr th {\n",
       "        vertical-align: top;\n",
       "    }\n",
       "\n",
       "    .dataframe thead th {\n",
       "        text-align: right;\n",
       "    }\n",
       "</style>\n",
       "<table border=\"1\" class=\"dataframe\">\n",
       "  <thead>\n",
       "    <tr style=\"text-align: right;\">\n",
       "      <th></th>\n",
       "      <th>Unnamed: 0</th>\n",
       "      <th>title</th>\n",
       "      <th>author</th>\n",
       "      <th>time</th>\n",
       "      <th>description</th>\n",
       "      <th>body</th>\n",
       "      <th>section</th>\n",
       "      <th>summarized_body</th>\n",
       "      <th>agg_title_body</th>\n",
       "      <th>label</th>\n",
       "    </tr>\n",
       "  </thead>\n",
       "  <tbody>\n",
       "    <tr>\n",
       "      <th>0</th>\n",
       "      <td>1</td>\n",
       "      <td>[Weekender] Korea’s dynamic 2017</td>\n",
       "      <td>Choi He-suk</td>\n",
       "      <td>2018-01-01 13:22:00</td>\n",
       "      <td>From North Korea’s nuclear weapons program nea...</td>\n",
       "      <td>From North Korea’s nuclear weapons program nea...</td>\n",
       "      <td>Social affairs</td>\n",
       "      <td>The corruption scandal that broke out in 2016 ...</td>\n",
       "      <td>[Weekender] Korea’s dynamic 2017. From North K...</td>\n",
       "      <td>0</td>\n",
       "    </tr>\n",
       "    <tr>\n",
       "      <th>1</th>\n",
       "      <td>13</td>\n",
       "      <td>Headline makers of 2017</td>\n",
       "      <td>Korea Herald</td>\n",
       "      <td>2017-12-29 16:42:00</td>\n",
       "      <td>Moon Jae-inPresident Moon Jae-in (Yonhap)Moon ...</td>\n",
       "      <td>Moon Jae-inPresident Moon Jae-in (Yonhap)Moon ...</td>\n",
       "      <td>Social affairs</td>\n",
       "      <td>South Korean President Moon Jae-in rose to bec...</td>\n",
       "      <td>Headline makers of 2017. Moon Jae-inPresident ...</td>\n",
       "      <td>1</td>\n",
       "    </tr>\n",
       "    <tr>\n",
       "      <th>2</th>\n",
       "      <td>16</td>\n",
       "      <td>Moon pardons 6,444 people, excluding business ...</td>\n",
       "      <td>Ock Hyun-ju</td>\n",
       "      <td>2017-12-29 16:01:00</td>\n",
       "      <td>President Moon Jae-in granted pardons to 6,444...</td>\n",
       "      <td>President Moon Jae-in granted pardons to 6,444...</td>\n",
       "      <td>Social affairs</td>\n",
       "      <td>President Moon Jae-in granted pardons to 6,444...</td>\n",
       "      <td>Moon pardons 6,444 people, excluding business ...</td>\n",
       "      <td>2</td>\n",
       "    </tr>\n",
       "    <tr>\n",
       "      <th>3</th>\n",
       "      <td>19</td>\n",
       "      <td>Businessmen call for probe into shutdown of fa...</td>\n",
       "      <td>Yonhap</td>\n",
       "      <td>2017-12-29 15:04:00</td>\n",
       "      <td>A private task force on Friday pressed the gov...</td>\n",
       "      <td>A private task force on Friday pressed the gov...</td>\n",
       "      <td>North Korea</td>\n",
       "      <td>South Korea pulled the plug on the factory par...</td>\n",
       "      <td>Businessmen call for probe into shutdown of fa...</td>\n",
       "      <td>3</td>\n",
       "    </tr>\n",
       "    <tr>\n",
       "      <th>4</th>\n",
       "      <td>21</td>\n",
       "      <td>Special pardons aimed at helping ordinary peop...</td>\n",
       "      <td>Yonhap</td>\n",
       "      <td>2017-12-29 11:39:00</td>\n",
       "      <td>The latest pardon extended to more than 6,000 ...</td>\n",
       "      <td>The latest pardon extended to more than 6,000 ...</td>\n",
       "      <td>Politics</td>\n",
       "      <td>The latest pardon extended to more than 6,000 ...</td>\n",
       "      <td>Special pardons aimed at helping ordinary peop...</td>\n",
       "      <td>4</td>\n",
       "    </tr>\n",
       "  </tbody>\n",
       "</table>\n",
       "</div>"
      ],
      "text/plain": [
       "   Unnamed: 0                                              title  \\\n",
       "0           1                   [Weekender] Korea’s dynamic 2017   \n",
       "1          13                            Headline makers of 2017   \n",
       "2          16  Moon pardons 6,444 people, excluding business ...   \n",
       "3          19  Businessmen call for probe into shutdown of fa...   \n",
       "4          21  Special pardons aimed at helping ordinary peop...   \n",
       "\n",
       "         author                 time  \\\n",
       "0   Choi He-suk  2018-01-01 13:22:00   \n",
       "1  Korea Herald  2017-12-29 16:42:00   \n",
       "2   Ock Hyun-ju  2017-12-29 16:01:00   \n",
       "3        Yonhap  2017-12-29 15:04:00   \n",
       "4        Yonhap  2017-12-29 11:39:00   \n",
       "\n",
       "                                         description  \\\n",
       "0  From North Korea’s nuclear weapons program nea...   \n",
       "1  Moon Jae-inPresident Moon Jae-in (Yonhap)Moon ...   \n",
       "2  President Moon Jae-in granted pardons to 6,444...   \n",
       "3  A private task force on Friday pressed the gov...   \n",
       "4  The latest pardon extended to more than 6,000 ...   \n",
       "\n",
       "                                                body         section  \\\n",
       "0  From North Korea’s nuclear weapons program nea...  Social affairs   \n",
       "1  Moon Jae-inPresident Moon Jae-in (Yonhap)Moon ...  Social affairs   \n",
       "2  President Moon Jae-in granted pardons to 6,444...  Social affairs   \n",
       "3  A private task force on Friday pressed the gov...     North Korea   \n",
       "4  The latest pardon extended to more than 6,000 ...        Politics   \n",
       "\n",
       "                                     summarized_body  \\\n",
       "0  The corruption scandal that broke out in 2016 ...   \n",
       "1  South Korean President Moon Jae-in rose to bec...   \n",
       "2  President Moon Jae-in granted pardons to 6,444...   \n",
       "3  South Korea pulled the plug on the factory par...   \n",
       "4  The latest pardon extended to more than 6,000 ...   \n",
       "\n",
       "                                      agg_title_body  label  \n",
       "0  [Weekender] Korea’s dynamic 2017. From North K...      0  \n",
       "1  Headline makers of 2017. Moon Jae-inPresident ...      1  \n",
       "2  Moon pardons 6,444 people, excluding business ...      2  \n",
       "3  Businessmen call for probe into shutdown of fa...      3  \n",
       "4  Special pardons aimed at helping ordinary peop...      4  "
      ]
     },
     "execution_count": 11,
     "metadata": {},
     "output_type": "execute_result"
    }
   ],
   "source": [
    "df['label'] = event_labels\n",
    "df.head()"
   ]
  },
  {
   "cell_type": "code",
   "execution_count": 16,
   "id": "1cb12176",
   "metadata": {},
   "outputs": [
    {
     "data": {
      "text/plain": [
       "[3655, 4774, 4254, 1196, 4590, 1945, 3015, 4299, 3596, 919]"
      ]
     },
     "execution_count": 16,
     "metadata": {},
     "output_type": "execute_result"
    }
   ],
   "source": [
    "# get top n most frequent labels\n",
    "n = 10\n",
    "label = df['label'].value_counts()[:n].index.tolist()\n",
    "label"
   ]
  },
  {
   "cell_type": "code",
   "execution_count": 17,
   "id": "22d41900",
   "metadata": {},
   "outputs": [
    {
     "data": {
      "text/plain": [
       "[5, 4, 4, 4, 3, 3, 3, 3, 3, 3]"
      ]
     },
     "execution_count": 17,
     "metadata": {},
     "output_type": "execute_result"
    }
   ],
   "source": [
    "def freq_label(df, labels):\n",
    "    freqs = []\n",
    "    for label in labels:\n",
    "        freq = df.loc[df.label == label, 'label'].count()\n",
    "        freqs.append(freq)\n",
    "    return freqs\n",
    "freq_label(df, label)"
   ]
  },
  {
   "cell_type": "code",
   "execution_count": 18,
   "id": "9facc925",
   "metadata": {},
   "outputs": [
    {
     "data": {
      "text/plain": [
       "10"
      ]
     },
     "execution_count": 18,
     "metadata": {},
     "output_type": "execute_result"
    }
   ],
   "source": [
    "# Concat the sentences in each group and make a summary\n",
    "summary = []\n",
    "for i in label:\n",
    "    s = ''\n",
    "    for sentence in df[df['label'] == i]['summarized_body'].tolist():\n",
    "        s += sentence\n",
    "    summary.append(s)\n",
    "len(summary)"
   ]
  },
  {
   "cell_type": "code",
   "execution_count": 19,
   "id": "1fc83c0d",
   "metadata": {},
   "outputs": [
    {
     "data": {
      "text/plain": [
       "['Prime Minister Hwang Kyo-ahn announced Tuesday that South Korea would officially reinstate government-issued history textbooks for secondary education from 2017. He said that the current system had failed after four years of implementation. The main opposition New Politics Alliance for Democracy boycotted the plenary session of the National Assembly to protest the government’s decision.The Education Ministry recently announced that it will take back publishing rights of history textbooks for secondary education. A history professor with experience authoring a state-published textbook said granting the government exclusive rights to write textbooks is among the worst idea imaginable. He voiced concerns that state-authored books will attempt to favorably depict controversial figures like former President Park Chung-hee.The government said it will rule out “far-right” scholars as authors. The government is planning to revive state-authored history textbooks. There are concerns that they will be biased in favor of conservatives. The Kyohak textbook has been accused of favorably depicting pro-Japanese figures.Ministry commissioned the state-run National Institute of Korean History to exclusively author middle and high schools textbooks from 2017. Education Minister Hwang Woo-yea said the current system fails to maximize diversity since some authors are reflecting their “ideologically biased views” The government and the ruling Saenuri Party have claimed that privately published textbooks have many factual errors.The standoff over the potential reinstatement of state-published textbooks for secondary education history is expected to headline Thursday’s parliamentary audit of the Education Ministry. The debate as to whether only the government should author history textbooks has expanded over the past few months to encompass a bipartisan feud, ideological debate and the basic question about government monopoly over educational content.',\n",
       " \"South Korea and Japan held talks on Tokyo's sexual enslavement of Korean women during World War II. The two historical rivals make efforts to improve their strained ties in a landmark year. Last April the two countries launched the talks on sex slavery, but no major progress has been made as Japan is reluctant to sincerely apologize.Seoul-Tokyo ties have plunged to lowest levels in recent years mainly due to the sex slavery issue. Historians estimate the number of sex slaves at about 200,000 with only 53 South Korean victims alive today. Japan angered Seoul and Beijing, victims of Tokyo's wartime aggression, in June by saying that its 1993 apology was the outcome of a political compromise.South Korea and Japan held talks on Tokyo's sexual enslavement of Korean women during World War II. The meeting came as the two countries are seeking to improve their strained ties as this year marks the 50th anniversary of the normalization of their bilateral relations. The new year also marks the 70th Anniversary of Seoul's liberation from Tokyo's colonial rule in 1945.South Korea and Japan plan to hold talks on Tokyo's sexual enslavement of Korean women during World War II. The planned meeting comes as the two countries are seeking to improve their strained ties. The Seoul-Tokyo ties have plunged to the lowest levels in recent years mainly due to the sex slavery issue.\",\n",
       " \"The Education Ministry reiterated last week its intention to continue curbs tuition fees for universities and colleges. As part of President Park Geun-hye’s “half-price tuition policy, the ministry has been pressuring universities to refrain from raising tuition fees. According to the Korea Council of University Education, 174 of Korea's 176 universities either froze or reduced their tuition fees in 2015.The Education Ministry and Rep. Kim Sang-min of the ruling Saenuri Party held a forum on Tuesday. They deemed it a “mission accomplished” and talked about future challenges. The average tuition for private and public colleges in 2014 were 7.34 million won and 4.18 million won.President Park Geun-hye’s flagship education policy of “half-price” college tuition is facing skepticism. Experts say the lack of long-term financial resources to sustain it. Most major colleges nationwide have announced, or plan to announce, a tuition freeze for this year.Ewha Womans University said Wednesday it would freeze tuition fees for the 2015 school year. Earlier in the month, the university said it would raise tuition fees by 2.4 percent, the maximum amount set by the government. Education Minister Hwang Woo-yea has been publicly pressuring local universities not to raise fees.\",\n",
       " \"The textbooks will be distributed to 33 middle schools, 49 high schools and one specialized school. The government also plans to send the texts to 28 state schools and 22 Korean schools overseas. The decision is the latest development in an ongoing controversy over the books' rightist interpretation of events in the nation's modern history.Munmyeong High School in Gyeongsan, 331 kilometers southeast of Seoul, was designated by the government as the only institution to test the controversial textbooks. A set of history textbooks were introduced by the conservative Park Geun-hye administration to correct what it viewed as a pro-North Korea bias.Munmyeong High School in Gyeongsan, 331 kilometers southeast of Seoul, applied to use the textbooks. Some 1,800 other middle and high schools did not apply. The government offered merit points for teachers and a 10 million won ($8,800) subsidy for schools that volunteered to run the pilot program.Most schools across the nation appear to have rejected a set of controversial state-authored history textbooks advocated by impeached President Park Geun-hye. The textbooks for middle and high school students were unveiled by the government last month. The education ministry said it would receive applications from schools wishing to adopt the textbooks for a trial period.\",\n",
       " \"President Park Geun-hye attended a rollout ceremony for the first basic trainer jet in Peru. The jet was assembled at Las Palmas Air Base in cooperation with South Korea's sole aircraft manufacturer. Park and her Peruvian counterpart, Ollanta Humala, watched the maiden flight.President Park Geun-hye and her Peruvian counterpart Ollanta Humala held summit talks on Monday in Lima. The two discussed ways to foster bilateral relations in health and welfare, electric power industry, science technology and others. At the summit, the two leaders also reportedly discussed in depth Korea’s push to export its light attack FA-50 fighter jets.President Park Geun-hye will seek the export of South Korea's light attack aircraft to Peru. Park arrived in Lima on Saturday for talks with her Peruvian counterpart, Ollanta Humala. South Korea said a planned rollout ceremony for the first basic trainer assembled in Peru could help Seoul's push to export FA-50 fighter jets. Park's visit came as KAI is competing with foreign rivals to win a contract worth about $1 billion for Peru's next generation light attack\",\n",
       " 'Some 1.7 million people gathered in central Seoul to demand President Park Geun-hye step down on Saturday. A total of 620,000 South Koreans gathered for candlelight vigils in other parts of the country. This is the sixth week of major protests against the president, who is suspected of extorting donations from conglomerates.Up to 900,000 people gathered for a candlelight vigil held in central Seoul, Saturday. A total of 350,000 South Koreans gathered for candlelight vigils in other parts of the country. For the first time in recent history, protestors were allowed to march up to 100 meters from the presidential office.Up to 500,000 protestors packed main boulevards in central Seoul, according to rally organizers. This is the sixth week of major protests against the president, sparked by revelations surrounding the president’s longtime friend Choi Soon-sil. On Friday, the initial plan among the main opposition parties and anti-Park group within the Saenuri Party to vote for an impeachment motion against Park fell through.',\n",
       " 'South Korea and Mexico agree to hold working-level talks later this year on a free trade deal. The agreement was reached at the summit meeting between South Korean President Park Geun-hye and her Mexican counterpart, Enrique Pena Nieto. Trade volume between the two countries stood at $14.4 billion last year, up from $4.2 billion in 2005.Park laid a wreath at the Heroic Cadets Memorial in Chapultepec Park in Mexico City. The monument honors the six cadets who fought to the death in 1847 during the Mexican-American War. South Korea is seeking to boost cooperation with Mexico in a wide-range of areas.South Korea and Mexico launched free trade talks in 2007, but the negotiations have been stalled since 2008 due to strong opposition from the Mexican automobile industry. Park Geun-hye said a free trade deal could create a win-win situation, as it could open a new gateway in Northeast Asia for Mexico.',\n",
       " 'Foreign Minister Yun Byung-se began his two-day visit to Japan on Sunday. He will meet with his Japanese counterpart on mending ties that have been frayed over shared history. Yun and Kishida are certain to discuss Japan\\'s sexual enslavement of Korean women for its troops during World War II.Foreign Minister Yun Byung-se will visit Tokyo this coming weekend to meet with his Japanese counterpart. It would be Yun\\'s first trip to Japan since taking office in 2013. The two sides plan to exchange views on \"bilateral ties, the North Korean issue and other mutual issues of concern,\" the Foreign Ministry said.Foreign Minister Yun Byung-se will visit Tokyo this coming weekend to meet with his Japanese counterpart. It would be Yun\\'s first trip to Japan since taking office in 2013. The two sides plan to exchange views on \"bilateral ties, the North Korean issue and other mutual issues of concern,\" Foreign Ministry said.',\n",
       " '120,000 tons of Russian coal will be delivered to three South Korean ports on a ship. The trilateral project will be carried out until Nov. 30. It is a symbol of three-way cooperation at a time when inter-Korean exchanges have become stagnant following the deadly sinking of a South Korean warship by the North in 2010.Three South Korean firms plan to hold another test run of a trilateral project to ship Russian coal through a North Korean port. The project is a symbol of three-way cooperation at a time when inter-Korean exchanges have become stagnant following the deadly sinking of a South Korean warship by the North in 2010.The North Korean port city of Rajin has improved its capacity to handle a second shipment of Russian coals. The shipment will be made between April 16 and May 9. In November, the first shipment carrying 40,500 tons of Russian coal smoothly arrived in South Korea. The project came as a symbolic project of three-way cooperation.',\n",
       " 'The Ministry of Oceans and Fisheries had previously said that it had found human bones, presumably remains of a victim of the 2014 ferry disaster. The salvage team found the seven pieces of bones at 11:25 a.m. on the deck of a semisubmersible ship on which Sewol currently sits.Six pieces of bones were found on the deck of the semisubmersible ship Sewol. Ministry of Oceans and Fishers is checking whether the remains are of any of the nine passengers whose bodies remain unaccounted for. Sewol, a 6,800-ton passenger ferry, was carrying 476 passengers when it ran aground and sank off the southwestern island on April 16, 2014.Authorities say they have found what appears to be remains of victims of the Sewol ferry disaster. The Ministry of Oceans and Fisheries was still verifying the discovery to determine whether the remains are of any of the nine passengers not recovered. The National Assembly on Tuesday passed a law to establish a special committee to oversee the search.']"
      ]
     },
     "execution_count": 19,
     "metadata": {},
     "output_type": "execute_result"
    }
   ],
   "source": [
    "summary"
   ]
  },
  {
   "cell_type": "code",
   "execution_count": 20,
   "id": "c69f4161",
   "metadata": {},
   "outputs": [],
   "source": [
    "device = \"cuda:0\" if torch.cuda.is_available() else \"cpu\"\n",
    "model = BartForConditionalGeneration.from_pretrained('facebook/bart-large-cnn').to(device)\n",
    "tokenizer = BartTokenizer.from_pretrained('facebook/bart-large-cnn')"
   ]
  },
  {
   "cell_type": "code",
   "execution_count": 21,
   "id": "62579324",
   "metadata": {},
   "outputs": [],
   "source": [
    "def summarize_text(s: str):\n",
    "    inputs = tokenizer([s], max_length=1024, return_tensors='pt', truncation=True).to(device)\n",
    "    summary_ids = model.generate(inputs['input_ids'], num_beams=4, max_length=100, early_stopping=True)\n",
    "    output = [tokenizer.decode(g, skip_special_tokens=True, clean_up_tokenization_spaces=False) for g in summary_ids]\n",
    "    torch.cuda.empty_cache()\n",
    "    return output[0]"
   ]
  },
  {
   "cell_type": "code",
   "execution_count": 22,
   "id": "2890f455",
   "metadata": {},
   "outputs": [
    {
     "data": {
      "text/plain": [
       "['Prime Minister Hwang Kyo-ahn announced Tuesday that South Korea would officially reinstate government-issued history textbooks for secondary education from 2017. He said that the current system had failed after four years of implementation. The main opposition New Politics Alliance for Democracy boycotted the plenary session of the National Assembly to protest the government’s decision.',\n",
       " 'Seoul-Tokyo ties have plunged to lowest levels in recent years mainly due to the sex slavery issue. Historians estimate the number of sex slaves at about 200,000 with only 53 South Korean victims alive today. Japan angered Seoul and Beijing by saying that its 1993 apology was the outcome of a political compromise.',\n",
       " 'President Park Geun-hye’s flagship education policy of “half-price” college tuition is facing skepticism. Experts say the lack of long-term financial resources to sustain it. Most major colleges nationwide have announced, or plan, a tuition freeze for this year.',\n",
       " 'Munmyeong High School in Gyeongsan, 331 kilometers southeast of Seoul, was designated by the government as the only institution to test the controversial textbooks. The textbooks will be distributed to 33 middle schools, 49 high schools and one specialized school. The government also plans to send the texts to 28 state schools and 22 Korean schools overseas.',\n",
       " \"President Park Geun-hye attended a rollout ceremony for the first basic trainer jet in Peru. Park and her Peruvian counterpart, Ollanta Humala, watched the maiden flight. Park's visit came as KAI is competing with foreign rivals to win a contract worth about $1 billion for Peru's next generation light attack aircraft.\"]"
      ]
     },
     "execution_count": 22,
     "metadata": {},
     "output_type": "execute_result"
    }
   ],
   "source": [
    "for i in range(len(summary)):\n",
    "    summary[i] = summarize_text(summary[i])\n",
    "summary[:5]"
   ]
  },
  {
   "cell_type": "code",
   "execution_count": 25,
   "id": "4caed520",
   "metadata": {},
   "outputs": [
    {
     "data": {
      "text/html": [
       "<div>\n",
       "<style scoped>\n",
       "    .dataframe tbody tr th:only-of-type {\n",
       "        vertical-align: middle;\n",
       "    }\n",
       "\n",
       "    .dataframe tbody tr th {\n",
       "        vertical-align: top;\n",
       "    }\n",
       "\n",
       "    .dataframe thead th {\n",
       "        text-align: right;\n",
       "    }\n",
       "</style>\n",
       "<table border=\"1\" class=\"dataframe\">\n",
       "  <thead>\n",
       "    <tr style=\"text-align: right;\">\n",
       "      <th></th>\n",
       "      <th>summary</th>\n",
       "      <th>label</th>\n",
       "      <th>freq</th>\n",
       "    </tr>\n",
       "  </thead>\n",
       "  <tbody>\n",
       "    <tr>\n",
       "      <th>0</th>\n",
       "      <td>Prime Minister Hwang Kyo-ahn announced Tuesday...</td>\n",
       "      <td>3655</td>\n",
       "      <td>5</td>\n",
       "    </tr>\n",
       "    <tr>\n",
       "      <th>1</th>\n",
       "      <td>Seoul-Tokyo ties have plunged to lowest levels...</td>\n",
       "      <td>4774</td>\n",
       "      <td>4</td>\n",
       "    </tr>\n",
       "    <tr>\n",
       "      <th>2</th>\n",
       "      <td>President Park Geun-hye’s flagship education p...</td>\n",
       "      <td>4254</td>\n",
       "      <td>4</td>\n",
       "    </tr>\n",
       "    <tr>\n",
       "      <th>3</th>\n",
       "      <td>Munmyeong High School in Gyeongsan, 331 kilome...</td>\n",
       "      <td>1196</td>\n",
       "      <td>4</td>\n",
       "    </tr>\n",
       "    <tr>\n",
       "      <th>4</th>\n",
       "      <td>President Park Geun-hye attended a rollout cer...</td>\n",
       "      <td>4590</td>\n",
       "      <td>3</td>\n",
       "    </tr>\n",
       "    <tr>\n",
       "      <th>5</th>\n",
       "      <td>Some 1.7 million people gathered in central Se...</td>\n",
       "      <td>1945</td>\n",
       "      <td>3</td>\n",
       "    </tr>\n",
       "    <tr>\n",
       "      <th>6</th>\n",
       "      <td>South Korea and Mexico agree to hold working-l...</td>\n",
       "      <td>3015</td>\n",
       "      <td>3</td>\n",
       "    </tr>\n",
       "    <tr>\n",
       "      <th>7</th>\n",
       "      <td>Foreign Minister Yun Byung-se began his two-da...</td>\n",
       "      <td>4299</td>\n",
       "      <td>3</td>\n",
       "    </tr>\n",
       "    <tr>\n",
       "      <th>8</th>\n",
       "      <td>120,000 tons of Russian coal will be delivered...</td>\n",
       "      <td>3596</td>\n",
       "      <td>3</td>\n",
       "    </tr>\n",
       "    <tr>\n",
       "      <th>9</th>\n",
       "      <td>Six pieces of bones were found on the deck of ...</td>\n",
       "      <td>919</td>\n",
       "      <td>3</td>\n",
       "    </tr>\n",
       "  </tbody>\n",
       "</table>\n",
       "</div>"
      ],
      "text/plain": [
       "                                             summary  label  freq\n",
       "0  Prime Minister Hwang Kyo-ahn announced Tuesday...   3655     5\n",
       "1  Seoul-Tokyo ties have plunged to lowest levels...   4774     4\n",
       "2  President Park Geun-hye’s flagship education p...   4254     4\n",
       "3  Munmyeong High School in Gyeongsan, 331 kilome...   1196     4\n",
       "4  President Park Geun-hye attended a rollout cer...   4590     3\n",
       "5  Some 1.7 million people gathered in central Se...   1945     3\n",
       "6  South Korea and Mexico agree to hold working-l...   3015     3\n",
       "7  Foreign Minister Yun Byung-se began his two-da...   4299     3\n",
       "8  120,000 tons of Russian coal will be delivered...   3596     3\n",
       "9  Six pieces of bones were found on the deck of ...    919     3"
      ]
     },
     "execution_count": 25,
     "metadata": {},
     "output_type": "execute_result"
    }
   ],
   "source": [
    "# Export to csv\n",
    "topnsum = pd.DataFrame(summary, columns=['summary'])\n",
    "topnsum['label'] = label\n",
    "topnsum['freq'] = freq_label(df, label)\n",
    "topnsum"
   ]
  },
  {
   "cell_type": "code",
   "execution_count": null,
   "id": "3785cf54",
   "metadata": {},
   "outputs": [],
   "source": []
  }
 ],
 "metadata": {
  "kernelspec": {
   "display_name": "tmining",
   "language": "python",
   "name": "tmining"
  },
  "language_info": {
   "codemirror_mode": {
    "name": "ipython",
    "version": 3
   },
   "file_extension": ".py",
   "mimetype": "text/x-python",
   "name": "python",
   "nbconvert_exporter": "python",
   "pygments_lexer": "ipython3",
   "version": "3.6.13"
  }
 },
 "nbformat": 4,
 "nbformat_minor": 5
}
