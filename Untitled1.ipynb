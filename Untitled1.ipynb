{
 "cells": [
  {
   "cell_type": "code",
   "execution_count": 14,
   "id": "24d2b9c0",
   "metadata": {},
   "outputs": [],
   "source": [
    "import numpy as np \n",
    "import pandas as pd\n",
    "import os\n",
    "import re\n",
    "import unicodedata\n",
    "\n",
    "from sklearn.feature_extraction import text\n",
    "from sklearn.feature_extraction.text import CountVectorizer, TfidfVectorizer\n",
    "from sklearn.decomposition import LatentDirichletAllocation\n",
    "\n",
    "import spacy\n",
    "from spacy.matcher import Matcher\n",
    "\n",
    "from scipy.spatial.distance import jensenshannon\n",
    "\n",
    "import joblib\n",
    "\n",
    "from IPython.display import HTML, display\n",
    "\n",
    "from ipywidgets import interact, Layout, HBox, VBox, Box\n",
    "import ipywidgets as widgets\n",
    "from IPython.display import clear_output\n",
    "\n",
    "from tqdm import tqdm\n",
    "from os.path import isfile\n",
    "\n",
    "import seaborn as sb\n",
    "import matplotlib.pyplot as plt"
   ]
  },
  {
   "cell_type": "code",
   "execution_count": 15,
   "id": "d04ec0d0",
   "metadata": {},
   "outputs": [
    {
     "data": {
      "text/plain": [
       "(23769, 7)"
      ]
     },
     "execution_count": 15,
     "metadata": {},
     "output_type": "execute_result"
    }
   ],
   "source": [
    "data_dir = 'data/'\n",
    "filename_prefix = 'koreaherald_1517_'\n",
    "df = []\n",
    "\n",
    "for i in range(8):\n",
    "    df.append(pd.read_json(os.path.join(data_dir, filename_prefix + str(i) + '.json')))\n",
    "df = pd.concat(df)\n",
    "df.reset_index(inplace=True)\n",
    "df = df.rename(columns=dict(zip(df.columns,[df.columns[i].strip() for i in range(len(df.columns))])))\n",
    "df.drop('index', inplace=True, axis=1)\n",
    "\n",
    "# Load preprocessed data\n",
    "df['summarized_body'] = pd.read_csv('summarized_data.csv')\n",
    "\n",
    "df.shape"
   ]
  },
  {
   "cell_type": "code",
   "execution_count": 16,
   "id": "b554d428",
   "metadata": {},
   "outputs": [
    {
     "data": {
      "text/plain": [
       "'As of 2016, more than 2 million foreign nationals were residing in South Korea under various visa schemes. The lion’s share, totaling about 549,000, is migrant workers brought in from China and Southeast Asian countries to take up jobs that are shunned by more educated South Korean workers. Over 65 percent of the international unions in 2016 were between a foreign wife and a Korean husband.'"
      ]
     },
     "execution_count": 16,
     "metadata": {},
     "output_type": "execute_result"
    }
   ],
   "source": [
    "df['summarized_body'][0]"
   ]
  },
  {
   "cell_type": "code",
   "execution_count": 17,
   "id": "c92f642d",
   "metadata": {},
   "outputs": [],
   "source": [
    "def replace_strange_char(s: str):\n",
    "    non_en_chars = {\n",
    "        \"’\": \"'\",\n",
    "        \"‘\": \"'\"\n",
    "    }\n",
    "    \n",
    "    def remove_non_en_chars(txt):\n",
    "        # remove non english characters\n",
    "        txt = convert_latin_chars(txt)\n",
    "        for char in non_en_chars.keys():\n",
    "            txt = re.sub(char, non_en_chars[char], txt)\n",
    "        txt = re.sub(r'[^\\x00-\\x7F]+', ' ', txt)\n",
    "        return txt\n",
    "\n",
    "    def convert_latin_chars(txt):\n",
    "        # convert latin characters\n",
    "        return ''.join(char for char in unicodedata.normalize('NFKD', txt) if unicodedata.category(char) != 'Mn')\n",
    "    \n",
    "    s = remove_non_en_chars(s)\n",
    "    s = convert_latin_chars(s)\n",
    "    return s\n",
    "    \n",
    "df['summarized_body'] = df['summarized_body'].apply(lambda x: replace_strange_char(x))"
   ]
  },
  {
   "cell_type": "code",
   "execution_count": 20,
   "id": "709a2457",
   "metadata": {},
   "outputs": [],
   "source": [
    "df['summarized_body'].to_csv('summarized_data.csv', index=False)"
   ]
  },
  {
   "cell_type": "code",
   "execution_count": null,
   "id": "d7f282df",
   "metadata": {},
   "outputs": [],
   "source": []
  }
 ],
 "metadata": {
  "kernelspec": {
   "display_name": "Python 3 (ipykernel)",
   "language": "python",
   "name": "python3"
  },
  "language_info": {
   "codemirror_mode": {
    "name": "ipython",
    "version": 3
   },
   "file_extension": ".py",
   "mimetype": "text/x-python",
   "name": "python",
   "nbconvert_exporter": "python",
   "pygments_lexer": "ipython3",
   "version": "3.9.5"
  }
 },
 "nbformat": 4,
 "nbformat_minor": 5
}
