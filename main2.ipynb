{
 "cells": [
  {
   "cell_type": "code",
   "execution_count": 1,
   "id": "40628715",
   "metadata": {},
   "outputs": [],
   "source": [
    "import pandas as pd\n",
    "import numpy as np\n",
    "import os\n",
    "import re\n",
    "\n",
    "from sklearn.feature_extraction.text import CountVectorizer\n",
    "from sklearn.feature_extraction.text import TfidfTransformer\n",
    "from sklearn.feature_extraction.text import TfidfVectorizer\n",
    "from sklearn.decomposition import PCA\n",
    "from sklearn.decomposition import TruncatedSVD\n",
    "from sklearn.manifold import TSNE\n",
    "from sklearn.cluster import KMeans\n",
    "from sklearn.cluster import DBSCAN\n",
    "from sklearn.neighbors import NearestNeighbors\n",
    "from sklearn.metrics import silhouette_score\n",
    "\n",
    "import matplotlib.pyplot as plt\n",
    "\n",
    "import spacy\n",
    "from spacy.matcher import Matcher\n",
    "\n",
    "import torch\n",
    "from transformers import BartTokenizer, BartForConditionalGeneration, BartConfig\n",
    "from transformers import pipeline\n",
    "\n",
    "from time import time"
   ]
  },
  {
   "cell_type": "code",
   "execution_count": 2,
   "id": "657614d3",
   "metadata": {},
   "outputs": [
    {
     "data": {
      "text/plain": [
       "(23769, 6)"
      ]
     },
     "execution_count": 2,
     "metadata": {},
     "output_type": "execute_result"
    }
   ],
   "source": [
    "data_dir = 'data/'\n",
    "filename_prefix = 'koreaherald_1517_'\n",
    "df = []\n",
    "for i in range(8):\n",
    "    df.append(pd.read_json(os.path.join(data_dir, filename_prefix + str(i) + '.json')))\n",
    "df = pd.concat(df)\n",
    "df.reset_index(inplace=True)\n",
    "df = df.rename(columns=dict(zip(df.columns,[df.columns[i].strip() for i in range(len(df.columns))])))\n",
    "df.drop('index', inplace=True, axis=1)\n",
    "df.shape"
   ]
  },
  {
   "cell_type": "code",
   "execution_count": 3,
   "id": "5f275cde",
   "metadata": {},
   "outputs": [],
   "source": [
    "device = \"cuda:0\" if torch.cuda.is_available() else \"cpu\"\n",
    "model = BartForConditionalGeneration.from_pretrained('facebook/bart-large-cnn').to(device)\n",
    "tokenizer = BartTokenizer.from_pretrained('facebook/bart-large-cnn')"
   ]
  },
  {
   "cell_type": "code",
   "execution_count": 5,
   "id": "8ebc7501",
   "metadata": {},
   "outputs": [],
   "source": [
    "def summarize_text(s: str):\n",
    "    inputs = tokenizer([s], max_length=1024, return_tensors='pt', truncation=True).to(device)\n",
    "    summary_ids = model.generate(inputs['input_ids'], num_beams=4, max_length=100, early_stopping=True)\n",
    "    output = [tokenizer.decode(g, skip_special_tokens=True, clean_up_tokenization_spaces=False) for g in summary_ids]\n",
    "    torch.cuda.empty_cache()\n",
    "    return output[0]\n",
    "\n",
    "df['summarized_body'] = df['body'][:5].apply(lambda x: summarize_text(x))"
   ]
  },
  {
   "cell_type": "code",
   "execution_count": null,
   "id": "09f4acbd",
   "metadata": {},
   "outputs": [
    {
     "name": "stdout",
     "output_type": "stream",
     "text": [
      "Saved checkpoint 0\n",
      "Saved checkpoint 1\n",
      "Saved checkpoint 2\n",
      "Saved checkpoint 3\n",
      "Saved checkpoint 4\n",
      "Saved checkpoint 5\n",
      "Saved checkpoint 6\n",
      "Saved checkpoint 7\n",
      "Saved checkpoint 8\n",
      "Saved checkpoint 9\n",
      "Saved checkpoint 10\n",
      "Saved checkpoint 11\n",
      "Saved checkpoint 12\n",
      "Saved checkpoint 13\n",
      "Saved checkpoint 14\n"
     ]
    }
   ],
   "source": [
    "# Load\n",
    "df['summarized_body'] = pd.read_csv('summarized_data.csv')\n",
    "chkpt = 0\n",
    "total_chkpt = 1000\n",
    "# Transform\n",
    "chnk = int(len(df['body'])/total_chkpt)\n",
    "\n",
    "\n",
    "for i in range(chkpt,total_chkpt):\n",
    "    if i != total_chkpt-1:\n",
    "        df['summarized_body'][i*chnk:(i+1)*chnk] = df['body'][i*chnk:(i+1)*chnk].apply(lambda x: summarize_text(x))\n",
    "        \n",
    "    else:\n",
    "        df['summarized_body'][i*chnk:] = df['body'][i*chnk:].apply(lambda x: summarize_text(x))\n",
    "    print(\"Saved checkpoint {}\".format(i))\n",
    "    df['summarized_body'].to_csv('summarized_data.csv', index=False)\n",
    "    "
   ]
  },
  {
   "cell_type": "code",
   "execution_count": null,
   "id": "f25521d4",
   "metadata": {},
   "outputs": [],
   "source": [
    "df.to_csv('preprocessed_data.csv', index=False)"
   ]
  }
 ],
 "metadata": {
  "kernelspec": {
   "display_name": "Python 3 (ipykernel)",
   "language": "python",
   "name": "python3"
  },
  "language_info": {
   "codemirror_mode": {
    "name": "ipython",
    "version": 3
   },
   "file_extension": ".py",
   "mimetype": "text/x-python",
   "name": "python",
   "nbconvert_exporter": "python",
   "pygments_lexer": "ipython3",
   "version": "3.9.5"
  }
 },
 "nbformat": 4,
 "nbformat_minor": 5
}
