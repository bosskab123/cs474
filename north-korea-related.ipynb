{
 "cells": [
  {
   "cell_type": "code",
   "execution_count": 1,
   "id": "8ed88c4c",
   "metadata": {},
   "outputs": [
    {
     "name": "stderr",
     "output_type": "stream",
     "text": [
      "[nltk_data] Downloading package stopwords to /root/nltk_data...\n",
      "[nltk_data]   Package stopwords is already up-to-date!\n",
      "[nltk_data] Downloading package wordnet to /root/nltk_data...\n",
      "[nltk_data]   Package wordnet is already up-to-date!\n"
     ]
    }
   ],
   "source": [
    "import pandas as pd\n",
    "import numpy as np\n",
    "import os\n",
    "import re\n",
    "import nltk\n",
    "nltk.download('stopwords')\n",
    "nltk.download('wordnet')\n",
    "import string\n",
    "import random\n",
    "import unicodedata\n",
    "from string import punctuation\n",
    "from string import digits\n",
    "from nltk.stem import WordNetLemmatizer\n",
    "import joblib\n",
    "\n",
    "from sklearn.feature_extraction.text import CountVectorizer\n",
    "from sklearn.metrics import silhouette_score\n",
    "from sklearn.decomposition import LatentDirichletAllocation\n",
    "\n",
    "from tqdm import tqdm\n",
    "\n",
    "import spacy\n",
    "from spacy.matcher import Matcher"
   ]
  },
  {
   "cell_type": "code",
   "execution_count": 2,
   "id": "40289b7b",
   "metadata": {},
   "outputs": [
    {
     "data": {
      "text/plain": [
       "(23769, 7)"
      ]
     },
     "execution_count": 2,
     "metadata": {},
     "output_type": "execute_result"
    }
   ],
   "source": [
    "### Reading data\n",
    "data_dir = 'data/'\n",
    "filename_prefix = 'koreaherald_1517_'\n",
    "df = []\n",
    "\n",
    "for i in range(8):\n",
    "    df.append(pd.read_json(os.path.join(data_dir, filename_prefix + str(i) + '.json')))\n",
    "df = pd.concat(df)\n",
    "df.reset_index(inplace=True)\n",
    "df = df.rename(columns=dict(zip(df.columns,[df.columns[i].strip() for i in range(len(df.columns))])))\n",
    "df.drop('index', inplace=True, axis=1)\n",
    "\n",
    "df['agg_title_body'] = df['title'] + df['body']\n",
    "\n",
    "df.shape"
   ]
  },
  {
   "cell_type": "code",
   "execution_count": 3,
   "id": "9988ce40",
   "metadata": {},
   "outputs": [],
   "source": [
    "nlp = spacy.load('en_core_web_lg')"
   ]
  },
  {
   "cell_type": "code",
   "execution_count": 4,
   "id": "2fd940ad",
   "metadata": {},
   "outputs": [],
   "source": [
    "### Lemmatization tool\n",
    "stemmer = WordNetLemmatizer()\n",
    "### Change similar words to the same word\n",
    "UN_WORD = \"The United Nations\"\n",
    "US_WORD = \"The United States\"\n",
    "NK_WORD = \"North Korea\"\n",
    "SK_WORD = \"South Korea\"\n",
    "\n",
    "similar_words = {\n",
    "    # Change to \"The United States\"\n",
    "    \"U.S.\": US_WORD,\n",
    "    \"US\": US_WORD,\n",
    "    \"USA\": US_WORD,\n",
    "    \"United States\": US_WORD,\n",
    "    \"United States'\": US_WORD,\n",
    "    \"The United States'\": US_WORD,\n",
    "    \n",
    "    # Change to \"North Korea\"\n",
    "    \"NK\": NK_WORD,\n",
    "    \"NK's\": NK_WORD,\n",
    "    \"N. Korea\": NK_WORD,\n",
    "    \"N. Korea's\": NK_WORD,\n",
    "    \"North Korea's\": NK_WORD,\n",
    "    \n",
    "    # Change to \"South Korea\"\n",
    "    \"SK\": SK_WORD,\n",
    "    \"SK's\": SK_WORD,\n",
    "    \"S. Korea\": SK_WORD,\n",
    "    \"S. Korea's\": SK_WORD,\n",
    "    \"South Korea's\": SK_WORD,\n",
    "    \n",
    "    # Change to \"The United Nations\"\n",
    "    \"United Nations\": UN_WORD,\n",
    "    \"United Nations'\": UN_WORD,\n",
    "    \"The United Nations'\": UN_WORD,\n",
    "    \"UN\": UN_WORD,\n",
    "}\n",
    "\n",
    "### Transform function\n",
    "def text_cleaning(s: str):\n",
    "        \n",
    "    def replace_strange_char(s: str):\n",
    "        non_en_chars = {\n",
    "            \"’\": \"'\",\n",
    "            \"‘\": \"'\"\n",
    "        }\n",
    "\n",
    "        def remove_non_en_chars(txt):\n",
    "            # remove non english characters\n",
    "            txt = convert_latin_chars(txt)\n",
    "            for char in non_en_chars.keys():\n",
    "                txt = re.sub(char, non_en_chars[char], txt)\n",
    "            txt = re.sub(r'[^\\x00-\\x7F]+', ' ', txt)\n",
    "            return txt\n",
    "\n",
    "        def convert_latin_chars(txt):\n",
    "            # convert latin characters\n",
    "            return ''.join(char for char in unicodedata.normalize('NFKD', txt) if unicodedata.category(char) != 'Mn')\n",
    "\n",
    "        s = remove_non_en_chars(s)\n",
    "        s = convert_latin_chars(s)\n",
    "        return s\n",
    "    s = replace_strange_char(s)\n",
    "    for key,value in similar_words.items():\n",
    "        s = re.sub(key, value, s)\n",
    "    return s\n",
    "\n",
    "def spacy_tokenizer(s: str):\n",
    "    # Change similar terms to the same term\n",
    "    new_str = text_cleaning(s)\n",
    "    doc = nlp(s)\n",
    "    # Group tokens\n",
    "    matcher = Matcher(nlp.vocab)\n",
    "    token_groupup_pattern = [\n",
    "        [{\"LOWER\": \"the\"}, {\"LOWER\": \"united\"}, {\"LOWER\": \"nations\"}],\n",
    "        [{\"LOWER\": \"the\"}, {\"LOWER\": \"united\"}, {\"LOWER\": \"states\"}],\n",
    "        [{\"LOWER\": \"north\"}, {\"LOWER\": \"korea\"}],\n",
    "        [{\"LOWER\": \"south\"}, {\"LOWER\": \"korea\"}],\n",
    "    ]\n",
    "    matcher.add(\"TermGroup\",token_groupup_pattern)\n",
    "    matches = matcher(doc)\n",
    "    merge_doc = []\n",
    "    for nid, start, end in matches:\n",
    "        merge_doc.append((start,end))\n",
    "    with doc.retokenize() as retokenizer:\n",
    "        for i in range(len(merge_doc)-1,-1,-1):\n",
    "            retokenizer.merge(doc[merge_doc[i][0]:merge_doc[i][1]])\n",
    "        \n",
    "    # Remove all stopword, punctuation, number\n",
    "    tokens = [ token.lemma_.lower() for token in doc \\\n",
    "              if not token.is_stop and not token.is_punct and not token.like_num and token.lemma_.strip()!= '']\n",
    "    return tokens\n"
   ]
  },
  {
   "cell_type": "code",
   "execution_count": 5,
   "id": "bacc1a38",
   "metadata": {},
   "outputs": [],
   "source": [
    "def print_top_words(model, vectorizer, n_top_words):\n",
    "    feature_names = vectorizer.get_feature_names()\n",
    "    for topic_idx, topic in enumerate(model.components_):\n",
    "        message = \"\\nTopic #%d: \" % topic_idx\n",
    "        message += \" \".join([feature_names[i]\n",
    "                             for i in topic.argsort()[:-n_top_words - 1:-1]])\n",
    "        print(message)\n",
    "    print()"
   ]
  },
  {
   "cell_type": "code",
   "execution_count": 6,
   "id": "1f440f5a",
   "metadata": {},
   "outputs": [],
   "source": [
    "def most_related_docs(df, doc_topic_dist, topic_index, num_docs=5):\n",
    "    sorted_doc = doc_topic_dist.sort_values(by=['{}'.format(topic_index)], ascending=False)\n",
    "    return df.iloc[sorted_doc[:num_docs].index]"
   ]
  },
  {
   "cell_type": "code",
   "execution_count": 7,
   "id": "079b0b8d",
   "metadata": {},
   "outputs": [],
   "source": [
    "df_nk = df[df['section'] == 'North Korea']"
   ]
  },
  {
   "cell_type": "code",
   "execution_count": 8,
   "id": "04e35da0",
   "metadata": {},
   "outputs": [
    {
     "data": {
      "text/plain": [
       "['../data/nk_data_vectorized.csv']"
      ]
     },
     "execution_count": 8,
     "metadata": {},
     "output_type": "execute_result"
    }
   ],
   "source": [
    "# Find all doc contains \"North Korea\"\n",
    "nk_vectorizer = CountVectorizer(tokenizer=spacy_tokenizer)\n",
    "nk_data_vectorized = nk_vectorizer.fit_transform(df_nk['agg_title_body'])\n",
    "joblib.dump(nk_vectorizer, '../data/nk_vectorizer.csv')\n",
    "joblib.dump(nk_data_vectorized, '../data/nk_data_vectorized.csv')"
   ]
  },
  {
   "cell_type": "code",
   "execution_count": 9,
   "id": "f9421b41",
   "metadata": {},
   "outputs": [],
   "source": [
    "nk_vectorizer = joblib.load('../data/nk_vectorizer.csv')\n",
    "nk_data_vectorized = joblib.load('../data/nk_data_vectorized.csv')"
   ]
  },
  {
   "cell_type": "code",
   "execution_count": 10,
   "id": "f720e1f3",
   "metadata": {},
   "outputs": [
    {
     "data": {
      "text/plain": [
       "['../data/nk_50lda.csv']"
      ]
     },
     "execution_count": 10,
     "metadata": {},
     "output_type": "execute_result"
    }
   ],
   "source": [
    "nk_lda_components = 50\n",
    "nk_lda = LatentDirichletAllocation(n_components=nk_lda_components, random_state=0)\n",
    "nk_lda.fit(nk_data_vectorized)\n",
    "joblib.dump(nk_lda, '../data/nk_{}lda.csv'.format(nk_lda_components))"
   ]
  },
  {
   "cell_type": "code",
   "execution_count": 11,
   "id": "52e3feca",
   "metadata": {},
   "outputs": [],
   "source": [
    "nk_lda = joblib.load('../data/nk_{}lda.csv'.format(nk_lda_components))"
   ]
  },
  {
   "cell_type": "code",
   "execution_count": 12,
   "id": "39f71c90",
   "metadata": {},
   "outputs": [
    {
     "name": "stdout",
     "output_type": "stream",
     "text": [
      "\n",
      "Topic #0: north korean say defector south koreans south korea north korea defect china ministry source defection restaurant worker seoul border official government number send yonhap country korea accord\n",
      "\n",
      "Topic #1: north korean china say export trade north korea report import source coal oil year $ korea product chinese accord sanction country soldier yonhap pyongyang currency un\n",
      "\n",
      "Topic #2: ebola tour tourist virus spread marathon disease traffic travel pyongyang outbreak child mers korea health middle respiratory month lift country deadly north report say park\n",
      "\n",
      "Topic #3: sea ship korean border water island south vessel boat line near maritime north korea fishing rescue cross yellow patrol say northern guard ministry military east\n",
      "\n",
      "Topic #4: south korea north korea military uganda large artillery risk say museveni propel antiaircraft fire sign missile time ugandan country chief tel year un north slow gap korea\n",
      "\n",
      "Topic #5: lee north kim visit korean trip leader jung meet dae jong lady center inter peace say pyongyang widow president hee hope il ho year summit\n",
      "\n",
      "Topic #6: missile launch north test say ballistic range north korea rocket fire korea nuclear long pyongyang korean military satellite conduct u.s official late submarine country yonhap musudan\n",
      "\n",
      "Topic #7: nuclear north party kim say korea leader country congress north korea jong test year rule un korean pyongyang worker hold policy anniversary people state economic late\n",
      "\n",
      "Topic #8: japan japanese abe summit park korean country prime leader issue moon president cooperation shinzo tokyo south korea south agree economic russia minister say world bilateral woman\n",
      "\n",
      "Topic #9: timonin alexander russia`s pursued.north said.minister filling films.the films.in filmmaker film.the film 해안에서 filter filippo filing filed.what file filamentary filament fill finale final finalist finesse fines.by\n",
      "\n",
      "Topic #10: say trump north korea president nuclear north missile korean moon donald pyongyang military un washington regime threat test state war talk leader administration weapon dialogue ballistic\n",
      "\n",
      "Topic #11: nuclear weapon say north korea u.s threat think capability program north korean war korea security missile south korea call yonhap issue the united states deal term option problem peninsula\n",
      "\n",
      "Topic #12: sanction resolution council nuclear north u.n north korea security say test new country ban international adopt pyongyang un unsc korean missile member measure impose foreign late\n",
      "\n",
      "Topic #13: visit korean north ri foreign kim minister official attend meeting say russia un yong meet world trip general diplomatic hold leader plan source international moscow\n",
      "\n",
      "Topic #14: market korean defense say government city art north korea tunnel leave shelter south area south korea north event vacation bunker meter martial resident report seoul rating situation\n",
      "\n",
      "Topic #15: say warmbier student north korea detain north american citizen release state u.s travel pyongyang year department sentence otto arrest university americans college detention detainee hard korean\n",
      "\n",
      "Topic #16: korean south north broadcast soldier border korea loudspeaker say north korea military land south korea agreement propaganda war tension kim mine provocation demilitarized official koreas zone resume\n",
      "\n",
      "Topic #17: kim jong say intelligence un north leader korean nam spy agency lawmaker nis national regime kill north korea service young south korea execute year lee late half\n",
      "\n",
      "Topic #18: food ton gram harvest broadcaster report fao ration shortage daily say quarter aid year grain north korea north america un import voice marine wfp cite agriculture\n",
      "\n",
      "Topic #19: kim say jong north malaysia korean nam police north korea suspect brother woman airport half malaysian death lumpur kuala leader murder man un agent kill chemical\n",
      "\n",
      "Topic #20: right human u.n resolution international north call north korea violation situation council abuse general korea say assembly office issue report rights hold criminal refer year security\n",
      "\n",
      "Topic #21: say north korea sanction north china nuclear pressure regime pyongyang state missile house trump u.s president program department korean un secretary work international weapon financial go\n",
      "\n",
      "Topic #22: nuclear north korea say minister foreign security missile north south korea meeting ministry test korean talk provocation korea defense discuss seoul hold issue japan country international u.s\n",
      "\n",
      "Topic #23: footage public video show tour construction build pyongyang wonsan visit field korean kim inspection year say north korea image facility tv yonhap airport country terminal\n",
      "\n",
      "Topic #24: korean say north korea tour family kumgang mount ban south korea north war yonhap koreans year old visit round football mountain program resort hold east inter\n",
      "\n",
      "Topic #25: korean north south say inter korea seoul pyongyang leaflet north korea park south korea border hold koreas call unification group government yonhap official anti year war rule\n",
      "\n",
      "Topic #26: child say organization send north korea aviation bbc hamkyong flour icao people north rason email authority death mother information facebook civil n. baby broadcaster voice provide\n",
      "\n",
      "Topic #27: missile icbm say test warhead north engine technology new ballistic north korea reach intercontinental entry range capable kilometer expert develop fuel launch solid stage capability claim\n",
      "\n",
      "Topic #28: military korean force say strike drill north attack south korea joint exercise korea north korea provocation peninsula war threat army south commander strategic missile defense guam air\n",
      "\n",
      "Topic #29: family reunion separate hold cross talk koreas red south border korean issue member level aug tension side inter seoul war agree village high north include\n",
      "\n",
      "Topic #30: gps reform disruption bridge signal affect plane jamming say report mongolia navigation parade openness embrace jannuzi vietnam economic park mongolian u.s korea troop frank new\n",
      "\n",
      "Topic #31: north talk say nuclear u.s north korea pyongyang korean party seoul dialogue denuclearization policy washington issue peace south korea korea program negotiation kim sanction call official long\n",
      "\n",
      "Topic #32: say cyber sony u.s attack obama north korea north film interview pictures hack korean hacking barack pyongyang information movie nuclear picture nation yonhap internet deny official\n",
      "\n",
      "Topic #33: china north korea chinese beijing north nuclear say xi pyongyang korean tie party relation visit kim economic jinping president diplomatic ally official international state yonhap bilateral\n",
      "\n",
      "Topic #34: nuclear test north say bomb weapon site conduct north korea report hydrogen show korea activity reactor claim imagery plutonium pyongyang satellite facility institute expert u.s produce\n",
      "\n",
      "Topic #35: exercise military drill joint korea u.s south korea annual war washington number pyongyang rehearsal say invasion the united states north broadcast north korea defensive seoul yonhap suspend call denounce\n",
      "\n",
      "Topic #36: kim leader jong korean north un say official il state party central military late report agency news medium people kcna power country yong pyongyang korea\n",
      "\n",
      "Topic #37: ` letter north seoul song security tactical say attack unsc provocation regime pyongyang young state official propaganda send redeployment korean request new national recent chief\n",
      "\n",
      "Topic #38: nuclear u.s south korea treaty seoul say threat peace north nato partnership defense peninsula security missile capability call global park hill system north korea world alliance deterrence\n",
      "\n",
      "Topic #39: statue luxury kim paektu portrait delegate allegiance representative country pan mt leadership good state korean like film province county festival select camp sun ahead leader\n",
      "\n",
      "Topic #40: korean say thaad north south korea missile south defense seoul system nuclear deployment north korea government decision korea area pyongyang deploy terminal u.s altitude park provocation issue\n",
      "\n",
      "Topic #41: korean complex industrial south north firm kaesong factory park say government inter worker joint ministry zone north korea company seoul border wage gaeseong official unification shut\n",
      "\n",
      "Topic #42: percent year $ datum korea show total economic trade north korea accord country economy compare reach north growth rise period yonhap average follow report fund say\n",
      "\n",
      "Topic #43: north korea say korea report attack korean cyberattack internet south korea cyber information north phone security hacking official hacker country accord control year use south hack yonhap\n",
      "\n",
      "Topic #44: korean north korea say north ministry inter seoul government unification korea south exchange moon plan group humanitarian aid pyongyang official joint south korea civilian president summit nuclear\n",
      "\n",
      "Topic #45: north cheong wa dae korean park moon presidential office south president say security national wage official seoul korea meeting jae provocation committee government come communist\n",
      "\n",
      "Topic #46: defense military air system say south official korean seoul south korea north thaad area deploy border drone force operation missile u.s deployment flight radar fighter anti\n",
      "\n",
      "Topic #47: report say north korea food year iran rice drought shortage aid production country asia suffer north severe radio cite medium bad rfa people cause free flood\n",
      "\n",
      "Topic #48: north right human say korean report country people north korea government year un korea defector regime law koreans labor state camp life force yonhap pyongyang center\n",
      "\n",
      "Topic #49: north project korean city say flood province russia port korea border north korea pyongyang russian area damage country railway people report rajin south yonhap hit resident\n",
      "\n"
     ]
    },
    {
     "name": "stderr",
     "output_type": "stream",
     "text": [
      "/root/miniconda3/lib/python3.9/site-packages/sklearn/utils/deprecation.py:87: FutureWarning: Function get_feature_names is deprecated; get_feature_names is deprecated in 1.0 and will be removed in 1.2. Please use get_feature_names_out instead.\n",
      "  warnings.warn(msg, category=FutureWarning)\n"
     ]
    }
   ],
   "source": [
    "print_top_words(nk_lda, nk_vectorizer, n_top_words=25)"
   ]
  },
  {
   "cell_type": "code",
   "execution_count": 13,
   "id": "6bba0ab3",
   "metadata": {},
   "outputs": [],
   "source": [
    "nk_doc_topic_dist = pd.DataFrame(nk_lda.transform(nk_data_vectorized))\n",
    "nk_doc_topic_dist.to_csv('../data/nk_doc_topic_dist.csv', index=False)"
   ]
  },
  {
   "cell_type": "code",
   "execution_count": 14,
   "id": "7f00f4ad",
   "metadata": {},
   "outputs": [],
   "source": [
    "nk_doc_topic_dist = pd.read_csv('../data/nk_doc_topic_dist.csv')"
   ]
  },
  {
   "cell_type": "code",
   "execution_count": 15,
   "id": "b77cd9fb",
   "metadata": {},
   "outputs": [],
   "source": [
    "'''\n",
    "LDA NK without missile 50 topics\n",
    "Topic 1: Russia\n",
    "Topic 7: NK\n",
    "Topic 9: nuclear\n",
    "Topic 10: People\n",
    "Topic 23: Chinese\n",
    "Topic 25: Olympic\n",
    "Topic 28: reactor\n",
    "Topic 32: nuclear\n",
    "Topic 35: military\n",
    "Topic 37: security\n",
    "Topic 39: nuclear\n",
    "Topic 40: bomb\n",
    "Topic 41: Trump\n",
    "Topic 44: economic\n",
    "Topic 45: north and south relation\n",
    "Topic 46: launching missile\n",
    "Topic 47: launching rocket\n",
    "Topic 48: Attack/ military\n",
    "Topic 49: ?\n",
    "'''"
   ]
  },
  {
   "cell_type": "code",
   "execution_count": 16,
   "id": "5937f250",
   "metadata": {},
   "outputs": [
    {
     "data": {
      "text/plain": [
       "['N. Korean smugglers making money through illegal pork exports to China: report',\n",
       " 'N. Korean traders going all out to receive permits: report',\n",
       " 'N. Korea stops rare earth metal exports to China',\n",
       " 'China toughens checks on smuggling with N. Korea: sources',\n",
       " 'China stopped refined oil exports to N. Korea in Oct: report',\n",
       " \"Exports of mineral resources backs NK's economy: report\",\n",
       " \"Kim Jong-un's drive for domestic products likely to fall apart: report\",\n",
       " 'China did not import coal, other banned items from N. Korea: VOA',\n",
       " \"Russia's oil shipments to NK on sharp increase\",\n",
       " 'Taiwan cuts off trade with NK',\n",
       " 'No. of malaria-infected N. Koreans drops for 4th consecutive yr in 2016: report',\n",
       " 'China notifies UN of imports of coal from NK',\n",
       " \"N. Korea's coal exports to China hit record high in Aug.\",\n",
       " 'China imposes limit on oil supply to North Korea',\n",
       " \"China's Shandong Prov. biggest importer of NK's coal\",\n",
       " 'Oil prices in Pyongyang stable despite sanctions: diplomat',\n",
       " 'North Korean soldiers given 70 grams of food per meal: report',\n",
       " 'YouTube blocks N.Korean propaganda channel amidst backlashes',\n",
       " 'N. Korea-Russia trade jumps in Q1 despite sanctions',\n",
       " 'N. Korea trying to improve trade structure to circumvent UN sanctions']"
      ]
     },
     "execution_count": 16,
     "metadata": {},
     "output_type": "execute_result"
    }
   ],
   "source": [
    "# NK soldier freedom\n",
    "most_related_docs(df_nk, nk_doc_topic_dist, 1, num_docs=20)['title'].tolist()"
   ]
  },
  {
   "cell_type": "code",
   "execution_count": 17,
   "id": "0aa62883",
   "metadata": {},
   "outputs": [
    {
     "data": {
      "text/plain": [
       "['NK renames youth association as it seeks to beef up internal solidarity',\n",
       " 'N.K. set to complete 70-day loyalty drive ahead of party congress',\n",
       " 'N.K. may hold party congress in May without foreign guests: source',\n",
       " 'N. Korea to hold first party congress in over three decades on May 6',\n",
       " 'Pyongyang kicks off preparations for May party congress',\n",
       " 'N.K. to launch another work-hard campaign in June: Seoul',\n",
       " 'N.K. opens first youth congress in 23 years',\n",
       " 'NK opens new residential area in Pyongyang: report',\n",
       " 'N.K. uses party congress to declare nukes its priority: report',\n",
       " \"N. Korea's party adopts decision on nukes at key congress\",\n",
       " 'N. Korea likely to convene ruling party congress on May 5: source',\n",
       " 'NK announces successful conclusion of 200-day work-hard drive',\n",
       " 'N. Korea opens first party congress in 36 years',\n",
       " 'N.K. to hold major parliamentary meeting in late June',\n",
       " 'N. Korea set to open first party congress in 36 years',\n",
       " 'With new town project, NK seeks internal solidarity, defies sanctions: Seoul',\n",
       " 'N.K. expands work-hard campaign across the country: report',\n",
       " 'Kim Jong-un elected delegate to party congress representing three provinces',\n",
       " \"N.K. vows to ease power shortages, improve people's livelihoods at assembly\",\n",
       " 'N. Korea raises surveillance ahead of party congress: source']"
      ]
     },
     "execution_count": 17,
     "metadata": {},
     "output_type": "execute_result"
    }
   ],
   "source": [
    "# Security\n",
    "most_related_docs(df_nk, nk_doc_topic_dist, 7, num_docs=20)['title'].tolist()"
   ]
  },
  {
   "cell_type": "code",
   "execution_count": 18,
   "id": "1b61331c",
   "metadata": {},
   "outputs": [
    {
     "data": {
      "text/plain": [
       "[\"Unification minister asks for Russia's cooperation in resolving NK nukes\",\n",
       " 'THAAD not helpful to inter-Korean relations: Russian envoy',\n",
       " 'North Korea demand for peace treaty worth taking note: Russian envoy',\n",
       " 'Kim Jong-un to visit Moscow: Russian envoy',\n",
       " \"S. Korea in diplomatic consultations over N. Korea's nuke test\",\n",
       " 'North Korea releases Russian yacht and its crew',\n",
       " \"South Korea, U.S. denounce N.K. test as 'grave provocation'\",\n",
       " \"N.K. nuke 'exit strategy' may be needed\",\n",
       " 'Hungry N. Korean soldiers committing various crimes: report',\n",
       " 'Bulgaria reaffirms support for denuclearization, vows to fully implement N. Korea sanctions',\n",
       " 'Chronology of North Korea’s nuclear, missile programs',\n",
       " \"[Breaking] NK's missile flew about 500 kilometers: S. Korea's JCS\",\n",
       " \"[Breaking] S. Korean President Moon convenes NSC meeting on NK's missile launch\",\n",
       " 'Moon orders meeting of national security council over N. Korean missile launch',\n",
       " '[Graphic News] North Korea’s exported labor',\n",
       " \"South Korea's nuclear envoy to visit Beijing this week\",\n",
       " '[Graphic News] North Korea conducts sixth nuclear test',\n",
       " '[URGENT] Seoul to publicize results of inter-Korean talks',\n",
       " '[Graphic News] The elite ICBM club',\n",
       " 'North Korea gets 1 day off for Chuseok']"
      ]
     },
     "execution_count": 18,
     "metadata": {},
     "output_type": "execute_result"
    }
   ],
   "source": [
    "# Nuclear\n",
    "most_related_docs(df_nk, nk_doc_topic_dist, 9, num_docs=20)['title'].tolist()"
   ]
  },
  {
   "cell_type": "code",
   "execution_count": 19,
   "id": "c68ac28b",
   "metadata": {},
   "outputs": [
    {
     "data": {
      "text/plain": [
       "['Seoul welcomes adoption of new UNSC sanctions resolution on Pyongyang',\n",
       " 'S. Korea mulls ‘diverse’ diplomatic efforts to intensify pressure on NK',\n",
       " 'Mandate of U.N. panel of experts on N.K. sanctions extended until next year',\n",
       " 'UN Council unanimously condemns North Korea missile test',\n",
       " \"'Strongest' U.N. sanctions agreed, but implementation still challenging\",\n",
       " 'Japan announces fresh N. Korea sanctions after rocket launch',\n",
       " 'South Korea welcomes new U.S. sanctions on North Korea',\n",
       " 'S. Korea urges N. Korea to abandon nuclear ‘delusion’',\n",
       " \"N. Korea condemns S. Korea's unilateral sanctions\",\n",
       " 'European nations welcome new U.N. sanctions on N. Korea',\n",
       " 'Kuwait submits implementation report on Resolution 2371',\n",
       " 'UN Security Council condemns NK nuclear test, vows to begin work immediately on sanctions resolution',\n",
       " 'UNSC discloses additional items banned from entering N.K.',\n",
       " 'EU says it is mulling tougher sanctions against NK',\n",
       " 'U.N. sanctions should be beyond N. Korea’s imagination: Yun',\n",
       " \"S. Korea 'continuously' mulling unilateral sanctions on N. Korea\",\n",
       " 'Only sanctions can lead to change in N. Korea‘s nuclear calculus',\n",
       " 'U.N. sanctions to require mandatory inspection of all',\n",
       " 'U.N. to take swift action against N. Korean rocket: official',\n",
       " 'More sanctions possible on N. Korea: S. Korean envoy']"
      ]
     },
     "execution_count": 19,
     "metadata": {},
     "output_type": "execute_result"
    }
   ],
   "source": [
    "# Olympics game\n",
    "most_related_docs(df_nk, nk_doc_topic_dist,12, num_docs=20)['title'].tolist()"
   ]
  },
  {
   "cell_type": "code",
   "execution_count": 20,
   "id": "46245aa1",
   "metadata": {},
   "outputs": [
    {
     "data": {
      "text/plain": [
       "['NK renames youth association as it seeks to beef up internal solidarity',\n",
       " 'N.K. set to complete 70-day loyalty drive ahead of party congress',\n",
       " 'N.K. may hold party congress in May without foreign guests: source',\n",
       " 'N. Korea to hold first party congress in over three decades on May 6',\n",
       " 'Pyongyang kicks off preparations for May party congress',\n",
       " 'N.K. to launch another work-hard campaign in June: Seoul',\n",
       " 'N.K. opens first youth congress in 23 years',\n",
       " 'NK opens new residential area in Pyongyang: report',\n",
       " 'N.K. uses party congress to declare nukes its priority: report',\n",
       " \"N. Korea's party adopts decision on nukes at key congress\",\n",
       " 'N. Korea likely to convene ruling party congress on May 5: source',\n",
       " 'NK announces successful conclusion of 200-day work-hard drive',\n",
       " 'N. Korea opens first party congress in 36 years',\n",
       " 'N.K. to hold major parliamentary meeting in late June',\n",
       " 'N. Korea set to open first party congress in 36 years',\n",
       " 'With new town project, NK seeks internal solidarity, defies sanctions: Seoul',\n",
       " 'N.K. expands work-hard campaign across the country: report',\n",
       " 'Kim Jong-un elected delegate to party congress representing three provinces',\n",
       " \"N.K. vows to ease power shortages, improve people's livelihoods at assembly\",\n",
       " 'N. Korea raises surveillance ahead of party congress: source']"
      ]
     },
     "execution_count": 20,
     "metadata": {},
     "output_type": "execute_result"
    }
   ],
   "source": [
    "# Sex violence\n",
    "most_related_docs(df_nk, nk_doc_topic_dist, 7, num_docs=20)['title'].tolist()"
   ]
  },
  {
   "cell_type": "code",
   "execution_count": 21,
   "id": "f150ec8d",
   "metadata": {},
   "outputs": [
    {
     "data": {
      "text/plain": [
       "['Korea reviewing support for loss-ridden investors in inter-Korean projects',\n",
       " 'Korean companies seek to check equipment in Kaesong complex',\n",
       " 'Two Koreas to hold talks to negotiate Gaeseong wage issues',\n",
       " 'North Korea kicks out South Koreans, freezes assets in Gaeseong',\n",
       " 'Businessmen call for probe into shutdown of factory park in N. Korea',\n",
       " 'North Korea freezes Gaeseong assets, expels South Korean workers',\n",
       " 'Korean firms call for full support after factory shutdown',\n",
       " 'Korea rolls out support measures for companies forced out of Gaeseong',\n",
       " 'Koreas set to hold talks on joint industrial park amid wage row',\n",
       " 'Korea to approve further compensation for Kaesong firms soon',\n",
       " 'Kaesong firms pressure Seoul to approve N.K. visit',\n",
       " 'Koreas divided over land use fee at joint industrial park',\n",
       " 'N. Korea hints operation of inter-Korean industrial complex',\n",
       " \"NK's resumption of Kaesong complex violates property rights: Seoul\",\n",
       " \"Gaeseong firms pressure gov't to approve N.K. visit\",\n",
       " 'Korea urges NK not to arbitrarily use vehicles at Kaesong complex',\n",
       " 'Koreas reach deal on land use fee at Gaeseong complex',\n",
       " 'S. Korea firms to pay wages for N. Koreans at joint factory park',\n",
       " 'Korea to help firms troubled by Gaeseong zone woes',\n",
       " 'Korean firms ask govt. to approve visit to Kaesong complex']"
      ]
     },
     "execution_count": 21,
     "metadata": {},
     "output_type": "execute_result"
    }
   ],
   "source": [
    "# Weapon development\n",
    "most_related_docs(df_nk, nk_doc_topic_dist, 41, num_docs=20)['title'].tolist()"
   ]
  },
  {
   "cell_type": "code",
   "execution_count": 22,
   "id": "8071ef2a",
   "metadata": {},
   "outputs": [
    {
     "data": {
      "text/plain": [
       "['[News Focus] Why did North Korea fail to detect US bombers?',\n",
       " 'Lotte Group approves land swap deal for THAAD battery',\n",
       " 'N. Korea releases dam water without prior notice',\n",
       " 'Seoul scores success in test of countermissile system',\n",
       " 'N. Korean drone spied on THAAD site: military',\n",
       " 'Seoul buys more Taurus missiles amid Pyongyang nuke threats',\n",
       " 'N.K. unleashes flash flood from dam without warning Seoul',\n",
       " 'N. Korea takes no immediate action in response to US bomber flight: spy agency',\n",
       " '[Newsmaker] Loudspeakers mightier than the sword',\n",
       " 'N. Korea forward deploys amphibious landing crafts carrying special forces',\n",
       " 'Japan carries out anti-missile drill following NK missile launch',\n",
       " 'South Korea allocates budget for ‘decapitation unit’',\n",
       " 'South Korea divided over THAAD',\n",
       " 'Drone that spied on THAAD was from N. Korea: military',\n",
       " 'N. Korea increases drone sorties along western border',\n",
       " 'NK drone presumed to have spied on THAAD angle: lawmaker',\n",
       " 'Wounded NK soldier transferred to general ward from ICU',\n",
       " 'N. Korea discharges dam water near border with South',\n",
       " 'Seoul to create special unit to attack N.K. nuke, missile assets',\n",
       " 'N. Korean drone flew across DMZ amid August tension: source']"
      ]
     },
     "execution_count": 22,
     "metadata": {},
     "output_type": "execute_result"
    }
   ],
   "source": [
    "# Disease\n",
    "most_related_docs(df_nk, nk_doc_topic_dist, 46, num_docs=20)['title'].tolist()"
   ]
  },
  {
   "cell_type": "code",
   "execution_count": 23,
   "id": "11618b2e",
   "metadata": {},
   "outputs": [],
   "source": [
    "df_nk_missile = df[(df['section'] == 'North Korea') & (df['agg_title_body'].str.contains('issile', flags=re.IGNORECASE, regex=True))]"
   ]
  },
  {
   "cell_type": "code",
   "execution_count": 24,
   "id": "50b86776",
   "metadata": {},
   "outputs": [
    {
     "data": {
      "text/plain": [
       "['../data/nk_missile_data_vectorized.csv']"
      ]
     },
     "execution_count": 24,
     "metadata": {},
     "output_type": "execute_result"
    }
   ],
   "source": [
    "# Find all doc contains \"North Korea\" with Missile\n",
    "nk_missile_vectorizer = CountVectorizer(tokenizer=spacy_tokenizer)\n",
    "nk_missile_data_vectorized = nk_missile_vectorizer.fit_transform(df_nk_missile['agg_title_body'])\n",
    "joblib.dump(nk_vectorizer, '../data/nk_missile_vectorizer.csv')\n",
    "joblib.dump(nk_data_vectorized, '../data/nk_missile_data_vectorized.csv')"
   ]
  },
  {
   "cell_type": "code",
   "execution_count": 25,
   "id": "836151ad",
   "metadata": {},
   "outputs": [],
   "source": [
    "nk_missile_vectorizer = joblib.load('../data/nk_missile_vectorizer.csv')\n",
    "nk_missile_data_vectorized = joblib.load('../data/nk_missile_data_vectorized.csv')"
   ]
  },
  {
   "cell_type": "code",
   "execution_count": 26,
   "id": "e1638854",
   "metadata": {},
   "outputs": [
    {
     "data": {
      "text/plain": [
       "['../data/nk_missile_25lda.csv']"
      ]
     },
     "execution_count": 26,
     "metadata": {},
     "output_type": "execute_result"
    }
   ],
   "source": [
    "nk_missile_lda_components = 25\n",
    "nk_missile_lda = LatentDirichletAllocation(n_components=25, random_state=0)\n",
    "nk_missile_lda.fit(nk_missile_data_vectorized)\n",
    "joblib.dump(nk_missile_lda, '../data/nk_missile_{}lda.csv'.format(nk_missile_lda_components))"
   ]
  },
  {
   "cell_type": "code",
   "execution_count": 27,
   "id": "408746a2",
   "metadata": {},
   "outputs": [],
   "source": [
    "nk_missile_lda = joblib.load('../data/nk_missile_{}lda.csv'.format(nk_missile_lda_components))"
   ]
  },
  {
   "cell_type": "code",
   "execution_count": 28,
   "id": "e7498dbd",
   "metadata": {
    "scrolled": true
   },
   "outputs": [
    {
     "name": "stdout",
     "output_type": "stream",
     "text": [
      "\n",
      "Topic #0: korean north south say north korea ministry government complex koreans seoul worker south korea defector industrial border korea official park unification firm kaesong wage factory yonhap china\n",
      "\n",
      "Topic #1: north north korea report year percent say china korean trade country $ korea export source sanction yonhap accord chinese import economic oil pyongyang coal show international\n",
      "\n",
      "Topic #2: winter olympics flood pyeongchang game olympic north korea say damage sport people ebola virus participation spread internet red games event report hit ioc disease rain miss\n",
      "\n",
      "Topic #3: sea island boat fishing border line northern maritime yellow facto de vessel limit patrol nll near yeonpyeong western conservative say plan draw korea guard water\n",
      "\n",
      "Topic #4: military korean say drill north force exercise korea war joint south korea strike north korea air attack provocation fire south peninsula threat washington missile nuclear warn news\n",
      "\n",
      "Topic #5: north lee kim korean visit number say summit leader broadcast pyongyang north korea trip president dae send korea jong meet south inter late jung time message\n",
      "\n",
      "Topic #6: missile launch north test say ballistic range north korea korea rocket nuclear fire long pyongyang korean military conduct satellite icbm submarine new kilometer technology warhead claim\n",
      "\n",
      "Topic #7: nuclear north kim say test party leader korea country jong north korea congress korean un pyongyang year power state rule late people conduct bomb site worker\n",
      "\n",
      "Topic #8: japan japanese park russia woman abe project tokyo say korean asia victim economic cooperation sexual world country prime south korea program infrastructure tour sex korea slavery\n",
      "\n",
      "Topic #9: standard fashion identical minute clothing clock woman unpardonable logistical vestige clothe timetable change colonial kdb trendy attire accessory band wife short colonize create industry expression\n",
      "\n",
      "Topic #10: north say korean seoul north korea moon pyongyang president dialogue talk nuclear issue south park call korea south korea government unification policy inter jae seek peace washington\n",
      "\n",
      "Topic #11: nuclear say u.s weapon north north korea program korea threat treaty deal denuclearization pyongyang korean iran think south korea reactor capability the united states policy plutonium yonhap international negotiation\n",
      "\n",
      "Topic #12: sanction resolution council north u.n security north korea nuclear say test new ban international pyongyang country korean unsc adopt un missile measure member foreign impose korea\n",
      "\n",
      "Topic #13: china korean north kim say north korea chinese leader visit tie russia beijing attend party relation hold meeting official world pyongyang ceremony send diplomatic president moscow\n",
      "\n",
      "Topic #14: defense system thaad south korea say military deployment missile area deploy korean south seoul threat terminal korea altitude u.s high commander security decision ally official north\n",
      "\n",
      "Topic #15: north say north korea leaflet release student warmbier detain pyongyang korean citizen american u.s state anti year activist travel propaganda campaign sentence government university balloon otto\n",
      "\n",
      "Topic #16: korean north south inter border say koreas seoul family north korea hold talk military korea reunion official cross war tension south korea soldier pyongyang separate joint level\n",
      "\n",
      "Topic #17: kim say north jong korean leader intelligence un attack official north korea agency south korea spy regime national cyber year korea party security information thae seoul late\n",
      "\n",
      "Topic #18: food year shortage drought rice ton production aid percent report $ north korea say child suffer provide gram north crop grain disaster country severe broadcaster average\n",
      "\n",
      "Topic #19: kim say jong korean north nam malaysia north korea police brother un woman half leader airport kill death suspect murder malaysian man country agent lumpur report\n",
      "\n",
      "Topic #20: human right north u.n report say north korea international people country abuse call korea violation situation camp resolution korean rights regime year political council hold issue\n",
      "\n",
      "Topic #21: north korea say china trump north president nuclear sanction pyongyang regime pressure state chinese missile korean beijing un house donald secretary kim program talk think u.s\n",
      "\n",
      "Topic #22: nuclear north korea say north talk korean minister test meeting missile foreign security south korea u.s hold china ministry seoul provocation korea pyongyang issue japan discuss country\n",
      "\n",
      "Topic #23: kim korean leader north jong un official visit ri party il central say general state pyongyang yong choe news report medium vice late military agency\n",
      "\n",
      "Topic #24: korean say north korea aid humanitarian government korea group ministry visit assistance north plan inter exchange support family provide civilian project approve ban unification year yonhap\n",
      "\n"
     ]
    }
   ],
   "source": [
    "print_top_words(nk_missile_lda, nk_missile_vectorizer, n_top_words=25)"
   ]
  },
  {
   "cell_type": "code",
   "execution_count": 30,
   "id": "cb00420b",
   "metadata": {},
   "outputs": [],
   "source": [
    "nk_missile_doc_topic_dist = pd.DataFrame(nk_missile_lda.transform(nk_missile_data_vectorized))\n",
    "nk_missile_doc_topic_dist.to_csv('../data/nk_missile_doc_topic_dist.csv', index=False)"
   ]
  },
  {
   "cell_type": "code",
   "execution_count": 31,
   "id": "2d3ced52",
   "metadata": {},
   "outputs": [],
   "source": [
    "nk_missile_doc_topic_dist = pd.read_csv('../data/nk_missile_doc_topic_dist.csv')"
   ]
  },
  {
   "cell_type": "code",
   "execution_count": 32,
   "id": "fc07892f",
   "metadata": {},
   "outputs": [
    {
     "data": {
      "text/plain": [
       "'\\nLDA NK with missile 25 topics\\nTopic 0: Olympics\\nTopic 1: \\nTopic 2: launching missile/rocket\\n'"
      ]
     },
     "execution_count": 32,
     "metadata": {},
     "output_type": "execute_result"
    }
   ],
   "source": [
    "#### NK with missile 25 topics\n",
    "'''\n",
    "LDA NK with missile 50 topics\n",
    "Topic 0: Olympics\n",
    "Topic 1: \n",
    "Topic 2: launching missile/rocket\n",
    "'''\n",
    "\n",
    "'''\n",
    "LDA NK with missile 25 topics\n",
    "Topic 0: Olympics\n",
    "Topic 1: \n",
    "Topic 2: launching missile/rocket\n",
    "'''\n"
   ]
  },
  {
   "cell_type": "code",
   "execution_count": 33,
   "id": "9b283e12",
   "metadata": {},
   "outputs": [
    {
     "ename": "TypeError",
     "evalue": "most_related_docs() missing 2 required positional arguments: 'doc_topic_dist' and 'topic_index'",
     "output_type": "error",
     "traceback": [
      "\u001b[0;31m---------------------------------------------------------------------------\u001b[0m",
      "\u001b[0;31mTypeError\u001b[0m                                 Traceback (most recent call last)",
      "\u001b[0;32m/tmp/ipykernel_25520/2032591747.py\u001b[0m in \u001b[0;36m<module>\u001b[0;34m\u001b[0m\n\u001b[1;32m      1\u001b[0m \u001b[0;31m# Olympics\u001b[0m\u001b[0;34m\u001b[0m\u001b[0;34m\u001b[0m\u001b[0;34m\u001b[0m\u001b[0m\n\u001b[0;32m----> 2\u001b[0;31m \u001b[0mmost_related_docs\u001b[0m\u001b[0;34m(\u001b[0m\u001b[0;36m0\u001b[0m\u001b[0;34m,\u001b[0m \u001b[0mnum_docs\u001b[0m\u001b[0;34m=\u001b[0m\u001b[0;36m20\u001b[0m\u001b[0;34m)\u001b[0m\u001b[0;34m[\u001b[0m\u001b[0;34m'title'\u001b[0m\u001b[0;34m]\u001b[0m\u001b[0;34m.\u001b[0m\u001b[0mtolist\u001b[0m\u001b[0;34m(\u001b[0m\u001b[0;34m)\u001b[0m\u001b[0;34m\u001b[0m\u001b[0;34m\u001b[0m\u001b[0m\n\u001b[0m",
      "\u001b[0;31mTypeError\u001b[0m: most_related_docs() missing 2 required positional arguments: 'doc_topic_dist' and 'topic_index'"
     ]
    }
   ],
   "source": [
    "# Olympics\n",
    "most_related_docs(0, num_docs=20)['title'].tolist()"
   ]
  },
  {
   "cell_type": "code",
   "execution_count": null,
   "id": "e864a9fb",
   "metadata": {},
   "outputs": [],
   "source": []
  }
 ],
 "metadata": {
  "kernelspec": {
   "display_name": "Python 3 (ipykernel)",
   "language": "python",
   "name": "python3"
  },
  "language_info": {
   "codemirror_mode": {
    "name": "ipython",
    "version": 3
   },
   "file_extension": ".py",
   "mimetype": "text/x-python",
   "name": "python",
   "nbconvert_exporter": "python",
   "pygments_lexer": "ipython3",
   "version": "3.9.5"
  }
 },
 "nbformat": 4,
 "nbformat_minor": 5
}
