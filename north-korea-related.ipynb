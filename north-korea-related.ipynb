{
 "cells": [
  {
   "cell_type": "code",
   "execution_count": 1,
   "id": "8ed88c4c",
   "metadata": {},
   "outputs": [
    {
     "name": "stderr",
     "output_type": "stream",
     "text": [
      "[nltk_data] Downloading package stopwords to /root/nltk_data...\n",
      "[nltk_data]   Package stopwords is already up-to-date!\n",
      "[nltk_data] Downloading package wordnet to /root/nltk_data...\n",
      "[nltk_data]   Package wordnet is already up-to-date!\n"
     ]
    }
   ],
   "source": [
    "import pandas as pd\n",
    "import numpy as np\n",
    "import os\n",
    "import re\n",
    "import nltk\n",
    "nltk.download('stopwords')\n",
    "nltk.download('wordnet')\n",
    "import string\n",
    "import random\n",
    "import unicodedata\n",
    "from string import punctuation\n",
    "from string import digits\n",
    "from nltk.stem import WordNetLemmatizer\n",
    "import joblib\n",
    "\n",
    "from sklearn.feature_extraction.text import CountVectorizer\n",
    "from sklearn.feature_extraction.text import TfidfTransformer\n",
    "from sklearn.feature_extraction.text import TfidfVectorizer\n",
    "from sklearn.decomposition import PCA\n",
    "from sklearn.decomposition import TruncatedSVD\n",
    "from sklearn.manifold import TSNE\n",
    "from sklearn.cluster import KMeans\n",
    "from sklearn.cluster import DBSCAN\n",
    "from sklearn.neighbors import NearestNeighbors\n",
    "from sklearn.metrics import silhouette_score\n",
    "from sklearn.decomposition import LatentDirichletAllocation\n",
    "\n",
    "from tqdm import tqdm\n",
    "import matplotlib.pyplot as plt\n",
    "\n",
    "import spacy\n",
    "from spacy.matcher import Matcher\n",
    "\n",
    "from rake_nltk import Rake"
   ]
  },
  {
   "cell_type": "code",
   "execution_count": 2,
   "id": "40289b7b",
   "metadata": {},
   "outputs": [
    {
     "data": {
      "text/plain": [
       "(23769, 6)"
      ]
     },
     "execution_count": 2,
     "metadata": {},
     "output_type": "execute_result"
    }
   ],
   "source": [
    "### Reading data\n",
    "data_dir = 'data/'\n",
    "filename_prefix = 'koreaherald_1517_'\n",
    "df = []\n",
    "\n",
    "for i in range(8):\n",
    "    df.append(pd.read_json(os.path.join(data_dir, filename_prefix + str(i) + '.json')))\n",
    "df = pd.concat(df)\n",
    "df.reset_index(inplace=True)\n",
    "df = df.rename(columns=dict(zip(df.columns,[df.columns[i].strip() for i in range(len(df.columns))])))\n",
    "df.drop('index', inplace=True, axis=1)\n",
    "\n",
    "df.shape"
   ]
  },
  {
   "cell_type": "code",
   "execution_count": 3,
   "id": "9988ce40",
   "metadata": {},
   "outputs": [],
   "source": [
    "nlp = spacy.load('en_core_web_lg')"
   ]
  },
  {
   "cell_type": "code",
   "execution_count": 4,
   "id": "2fd940ad",
   "metadata": {},
   "outputs": [],
   "source": [
    "### Lemmatization tool\n",
    "stemmer = WordNetLemmatizer()\n",
    "### Change similar words to the same word\n",
    "UN_WORD = \"The United Nations\"\n",
    "US_WORD = \"The United States\"\n",
    "NK_WORD = \"North Korea\"\n",
    "SK_WORD = \"South Korea\"\n",
    "\n",
    "similar_words = {\n",
    "    # Change to \"The United States\"\n",
    "    \"U.S.\": US_WORD,\n",
    "    \"US\": US_WORD,\n",
    "    \"USA\": US_WORD,\n",
    "    \"United States\": US_WORD,\n",
    "    \"United States'\": US_WORD,\n",
    "    \"The United States'\": US_WORD,\n",
    "    \n",
    "    # Change to \"North Korea\"\n",
    "    \"NK\": NK_WORD,\n",
    "    \"NK's\": NK_WORD,\n",
    "    \"N. Korea\": NK_WORD,\n",
    "    \"N. Korea's\": NK_WORD,\n",
    "    \"North Korea's\": NK_WORD,\n",
    "    \n",
    "    # Change to \"South Korea\"\n",
    "    \"SK\": SK_WORD,\n",
    "    \"SK's\": SK_WORD,\n",
    "    \"S. Korea\": SK_WORD,\n",
    "    \"S. Korea's\": SK_WORD,\n",
    "    \"South Korea's\": SK_WORD,\n",
    "    \n",
    "    # Change to \"The United Nations\"\n",
    "    \"United Nations\": UN_WORD,\n",
    "    \"United Nations'\": UN_WORD,\n",
    "    \"The United Nations'\": UN_WORD,\n",
    "    \"UN\": UN_WORD,\n",
    "}\n",
    "\n",
    "### Transform function\n",
    "def text_cleaning(s: str):\n",
    "        \n",
    "    def replace_strange_char(s: str):\n",
    "        non_en_chars = {\n",
    "            \"’\": \"'\",\n",
    "            \"‘\": \"'\"\n",
    "        }\n",
    "\n",
    "        def remove_non_en_chars(txt):\n",
    "            # remove non english characters\n",
    "            txt = convert_latin_chars(txt)\n",
    "            for char in non_en_chars.keys():\n",
    "                txt = re.sub(char, non_en_chars[char], txt)\n",
    "            txt = re.sub(r'[^\\x00-\\x7F]+', ' ', txt)\n",
    "            return txt\n",
    "\n",
    "        def convert_latin_chars(txt):\n",
    "            # convert latin characters\n",
    "            return ''.join(char for char in unicodedata.normalize('NFKD', txt) if unicodedata.category(char) != 'Mn')\n",
    "\n",
    "        s = remove_non_en_chars(s)\n",
    "        s = convert_latin_chars(s)\n",
    "        return s\n",
    "    s = replace_strange_char(s)\n",
    "    for key,value in similar_words.items():\n",
    "        s = re.sub(key, value, s)\n",
    "    return s\n",
    "\n",
    "def spacy_tokenizer(s: str):\n",
    "    # Change similar terms to the same term\n",
    "    new_str = text_cleaning(s)\n",
    "    doc = nlp(s)\n",
    "    # Group tokens\n",
    "    matcher = Matcher(nlp.vocab)\n",
    "    token_groupup_pattern = [\n",
    "        [{\"LOWER\": \"the\"}, {\"LOWER\": \"united\"}, {\"LOWER\": \"nations\"}],\n",
    "        [{\"LOWER\": \"the\"}, {\"LOWER\": \"united\"}, {\"LOWER\": \"states\"}],\n",
    "        [{\"LOWER\": \"north\"}, {\"LOWER\": \"korea\"}],\n",
    "        [{\"LOWER\": \"south\"}, {\"LOWER\": \"korea\"}],\n",
    "    ]\n",
    "    matcher.add(\"TermGroup\",token_groupup_pattern)\n",
    "    matches = matcher(doc)\n",
    "    merge_doc = []\n",
    "    for nid, start, end in matches:\n",
    "        merge_doc.append((start,end))\n",
    "    with doc.retokenize() as retokenizer:\n",
    "        for i in range(len(merge_doc)-1,-1,-1):\n",
    "            retokenizer.merge(doc[merge_doc[i][0]:merge_doc[i][1]])\n",
    "        \n",
    "    # Remove all stopword, punctuation, number\n",
    "    tokens = [ token.lemma_.lower() for token in doc \\\n",
    "              if not token.is_stop and not token.is_punct and not token.like_num and token.lemma_.strip()!= '']\n",
    "    return tokens\n"
   ]
  },
  {
   "cell_type": "code",
   "execution_count": 5,
   "id": "079b0b8d",
   "metadata": {},
   "outputs": [],
   "source": [
    "nk_df = pd.read_csv('../data/df_nk.csv')"
   ]
  },
  {
   "cell_type": "code",
   "execution_count": 6,
   "id": "1504cec0",
   "metadata": {},
   "outputs": [
    {
     "data": {
      "text/plain": [
       "['../data/nk_data_vectorized.csv']"
      ]
     },
     "execution_count": 6,
     "metadata": {},
     "output_type": "execute_result"
    }
   ],
   "source": [
    "# # Find all doc contains \"North Korea\"\n",
    "# nk_vectorizer = CountVectorizer(tokenizer=spacy_tokenizer)\n",
    "# nk_data_vectorized = nk_vectorizer.fit_transform(nk_df['body'])\n",
    "# joblib.dump(nk_vectorizer, '../data/nk_vectorizer.csv')\n",
    "# joblib.dump(nk_data_vectorized, '../data/nk_data_vectorized.csv')"
   ]
  },
  {
   "cell_type": "code",
   "execution_count": 7,
   "id": "836151ad",
   "metadata": {},
   "outputs": [],
   "source": [
    "nk_vectorizer = joblib.load('../data/nk_vectorizer.csv')\n",
    "nk_data_vectorized = joblib.load('../data/nk_data_vectorized.csv')"
   ]
  },
  {
   "cell_type": "code",
   "execution_count": 8,
   "id": "e1638854",
   "metadata": {},
   "outputs": [
    {
     "data": {
      "text/plain": [
       "['../data/nk_lda.csv']"
      ]
     },
     "execution_count": 8,
     "metadata": {},
     "output_type": "execute_result"
    }
   ],
   "source": [
    "# lda = LatentDirichletAllocation(n_components=50, random_state=0)\n",
    "# lda.fit(nk_data_vectorized)\n",
    "# joblib.dump(lda, '../data/nk_lda.csv')"
   ]
  },
  {
   "cell_type": "code",
   "execution_count": 9,
   "id": "408746a2",
   "metadata": {},
   "outputs": [],
   "source": [
    "lda = joblib.load('../data/nk_lda.csv')"
   ]
  },
  {
   "cell_type": "code",
   "execution_count": 10,
   "id": "b9a6a4c0",
   "metadata": {},
   "outputs": [],
   "source": [
    "def print_top_words(model, vectorizer, n_top_words):\n",
    "    feature_names = vectorizer.get_feature_names()\n",
    "    for topic_idx, topic in enumerate(model.components_):\n",
    "        message = \"\\nTopic #%d: \" % topic_idx\n",
    "        message += \" \".join([feature_names[i]\n",
    "                             for i in topic.argsort()[:-n_top_words - 1:-1]])\n",
    "        print(message)\n",
    "    print()"
   ]
  },
  {
   "cell_type": "code",
   "execution_count": 11,
   "id": "e7498dbd",
   "metadata": {},
   "outputs": [
    {
     "name": "stdout",
     "output_type": "stream",
     "text": [
      "\n",
      "Topic #0: minister asean russia foreign china forum regional ri russian meeting talk wang asian say southeast putin attend north philippines yi security north korea moscow korean country\n",
      "\n",
      "Topic #1: korean north say north korea missile south border complex official city government source factory kaesong ship seoul system range south korea report zone nuclear industrial artillery gps\n",
      "\n",
      "Topic #2: india modi railway sinbo membership osjd trans university narendra student organization hyong choson jik unanimous pro bolster join yeo course member siberian attend shipyard interoperable\n",
      "\n",
      "Topic #3: north korean complex south industrial say wage government firm worker kaesong park factory ministry company north korea seoul decision gaeseong joint pay inter official south korea month\n",
      "\n",
      "Topic #4: hwang ahn prime kyo minister act poland kuwait national polish cabinet security al provocation president posture ensure court effort stress session grow european carry thornberry\n",
      "\n",
      "Topic #5: visit world hiroshima south korea space say mexico peace city nobel korea plan official mexican program sri memorial year u.s obama prize camp lanka north korea state\n",
      "\n",
      "Topic #6: intelligence nis agency spy lawmaker national lee service committee parliamentary say rep session file surveillance byung official hacking team assembly chief closed program woo cheol\n",
      "\n",
      "Topic #7: defense missile thaad system south korea deployment say u.s china seoul threat deploy altitude terminal security high area south issue washington decision north korea battery korean official\n",
      "\n",
      "Topic #8: kim jong north say korean north korea leader nam un malaysia official brother police attack death half pyongyang kill ambassador suspect airport il late murder report\n",
      "\n",
      "Topic #9: nuclear weapon say north missile south korea seoul north korea capability defense threat military test pyongyang security develop korean strike south deterrence country korea call power tactical\n",
      "\n",
      "Topic #10: family reunion separate member korean south hold war relative north korea meet year round event list old live koreas separated die people say mount koreans face\n",
      "\n",
      "Topic #11: north north korea sanction nuclear say korean pyongyang un country test international kim resolution foreign ministry council party security official state missile late new u.n china\n",
      "\n",
      "Topic #12: year percent north say north korea report korean number $ aid food koreans show country accord datum south provide child humanitarian south korea yonhap unification people defector\n",
      "\n",
      "Topic #13: japan japanese tokyo issue say minister seoul south korea abe korean defense country security woman deal foreign cooperation agreement victim year prime military government trilateral war\n",
      "\n",
      "Topic #14: kerry john u.s secretary phone diplomat berlin state russia germany kishida german ambassador fumio said.kerry department munich yun north byung security se said.yun incheon clapper\n",
      "\n",
      "Topic #15: party opposition say government president national park presidential moon rep rule saenuri lawmaker election conservative assembly political kim parliamentary chief main textbook state people korea\n",
      "\n",
      "Topic #16: military defense force u.s say commander south korea army troop command korean gen south chief operation soldier capability north korea korea staff plan alliance war security new\n",
      "\n",
      "Topic #17: moon korean president say jae peace country south korea leader issue dialogue south korea peninsula north korea seoul north new summit cooperation effort nuclear relation office government\n",
      "\n",
      "Topic #18: meeting minister foreign korean visit hold talk ministry seoul discuss south korea official north korea issue meet south say summit yun nuclear counterpart country day cooperation bilateral\n",
      "\n",
      "Topic #19: exercise drill military joint air south korea force ally u.s annual say korean north korea washington key bomber north war seoul nuclear resolve rehearsal fighter peninsula the united states\n",
      "\n",
      "Topic #20: park president geun hye summit south korea leader korean say country south cooperation north korea economic presidential seoul year hold wa obama call dae cheong set new\n",
      "\n",
      "Topic #21: percent survey point percentage poll rating week party approval president conduct moon show respondent support early gallup say job error adult korea margin north korea approve\n",
      "\n",
      "Topic #22: moon wa cheong dae president say korean presidential north korea office north south jae nuclear korea trump south korea interview claim leader agreement issue freeze deal missile\n",
      "\n",
      "Topic #23: china chinese beijing xi tie relation jinping war visit parade anniversary military korean say leader president south korea world attend mark north korea diplomatic party remain ally\n",
      "\n",
      "Topic #24: korea say people country political year think university korean change time kim public like national right government power president lee seoul professor old young life\n",
      "\n",
      "Topic #25: north korea north say korean winter olympics south pyeongchang game south korea olympic sport thae international event seoul team world number hold official pyongyang broadcast send committee\n",
      "\n",
      "Topic #26: choe vice committee ryong hae chairman party hwang political secretary official yang general central affair commission attend state member pak funeral farm gon aide handle\n",
      "\n",
      "Topic #27: thaad seongju deployment system resident launcher defense ministry radar missile site government area say province environmental seoul deploy base kilometer decision local battery county gyeongsang\n",
      "\n",
      "Topic #28: nuclear reactor weapon say plutonium north uranium north korea fuel produce institute bomb facility report yongbyon energy spend plant grade enrichment reprocess pyongyang international enrich atomic\n",
      "\n",
      "Topic #29: council nuclear security test resolution u.n say statement north korea member international condemn strong sanction adopt ` measure north violation new call late response ban u.s\n",
      "\n",
      "Topic #30: ban korean u.n general say secretary visit ki war veteran british lee un korea mother turkish turkey sacrifice memorial year u.s kim return soldier south\n",
      "\n",
      "Topic #31: pence mike vice penny battle market reservoir corker chosin astana evacuation father city bob indonesia changjin indiana memorial monument easter bakishev trip marine veteran co\n",
      "\n",
      "Topic #32: nuclear u.s north korea north talk say pyongyang seoul denuclearization washington china policy party program korean dialogue south korea peace issue security international negotiation state long call\n",
      "\n",
      "Topic #33: submarine launch slbm north korea missile test long rocket range ballistic satellite say north underwater class sinpo develop ejection country believe conduct expert fire shipyard development\n",
      "\n",
      "Topic #34: boat water refugee fishing ship chinese korean sea say vessel country fisherman year coast jeju korea maritime people guard river island world help port syria\n",
      "\n",
      "Topic #35: military ministry defense plan year say budget won program project system government service drone official north korea win $ country national administration air develop increase kill\n",
      "\n",
      "Topic #36: north say leaflet north korea pyongyang korean right kim human lee defector activist visit send leader year balloon border campaign trip country anti seoul plan center\n",
      "\n",
      "Topic #37: say korean court attack police north korea information south cyber security law north national south korea agency find internet case defector country cyberattack prosecutor seoul year government\n",
      "\n",
      "Topic #38: say north korea north warmbier detain release citizen state american student department korean pyongyang u.s year travel arrest sentence otto detention news americans university college official\n",
      "\n",
      "Topic #39: test site north nuclear satellite activity imagery ri say conduct website show punggye preparation tunnel engine vehicle report sign facility appear new flight commercial underground\n",
      "\n",
      "Topic #40: say nuclear bomb test north korea hydrogen north earthquake claim korean official carter defense magnitude conduct quake report korea agency h detect kiloton south korea country u.s\n",
      "\n",
      "Topic #41: say trump north korea north president nuclear china donald missile washington korean pyongyang administration pressure secretary threat regime state un the united states talk tillerson think military house\n",
      "\n",
      "Topic #42: human north right north korea sanction say korean report international resolution regime u.n call country un state pyongyang people u.s include bill council government financial violation\n",
      "\n",
      "Topic #43: say biological south korea anthrax d group r sample korea base south u.s alliance seoul yonhap korean live guideline send shipment government senator agreement the united states biochemical\n",
      "\n",
      "Topic #44: trade korea economic country year china $ export economy russia development cooperation project north korea international market say investment percent asia import world business korean foreign\n",
      "\n",
      "Topic #45: korean north south say north korea inter seoul border ministry south korea unification government koreas official pyongyang military talk tension cross hold exchange yonhap war joint group\n",
      "\n",
      "Topic #46: launch rocket north long north korea range say nuclear test satellite u.n u.s missile pyongyang korea international space security anniversary provocation ballistic conduct development party korean\n",
      "\n",
      "Topic #47: missile launch north ballistic test say north korea range fire military nuclear pyongyang korean provocation late intercontinental icbm kilometer korea new intermediate fly un kim conduct\n",
      "\n",
      "Topic #48: military korean say north north korea south sea south korea provocation strike force nuclear attack aircraft drill navy official war island border peninsula korea carrier fire near\n",
      "\n",
      "Topic #49: north kim korean leader say jong country report party il un worker pyongyang north korea medium late people source korea central yonhap year rule state news\n",
      "\n"
     ]
    },
    {
     "name": "stderr",
     "output_type": "stream",
     "text": [
      "/root/miniconda3/lib/python3.9/site-packages/sklearn/utils/deprecation.py:87: FutureWarning: Function get_feature_names is deprecated; get_feature_names is deprecated in 1.0 and will be removed in 1.2. Please use get_feature_names_out instead.\n",
      "  warnings.warn(msg, category=FutureWarning)\n"
     ]
    }
   ],
   "source": [
    "print_top_words(lda, nk_vectorizer, n_top_words=25)"
   ]
  },
  {
   "cell_type": "code",
   "execution_count": 12,
   "id": "73635b2b",
   "metadata": {},
   "outputs": [
    {
     "data": {
      "text/plain": [
       "'\\nLDA 50 topics\\nTopic 1: nulear/ missile\\nTopic 7: Security\\nTopic 9: nuclear\\nTopic 10: People\\nTopic 23: Chinese\\nTopic 25: Olympic\\nTopic 28: reactor\\nTopic 32: nuclear\\nTopic 35: military\\nTopic 37: security\\nTopic 39: nuclear\\nTopic 40: bomb\\nTopic 41: Trump\\nTopic 44: economic\\nTopic 45: north and south relation\\nTopic 46: launching missile\\nTopic 47: launching rocket\\nTopic 48: Attack/ military\\nTopic 49: ?\\n'"
      ]
     },
     "execution_count": 12,
     "metadata": {},
     "output_type": "execute_result"
    }
   ],
   "source": [
    "'''\n",
    "LDA 50 topics\n",
    "Topic 1: Russia\n",
    "Topic 7: NK\n",
    "Topic 9: nuclear\n",
    "Topic 10: People\n",
    "Topic 23: Chinese\n",
    "Topic 25: Olympic\n",
    "Topic 28: reactor\n",
    "Topic 32: nuclear\n",
    "Topic 35: military\n",
    "Topic 37: security\n",
    "Topic 39: nuclear\n",
    "Topic 40: bomb\n",
    "Topic 41: Trump\n",
    "Topic 44: economic\n",
    "Topic 45: north and south relation\n",
    "Topic 46: launching missile\n",
    "Topic 47: launching rocket\n",
    "Topic 48: Attack/ military\n",
    "Topic 49: ?\n",
    "'''"
   ]
  },
  {
   "cell_type": "code",
   "execution_count": 13,
   "id": "cb00420b",
   "metadata": {},
   "outputs": [],
   "source": [
    "# nk_doc_topic_dist = pd.DataFrame(lda.transform(data_vectorized)).iloc[nk_doc_index]\n",
    "# nk_doc_topic_dist.to_csv('../data/nk_doc_topic_dist.csv', index=False)"
   ]
  },
  {
   "cell_type": "code",
   "execution_count": 14,
   "id": "2d3ced52",
   "metadata": {},
   "outputs": [],
   "source": [
    "nk_doc_topic_dist = pd.read_csv('../data/nk_doc_topic_dist.csv')"
   ]
  },
  {
   "cell_type": "code",
   "execution_count": 15,
   "id": "f17c6b29",
   "metadata": {},
   "outputs": [],
   "source": [
    "def most_related_docs(topic_index, num_docs=5):\n",
    "    sorted_doc = nk_doc_topic_dist.sort_values(by=['{}'.format(topic_index)], ascending=False)\n",
    "    return nk_df.iloc[sorted_doc[:num_docs].index]"
   ]
  },
  {
   "cell_type": "code",
   "execution_count": 16,
   "id": "c2de5465",
   "metadata": {},
   "outputs": [
    {
     "data": {
      "text/plain": [
       "['Video shows NK soldier making 50-meter dash for freedom',\n",
       " 'North Korea troops violated armistice agreement while chasing defector: UNC',\n",
       " 'N. Korean troops violated armistice in chasing defector: UNC',\n",
       " \"NK apparently replaces all border security guards after soldier's defection: source\",\n",
       " '[Newsmaker] Why did South Korea not return fire to NK chasing defected soldier?',\n",
       " 'N. Korean soldier drove car before defecting to S. Korea: UNC',\n",
       " 'NK fired 40 shots at fleeing soldier: military',\n",
       " 'N.K. behind DMZ landmine blast: JCS',\n",
       " 'N. Korea patrol ship sent back after crossing inter-Korean',\n",
       " 'N. Korea deploys buoys near inter-Korean sea border',\n",
       " 'Military found nearly 260 washed up N.K. landmines in past 6 years',\n",
       " 'N. Korean soldiers briefly violate border with S. Korea',\n",
       " 'N.K. seen doubling landmines in DMZ this year: S. Korean military',\n",
       " \"UNC short of means to handle N. Korea's armistice violation\",\n",
       " 'UNC revises rules to allow machine guns, recoilless rifles, mortars into DMZ',\n",
       " 'South Korea can’t change rules of engagement in JSA: Cheong Wa Dae',\n",
       " 'S. Korean soldier killed in apparent suicide near border with N. Korea',\n",
       " 'NK defected soldier is 20-something NCO: NIS',\n",
       " 'N. Korean wooden-box land mine found on border islet',\n",
       " 'N. Korea launches 2nd day of firing drills']"
      ]
     },
     "execution_count": 16,
     "metadata": {},
     "output_type": "execute_result"
    }
   ],
   "source": [
    "# NK soldier freedom\n",
    "most_related_docs(1, num_docs=20)['title'].tolist()"
   ]
  },
  {
   "cell_type": "code",
   "execution_count": 17,
   "id": "6fb56c04",
   "metadata": {},
   "outputs": [
    {
     "data": {
      "text/plain": [
       "['S. Korea repeals anti-cheating law',\n",
       " 'Expats decry military for gay sex conviction',\n",
       " 'Korean military court convicts soldier over gay sex',\n",
       " '[Herald Interview] The price of faith for conscientious objectors',\n",
       " '[Election 2017] Gender biased language backfires on campaign trail',\n",
       " 'Most N. Koreans criticize government in private: CSIS survey',\n",
       " 'N. Korea strengthens penalty for consuming S. Korean pop culture',\n",
       " 'Female NK soldiers exposed to rape, abuse',\n",
       " 'Drug trafficking hits major cities in North Korea: report',\n",
       " 'North Korea gets 1 day off for Chuseok',\n",
       " 'N. Korea uses women on TV to push forward anti-smoking campaign',\n",
       " 'Public divided on whether to scrap use of ‘Korean age’',\n",
       " '[Video] Web of intrigue in assassination',\n",
       " 'FM nominee’s silver hair draws fans',\n",
       " \"North Korea is a bad trip if you're looking to get high\",\n",
       " '[Weekender] Closer to the people',\n",
       " '[Weekender] Political satire under threat',\n",
       " 'Feminism debate roils progressive party',\n",
       " '[Newsmaker] Lee Jung-mi: From beacon for the underprivileged to historic judge',\n",
       " \"Video of fatal attack on Kim Jung-nam shown at women's trial\"]"
      ]
     },
     "execution_count": 17,
     "metadata": {},
     "output_type": "execute_result"
    }
   ],
   "source": [
    "# Security\n",
    "most_related_docs(7, num_docs=20)['title'].tolist()"
   ]
  },
  {
   "cell_type": "code",
   "execution_count": 18,
   "id": "42ef01a0",
   "metadata": {},
   "outputs": [
    {
     "data": {
      "text/plain": [
       "['Park quietly marks birthday amid probe, impeachment trial',\n",
       " '[News Analysis] Court centers on Park’s assistance of Choi',\n",
       " 'Parliament seeks to question key figures in scandal at detention center',\n",
       " 'Parliament fails to question key figures in scandal at detention center',\n",
       " 'Lawmakers grill woman at heart of scandal at detention center',\n",
       " '[From the scene] Rallies sharpen their rhetoric as Park trial nears end',\n",
       " \"Independent counsel creates special team to check Choi's wealth\",\n",
       " '[Park ousted]  Park’s lawyers condemn ruling as ‘biased’',\n",
       " '[Newsmaker] Chief Justice steps down with ‘heavy heart’',\n",
       " \"[Newsmaker] Is Constitutional Court stacked in Park's favor?\",\n",
       " \"NK says Park's ouster was 'judgment by history'\",\n",
       " '[Focus] Constitutional Court stacked in favor of Park?',\n",
       " \"Presidential office calls for 'calm' amid snowballing scandal\",\n",
       " 'Angry Park supporters call for repeal of impeachment',\n",
       " \"S. Korea urges NK to stop meddling in Seoul's state affairs\",\n",
       " '3rd protester dies as S. Korea braces for more rallies',\n",
       " 'What’s behind S. Korea’s surreal scandal',\n",
       " 'Blue House denies report on disputed official’s dismissal',\n",
       " \"[Park ousted] Court excludes individual justices' conservative tendency from Park’s impeachment ruling\",\n",
       " 'Park refuses to replace key aides']"
      ]
     },
     "execution_count": 18,
     "metadata": {},
     "output_type": "execute_result"
    }
   ],
   "source": [
    "# Nuclear\n",
    "most_related_docs(9, num_docs=20)['title'].tolist()"
   ]
  },
  {
   "cell_type": "code",
   "execution_count": 19,
   "id": "20e0670d",
   "metadata": {},
   "outputs": [
    {
     "data": {
      "text/plain": [
       "['S. Korea repeals anti-cheating law',\n",
       " 'Expats decry military for gay sex conviction',\n",
       " 'Korean military court convicts soldier over gay sex',\n",
       " '[Herald Interview] The price of faith for conscientious objectors',\n",
       " '[Election 2017] Gender biased language backfires on campaign trail',\n",
       " 'Most N. Koreans criticize government in private: CSIS survey',\n",
       " 'N. Korea strengthens penalty for consuming S. Korean pop culture',\n",
       " 'Female NK soldiers exposed to rape, abuse',\n",
       " 'Drug trafficking hits major cities in North Korea: report',\n",
       " 'North Korea gets 1 day off for Chuseok',\n",
       " 'N. Korea uses women on TV to push forward anti-smoking campaign',\n",
       " 'Public divided on whether to scrap use of ‘Korean age’',\n",
       " '[Video] Web of intrigue in assassination',\n",
       " 'FM nominee’s silver hair draws fans',\n",
       " \"North Korea is a bad trip if you're looking to get high\",\n",
       " '[Weekender] Closer to the people',\n",
       " '[Weekender] Political satire under threat',\n",
       " 'Feminism debate roils progressive party',\n",
       " '[Newsmaker] Lee Jung-mi: From beacon for the underprivileged to historic judge',\n",
       " \"Video of fatal attack on Kim Jung-nam shown at women's trial\"]"
      ]
     },
     "execution_count": 19,
     "metadata": {},
     "output_type": "execute_result"
    }
   ],
   "source": [
    "# Sex violence\n",
    "most_related_docs(7, num_docs=20)['title'].tolist()"
   ]
  },
  {
   "cell_type": "code",
   "execution_count": 20,
   "id": "0bf5a07f",
   "metadata": {},
   "outputs": [
    {
     "data": {
      "text/plain": [
       "[\"PyeongChang 'ready to welcome the world' at next Winter Olympics: IOC\",\n",
       " 'N. Korean IOC member keeps mum on Olympic co-hosting with S. Korea',\n",
       " 'Moon says sports can create peace, invites N. Korea to PyeongChang Olympics',\n",
       " \"'NK submitted document for PyeongChang Paralympics participation'\",\n",
       " 'North Korean IOC member says joint Korean team at PyeongChang 2018 may be difficult',\n",
       " 'S. Korean lawmaker says time running out to form joint Korean squad for PyeongChang 2018',\n",
       " 'Park inspects preparations for Summer Universiade',\n",
       " 'Foreigners briefed on anti-terrorism measures for PyeongChang',\n",
       " '[PyeongChang 2018] IOC chief apparently seeks to visit NK over PyeongChang Olympics: sources',\n",
       " \"S. Korea expects NK to accept Moon's offer for joint team for PyeongChang Olympics\",\n",
       " \"Unification ministry OKs N. Korean taekwondo demo team's visit to country\",\n",
       " 'N. Korean taekwondo athletes invited to Seoul',\n",
       " 'PM Lee asks US Olympic chief for help in getting Trump to visit PyeongChang',\n",
       " 'Nearly half of S. Koreans positive about N. Korean participation',\n",
       " 'Moon says S. Korea will keep doors to PyeongChang open for N. Korea until ‘last minute’',\n",
       " \"S. Korea approves N. Koreans' cross-border trip for pre-Universiade meeting\",\n",
       " '[Newsmaker] NK’s PyeongChang participation looks bleak with figure-skating deadline miss',\n",
       " 'Moon says Korea, US could review postponing military drills before Olympics',\n",
       " 'No country has opted out of PyeongChang Olympics for security reasons: Seoul',\n",
       " 'Presidential office says no plan to co-host 2018 Winter Games']"
      ]
     },
     "execution_count": 20,
     "metadata": {},
     "output_type": "execute_result"
    }
   ],
   "source": [
    "# Olympics game\n",
    "most_related_docs(12, num_docs=20)['title'].tolist()"
   ]
  },
  {
   "cell_type": "code",
   "execution_count": 21,
   "id": "a0ebe51b",
   "metadata": {},
   "outputs": [
    {
     "data": {
      "text/plain": [
       "['Civic groups demand U.S. apology for anthrax delivery',\n",
       " 'USFK vows transparency in bio defense training in S. Korea',\n",
       " \"U.S. calls for enhancing defense against 'very real' biological weapons threats from N. Korea\",\n",
       " '‘USFK conducted 16 covert anthrax tests since 2009’',\n",
       " 'S. Korea, U.S. agree to on-site probe of Osan base next week over anthrax shipment',\n",
       " \"U.S. calls shipment of live anthrax sample 'inexcusable mistake'\",\n",
       " \"North Korea's pesticide institute capable of producing anthrax: U.S. expert\",\n",
       " '2 S. Koreans indicted for protesting near U.S. Embassy',\n",
       " 'U.S. institute claims discovery of secret N. Korean uranium facility',\n",
       " 'NK renames agency handling weapons development: source',\n",
       " \"Int'l study finds vast magma storage beneath Mt. Paektu\",\n",
       " 'Korea, U.S. form panel to investigate anthrax delivery',\n",
       " 'Park says innovation is at the heart of survival strategy',\n",
       " 'S. Korea, U.S. seek to enhance cybersecurity cooperation',\n",
       " 'Presidential office admits importing anthrax vaccines, only for treatment',\n",
       " 'NK rejects claim it is developing biological weapons',\n",
       " 'North Korea may be mass producing biological weapons: report',\n",
       " 'Activist arrested for praising N. Korea',\n",
       " 'S. Korea should make use of robotics for potential conflict with N.K.: researcher',\n",
       " 'S. Korea, U.S. strengthen cooperation in science technology sector']"
      ]
     },
     "execution_count": 21,
     "metadata": {},
     "output_type": "execute_result"
    }
   ],
   "source": [
    "# Weapon development\n",
    "most_related_docs(41, num_docs=20)['title'].tolist()"
   ]
  },
  {
   "cell_type": "code",
   "execution_count": 22,
   "id": "6f4cf834",
   "metadata": {},
   "outputs": [
    {
     "data": {
      "text/plain": [
       "['N. Korea claims to have developed panacea for MERS',\n",
       " 'North Korea ends preventive steps against MERS virus',\n",
       " 'NK soldier suffering from pneumonia and blood poisoning: report',\n",
       " 'Number of malaria patients has dropped steadily in recent years: data',\n",
       " \"Gov't to allow blood drives in malaria-prone areas to cope with low reserves\",\n",
       " 'South Korea steps up fight against TB',\n",
       " \"N. Korea' 'free' medical service in deplorable state: sources\",\n",
       " 'N. Korea ramping up efforts to prevent MERS outbreak',\n",
       " 'S. Korea to offer MERS detection devices to N. Korea',\n",
       " 'S. Korea on highest alert for foot-and-mouth outbreak',\n",
       " 'Ebola medics recount mission on edge of death',\n",
       " 'Seoul to provide quarantine gear to North Korea',\n",
       " 'No. of malaria-infected N. Koreans drops for 4th consecutive yr in 2016: report',\n",
       " 'N. Korea demands action against possible MERS cases in Kaesong zone',\n",
       " 'S. Korea to offer MERS detection devices to N. Korea next week',\n",
       " '[Herald Interview] Agency calls for health care support for North Korea',\n",
       " 'NK soldier receives second surgery',\n",
       " '[News Focus] Health risks that plague North Korea',\n",
       " 'S. Korea to install MERS detection devices at joint industrial zone',\n",
       " 'Unification minister to visit inter-Korean border checkpoint on MERS woes']"
      ]
     },
     "execution_count": 22,
     "metadata": {},
     "output_type": "execute_result"
    }
   ],
   "source": [
    "# Disease\n",
    "most_related_docs(46, num_docs=20)['title'].tolist()"
   ]
  },
  {
   "cell_type": "code",
   "execution_count": null,
   "id": "8e3dcd63",
   "metadata": {},
   "outputs": [],
   "source": []
  }
 ],
 "metadata": {
  "kernelspec": {
   "display_name": "Python 3 (ipykernel)",
   "language": "python",
   "name": "python3"
  },
  "language_info": {
   "codemirror_mode": {
    "name": "ipython",
    "version": 3
   },
   "file_extension": ".py",
   "mimetype": "text/x-python",
   "name": "python",
   "nbconvert_exporter": "python",
   "pygments_lexer": "ipython3",
   "version": "3.9.5"
  }
 },
 "nbformat": 4,
 "nbformat_minor": 5
}
