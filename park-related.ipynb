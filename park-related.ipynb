{
 "cells": [
  {
   "cell_type": "code",
   "execution_count": 1,
   "id": "9585bd15",
   "metadata": {},
   "outputs": [
    {
     "name": "stderr",
     "output_type": "stream",
     "text": [
      "[nltk_data] Downloading package stopwords to /root/nltk_data...\n",
      "[nltk_data]   Package stopwords is already up-to-date!\n",
      "[nltk_data] Downloading package wordnet to /root/nltk_data...\n",
      "[nltk_data]   Package wordnet is already up-to-date!\n"
     ]
    }
   ],
   "source": [
    "import pandas as pd\n",
    "import numpy as np\n",
    "import os\n",
    "import re\n",
    "import nltk\n",
    "nltk.download('stopwords')\n",
    "nltk.download('wordnet')\n",
    "import string\n",
    "import random\n",
    "import unicodedata\n",
    "from string import punctuation\n",
    "from string import digits\n",
    "from nltk.stem import WordNetLemmatizer\n",
    "import joblib\n",
    "\n",
    "from sklearn.feature_extraction.text import CountVectorizer\n",
    "from sklearn.feature_extraction.text import TfidfTransformer\n",
    "from sklearn.feature_extraction.text import TfidfVectorizer\n",
    "from sklearn.decomposition import PCA\n",
    "from sklearn.decomposition import TruncatedSVD\n",
    "from sklearn.manifold import TSNE\n",
    "from sklearn.cluster import KMeans\n",
    "from sklearn.cluster import DBSCAN\n",
    "from sklearn.neighbors import NearestNeighbors\n",
    "from sklearn.metrics import silhouette_score\n",
    "from sklearn.decomposition import LatentDirichletAllocation\n",
    "\n",
    "from tqdm import tqdm\n",
    "import matplotlib.pyplot as plt\n",
    "\n",
    "import spacy\n",
    "from spacy.matcher import Matcher\n",
    "\n",
    "from rake_nltk import Rake"
   ]
  },
  {
   "cell_type": "code",
   "execution_count": 2,
   "id": "125a6b86",
   "metadata": {},
   "outputs": [
    {
     "data": {
      "text/plain": [
       "(23769, 6)"
      ]
     },
     "execution_count": 2,
     "metadata": {},
     "output_type": "execute_result"
    }
   ],
   "source": [
    "### Reading data\n",
    "data_dir = 'data/'\n",
    "filename_prefix = 'koreaherald_1517_'\n",
    "df = []\n",
    "\n",
    "for i in range(8):\n",
    "    df.append(pd.read_json(os.path.join(data_dir, filename_prefix + str(i) + '.json')))\n",
    "df = pd.concat(df)\n",
    "df.reset_index(inplace=True)\n",
    "df = df.rename(columns=dict(zip(df.columns,[df.columns[i].strip() for i in range(len(df.columns))])))\n",
    "df.drop('index', inplace=True, axis=1)\n",
    "\n",
    "df.shape"
   ]
  },
  {
   "cell_type": "code",
   "execution_count": 3,
   "id": "ef5aac54",
   "metadata": {},
   "outputs": [],
   "source": [
    "nlp = spacy.load('en_core_web_lg')"
   ]
  },
  {
   "cell_type": "code",
   "execution_count": 4,
   "id": "4fd2fca5",
   "metadata": {},
   "outputs": [],
   "source": [
    "### Lemmatization tool\n",
    "stemmer = WordNetLemmatizer()\n",
    "### Change similar words to the same word\n",
    "UN_WORD = \"The United Nations\"\n",
    "US_WORD = \"The United States\"\n",
    "NK_WORD = \"North Korea\"\n",
    "SK_WORD = \"South Korea\"\n",
    "\n",
    "similar_words = {\n",
    "    # Change to \"The United States\"\n",
    "    \"U.S.\": US_WORD,\n",
    "    \"US\": US_WORD,\n",
    "    \"USA\": US_WORD,\n",
    "    \"United States\": US_WORD,\n",
    "    \"United States'\": US_WORD,\n",
    "    \"The United States'\": US_WORD,\n",
    "    \n",
    "    # Change to \"North Korea\"\n",
    "    \"NK\": NK_WORD,\n",
    "    \"NK's\": NK_WORD,\n",
    "    \"N. Korea\": NK_WORD,\n",
    "    \"N. Korea's\": NK_WORD,\n",
    "    \"North Korea's\": NK_WORD,\n",
    "    \n",
    "    # Change to \"South Korea\"\n",
    "    \"SK\": SK_WORD,\n",
    "    \"SK's\": SK_WORD,\n",
    "    \"S. Korea\": SK_WORD,\n",
    "    \"S. Korea's\": SK_WORD,\n",
    "    \"South Korea's\": SK_WORD,\n",
    "    \n",
    "    # Change to \"The United Nations\"\n",
    "    \"United Nations\": UN_WORD,\n",
    "    \"United Nations'\": UN_WORD,\n",
    "    \"The United Nations'\": UN_WORD,\n",
    "    \"UN\": UN_WORD,\n",
    "}\n",
    "\n",
    "### Transform function\n",
    "def text_cleaning(s: str):\n",
    "        \n",
    "    def replace_strange_char(s: str):\n",
    "        non_en_chars = {\n",
    "            \"’\": \"'\",\n",
    "            \"‘\": \"'\"\n",
    "        }\n",
    "\n",
    "        def remove_non_en_chars(txt):\n",
    "            # remove non english characters\n",
    "            txt = convert_latin_chars(txt)\n",
    "            for char in non_en_chars.keys():\n",
    "                txt = re.sub(char, non_en_chars[char], txt)\n",
    "            txt = re.sub(r'[^\\x00-\\x7F]+', ' ', txt)\n",
    "            return txt\n",
    "\n",
    "        def convert_latin_chars(txt):\n",
    "            # convert latin characters\n",
    "            return ''.join(char for char in unicodedata.normalize('NFKD', txt) if unicodedata.category(char) != 'Mn')\n",
    "\n",
    "        s = remove_non_en_chars(s)\n",
    "        s = convert_latin_chars(s)\n",
    "        return s\n",
    "    s = replace_strange_char(s)\n",
    "    for key,value in similar_words.items():\n",
    "        s = re.sub(key, value, s)\n",
    "    return s\n",
    "\n",
    "def spacy_tokenizer(s: str):\n",
    "    # Change similar terms to the same term\n",
    "    new_str = text_cleaning(s)\n",
    "    doc = nlp(s)\n",
    "    # Group tokens\n",
    "    matcher = Matcher(nlp.vocab)\n",
    "    token_groupup_pattern = [\n",
    "        [{\"LOWER\": \"the\"}, {\"LOWER\": \"united\"}, {\"LOWER\": \"nations\"}],\n",
    "        [{\"LOWER\": \"the\"}, {\"LOWER\": \"united\"}, {\"LOWER\": \"states\"}],\n",
    "        [{\"LOWER\": \"north\"}, {\"LOWER\": \"korea\"}],\n",
    "        [{\"LOWER\": \"south\"}, {\"LOWER\": \"korea\"}],\n",
    "    ]\n",
    "    matcher.add(\"TermGroup\",token_groupup_pattern)\n",
    "    matches = matcher(doc)\n",
    "    merge_doc = []\n",
    "    for nid, start, end in matches:\n",
    "        merge_doc.append((start,end))\n",
    "    with doc.retokenize() as retokenizer:\n",
    "        for i in range(len(merge_doc)-1,-1,-1):\n",
    "            retokenizer.merge(doc[merge_doc[i][0]:merge_doc[i][1]])\n",
    "        \n",
    "    # Remove all stopword, punctuation, number\n",
    "    tokens = [ token.lemma_.lower() for token in doc \\\n",
    "              if not token.is_stop and not token.is_punct and not token.like_num and token.lemma_.strip()!= '']\n",
    "    return tokens"
   ]
  },
  {
   "cell_type": "code",
   "execution_count": 5,
   "id": "4ec68c02",
   "metadata": {},
   "outputs": [],
   "source": [
    "df_park = pd.read_csv('../data/df_park.csv')"
   ]
  },
  {
   "cell_type": "code",
   "execution_count": 6,
   "id": "8ebaae56",
   "metadata": {},
   "outputs": [],
   "source": [
    "# pp_vectorizer = CountVectorizer(tokenizer=spacy_tokenizer)\n",
    "# pp_data_vectorized = pp_vectorizer.fit_transform(df_park['body'])\n",
    "# joblib.dump(pp_vectorizer, '../data/pp_vectorizer.csv')\n",
    "# joblib.dump(pp_data_vectorized, '../data/pp_data_vectorized.csv')"
   ]
  },
  {
   "cell_type": "code",
   "execution_count": 7,
   "id": "73bbf1d7",
   "metadata": {},
   "outputs": [],
   "source": [
    "pp_vectorizer = joblib.load('../data/pp_vectorizer.csv')\n",
    "pp_data_vectorized = joblib.load('../data/pp_data_vectorized.csv')"
   ]
  },
  {
   "cell_type": "code",
   "execution_count": 8,
   "id": "0bb50b84",
   "metadata": {},
   "outputs": [],
   "source": [
    "# lda = LatentDirichletAllocation(n_components=50, random_state=0)\n",
    "# lda.fit(pp_data_vectorized)\n",
    "# joblib.dump(lda, '../data/pp_lda.csv')"
   ]
  },
  {
   "cell_type": "code",
   "execution_count": 9,
   "id": "cd50add5",
   "metadata": {},
   "outputs": [],
   "source": [
    "lda = joblib.load('../data/pp_lda.csv')"
   ]
  },
  {
   "cell_type": "code",
   "execution_count": 10,
   "id": "93cdd0de",
   "metadata": {},
   "outputs": [],
   "source": [
    "def print_top_words(model, vectorizer, n_top_words):\n",
    "    feature_names = vectorizer.get_feature_names()\n",
    "    for topic_idx, topic in enumerate(model.components_):\n",
    "        message = \"\\nTopic #%d: \" % topic_idx\n",
    "        message += \" \".join([feature_names[i]\n",
    "                             for i in topic.argsort()[:-n_top_words - 1:-1]])\n",
    "        print(message)\n",
    "    print()"
   ]
  },
  {
   "cell_type": "code",
   "execution_count": 11,
   "id": "0a31ae7d",
   "metadata": {},
   "outputs": [
    {
     "name": "stdout",
     "output_type": "stream",
     "text": [
      "\n",
      "Topic #0: iran tehran iranian sanction rouhani hassan islamic business mous middle follow visit lifting $ large bilateral infrastructure lift historic trip nuclear international ministry tap mou\n",
      "\n",
      "Topic #1: park korean south korea system deployment south missile say thaad defense government plan mexico terminal area hye altitude yonhap geun battery country president people korea high\n",
      "\n",
      "Topic #2: choi park president say scandal foundation soon presidential chung sil allegation state suspect influence daughter company sport office affair university k local close official jeong\n",
      "\n",
      "Topic #3: hwang minister prime president act kyo ahn say meeting government cabinet day national corruption yonhap public hye geun state park people take justice new affair\n",
      "\n",
      "Topic #4: car park cable mountain civil government pension project city local service route say visitor group national call loom county year environment pay yangyang habitat animal\n",
      "\n",
      "Topic #5: earthquake say pyeongchang winter safety quake olympics olympic magnitude country ministry disaster public colombia swiss city gyeongju colombian korea game agency event national aftershock facility\n",
      "\n",
      "Topic #6: park lee court charge samsung group seoul choi year say trial president arrest bribery geun won district hye detention include corruption central bribe prosecution power\n",
      "\n",
      "Topic #7: korea korean year country ambassador international cooperation seoul world asia russia foreign economic development trade initiative investment project relation lee joel cultural peace visit minister\n",
      "\n",
      "Topic #8: summit park trade south korea cooperation leader visit country president economic bilateral south china hold free say geun hye korean deal talk meeting agreement asia discuss\n",
      "\n",
      "Topic #9: textbook history school say government election author state year high vote country book ministry education city airport student official park seoul new plan daegu korea\n",
      "\n",
      "Topic #10: park economic government say people year economy country korea president public national policy state new growth geun hye effort official meeting call nation minister south korea\n",
      "\n",
      "Topic #11: house home park residence samseong dong president hye chung late stay geun semester fire southern country friday year student office hee gumi yonhap sunday father\n",
      "\n",
      "Topic #12: ferry sewol say president park kim family disaster people death sinking government victim ship memorial sink year ceremony accident life rescue leave april kill geun\n",
      "\n",
      "Topic #13: tillerson rex li leg faithful secretary acting ironclad shoulder final enrique inaugural biennial pena march tour importance trip scrutinize summit.the nieto jinjun threat mexico added.hwang\n",
      "\n",
      "Topic #14: defense military say ministry official plan system force thaad air han resident seongju south korea government site country launcher project base radar technology area year operation\n",
      "\n",
      "Topic #15: rally park police seoul say president protest hold people saturday geun group hye street korea central protester public gwanghwamun square citizen country take government old\n",
      "\n",
      "Topic #16: document presidential wa dae cheong president park official leak say record cho office law aide officer chung archive report secretary police geun administration information hye\n",
      "\n",
      "Topic #17: song memoir say party sea seoul book china right claim human foreign maritime minister twitter talk threat dispute political position bomb korea north armament man\n",
      "\n",
      "Topic #18: party election kim lee park candidate say presidential win nis national conservative lawmaker campaign moon president agency korea political hong seoul chief rep run intelligence\n",
      "\n",
      "Topic #19: mers health outbreak hospital patient disease virus medical respiratory election say public spread day syndrome case middle people government early east number voting ministry seoul\n",
      "\n",
      "Topic #20: education ministry government say school student child program university year care plan policy welfare high teacher system korea office college english budget provide won cost\n",
      "\n",
      "Topic #21: park president say roh geun visit hye presidential new school dae wa meeting cheong leader south leave asem reservist malaysia year economic late reserve office\n",
      "\n",
      "Topic #22: percent party rating poll park week approval survey point percentage president support show moon conduct korea people presidential say realmeter jae geun hye south gallup\n",
      "\n",
      "Topic #23: state say government park president textbook history korean kim national year administration ministry professor rule issue current dae author new wa cheong time korea opposition\n",
      "\n",
      "Topic #24: medical doctor lee treatment purchase clinic receive estate surgery injection real cosmetic property plastic hospital apartment aging kim confirmation anti suh speculation hear suspicion nominee\n",
      "\n",
      "Topic #25: ban general secretary un presidential ki moon u.n say year visit run political election return chief country potential south south korea korean home candidate official end\n",
      "\n",
      "Topic #26: bill party assembly lawmaker national say opposition parliamentary president park saenuri session speaker rule law pass chung revision rep government political constitutional constitution vote power\n",
      "\n",
      "Topic #27: nuclear north korea north say korean test park south korea china pyongyang sanction president south talk kim security u.s leader international weapon u.n program missile country military\n",
      "\n",
      "Topic #28: lee minister sung say hong prime scandal wan park sing list prosecution koo money fund jong receive probe political investigation politician claim allegation chief kim\n",
      "\n",
      "Topic #29: woman deal victim japan agreement government comfort japanese say korean issue statue sexual seoul slavery tokyo sex force group right legal settlement korea yen foundation\n",
      "\n",
      "Topic #30: samsung lee group chairman choi special president pardon yong business electronics jae vice team conglomerate counsel park chung include arrest sk bribery merger heir give\n",
      "\n",
      "Topic #31: party park opposition saenuri rep say president leader lawmaker rule election political kim member people presidential floor conservative korea main new national yoo democratic meeting\n",
      "\n",
      "Topic #32: park country korean south korea say technology energy business south new cooperation president climate global development project world korea visit economy set creative industry plan change\n",
      "\n",
      "Topic #33: park say public president official day south government geun report year hye korean holiday rumor south korea people meeting kato week nation time message call remark\n",
      "\n",
      "Topic #34: korean family reunion south separate koreas hold north unification war peace north korea talk inter cross peninsula member say border event red train eurasia tuesday end\n",
      "\n",
      "Topic #35: park court president impeachment say choi constitutional trial justice counsel presidential scandal team hearing geun hye soon independent office sil investigation corruption day ruling lawyer\n",
      "\n",
      "Topic #36: mongolia peru mongolian trainer kai jet peruvian humala aircraft cooperation attack build light lima ulaanbaatar air tumen fa-50 football country assemble shortage program help elbegdorj\n",
      "\n",
      "Topic #37: north korean say north korea military south pyongyang seoul missile south korea provocation launch kim border year park nuclear human korea inter attack official call right unification\n",
      "\n",
      "Topic #38: posco official steelmaker slush seoul column construction medicine hong chung e&c take fund ban lkp meal center young detention anti kim prescription change seek hye\n",
      "\n",
      "Topic #39: say u.s seoul china defense south korea security missile thaad park president issue washington korean north korea deployment foreign system nuclear official alliance visit threat south country\n",
      "\n",
      "Topic #40: labor government reform worker job union say market year percent wage park plan business company system young create sector people work regular trade age call\n",
      "\n",
      "Topic #41: president year security national country airport flextime system service vietnamese lim population support south korea birthrate maritime say family yonhap office help hye meeting cabinet geun\n",
      "\n",
      "Topic #42: moon president korea election conservative presidential ahn political jae say people liberal candidate lead party hong democratic year country power support voter right think professor\n",
      "\n",
      "Topic #43: japan issue japanese abe korean say minister tokyo park seoul summit south korea war hold foreign meeting bilateral prime relation world talk woman shinzo trilateral south\n",
      "\n",
      "Topic #44: park prosecutor president prosecution office investigation presidential woo probe scandal allegation official state geun suspect seoul secretary say corruption charge arrest involve hye affair choi\n",
      "\n",
      "Topic #45: party npad pension public opposition tax park government saenuri say reform budget main bill rep national new democracy alliance year official politic leader rule won\n",
      "\n",
      "Topic #46: wealth broadcast halal food greece greek official abu uae dhabi mark korean train park say express year south korea sport egyptian president loudspeaker russia include campaign\n",
      "\n",
      "Topic #47: minister presidential president kim office wa dae cheong new chief moon secretary park affair official ministry senior say national staff post geun cabinet jae hye\n",
      "\n",
      "Topic #48: korean north inter north korea government unification say ministry complex industrial south aid park humanitarian seoul plan group exchange kaesong year project joint assistance pyongyang factory\n",
      "\n",
      "Topic #49: say north korean british forest britain university malaysia u.s korea bank contact preventive support hammond expert farm hay continue seoul submarine kfs infected international test\n",
      "\n"
     ]
    },
    {
     "name": "stderr",
     "output_type": "stream",
     "text": [
      "/root/miniconda3/lib/python3.9/site-packages/sklearn/utils/deprecation.py:87: FutureWarning: Function get_feature_names is deprecated; get_feature_names is deprecated in 1.0 and will be removed in 1.2. Please use get_feature_names_out instead.\n",
      "  warnings.warn(msg, category=FutureWarning)\n"
     ]
    }
   ],
   "source": [
    "print_top_words(lda, pp_vectorizer, n_top_words=25)"
   ]
  },
  {
   "cell_type": "code",
   "execution_count": 12,
   "id": "2bf96acf",
   "metadata": {},
   "outputs": [
    {
     "data": {
      "text/plain": [
       "'\\nLDA 50 topics\\nTopic 0: Tragedy\\nTopic 1: Soldier\\nTopic 2: nuclear / missile\\nTopic 3: ?\\nTopic 4: ?\\nTopic 5: war \\nTopic 6: Travel?\\nTopic 7: Sex violence\\nTopic 8: ?\\nTopic 9: ?\\nTopic 10: ?\\nTopic 11: ?\\nTopic 12: Olympics game\\nTopic 13: ?\\nTopic 14: Army\\nTopic 15: Dokdo\\nTopic 16: \\nTopic 17: Moon and Park\\nTopic 33: missile nuclear\\nTopic 34: airplane\\nTopic 35: President\\nTopic 36: misile nuclear\\nTopic 41: science technology\\nTopic 46: disease\\nTopic 47: blood donate\\nTopic 48: Japanese and sex victim\\nTopic 49: Worker, job market\\n'"
      ]
     },
     "execution_count": 12,
     "metadata": {},
     "output_type": "execute_result"
    }
   ],
   "source": [
    "'''\n",
    "LDA 50 topics\n",
    "Topic 0: Iran\n",
    "Topic 1: development\n",
    "Topic 2: ?\n",
    "Topic 3: ?\n",
    "Topic 4: city?\n",
    "Topic 5: disaster\n",
    "Topic 6: -\n",
    "Topic 7: Between country\n",
    "Topic 8: \n",
    "Topic 9: education\n",
    "Topic 10: economic\n",
    "Topic 11: residence\n",
    "Topic 12: sewol\n",
    "Topic 16: president\n",
    "Topic 19: MERS\n",
    "Topic 21: president park\n",
    "Topic 26: Party\n",
    "Topic 27: nuclear\n",
    "Topic 30: Electronics\n",
    "Topic 34: Unification\n",
    "Topic 36: mongolia\n",
    "Topic 48: North Korea\n",
    "'''"
   ]
  },
  {
   "cell_type": "code",
   "execution_count": 13,
   "id": "48ca0a89",
   "metadata": {},
   "outputs": [],
   "source": [
    "# pp_doc_topic_dist = pd.DataFrame(lda.transform(pp_data_vectorized))\n",
    "# pp_doc_topic_dist.to_csv('../data/pp_doc_topic_dist.csv', index=False)"
   ]
  },
  {
   "cell_type": "code",
   "execution_count": 14,
   "id": "f1c66c2d",
   "metadata": {},
   "outputs": [],
   "source": [
    "pp_doc_topic_dist = pd.read_csv('../data/pp_doc_topic_dist.csv')"
   ]
  },
  {
   "cell_type": "code",
   "execution_count": 16,
   "id": "18ee2130",
   "metadata": {},
   "outputs": [],
   "source": [
    "def most_related_docs(topic_index, num_docs=5):\n",
    "    sorted_doc = pp_doc_topic_dist.sort_values(by=['{}'.format(topic_index)], ascending=False)\n",
    "    return df_park.iloc[sorted_doc[:num_docs].index]"
   ]
  },
  {
   "cell_type": "code",
   "execution_count": 23,
   "id": "1db3de96",
   "metadata": {},
   "outputs": [
    {
     "data": {
      "text/plain": [
       "['Park to make historic visit to Iran next month',\n",
       " 'Korea, Mongolia agree to seek increase in flights, bolster development cooperation',\n",
       " 'Park to meet with Rouhani, supreme leader',\n",
       " 'Seoul, Iran officials to meet over economy, Pyongyang',\n",
       " 'Park mulling visiting Iran',\n",
       " 'Park leaves for Iran for talks with Rouhani',\n",
       " 'Korea vows to support Iran in development of capital markets',\n",
       " 'President Park to depart for Iran to seek opportunities',\n",
       " 'Park arrives in Korea after groundbreaking trip to Iran',\n",
       " 'Park vows efforts to narrow global education gap',\n",
       " 'Korea-Iran summit paves way for $45.6b business deals',\n",
       " 'In diplomatic flurry, Park considers Iran visit',\n",
       " 'Ambassador says Korea revs up efforts to restore ties with Iran',\n",
       " 'In diplomatic flurry, Park mulls Iran visit',\n",
       " 'Korea, Iran to boost IT, science cooperation',\n",
       " 'Park’s visit to Iran landmark in bilateral relations',\n",
       " \"Park: S. Korea, Iran can work together toward N. Korea's denuclearization\",\n",
       " 'Korea, Iran to discuss launching joint fish farming venture',\n",
       " 'Park’s visit to Iran signals leap in bilateral ties',\n",
       " 'Park, Khamenei reach consensus on boosting ties']"
      ]
     },
     "execution_count": 23,
     "metadata": {},
     "output_type": "execute_result"
    }
   ],
   "source": [
    "# Iran\n",
    "most_related_docs(0, num_docs=20)['title'].tolist()"
   ]
  },
  {
   "cell_type": "code",
   "execution_count": 22,
   "id": "73c19957",
   "metadata": {},
   "outputs": [
    {
     "data": {
      "text/plain": [
       "['Park phones chief of S. Korean research station in Antarctica',\n",
       " 'Seoul pushing to convey DMZ park plan to North',\n",
       " 'Seoul pushing to convey DMZ park plan to N. Korea',\n",
       " 'Park in Brazil on last leg of S. America tour',\n",
       " 'Park to meet ruling party lawmakers for talks over THAAD',\n",
       " 'Residents of Gimcheon protest THAAD deployment decision',\n",
       " 'Park pays tribute to Mexican heroes ahead of talks with Pena Nieto',\n",
       " 'Park renews calls for peaceful unification with North Korea',\n",
       " 'Park calls for cooperation with China-led AIIB',\n",
       " 'Opposition leader demands parliamentary approval of THAAD battery',\n",
       " 'Park renews call for national unity in face of N.K. security threats',\n",
       " \"Mongolian version of Park's autobiography republished\",\n",
       " 'S. Korean election result unlikely to affect THAAD talks: U.S. official',\n",
       " 'Park leaves for home after four-nation tour of S. America',\n",
       " 'Seoul should suspend THAAD until Beijing halts retaliation: scholar',\n",
       " 'Park steps up efforts to curb THAAD criticism',\n",
       " '[JEJU FORUM] Norwegian scholar criticizes no ‘exit strategy’ on N.K.',\n",
       " 'Park arrives in S. Korea after trip to U.S., Mexico',\n",
       " 'Park calls for China’s role on Peninsula',\n",
       " 'Park wraps up four-nation S. America tour']"
      ]
     },
     "execution_count": 22,
     "metadata": {},
     "output_type": "execute_result"
    }
   ],
   "source": [
    "# Development\n",
    "most_related_docs(1, num_docs=20)['title'].tolist()"
   ]
  },
  {
   "cell_type": "code",
   "execution_count": 21,
   "id": "6074ae61",
   "metadata": {},
   "outputs": [
    {
     "data": {
      "text/plain": [
       "['Overseas voters required to sign up for May 9 election in a week',\n",
       " 'After MERS, Korea to beef up health expertise',\n",
       " 'Ministry, Samsung Medical Center playing blame game on MERS outbreak',\n",
       " \"Election watchdog asks Facebook to help prevent 'fake' news\",\n",
       " 'Final turnout to reach 80%: election watchdog',\n",
       " 'MERS outbreak ‘practically over’',\n",
       " '[Newsmaker] Korea’s MERS concerns more about politics than health',\n",
       " '[Weekender] 4,000 kilometers of business and pleasure',\n",
       " 'Park invites foreign medical experts after MERS outbreak',\n",
       " 'Anti-bandwagon election rule leaves early voters exposed',\n",
       " 'Parliament approves health minister nominee',\n",
       " 'Park tours hospital with MERS patients',\n",
       " 'Park meets WHO chief over MERS outbreak',\n",
       " 'Park meets MERS task force officials',\n",
       " 'Quarantine team sent to Samsung hospital',\n",
       " 'Park says utmost efforts under way to contain MERS',\n",
       " 'Korea aims to draw 400,000 foreign medical patients',\n",
       " 'Record overseas voters register for presidential election',\n",
       " 'Park to convene emergency meeting over MERS',\n",
       " 'Doubts grow over containment plans']"
      ]
     },
     "execution_count": 21,
     "metadata": {},
     "output_type": "execute_result"
    }
   ],
   "source": [
    "# MERS\n",
    "most_related_docs(19, num_docs=20)['title'].tolist()"
   ]
  },
  {
   "cell_type": "code",
   "execution_count": 24,
   "id": "aa31bb1e",
   "metadata": {},
   "outputs": [
    {
     "data": {
      "text/plain": [
       "['Govt designates quake-hit Gyeongju as special disaster zone',\n",
       " 'Aftershocks expected to continue: KMA',\n",
       " 'Switzerland marks national day with classical music',\n",
       " 'Park calls for review to designate quake-hit Gyeongju as special disaster zone',\n",
       " 'THAAD row not affecting PyeongChang-Beijing Winter Games',\n",
       " 'Quake triggers safety concerns, halts facilities',\n",
       " 'Park embraces Muslim culture to befriend Iran',\n",
       " \"Samsung's leadership vaccum won't affect PyeongChang's Olympic preps: top organizer\",\n",
       " 'Colombia celebrates peace and prosperity at independence anniversary',\n",
       " 'Park calls for thorough preparation for 2018 Winter Games',\n",
       " \"Preparations for PyeongChang Olympics will go on despite Park's impeachment: organizers\",\n",
       " 'Magnitude-5.8 earthquake jolts southeastern S. Korea',\n",
       " 'Acting President Hwang vows to put top priority on public safety',\n",
       " 'Colombia, Korea boost cooperation for FTA',\n",
       " \"Parties slam government's earthquake countermeasures\",\n",
       " 'Park sends condolences for Nepal quake deaths',\n",
       " 'Prosecutors drop charges against ex-Seoul Phil chief',\n",
       " 'Park pleased over UNESCO recognition',\n",
       " 'Park offers condolences to Ecuador over deadly quake',\n",
       " 'Unions to play soccer with North']"
      ]
     },
     "execution_count": 24,
     "metadata": {},
     "output_type": "execute_result"
    }
   ],
   "source": [
    "# Disaster\n",
    "most_related_docs(5, num_docs=20)['title'].tolist() "
   ]
  },
  {
   "cell_type": "code",
   "execution_count": 25,
   "id": "544789a8",
   "metadata": {},
   "outputs": [
    {
     "data": {
      "text/plain": [
       "['[From the Scene] Koreans pray for recovery of bodies',\n",
       " 'Sewol recovery leaves unique trail for Chinese veteran diver',\n",
       " 'SNUH accused of delaying analysis of farmer’s death',\n",
       " 'Activist farmer died due to external cause: SNHU',\n",
       " '[From the Scene] 3 years on, still no closure on Sewol tragedy',\n",
       " 'War hero at the heart of Korea-U.S. alliance',\n",
       " 'Park visits hospital to offer condolences for death of former president',\n",
       " 'Police chief makes belated apology over protestor’s death',\n",
       " 'Park expresses deep condolences over Florida shooting victims',\n",
       " 'Park vows to consider recovery of sunken ferry',\n",
       " 'Foreign correspondents say Park should address national divide',\n",
       " 'Park condemns truck attack in southern France',\n",
       " 'How the ferry Sewol sank and what it means',\n",
       " 'Cabinet passes ordinance to probe ferry sinking',\n",
       " '[From the scene] Ordinary Koreans stage sit-in to protect deceased farmer’s body',\n",
       " 'Part-time teachers to have Sewol deaths recognized',\n",
       " 'Possible remains of Sewol victims found',\n",
       " 'Park unveils letter from Chinese fan',\n",
       " 'Park bids farewell to late President Kim',\n",
       " \"Gov't concludes physical recovery of sunken ferry possible\"]"
      ]
     },
     "execution_count": 25,
     "metadata": {},
     "output_type": "execute_result"
    }
   ],
   "source": [
    "# Sewol\n",
    "most_related_docs(12, num_docs=20)['title'].tolist()"
   ]
  },
  {
   "cell_type": "code",
   "execution_count": 27,
   "id": "b5e166ed",
   "metadata": {},
   "outputs": [
    {
     "data": {
      "text/plain": [
       "['Bulgaria, Korea celebrate future-oriented partnership',\n",
       " 'Bulgaria upgrades partnership with Korea',\n",
       " 'Turkey marks republican anniversary',\n",
       " 'Serbia hails Korean investors in silver jubilee celebration',\n",
       " 'Peru celebrates strategic alliance with Korea',\n",
       " 'Egypt fetes 20 years of ties with Korea',\n",
       " '‘Kazakhstan wants Korea at Astana Expo 2017’',\n",
       " 'Bulgaria, hotbed of ICT collaboration',\n",
       " 'Russia, Korea mark growing ties at silver jubilee',\n",
       " '[Weekender] Reaching for the Eurasian dream',\n",
       " 'Uzbekistan, Korea upgrade economic partnership',\n",
       " 'Italian ambassador hosts last reception',\n",
       " '‘Dolphin diplomacy’ features in Seoul Defense Dialogue',\n",
       " 'Experts talk over Tumen initiative for regional prosperity',\n",
       " 'Park to meet Bulgarian president next week',\n",
       " 'Colombian independence reception teems with festive music, dance',\n",
       " '72 pct of S. Koreans say Russia helpful for national security: poll',\n",
       " 'Turkey marks independence, alliance with Korea',\n",
       " 'Poland awaits investment as Europe’s transport hub',\n",
       " 'Seoul’s new slogan ridiculed']"
      ]
     },
     "execution_count": 27,
     "metadata": {},
     "output_type": "execute_result"
    }
   ],
   "source": [
    "# Between country\n",
    "most_related_docs(7, num_docs=20)['title'].tolist()"
   ]
  },
  {
   "cell_type": "code",
   "execution_count": 28,
   "id": "9c7413cb",
   "metadata": {},
   "outputs": [
    {
     "data": {
      "text/plain": [
       "['Red Cross to confirm surviving members of separated families',\n",
       " 'Park calls for end of inter-Korean division',\n",
       " 'S. Korean separated families gather ahead of reunions with N.K. relatives',\n",
       " 'Koreas exchange rough lists of candidates for family reunions',\n",
       " 'Koreas to exchange final lists of candidates for family reunions',\n",
       " 'Koreas locked in talks on reuniting separated families',\n",
       " '‘Eurasia Express’ launched to boost regional ties',\n",
       " 'Koreas agree to hold family reunions in late Oct.',\n",
       " 'Remains of ex-commandos from 684 unit enshrined',\n",
       " \"U.S. praises S. Korea's efforts to improve inter-Korean ties after family reunion agreement\",\n",
       " 'FM Yun to visit Poland, Germany on Eurasia Express program',\n",
       " 'Hope grows for separated family reunion',\n",
       " 'S. Korea pushing to relink inter-Korean railway: minister',\n",
       " 'Young N.K. defectors keen on unification',\n",
       " 'Eurasia Express trains set for 14,400-km journey',\n",
       " 'Eurasia Express train ends journey in Berlin',\n",
       " 'Two Koreas hold talks on family reunions',\n",
       " 'Korea National Red Cross to push for regular family reunions',\n",
       " 'Red Cross seeks regular reunions',\n",
       " 'North Korea sees need to identify fate of separated families: Seoul official']"
      ]
     },
     "execution_count": 28,
     "metadata": {},
     "output_type": "execute_result"
    }
   ],
   "source": [
    "# Unification\n",
    "most_related_docs(34, num_docs=20)['title'].tolist()"
   ]
  },
  {
   "cell_type": "code",
   "execution_count": 29,
   "id": "7bec01e2",
   "metadata": {},
   "outputs": [
    {
     "data": {
      "text/plain": [
       "['Korea OKs first civilian inter-Korean contact since Moon took office',\n",
       " \"NK rejects S. Korean aid provider's inter-Korean exchanges, citing sanctions\",\n",
       " \"[Herald Interview] 'South’s humanitarian aid to North will move the world'\",\n",
       " 'S. Korea likely to resume supply of humanitarian aid to NK',\n",
       " 'S. Korea approves $8m in aid to N. Korea via UN agencies',\n",
       " \"S. Korea reviewing 19 civic groups' request for NK contact\",\n",
       " 'S. Korea to flexibly handle civilian inter-Korean exchanges',\n",
       " 'New panel launched to review NK policies of preceding conservative govt.',\n",
       " 'NK rejects S. Korean civilian offers to resume exchanges',\n",
       " 'S. Korea mulling over $8m in aid to NK via UN agencies',\n",
       " 'Kaesong firms undecided on whether to seek visit to N. Korea this month',\n",
       " 'Seoul to support N.K. doctors’ training in Germany',\n",
       " 'Closure of Kaesong complex unilaterally ordered by ex-leader Park: panel',\n",
       " 'S. Korea offers largest amount of cash, goods to NK in 2003-2008: data',\n",
       " \"Korea checking report on Park's letter to ex-NK leader\",\n",
       " 'Korean aid groups hope for revival of inter-Korean exchanges',\n",
       " 'Korea not considering closure of Kaesong complex',\n",
       " \"S. Korea to support N. Korean doctors' training in Germany\",\n",
       " \"Civic group blames gov't for failure to hold joint summit event\",\n",
       " 'S. Korea reaffirms firm response to NK nukes, but openness to civilian exchanges']"
      ]
     },
     "execution_count": 29,
     "metadata": {},
     "output_type": "execute_result"
    }
   ],
   "source": [
    "# With North Korea\n",
    "most_related_docs(48, num_docs=20)['title'].tolist()"
   ]
  },
  {
   "cell_type": "code",
   "execution_count": null,
   "id": "8dfbdfd1",
   "metadata": {},
   "outputs": [],
   "source": []
  }
 ],
 "metadata": {
  "kernelspec": {
   "display_name": "Python 3 (ipykernel)",
   "language": "python",
   "name": "python3"
  },
  "language_info": {
   "codemirror_mode": {
    "name": "ipython",
    "version": 3
   },
   "file_extension": ".py",
   "mimetype": "text/x-python",
   "name": "python",
   "nbconvert_exporter": "python",
   "pygments_lexer": "ipython3",
   "version": "3.9.5"
  }
 },
 "nbformat": 4,
 "nbformat_minor": 5
}
