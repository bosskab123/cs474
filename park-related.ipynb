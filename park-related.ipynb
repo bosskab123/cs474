{
 "cells": [
  {
   "cell_type": "code",
   "execution_count": 1,
   "id": "9585bd15",
   "metadata": {},
   "outputs": [
    {
     "name": "stderr",
     "output_type": "stream",
     "text": [
      "[nltk_data] Downloading package stopwords to\n",
      "[nltk_data]     C:\\Users\\Modern\\AppData\\Roaming\\nltk_data...\n",
      "[nltk_data]   Package stopwords is already up-to-date!\n",
      "[nltk_data] Downloading package wordnet to\n",
      "[nltk_data]     C:\\Users\\Modern\\AppData\\Roaming\\nltk_data...\n",
      "[nltk_data]   Package wordnet is already up-to-date!\n"
     ]
    }
   ],
   "source": [
    "import pandas as pd\n",
    "import numpy as np\n",
    "import os\n",
    "import re\n",
    "import nltk\n",
    "nltk.download('stopwords')\n",
    "nltk.download('wordnet')\n",
    "import string\n",
    "import random\n",
    "import unicodedata\n",
    "from string import punctuation\n",
    "from string import digits\n",
    "from nltk.stem import WordNetLemmatizer\n",
    "import joblib\n",
    "\n",
    "from sklearn.feature_extraction.text import CountVectorizer\n",
    "from sklearn.decomposition import LatentDirichletAllocation\n",
    "\n",
    "from tqdm import tqdm\n",
    "import spacy\n",
    "from spacy.matcher import Matcher"
   ]
  },
  {
   "cell_type": "code",
   "execution_count": 2,
   "id": "125a6b86",
   "metadata": {},
   "outputs": [
    {
     "data": {
      "text/plain": [
       "(23769, 7)"
      ]
     },
     "execution_count": 2,
     "metadata": {},
     "output_type": "execute_result"
    }
   ],
   "source": [
    "pd.set_option('display.max_colwidth', 2000)\n",
    "### Reading data\n",
    "data_dir = 'data/'\n",
    "filename_prefix = 'koreaherald_1517_'\n",
    "df = []\n",
    "\n",
    "for i in range(8):\n",
    "    df.append(pd.read_json(os.path.join(data_dir, filename_prefix + str(i) + '.json')))\n",
    "df = pd.concat(df)\n",
    "df.reset_index(inplace=True)\n",
    "df = df.rename(columns=dict(zip(df.columns,[df.columns[i].strip() for i in range(len(df.columns))])))\n",
    "df.drop('index', inplace=True, axis=1)\n",
    "df['agg_title_body'] = df['title'] + df['body']\n",
    "\n",
    "df.shape"
   ]
  },
  {
   "cell_type": "code",
   "execution_count": 3,
   "id": "ef5aac54",
   "metadata": {},
   "outputs": [],
   "source": [
    "nlp = spacy.load('en_core_web_lg')"
   ]
  },
  {
   "cell_type": "code",
   "execution_count": 4,
   "id": "4fd2fca5",
   "metadata": {},
   "outputs": [],
   "source": [
    "### Lemmatization tool\n",
    "stemmer = WordNetLemmatizer()\n",
    "### Change similar words to the same word\n",
    "UN_WORD = \"The United Nations\"\n",
    "US_WORD = \"The United States\"\n",
    "NK_WORD = \"North Korea\"\n",
    "SK_WORD = \"South Korea\"\n",
    "PARK_WORD = \"Park Geun-hye\"\n",
    "\n",
    "similar_words = {\n",
    "    # Change to \"The United States\"\n",
    "    \"U.S.\": US_WORD,\n",
    "    \"US\": US_WORD,\n",
    "    \"USA\": US_WORD,\n",
    "    \"United States\": US_WORD,\n",
    "    \"United States'\": US_WORD,\n",
    "    \"The United States'\": US_WORD,\n",
    "    \n",
    "    # Change to \"North Korea\"\n",
    "    \"NK\": NK_WORD,\n",
    "    \"NK's\": NK_WORD,\n",
    "    \"N. Korea\": NK_WORD,\n",
    "    \"N. Korea's\": NK_WORD,\n",
    "    \"North Korea's\": NK_WORD,\n",
    "    \n",
    "    # Change to \"South Korea\"\n",
    "    \"SK\": SK_WORD,\n",
    "    \"SK's\": SK_WORD,\n",
    "    \"S. Korea\": SK_WORD,\n",
    "    \"S. Korea's\": SK_WORD,\n",
    "    \"South Korea's\": SK_WORD,\n",
    "    \n",
    "    # Change to \"The United Nations\"\n",
    "    \"United Nations\": UN_WORD,\n",
    "    \"United Nations'\": UN_WORD,\n",
    "    \"The United Nations'\": UN_WORD,\n",
    "    \"UN\": UN_WORD,\n",
    "    \n",
    "    # Change to \"Park Geun-hye\"\n",
    "    \"President Park Geun-hye's\": PARK_WORD,\n",
    "    \"President Park Geun-Hye's\": PARK_WORD,\n",
    "    \"President Park Geun Hye's\": PARK_WORD,\n",
    "    \"President Park Geun-hye\": PARK_WORD,\n",
    "    \"President Park Geun-Hye\": PARK_WORD,\n",
    "    \"President Park Geun Hye\": PARK_WORD,\n",
    "    \"President Park's\": PARK_WORD,\n",
    "    \"President Park\": PARK_WORD,\n",
    "    \"Park Geun-hye's\": PARK_WORD,\n",
    "    \"Park Geun-Hye's\": PARK_WORD,\n",
    "    \"Park Geun Hye's\": PARK_WORD,\n",
    "    \"Park Geun-Hye\": PARK_WORD,\n",
    "    \"Park Geun Hye\": PARK_WORD,\n",
    "}\n",
    "\n",
    "### Transform function\n",
    "def text_cleaning(s: str):\n",
    "        \n",
    "    def replace_strange_char(s: str):\n",
    "        non_en_chars = {\n",
    "            \"’\": \"'\",\n",
    "            \"‘\": \"'\"\n",
    "        }\n",
    "\n",
    "        def remove_non_en_chars(txt):\n",
    "            # remove non english characters\n",
    "            txt = convert_latin_chars(txt)\n",
    "            for char in non_en_chars.keys():\n",
    "                txt = re.sub(char, non_en_chars[char], txt)\n",
    "            txt = re.sub(r'[^\\x00-\\x7F]+', ' ', txt)\n",
    "            return txt\n",
    "\n",
    "        def convert_latin_chars(txt):\n",
    "            # convert latin characters\n",
    "            return ''.join(char for char in unicodedata.normalize('NFKD', txt) if unicodedata.category(char) != 'Mn')\n",
    "\n",
    "        s = remove_non_en_chars(s)\n",
    "        s = convert_latin_chars(s)\n",
    "        return s\n",
    "    s = replace_strange_char(s)\n",
    "    for key,value in similar_words.items():\n",
    "        s = re.sub(key, value, s)\n",
    "    return s\n",
    "\n",
    "def spacy_tokenizer(s: str):\n",
    "    # Change similar terms to the same term\n",
    "    new_str = text_cleaning(s)\n",
    "    doc = nlp(s)\n",
    "    # Group tokens\n",
    "    matcher = Matcher(nlp.vocab)\n",
    "    token_groupup_pattern = [\n",
    "        [{\"LOWER\": \"the\"}, {\"LOWER\": \"united\"}, {\"LOWER\": \"nations\"}],\n",
    "        [{\"LOWER\": \"the\"}, {\"LOWER\": \"united\"}, {\"LOWER\": \"states\"}],\n",
    "        [{\"LOWER\": \"north\"}, {\"LOWER\": \"korea\"}],\n",
    "        [{\"LOWER\": \"south\"}, {\"LOWER\": \"korea\"}],\n",
    "    ]\n",
    "    matcher.add(\"TermGroup\",token_groupup_pattern)\n",
    "    matches = matcher(doc)\n",
    "    merge_doc = []\n",
    "    for nid, start, end in matches:\n",
    "        merge_doc.append((start,end))\n",
    "    with doc.retokenize() as retokenizer:\n",
    "        for i in range(len(merge_doc)-1,-1,-1):\n",
    "            retokenizer.merge(doc[merge_doc[i][0]:merge_doc[i][1]])\n",
    "        \n",
    "    # Remove all stopword, punctuation, number\n",
    "    tokens = [ token.lemma_.lower() for token in doc \\\n",
    "              if not token.is_stop and not token.is_punct and not token.like_num and token.lemma_.strip()!= '']\n",
    "    return tokens"
   ]
  },
  {
   "cell_type": "code",
   "execution_count": 5,
   "id": "6dfcd71e",
   "metadata": {},
   "outputs": [],
   "source": [
    "def print_top_words(model, vectorizer, n_top_words):\n",
    "    feature_names = vectorizer.get_feature_names()\n",
    "    for topic_idx, topic in enumerate(model.components_):\n",
    "        message = \"\\nTopic #%d: \" % topic_idx\n",
    "        message += \" \".join([feature_names[i]\n",
    "                             for i in topic.argsort()[:-n_top_words - 1:-1]])\n",
    "        print(message)\n",
    "    print()"
   ]
  },
  {
   "cell_type": "code",
   "execution_count": 6,
   "id": "e7c9a015",
   "metadata": {},
   "outputs": [],
   "source": [
    "def most_related_docs(df, doc_topic_dist, topic_index, num_docs=5):\n",
    "    sorted_doc = doc_topic_dist.sort_values(by=['{}'.format(topic_index)], ascending=False)\n",
    "    return df.iloc[sorted_doc[:num_docs].index]"
   ]
  },
  {
   "cell_type": "code",
   "execution_count": 7,
   "id": "4ec68c02",
   "metadata": {},
   "outputs": [],
   "source": [
    "park_str = \"President Park Geun-hye's|President Park Geun-Hye's|President Park Geun Hye's|President Park Geun-hye|President Park Geun hye\"\n",
    "# df_park is extracted from df with president and park existing in doc's body\n",
    "df_p = df[df['agg_title_body'].str.contains(park_str, flags=re.IGNORECASE, regex=True)]"
   ]
  },
  {
   "cell_type": "code",
   "execution_count": 8,
   "id": "8ebaae56",
   "metadata": {},
   "outputs": [],
   "source": [
    "# p_vectorizer = CountVectorizer(tokenizer=spacy_tokenizer)\n",
    "# p_data_vectorized = p_vectorizer.fit_transform(df_p['agg_title_body'])\n",
    "# joblib.dump(p_vectorizer, '../data/p_vectorizer.csv')\n",
    "# joblib.dump(p_data_vectorized, '../data/p_data_vectorized.csv')"
   ]
  },
  {
   "cell_type": "code",
   "execution_count": 9,
   "id": "73bbf1d7",
   "metadata": {},
   "outputs": [],
   "source": [
    "p_vectorizer = joblib.load('../data/p_vectorizer.csv')\n",
    "p_data_vectorized = joblib.load('../data/p_data_vectorized.csv')"
   ]
  },
  {
   "cell_type": "code",
   "execution_count": 10,
   "id": "0bb50b84",
   "metadata": {},
   "outputs": [],
   "source": [
    "# p_lda = LatentDirichletAllocation(n_components=50, random_state=0)\n",
    "# p_lda.fit(p_data_vectorized)\n",
    "# joblib.dump(p_lda, '../data/p_lda.csv')"
   ]
  },
  {
   "cell_type": "code",
   "execution_count": 11,
   "id": "cd50add5",
   "metadata": {},
   "outputs": [],
   "source": [
    "p_lda = joblib.load('../data/p_lda.csv')"
   ]
  },
  {
   "cell_type": "code",
   "execution_count": 12,
   "id": "93cdd0de",
   "metadata": {},
   "outputs": [],
   "source": [
    "def print_top_words(model, vectorizer, n_top_words):\n",
    "    feature_names = vectorizer.get_feature_names()\n",
    "    for topic_idx, topic in enumerate(model.components_):\n",
    "        message = \"\\nTopic #%d: \" % topic_idx\n",
    "        message += \" \".join([feature_names[i]\n",
    "                             for i in topic.argsort()[:-n_top_words - 1:-1]])\n",
    "        print(message)\n",
    "    print()"
   ]
  },
  {
   "cell_type": "code",
   "execution_count": 13,
   "id": "0a31ae7d",
   "metadata": {},
   "outputs": [
    {
     "name": "stdout",
     "output_type": "stream",
     "text": [
      "\n",
      "Topic #0: singapore korea country energy lee year green people emission ambassador germany carbon turkey national malaysia minister service global funeral trade east world percent singaporean wind\n",
      "\n",
      "Topic #1: trump say president alliance south korea korea korean donald house ally security state washington the united states strong u.s country obama secretary white park yonhap continue visit south\n",
      "\n",
      "Topic #2: family reunion separate korean koreas hold cross member south north korea talk north red war say training issue inter deal separated force year park humanitarian side\n",
      "\n",
      "Topic #3: u.n resolution english human sanction right ban north council russia north korea country language abuse international adopt member foreign russian korean koreans official work export u.s\n",
      "\n",
      "Topic #4: prize nobel truck man park report jtbc kim murder president door seoul nephew police ji brother joo find scene winner time break main article drive\n",
      "\n",
      "Topic #5: north korean say north korea military south kim south korea korea park pyongyang seoul inter official jong attack border ministry provocation launch call year hye geun drill\n",
      "\n",
      "Topic #6: government song humanitarian assistance $ say group year audit administration ministry provide aid president official boat civilian exchange civic moon project lee korea take minister\n",
      "\n",
      "Topic #7: defense say seoul u.s thaad south korea missile minister deployment system ministry official korea korean security issue foreign military china south washington country government yun president\n",
      "\n",
      "Topic #8: airport busan car city daegu cable site region government province project construction mountain local county gyeongsang resident build southeast new miryang kilometer gimhae environmental plan\n",
      "\n",
      "Topic #9: iran tax park say iranian tehran government welfare economic policy income percent taxis rate year public hike raise new official large $ scheme president business\n",
      "\n",
      "Topic #10: park choi lee samsung president prosecutor arrest charge group court say prosecution seoul scandal team suspect geun investigation office allegation hye bribery warrant trial corruption\n",
      "\n",
      "Topic #11: wa presidential dae cheong office park president say document report official aide geun hye secretary leak staff year ferry chief public security spokesman allegation day\n",
      "\n",
      "Topic #12: victim deal woman comfort agreement government statue say japan korean ministry slavery group right sexual sex foundation tokyo legal japanese issue yen human pyeongchang seoul\n",
      "\n",
      "Topic #13: park visit korean say south korea leader summit president hold meeting country foreign minister attend seoul south talk hye china geun official world cooperation tie meet\n",
      "\n",
      "Topic #14: kim presidential secretary woo chief senior affair park minister president office prosecutor cho serve new ministry moon agency post official appoint geun national government prosecution\n",
      "\n",
      "Topic #15: impeachment motion vote opposition lawmaker assembly president pass parliament saenuri impeach say friday constitutional park yonhap affair dec passage party scandal democratic hwang arctic national\n",
      "\n",
      "Topic #16: internet letter fake website thailand user online bangkok unsc card ministry spread news asem activex thai propaganda bio public social action send commerce control remove\n",
      "\n",
      "Topic #17: french france tech hollande fuel paris francois vehicle dog cell hydrogen unit financial payment fintech president animal eu charge jean panel technological korean penone grenoble\n",
      "\n",
      "Topic #18: human right woman korea korean international u.s fta year china amnesty rights percent freedom gender country support change lee include say south korea help child political\n",
      "\n",
      "Topic #19: korea korean country year economic say trade government development project policy international new world cooperation seoul economy $ national global state investment include technology people\n",
      "\n",
      "Topic #20: park south korea korean cooperation country south korea nuclear visit summit trade president bilateral say economic $ trip energy leader middle project meet agree kuwait east\n",
      "\n",
      "Topic #21: say government textbook history state park ministry president school korean korea education author plan national people lee student country rule decision book year opposition issue\n",
      "\n",
      "Topic #22: party bill opposition park say saenuri assembly national president rule lawmaker parliamentary kim rep government leader political reform main public new committee people chung meeting\n",
      "\n",
      "Topic #23: hwang president act minister kyo prime ahn sewol independent counsel investigation say government probe special park ferry presidential day corruption team official ship month extend\n",
      "\n",
      "Topic #24: ban moon presidential say un general year secretary political ki election candidate chief jae president country korea return korean run south term u.n potential new\n",
      "\n",
      "Topic #25: ahn moon people cheol say job soo government presidential fund jae percent create park liberal runner young candidate campaign reform pension month public help hong\n",
      "\n",
      "Topic #26: park summit thaad china deployment missile system defense plan leader president area seongju visit hye geun say resident decision south korea economic russia attend hold meeting\n",
      "\n",
      "Topic #27: percent rating park approval week poll point survey percentage party moon show support conduct korea president low realmeter gallup say public geun hye respondent jae\n",
      "\n",
      "Topic #28: party park saenuri rep conservative say election president lawmaker presidential opposition leader candidate korea rule political kim member democratic yoo people moon new liberty lee\n",
      "\n",
      "Topic #29: election voter vote percent presidential pardon year voting day national pension ballot early people grant president turnout cast special official say commission age high system\n",
      "\n",
      "Topic #30: choi park president presidential scandal say soon sil state affair investigation allegation influence confidante foundation aide involve office question secretary suspect prosecution official key face\n",
      "\n",
      "Topic #31: labor government reform say economy park business market worker year job company union economic industry creative plan sector create country growth call korea system new\n",
      "\n",
      "Topic #32: president safety say year disaster guard coast reactor nuclear security number government report moon broadcast bird service agency life extend official alert test flu line\n",
      "\n",
      "Topic #33: chung university school daughter korea say ewha year ministry ra yoo mother korean womans professor student admission high education president academic danish denmark receive give\n",
      "\n",
      "Topic #34: say park u.s official lippert law visit public attack seoul work hye geun government corruption year day call kim case president trip tell office act\n",
      "\n",
      "Topic #35: rhee refugee democracy pro uprising travel changwon court syngman costa photo man april rica country movement asylum kim objector nationality hall conscientious appeal rigging city\n",
      "\n",
      "Topic #36: court park impeachment president constitutional trial say justice ruling hearing geun lawyer hye chief impeach lee choi hold march law decision presidential early office parliament\n",
      "\n",
      "Topic #37: project kato south korean rumor say park south korea rajin defame port seoul japanese sea freedom khasan posco city logistic sankei column year coal ferry russian\n",
      "\n",
      "Topic #38: health medical hospital outbreak mer patient disease virus mers government doctor say respiratory ministry public syndrome case center spread treatment east middle seoul report confirm\n",
      "\n",
      "Topic #39: cha m moon kim say blood park president state crisis cord therapy cell receive startup funeral win jjing manual stem nsc game a.m. change project\n",
      "\n",
      "Topic #40: president park impeachment opposition presidential say state political bae tellme@heraldcorp.com meeting jung nation power public hyun “the people day early geun hye call resignation chief\n",
      "\n",
      "Topic #41: park president say seoul geun hye year people kim country public rally korea scandal choi old take hold time office saturday citizen supporter young soon\n",
      "\n",
      "Topic #42: japan japanese issue abe tokyo korean say park seoul minister summit woman hold war bilateral relation korea south korea prime talk meeting trilateral china world shinzo\n",
      "\n",
      "Topic #43: minister prime cabinet lee new hwang nominee park opposition hearing national confirmation public say president nomination parliamentary assembly office party geun hye rule demand government\n",
      "\n",
      "Topic #44: lee sing park say hong scandal minister prosecution kim party prime wan money fund list political claim chief president probe politician bribery investigation allegation receive\n",
      "\n",
      "Topic #45: sim think year run hunger know candidate progressive presidential female election sing propose tweet woman personal go right jeung b wear list course majority mask\n",
      "\n",
      "Topic #46: nuclear north korea north say china u.s korean park pyongyang test security seoul missile sanction south korea international president talk korea washington provocation weapon call issue peninsula\n",
      "\n",
      "Topic #47: speaker chung assembly say artist president sye kyun lawmaker pyo hwa party national rep painting exhibition art freedom parliamentary ui demand rule bill opposition democratic\n",
      "\n",
      "Topic #48: police rally seoul protest hold say group protester park government square water civic central demonstration gwanghwamun saturday street anti march officer organizer people korea protestor\n",
      "\n",
      "Topic #49: education child government program ministry city care budget seoul year say welfare won school win office fund plan center student $ teacher province parent pay\n",
      "\n"
     ]
    }
   ],
   "source": [
    "print_top_words(p_lda, p_vectorizer, n_top_words=25)"
   ]
  },
  {
   "cell_type": "code",
   "execution_count": 14,
   "id": "2bf96acf",
   "metadata": {},
   "outputs": [
    {
     "data": {
      "text/plain": [
       "'\\nLDA 50 topics\\nTopic 9: Iran\\nTopic 36: park impeachment\\n'"
      ]
     },
     "execution_count": 14,
     "metadata": {},
     "output_type": "execute_result"
    }
   ],
   "source": [
    "'''\n",
    "LDA 50 topics\n",
    "Topic 9: Iran\n",
    "Topic 36: park impeachment\n",
    "'''"
   ]
  },
  {
   "cell_type": "code",
   "execution_count": 15,
   "id": "48ca0a89",
   "metadata": {},
   "outputs": [],
   "source": [
    "# p_doc_topic_dist = pd.DataFrame(p_lda.transform(p_data_vectorized))\n",
    "# p_doc_topic_dist.to_csv('../data/p_doc_topic_dist.csv', index=False)"
   ]
  },
  {
   "cell_type": "code",
   "execution_count": 16,
   "id": "f1c66c2d",
   "metadata": {},
   "outputs": [],
   "source": [
    "p_doc_topic_dist = pd.read_csv('../data/p_doc_topic_dist.csv')"
   ]
  },
  {
   "cell_type": "code",
   "execution_count": 38,
   "id": "9918a6e4",
   "metadata": {},
   "outputs": [
    {
     "data": {
      "text/plain": [
       "5842    State Department: US looks forward to continuing close cooperation with Korea's next president\n",
       "9814                                         Trump to hold 'private meeting' with Abe: transition team\n",
       "8535                                            Trump reiterates 'ironclad commitment' to defend Korea\n",
       "Name: title, dtype: object"
      ]
     },
     "execution_count": 38,
     "metadata": {},
     "output_type": "execute_result"
    }
   ],
   "source": [
    "# Park education\n",
    "most_related_docs(df_p, p_doc_topic_dist, 1, num_docs=3)['title']"
   ]
  },
  {
   "cell_type": "code",
   "execution_count": 22,
   "id": "3da556f5",
   "metadata": {},
   "outputs": [],
   "source": [
    "df_pp = df[(df['section'] == 'Politics') & (df['agg_title_body'].str.contains(park_str, flags=re.IGNORECASE, regex=True))]"
   ]
  },
  {
   "cell_type": "code",
   "execution_count": 23,
   "id": "02399541",
   "metadata": {},
   "outputs": [],
   "source": [
    "# pp_vectorizer = CountVectorizer(tokenizer=spacy_tokenizer)\n",
    "# pp_data_vectorized = pp_vectorizer.fit_transform(df_pp['agg_title_body'])\n",
    "# joblib.dump(pp_vectorizer, '../data/pp_vectorizer.csv')\n",
    "# joblib.dump(pp_data_vectorized, '../data/pp_data_vectorized.csv')"
   ]
  },
  {
   "cell_type": "code",
   "execution_count": 24,
   "id": "0bbdb4bd",
   "metadata": {},
   "outputs": [],
   "source": [
    "pp_vectorizer = joblib.load('../data/pp_vectorizer.csv')\n",
    "pp_data_vectorized = joblib.load('../data/pp_data_vectorized.csv')"
   ]
  },
  {
   "cell_type": "code",
   "execution_count": 25,
   "id": "d346932f",
   "metadata": {},
   "outputs": [],
   "source": [
    "# pp_lda = LatentDirichletAllocation(n_components=50, random_state=0)\n",
    "# pp_lda.fit(pp_data_vectorized)\n",
    "# joblib.dump(pp_lda, '../data/pp_lda.csv')"
   ]
  },
  {
   "cell_type": "code",
   "execution_count": 26,
   "id": "76c7c164",
   "metadata": {},
   "outputs": [],
   "source": [
    "pp_lda = joblib.load('../data/pp_lda.csv')"
   ]
  },
  {
   "cell_type": "code",
   "execution_count": 27,
   "id": "c4475532",
   "metadata": {},
   "outputs": [
    {
     "name": "stdout",
     "output_type": "stream",
     "text": [
      "\n",
      "Topic #0: party saenuri rep park leader say lawmaker rule kim yoo opposition election new member political president floor committee conservative parliamentary people national leadership minjoo reform\n",
      "\n",
      "Topic #1: park mer say virus outbreak respiratory mers disease east syndrome south korea health seoul spread center government contain effort hospital patient middle country meeting response public\n",
      "\n",
      "Topic #2: lee minister npad hearing prime nominee opposition confirmation party lawmaker parliamentary saenuri session vote assembly national rep new main say report allegation floor alliance koo\n",
      "\n",
      "Topic #3: park court president say impeachment presidential choi rally geun office hearing hye constitutional trial scandal hold justice seoul chief soon ruling official police dae sil\n",
      "\n",
      "Topic #4: park president pardon year special say geun day hye ministry grant chung national public korea official presidential child liberation kim people business seoul political take\n",
      "\n",
      "Topic #5: bill party saenuri opposition say minjoo rule national assembly pass parliamentary rep seat year law pende floor right lawmaker passage terrorism agree session election korea\n",
      "\n",
      "Topic #6: kim president democracy say funeral political national song ceremony seoul leader late country state government young park chung movement people father nation protest year hee\n",
      "\n",
      "Topic #7: japan japanese tokyo abe minister woman issue foreign war sexual slavery world seoul ii shinzo anniversary comfort tie diplomatic relation sex yun apology prime victim\n",
      "\n",
      "Topic #8: park president say new government year pro word lee term key party zealand policy samseong rule geun ministry seoul trust home jung hye hyun water\n",
      "\n",
      "Topic #9: unification panel park government korea official effort say seoul president service citizen national remark visit ask country geun corruption north achieve trump hye memorial yonhap\n",
      "\n",
      "Topic #10: textbook history park say government author state education school korean opposition leader plan meeting party npad president student current ministry decision political publish call secondary\n",
      "\n",
      "Topic #11: lee sing party say scandal prosecution park rule prime minister wan money hong political investigation list probe official president claim sung opposition election graft saenuri\n",
      "\n",
      "Topic #12: park korean say south korea summit president south visit china leader korea u.s talk hold geun hye seoul country north korea trip cooperation meeting nuclear year economic\n",
      "\n",
      "Topic #13: election party hong conservative vote presidential korea voter liberty candidate pyo national day joon kim ballot year new president member cast voting lawmaker say seoul\n",
      "\n",
      "Topic #14: labor japan park issue reform worker government deal korean say regular south korea union call job market agreement country korea sex history rule slave victim geun\n",
      "\n",
      "Topic #15: nis agency intelligence spy national service say moon chief election party opposition lee president activity win presidential political public surveillance jae new park director administration\n",
      "\n",
      "Topic #16: government economy economic park say job business new create year reform policy plan people call growth effort country meeting sector market president public measure help\n",
      "\n",
      "Topic #17: party hwang opposition president minister prime say act park rule leader kyo meeting democratic ahn state main choo affair korea yonhap scandal people parliament national\n",
      "\n",
      "Topic #18: portal internet medium daum uptick naver outlet information self audit daily drone kakao rally stop major claim search gimcheon accurate biased giant shy grill role\n",
      "\n",
      "Topic #19: percent rating park approval week point percentage poll survey public show conduct low job tax gallup new geun margin hye come early adult error fall\n",
      "\n",
      "Topic #20: park say president ban visit presidential political people korean south korea secretary u.s week time government geun trip hye kim day country official come national year\n",
      "\n",
      "Topic #21: iran iranian state visit diplomatic france sanction rouhani president $ tehran year country boost north korea u.n african khamenei religious set bilateral hassan tie park leader\n",
      "\n",
      "Topic #22: park say president minister presidential dae wa kim cheong public year new office government cabinet chief policy opposition staff party political reform aide lawmaker yoon\n",
      "\n",
      "Topic #23: say park year ferry sewol kim public president government city local party april report family yoon seoul lee chung come run home police hye geun\n",
      "\n",
      "Topic #24: song say book moon north minister north korea memoir claim political memo park year presidential foreign seoul un korean reporter decision administration roh vote ask dispute\n",
      "\n",
      "Topic #25: pension reform civil service public servant national say bill government pass rate percent system year plan income cho taxpayer agree task park increase democracy fund\n",
      "\n",
      "Topic #26: tax welfare park government raise corporate taxis rate income policy state hike say people president geun opposition hye household meeting come interpellation month yonhap budget\n",
      "\n",
      "Topic #27: safety disaster korea people say government public ministry party dust earthquake fine south korea u.s system populist create nation conservative movement policy center country sewol fail\n",
      "\n",
      "Topic #28: google government map game ministry south korea pokemon party say enterprise company datum service run base law information aug city play business opposition offer reality image\n",
      "\n",
      "Topic #29: ministry say loudspeaker north university broadcast oda south program campaign foreign korea kim chung border professor tell project regime pyongyang sound message continue aid design\n",
      "\n",
      "Topic #30: resolution dokdo imna condemn islet territory distortion headquarter fabricate foster “we repeat regret easternmost surface revisionist ”some moves.with a.d stymie contrition ancient animosity reads.the ii.by\n",
      "\n",
      "Topic #31: u.n ban general park climate korean new global development president say change leader world year launch nuclear speech set plan north korea attend secretary conference york\n",
      "\n",
      "Topic #32: moon park president ahn say conservative election liberal roh jae political presidential party yoo hong korea people year power pyo government kim campaign country democratic\n",
      "\n",
      "Topic #33: kim party minister president chief presidential secretary senior park new political hyun affair jung cabinet election candidate opposition prime saenuri public state nomination say bae\n",
      "\n",
      "Topic #34: nam pil gov gyeonggi kyung bareun lumpur open saturday min meet malaysia seong kuala message system yonhap volunteer conscription yoo primary philippines dispute holiday leader\n",
      "\n",
      "Topic #35: party park saenuri lawmaker say president opposition rep impeachment leader vote member chung rule motion assembly political leadership national people group floor lee leave korea\n",
      "\n",
      "Topic #36: park korean korea south korea country south trip peru say cooperation yonhap economic nation visit america hye geun official new day swing jet ethiopia come colombia\n",
      "\n",
      "Topic #37: party moon percent presidential election candidate conservative ahn korea support democratic jae poll people president liberal say race liberty lead voter soo province political park\n",
      "\n",
      "Topic #38: party moon president say rule jae democratic \"i government rep bareun recovery korean agreement hope leave country issue ship express yonhap leader joo promise sinking\n",
      "\n",
      "Topic #39: ban lee say un park year chief presidential corruption ki minister scandal kim political country korean general south jong secretary politician return president national new\n",
      "\n",
      "Topic #40: bill assembly national park say speaker lawmaker party president law government parliamentary opposition veto chung parliament rule wa pass dae cheong revision demand constitution saenuri\n",
      "\n",
      "Topic #41: pena nieto mexico spanish mexican gift worth speech la heart mean win exchange corruption money subject valuable penalty pope paz que es enrique french greeting\n",
      "\n",
      "Topic #42: choi park president say prosecutor presidential scandal allegation arrest woo investigation soon charge sil team suspect special office samsung geun lee state foundation hye secretary\n",
      "\n",
      "Topic #43: north north korea security nuclear defense missile say government thaad president korean system deployment military issue seoul china national park korea provocation south korea pyongyang policy threat\n",
      "\n",
      "Topic #44: president park presidential court impeachment say office investigation constitutional day state independent scandal counsel probe face choi geun wa dae chief hye early special official\n",
      "\n",
      "Topic #45: minister hwang purchase ensure public corruption park president fund march election cabinet medicine jobless ahn illegal find rate official act fair good hospital prevent government\n",
      "\n",
      "Topic #46: military parade park korean say fire south wear chinese artillery drill color launcher jacket attend iron sept message limitation red wardrobe island dress minister border\n",
      "\n",
      "Topic #47: korean north say south north korea park year report south korea un unification korea ban speech day news fake border pyongyang trump seoul express return yonhap leave\n",
      "\n",
      "Topic #48: cultural culture park country government industry year say content korea budget agricultural people creative korean seoul growth tourism south korea support fiscal hye pop geun france\n",
      "\n",
      "Topic #49: moon mask jjing candidate sewol hong wear sunday know run midnight cat lesser conceal campaign dae attention bring presidential unconventional hye tory bird maroo home\n",
      "\n"
     ]
    }
   ],
   "source": [
    "print_top_words(pp_lda, pp_vectorizer, n_top_words=25)"
   ]
  },
  {
   "cell_type": "code",
   "execution_count": 29,
   "id": "e62c58fb",
   "metadata": {},
   "outputs": [],
   "source": [
    "# pp_doc_topic_dist = pd.DataFrame(pp_lda.transform(pp_data_vectorized))\n",
    "# pp_doc_topic_dist.to_csv('../data/pp_doc_topic_dist.csv', index=False)"
   ]
  },
  {
   "cell_type": "code",
   "execution_count": 30,
   "id": "f069ec6f",
   "metadata": {},
   "outputs": [],
   "source": [
    "pp_doc_topic_dist = pd.read_csv('../data/pp_doc_topic_dist.csv')"
   ]
  },
  {
   "cell_type": "code",
   "execution_count": 39,
   "id": "b27ed67b",
   "metadata": {},
   "outputs": [
    {
     "data": {
      "text/plain": [
       "21518                                         Assembly resolution condemns Japan\n",
       "5829                              [Newsmaker] Daunting tasks await new president\n",
       "22602                     President battles public skepticism as 3rd year begins\n",
       "21226                                      Park makes slow recovery from illness\n",
       "16199      Park names North Korea expert as head of advisory body on unification\n",
       "7533                             Park's lawyer says to accept impeachment ruling\n",
       "9427                                     [Graphic News] Scandal probe in numbers\n",
       "9725          Prosecution requests president answer questions related to scandal\n",
       "16874                                   Park calls for economic contingency plan\n",
       "14151                       Park offers condolences to Ecuador over deadly quake\n",
       "19537                                     Park to take summer vacation next week\n",
       "9403                               [Graphic News] Race for next presidency is on\n",
       "9654     Park accepts justice chief's resignation, holds civil affairs secretary\n",
       "17230            Park promotes senior transport official to second vice minister\n",
       "5798                                           [Graphic News] Margins of victory\n",
       "21683                                 Park seeks cooperation of local assemblies\n",
       "7064            Prosecutors visit former Park aide's offices in corruption probe\n",
       "19414                                       Park unveils letter from Chinese fan\n",
       "9216      Constitutional Court to start official review of impeachment next week\n",
       "12776                     Park to host luncheon to acknowledge national honorees\n",
       "Name: title, dtype: object"
      ]
     },
     "execution_count": 39,
     "metadata": {},
     "output_type": "execute_result"
    }
   ],
   "source": [
    "# Dokdo\n",
    "most_related_docs(df_pp, pp_doc_topic_dist, 30, num_docs=20)['title']"
   ]
  },
  {
   "cell_type": "code",
   "execution_count": 40,
   "id": "c8244ae0",
   "metadata": {},
   "outputs": [
    {
     "data": {
      "text/plain": [
       "'\\n8471: Park request 15 more witnase\\n15914                                       Park names new disease prevention chief\\n17845                                         Park, Moon clash over history textbooks\\n20506                                        Park tours hospital with MERS patients\\n22807                           Park to build ecosystem of cultural content industry\\n'"
      ]
     },
     "execution_count": 40,
     "metadata": {},
     "output_type": "execute_result"
    }
   ],
   "source": [
    "'''\n",
    "Example of related-issue\n",
    "8471:                                                  Park request 15 more witnase\n",
    "15914                                       Park names new disease prevention chief\n",
    "17845                                         Park, Moon clash over history textbooks\n",
    "20506                                        Park tours hospital with MERS patients\n",
    "22807                           Park to build ecosystem of cultural content industry\n",
    "'''"
   ]
  },
  {
   "cell_type": "code",
   "execution_count": 46,
   "id": "ebd6dbcd",
   "metadata": {},
   "outputs": [
    {
     "data": {
      "text/plain": [
       "['Park to build ecosystem of cultural content industry',\n",
       " 'Park tours hospital with MERS patients',\n",
       " 'Park, Moon clash over history textbooks',\n",
       " 'Park names new disease prevention chief',\n",
       " 'Park requests 15 more witnesses at impeachment trial']"
      ]
     },
     "execution_count": 46,
     "metadata": {},
     "output_type": "execute_result"
    }
   ],
   "source": [
    "related_issue_index = [8471,15914,17845,20506,22807]"
   ]
  },
  {
   "cell_type": "code",
   "execution_count": 47,
   "id": "838180c3",
   "metadata": {},
   "outputs": [],
   "source": [
    "# Extract entities from sentences\n",
    "def extract_entity(sents, index, df):\n",
    "    print(\"[ Detailed Information (per event) ]\\n\")\n",
    "    \n",
    "    ent_per = []\n",
    "    ent_org = []\n",
    "    ent_loc = []\n",
    "    \n",
    "    event = df.iloc[index].sort_values(by=['time'])['title'].tolist()\n",
    "    \n",
    "    for i in reversed(range(len(sents))):\n",
    "        doc = nlp(sents[i])\n",
    "        for ent in doc.ents:\n",
    "            word = ent.text.title()\n",
    "            if word in ent_per or word in ent_org or word in ent_loc:\n",
    "                continue\n",
    "            if ent.label_ == 'PERSON':\n",
    "                ent_per.append(word)\n",
    "            elif ent.label_ == 'ORG':\n",
    "                ent_org.append(word)\n",
    "            elif ent.label_ in ['GPE', 'LOC']:\n",
    "                ent_loc.append(word)\n",
    "        \n",
    "        print(\"Event: \", event[i])\n",
    "        print(\"- Person: \", \", \".join([i for i in ent_per]))\n",
    "        print(\"- Organization: \", \", \".join([i for i in ent_org]))\n",
    "        print(\"- Place: \", \", \".join([i for i in ent_loc]))\n",
    "        print()"
   ]
  },
  {
   "cell_type": "code",
   "execution_count": 54,
   "id": "4e390c0a",
   "metadata": {},
   "outputs": [],
   "source": [
    "def print_events(df, index):\n",
    "    event = df.iloc[index].sort_values(by=['time'])['title'].tolist()\n",
    "    print(\"[ Related-Issue Events ]\\n\")\n",
    "    print(\", \".join([i for i in event]))\n",
    "    print()"
   ]
  },
  {
   "cell_type": "code",
   "execution_count": 55,
   "id": "18943f27",
   "metadata": {},
   "outputs": [
    {
     "name": "stdout",
     "output_type": "stream",
     "text": [
      "[ Related-Issue Events ]\n",
      "\n",
      "Park to build ecosystem of cultural content industry, Park tours hospital with MERS patients, Park, Moon clash over history textbooks, Park names new disease prevention chief, Park requests 15 more witnesses at impeachment trial\n",
      "\n",
      "[ Detailed Information (per event) ]\n",
      "\n",
      "Event:  Park requests 15 more witnesses at impeachment trial\n",
      "- Person:  Park Geun, Lee Joong Hwan, Lee, Lee Jung Mi, Han Chul\n",
      "- Organization:  \n",
      "- Place:  Geun\n",
      "\n",
      "Event:  Park names new disease prevention chief\n",
      "- Person:  Park Geun, Lee Joong Hwan, Lee, Lee Jung Mi, Han Chul, Jung Ki, Bae Hyun Jung\n",
      "- Organization:  \n",
      "- Place:  Geun\n",
      "\n",
      "Event:  Park, Moon clash over history textbooks\n",
      "- Person:  Park Geun, Lee Joong Hwan, Lee, Lee Jung Mi, Han Chul, Jung Ki, Bae Hyun Jung, Cheong Wa Dae, Npad, Moon Jae, Hye Greet, Kim Moo, Moon Jae Cheong Wa Dae, Yoo Chul Npad, Lee Jong Kul, Kim Moon, Kim, Kim Sung, Kim Support Park, Hwang Kyo Ahn South Korea, Hwang\n",
      "- Organization:  Saenuri Party, China Vietnam New Zealand, Pyongyang Washington Express, Japan Self Defense Force Korean, Cho Chung Un\n",
      "- Place:  Geun, South Korea, Japan, Washington, Korea, U.S.\n",
      "\n",
      "Event:  Park tours hospital with MERS patients\n",
      "- Person:  Park Geun, Lee Joong Hwan, Lee, Lee Jung Mi, Han Chul, Jung Ki, Bae Hyun Jung, Cheong Wa Dae, Npad, Moon Jae, Hye Greet, Kim Moo, Moon Jae Cheong Wa Dae, Yoo Chul Npad, Lee Jong Kul, Kim Moon, Kim, Kim Sung, Kim Support Park, Hwang Kyo Ahn South Korea, Hwang, Kyung Wook, Park\n",
      "- Organization:  Saenuri Party, China Vietnam New Zealand, Pyongyang Washington Express, Japan Self Defense Force Korean, Cho Chung Un\n",
      "- Place:  Geun, South Korea, Japan, Washington, Korea, U.S., Middle East, Seoul, Saudi Arabia\n",
      "\n",
      "Event:  Park to build ecosystem of cultural content industry\n",
      "- Person:  Park Geun, Lee Joong Hwan, Lee, Lee Jung Mi, Han Chul, Jung Ki, Bae Hyun Jung, Cheong Wa Dae, Npad, Moon Jae, Hye Greet, Kim Moo, Moon Jae Cheong Wa Dae, Yoo Chul Npad, Lee Jong Kul, Kim Moon, Kim, Kim Sung, Kim Support Park, Hwang Kyo Ahn South Korea, Hwang, Kyung Wook, Park, Park Geun Hye\n",
      "- Organization:  Saenuri Party, China Vietnam New Zealand, Pyongyang Washington Express, Japan Self Defense Force Korean, Cho Chung Un\n",
      "- Place:  Geun, South Korea, Japan, Washington, Korea, U.S., Middle East, Seoul, Saudi Arabia, China, Bank Korea\n",
      "\n"
     ]
    }
   ],
   "source": [
    "sents_p = [ ' '.join(spacy_tokenizer(s)) for s in df.iloc[related_issue_index].sort_values(by=['time'])['body']]\n",
    "print_events(df, related_issue_index)\n",
    "extract_entity(sents_p, related_issue_index, df)"
   ]
  },
  {
   "cell_type": "code",
   "execution_count": null,
   "id": "daaa6ae0",
   "metadata": {},
   "outputs": [],
   "source": []
  }
 ],
 "metadata": {
  "kernelspec": {
   "display_name": "Python 3 (ipykernel)",
   "language": "python",
   "name": "python3"
  },
  "language_info": {
   "codemirror_mode": {
    "name": "ipython",
    "version": 3
   },
   "file_extension": ".py",
   "mimetype": "text/x-python",
   "name": "python",
   "nbconvert_exporter": "python",
   "pygments_lexer": "ipython3",
   "version": "3.8.8"
  }
 },
 "nbformat": 4,
 "nbformat_minor": 5
}
