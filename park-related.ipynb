{
 "cells": [
  {
   "cell_type": "code",
   "execution_count": 1,
   "id": "9585bd15",
   "metadata": {},
   "outputs": [
    {
     "name": "stderr",
     "output_type": "stream",
     "text": [
      "[nltk_data] Downloading package stopwords to /root/nltk_data...\n",
      "[nltk_data]   Package stopwords is already up-to-date!\n",
      "[nltk_data] Downloading package wordnet to /root/nltk_data...\n",
      "[nltk_data]   Package wordnet is already up-to-date!\n"
     ]
    }
   ],
   "source": [
    "import pandas as pd\n",
    "import numpy as np\n",
    "import os\n",
    "import re\n",
    "import nltk\n",
    "nltk.download('stopwords')\n",
    "nltk.download('wordnet')\n",
    "import string\n",
    "import random\n",
    "import unicodedata\n",
    "from string import punctuation\n",
    "from string import digits\n",
    "from nltk.stem import WordNetLemmatizer\n",
    "import joblib\n",
    "\n",
    "from sklearn.feature_extraction.text import CountVectorizer\n",
    "from sklearn.feature_extraction.text import TfidfTransformer\n",
    "from sklearn.feature_extraction.text import TfidfVectorizer\n",
    "from sklearn.decomposition import PCA\n",
    "from sklearn.decomposition import TruncatedSVD\n",
    "from sklearn.manifold import TSNE\n",
    "from sklearn.cluster import KMeans\n",
    "from sklearn.cluster import DBSCAN\n",
    "from sklearn.neighbors import NearestNeighbors\n",
    "from sklearn.metrics import silhouette_score\n",
    "from sklearn.decomposition import LatentDirichletAllocation\n",
    "\n",
    "from tqdm import tqdm\n",
    "import matplotlib.pyplot as plt\n",
    "\n",
    "import spacy\n",
    "from spacy.matcher import Matcher\n",
    "\n",
    "from rake_nltk import Rake"
   ]
  },
  {
   "cell_type": "code",
   "execution_count": 2,
   "id": "125a6b86",
   "metadata": {},
   "outputs": [
    {
     "data": {
      "text/plain": [
       "(23769, 7)"
      ]
     },
     "execution_count": 2,
     "metadata": {},
     "output_type": "execute_result"
    }
   ],
   "source": [
    "### Reading data\n",
    "data_dir = 'data/'\n",
    "filename_prefix = 'koreaherald_1517_'\n",
    "df = []\n",
    "\n",
    "for i in range(8):\n",
    "    df.append(pd.read_json(os.path.join(data_dir, filename_prefix + str(i) + '.json')))\n",
    "df = pd.concat(df)\n",
    "df.reset_index(inplace=True)\n",
    "df = df.rename(columns=dict(zip(df.columns,[df.columns[i].strip() for i in range(len(df.columns))])))\n",
    "df.drop('index', inplace=True, axis=1)\n",
    "df['agg_title_body'] = df['title'] + df['body']\n",
    "\n",
    "df.shape"
   ]
  },
  {
   "cell_type": "code",
   "execution_count": 3,
   "id": "ef5aac54",
   "metadata": {},
   "outputs": [],
   "source": [
    "nlp = spacy.load('en_core_web_lg')"
   ]
  },
  {
   "cell_type": "code",
   "execution_count": 4,
   "id": "4fd2fca5",
   "metadata": {},
   "outputs": [],
   "source": [
    "### Lemmatization tool\n",
    "stemmer = WordNetLemmatizer()\n",
    "### Change similar words to the same word\n",
    "UN_WORD = \"The United Nations\"\n",
    "US_WORD = \"The United States\"\n",
    "NK_WORD = \"North Korea\"\n",
    "SK_WORD = \"South Korea\"\n",
    "\n",
    "similar_words = {\n",
    "    # Change to \"The United States\"\n",
    "    \"U.S.\": US_WORD,\n",
    "    \"US\": US_WORD,\n",
    "    \"USA\": US_WORD,\n",
    "    \"United States\": US_WORD,\n",
    "    \"United States'\": US_WORD,\n",
    "    \"The United States'\": US_WORD,\n",
    "    \n",
    "    # Change to \"North Korea\"\n",
    "    \"NK\": NK_WORD,\n",
    "    \"NK's\": NK_WORD,\n",
    "    \"N. Korea\": NK_WORD,\n",
    "    \"N. Korea's\": NK_WORD,\n",
    "    \"North Korea's\": NK_WORD,\n",
    "    \n",
    "    # Change to \"South Korea\"\n",
    "    \"SK\": SK_WORD,\n",
    "    \"SK's\": SK_WORD,\n",
    "    \"S. Korea\": SK_WORD,\n",
    "    \"S. Korea's\": SK_WORD,\n",
    "    \"South Korea's\": SK_WORD,\n",
    "    \n",
    "    # Change to \"The United Nations\"\n",
    "    \"United Nations\": UN_WORD,\n",
    "    \"United Nations'\": UN_WORD,\n",
    "    \"The United Nations'\": UN_WORD,\n",
    "    \"UN\": UN_WORD,\n",
    "}\n",
    "\n",
    "### Transform function\n",
    "def text_cleaning(s: str):\n",
    "        \n",
    "    def replace_strange_char(s: str):\n",
    "        non_en_chars = {\n",
    "            \"’\": \"'\",\n",
    "            \"‘\": \"'\"\n",
    "        }\n",
    "\n",
    "        def remove_non_en_chars(txt):\n",
    "            # remove non english characters\n",
    "            txt = convert_latin_chars(txt)\n",
    "            for char in non_en_chars.keys():\n",
    "                txt = re.sub(char, non_en_chars[char], txt)\n",
    "            txt = re.sub(r'[^\\x00-\\x7F]+', ' ', txt)\n",
    "            return txt\n",
    "\n",
    "        def convert_latin_chars(txt):\n",
    "            # convert latin characters\n",
    "            return ''.join(char for char in unicodedata.normalize('NFKD', txt) if unicodedata.category(char) != 'Mn')\n",
    "\n",
    "        s = remove_non_en_chars(s)\n",
    "        s = convert_latin_chars(s)\n",
    "        return s\n",
    "    s = replace_strange_char(s)\n",
    "    for key,value in similar_words.items():\n",
    "        s = re.sub(key, value, s)\n",
    "    return s\n",
    "\n",
    "def spacy_tokenizer(s: str):\n",
    "    # Change similar terms to the same term\n",
    "    new_str = text_cleaning(s)\n",
    "    doc = nlp(s)\n",
    "    # Group tokens\n",
    "    matcher = Matcher(nlp.vocab)\n",
    "    token_groupup_pattern = [\n",
    "        [{\"LOWER\": \"the\"}, {\"LOWER\": \"united\"}, {\"LOWER\": \"nations\"}],\n",
    "        [{\"LOWER\": \"the\"}, {\"LOWER\": \"united\"}, {\"LOWER\": \"states\"}],\n",
    "        [{\"LOWER\": \"north\"}, {\"LOWER\": \"korea\"}],\n",
    "        [{\"LOWER\": \"south\"}, {\"LOWER\": \"korea\"}],\n",
    "    ]\n",
    "    matcher.add(\"TermGroup\",token_groupup_pattern)\n",
    "    matches = matcher(doc)\n",
    "    merge_doc = []\n",
    "    for nid, start, end in matches:\n",
    "        merge_doc.append((start,end))\n",
    "    with doc.retokenize() as retokenizer:\n",
    "        for i in range(len(merge_doc)-1,-1,-1):\n",
    "            retokenizer.merge(doc[merge_doc[i][0]:merge_doc[i][1]])\n",
    "        \n",
    "    # Remove all stopword, punctuation, number\n",
    "    tokens = [ token.lemma_.lower() for token in doc \\\n",
    "              if not token.is_stop and not token.is_punct and not token.like_num and token.lemma_.strip()!= '']\n",
    "    return tokens"
   ]
  },
  {
   "cell_type": "code",
   "execution_count": 5,
   "id": "6dfcd71e",
   "metadata": {},
   "outputs": [],
   "source": [
    "def print_top_words(model, vectorizer, n_top_words):\n",
    "    feature_names = vectorizer.get_feature_names()\n",
    "    for topic_idx, topic in enumerate(model.components_):\n",
    "        message = \"\\nTopic #%d: \" % topic_idx\n",
    "        message += \" \".join([feature_names[i]\n",
    "                             for i in topic.argsort()[:-n_top_words - 1:-1]])\n",
    "        print(message)\n",
    "    print()"
   ]
  },
  {
   "cell_type": "code",
   "execution_count": 6,
   "id": "e7c9a015",
   "metadata": {},
   "outputs": [],
   "source": [
    "def most_related_docs(df, doc_topic_dist, topic_index, num_docs=5):\n",
    "    sorted_doc = doc_topic_dist.sort_values(by=['{}'.format(topic_index)], ascending=False)\n",
    "    return df.iloc[sorted_doc[:num_docs].index]"
   ]
  },
  {
   "cell_type": "code",
   "execution_count": 7,
   "id": "4ec68c02",
   "metadata": {},
   "outputs": [],
   "source": [
    "park_str = \"President Park Geun-hye's|President Park Geun-Hye's|President Park Geun Hye's|President Park Geun-hye|President Park Geun hye\"\n",
    "# df_park is extracted from df with president and park existing in doc's body\n",
    "df_p = df[df['agg_title_body'].str.contains(park_str, flags=re.IGNORECASE, regex=True)]"
   ]
  },
  {
   "cell_type": "code",
   "execution_count": 8,
   "id": "8ebaae56",
   "metadata": {},
   "outputs": [
    {
     "data": {
      "text/plain": [
       "['../data/p_data_vectorized.csv']"
      ]
     },
     "execution_count": 8,
     "metadata": {},
     "output_type": "execute_result"
    }
   ],
   "source": [
    "p_vectorizer = CountVectorizer(tokenizer=spacy_tokenizer)\n",
    "p_data_vectorized = p_vectorizer.fit_transform(df_p['agg_title_body'])\n",
    "joblib.dump(p_vectorizer, '../data/p_vectorizer.csv')\n",
    "joblib.dump(p_data_vectorized, '../data/p_data_vectorized.csv')"
   ]
  },
  {
   "cell_type": "code",
   "execution_count": 9,
   "id": "73bbf1d7",
   "metadata": {},
   "outputs": [],
   "source": [
    "p_vectorizer = joblib.load('../data/p_vectorizer.csv')\n",
    "p_data_vectorized = joblib.load('../data/p_data_vectorized.csv')"
   ]
  },
  {
   "cell_type": "code",
   "execution_count": 10,
   "id": "0bb50b84",
   "metadata": {},
   "outputs": [
    {
     "ename": "NameError",
     "evalue": "name 'lda' is not defined",
     "output_type": "error",
     "traceback": [
      "\u001b[0;31m---------------------------------------------------------------------------\u001b[0m",
      "\u001b[0;31mNameError\u001b[0m                                 Traceback (most recent call last)",
      "\u001b[0;32m/tmp/ipykernel_25486/3277717428.py\u001b[0m in \u001b[0;36m<module>\u001b[0;34m\u001b[0m\n\u001b[1;32m      1\u001b[0m \u001b[0mp_lda\u001b[0m \u001b[0;34m=\u001b[0m \u001b[0mLatentDirichletAllocation\u001b[0m\u001b[0;34m(\u001b[0m\u001b[0mn_components\u001b[0m\u001b[0;34m=\u001b[0m\u001b[0;36m50\u001b[0m\u001b[0;34m,\u001b[0m \u001b[0mrandom_state\u001b[0m\u001b[0;34m=\u001b[0m\u001b[0;36m0\u001b[0m\u001b[0;34m)\u001b[0m\u001b[0;34m\u001b[0m\u001b[0;34m\u001b[0m\u001b[0m\n\u001b[1;32m      2\u001b[0m \u001b[0mp_lda\u001b[0m\u001b[0;34m.\u001b[0m\u001b[0mfit\u001b[0m\u001b[0;34m(\u001b[0m\u001b[0mp_data_vectorized\u001b[0m\u001b[0;34m)\u001b[0m\u001b[0;34m\u001b[0m\u001b[0;34m\u001b[0m\u001b[0m\n\u001b[0;32m----> 3\u001b[0;31m \u001b[0mjoblib\u001b[0m\u001b[0;34m.\u001b[0m\u001b[0mdump\u001b[0m\u001b[0;34m(\u001b[0m\u001b[0mlda\u001b[0m\u001b[0;34m,\u001b[0m \u001b[0;34m'../data/p_lda.csv'\u001b[0m\u001b[0;34m)\u001b[0m\u001b[0;34m\u001b[0m\u001b[0;34m\u001b[0m\u001b[0m\n\u001b[0m",
      "\u001b[0;31mNameError\u001b[0m: name 'lda' is not defined"
     ]
    }
   ],
   "source": [
    "p_lda = LatentDirichletAllocation(n_components=50, random_state=0)\n",
    "p_lda.fit(p_data_vectorized)\n",
    "joblib.dump(p_lda, '../data/p_lda.csv')"
   ]
  },
  {
   "cell_type": "code",
   "execution_count": 12,
   "id": "cd50add5",
   "metadata": {},
   "outputs": [],
   "source": [
    "p_lda = joblib.load('../data/p_lda.csv')"
   ]
  },
  {
   "cell_type": "code",
   "execution_count": 13,
   "id": "93cdd0de",
   "metadata": {},
   "outputs": [],
   "source": [
    "def print_top_words(model, vectorizer, n_top_words):\n",
    "    feature_names = vectorizer.get_feature_names()\n",
    "    for topic_idx, topic in enumerate(model.components_):\n",
    "        message = \"\\nTopic #%d: \" % topic_idx\n",
    "        message += \" \".join([feature_names[i]\n",
    "                             for i in topic.argsort()[:-n_top_words - 1:-1]])\n",
    "        print(message)\n",
    "    print()"
   ]
  },
  {
   "cell_type": "code",
   "execution_count": 28,
   "id": "0a31ae7d",
   "metadata": {},
   "outputs": [
    {
     "name": "stdout",
     "output_type": "stream",
     "text": [
      "\n",
      "Topic #0: say defense missile thaad seoul security south korea system deployment nuclear china u.s north korea government president north issue korean korea washington trump country threat military decision\n",
      "\n",
      "Topic #1: say ministry government city airport korea aid korean group program seoul project assistance provide park humanitarian busan international support plan north official new $ local\n",
      "\n",
      "Topic #2: water apartment general name rent ministry ihara junichi internet low housing shortage facebook rental iot plan northeast live safety device sunday aim ratio request construction\n",
      "\n",
      "Topic #3: park choi president presidential scandal say prosecutor lee samsung charge prosecution investigation office arrest allegation suspect soon team sil group state woo geun court question\n",
      "\n",
      "Topic #4: bill party assembly park national say president opposition parliamentary pass lawmaker government rule saenuri speaker law session parliament revision chung new year veto geun right\n",
      "\n",
      "Topic #5: project russia russian rajin korean eurasia port khasan logistics north south korea city south river coal say ministry official oil initiative state baek korea border corp\n",
      "\n",
      "Topic #6: country korea park cooperation south korea summit say economic development global world trade international asia seoul new economy technology korean energy business climate year president include\n",
      "\n",
      "Topic #7: korea unesco heritage korean say troop american facility seo japan woman visit source world south korea site nation expert know u.s power dokdo artist history president\n",
      "\n",
      "Topic #8: park say mongolia woman korean year development mongolian president asia nuclear south korea war key seoul time hye operation geun leader female infrastructure zuckerberg yonhap include\n",
      "\n",
      "Topic #9: ko say park choi speech president fki k tablet attend bag state turkey blue foundation event pc computer fundraising jtbc presidential final break personal hye\n",
      "\n",
      "Topic #10: culture cultural year tourism korean creative industry minister french france ministry artist k government event sport pop content korea music park art exchange film traditional\n",
      "\n",
      "Topic #11: park president leader meeting economic say new office hold hye geun dae wa visit cheong state national talk presidential country korea meet year people economy\n",
      "\n",
      "Topic #12: secretary vice presidential senior minister affair chief park kim office appoint name new head wa replace dae ministry cheong hyun geun hye foreign policy yonhap\n",
      "\n",
      "Topic #13: cha car cable bank local project say government mountain eun group meter cell official taek korea park loan ad county run startup financial province advertisement\n",
      "\n",
      "Topic #14: party moon election presidential conservative candidate say korea president ban ahn jae political liberal people democratic kim hong lead support liberty year park race win\n",
      "\n",
      "Topic #15: u.s park obama say house washington south korea visit trip president barack white alliance geun hye security yonhap conversation tell delay the united states express include commitment postpone\n",
      "\n",
      "Topic #16: kim say korean jong arctic oxy south product korea nam people government humidifier meeting official company disinfectant financial death case chemical park call time come\n",
      "\n",
      "Topic #17: japan japanese issue abe tokyo woman say minister korean seoul park summit victim south korea foreign hold war prime sex bilateral sexual comfort wartime slavery shinzo\n",
      "\n",
      "Topic #18: president counsel team court independent investigation office probe special presidential park say face impeachment search day lee ministry law request english legal investigator act extension\n",
      "\n",
      "Topic #19: island jeju wind resident electric car energy gapado account kim like power solar carbon tourist panel center parody da sol visitor charge friendly roof generator\n",
      "\n",
      "Topic #20: social trust level respect score improve separate harbor dynamism enigmatic tolerance category repeal unity ring takaichi ago gnp hope star point cast condition rate drastic\n",
      "\n",
      "Topic #21: north nuclear north korea korean say test missile military launch park pyongyang provocation korea u.n sanction security international south south korea range rocket ballistic council un threat\n",
      "\n",
      "Topic #22: wa dae cheong presidential park office say official report ferry president hour disaster day security sewol rumor public residence people kim hye leave visit geun\n",
      "\n",
      "Topic #23: twitter lee city south korea government seongnam politician seoul tent say event facebook mayor korea social summer assembly outlet network mokpo use article medium plan universiade\n",
      "\n",
      "Topic #24: korean year president say korea kim country park national official south korea security world speech political time geun take state ceremony hye chicken work serve post\n",
      "\n",
      "Topic #25: park iran korean visit south middle country south korea kuwait business east trip oil construction cooperation nuclear president $ project al say economic company meet saudi\n",
      "\n",
      "Topic #26: kim ambassador park president say funeral seoul woman lee think south foreign tell korean late leader father official country hye singapore attend geun minister diplomat\n",
      "\n",
      "Topic #27: family korean south say reunion military park border separate north broadcast koreas seoul leaflet kim geun hye year korea aug cross south korea hold propaganda north korea\n",
      "\n",
      "Topic #28: lee prosecution say park sung nis scandal prosecutor hong investigation corruption allegation probe chief money sing agency fund official political election bribery claim won wan\n",
      "\n",
      "Topic #29: textbook history education school government say state student ministry author book korean park university plan high publish system use current korea teacher issue country president\n",
      "\n",
      "Topic #30: pardon park special czech president year grant business day group say chairman presidential kim chey won convict include medical people sk geun liberation hye list\n",
      "\n",
      "Topic #31: chung university choi daughter president school park ewha ra yoo seoul say mother soon court ministry womans admission arrest sil geun hye favor professor korean\n",
      "\n",
      "Topic #32: government sewol say ferry ministry child school year family ship victim disaster people student care sinking accident operation education sink salvage official safety maritime cause\n",
      "\n",
      "Topic #33: china chinese say park beijing military korean parade xi attend war korea south korea president u.s world south country leader professor japan event tie people power\n",
      "\n",
      "Topic #34: say police official seoul report kim korea year mask president state death rally government baek month wear water hospital violent ban chief farmer agency geun\n",
      "\n",
      "Topic #35: party park saenuri rep lawmaker opposition say president leader rule kim member floor political yoo chung committee assembly leadership main national parliamentary new lee election\n",
      "\n",
      "Topic #36: democracy uprising law chun gwangju movement gift beloved doo government public report ran keane crackdown hwan relate say spouse society controversial penalty freedom protest civil\n",
      "\n",
      "Topic #37: defense military u.s han official technology air force plan fighter project say transfer ministry command minister jet drill joint army min carter exercise navy year\n",
      "\n",
      "Topic #38: minister president park say prime opposition presidential lee party new chief public kim cabinet political affair national office state government parliamentary official dae assembly senior\n",
      "\n",
      "Topic #39: percent rating party park approval poll week point survey percentage show support conduct realmeter moon opposition korea gallup president respondent saenuri people hye geun early\n",
      "\n",
      "Topic #40: police election vote presidential voting national voter day ballot seoul early turnout station country president year commission right cast say water cannon law human people\n",
      "\n",
      "Topic #41: say hospital health mers public seoul patient ministry disease medical outbreak u.s country attack virus lippert center police south korea case park government report respiratory official\n",
      "\n",
      "Topic #42: korea korean agreement deal year country government seoul trade lee say ambassador statue embassy foundation group minister $ national free world joel economic foreign support\n",
      "\n",
      "Topic #43: korean north korea north say nuclear park talk u.s seoul china pyongyang south korea summit hold president south visit issue leader foreign inter korea unification kim meeting\n",
      "\n",
      "Topic #44: innovation center startup creative software people turn idea provide small conglomerate website poster venture real economy local young firm co. push create image match ceremony\n",
      "\n",
      "Topic #45: zealand science new korea minister meeting british lee cooperation day foreign way hammond britain seoul oecd ministerial march ambassador technology country r&d hold follow high\n",
      "\n",
      "Topic #46: hwang president act kyo prime ahn minister park rally scandal say korea presidential state affair corruption public yonhap office hold impeachment pyeongchang week geun hye\n",
      "\n",
      "Topic #47: government reform labor year say job public percent park worker pension system plan policy market won union tax economy people rate economic welfare young service\n",
      "\n",
      "Topic #48: park court president say impeachment rally seoul geun hye constitutional people hold justice trial choi march public office ruling scandal protest group country law soon\n",
      "\n",
      "Topic #49: park korean south south korea say visit country kim president seoul korea peru hye geun north year leader hope yonhap help express mark late official foreign\n",
      "\n"
     ]
    },
    {
     "name": "stderr",
     "output_type": "stream",
     "text": [
      "/root/miniconda3/lib/python3.9/site-packages/sklearn/utils/deprecation.py:87: FutureWarning: Function get_feature_names is deprecated; get_feature_names is deprecated in 1.0 and will be removed in 1.2. Please use get_feature_names_out instead.\n",
      "  warnings.warn(msg, category=FutureWarning)\n"
     ]
    }
   ],
   "source": [
    "print_top_words(p_lda, p_vectorizer, n_top_words=25)"
   ]
  },
  {
   "cell_type": "code",
   "execution_count": 29,
   "id": "2bf96acf",
   "metadata": {},
   "outputs": [
    {
     "data": {
      "text/plain": [
       "'\\nLDA 50 topics\\nTopic 0: Iran\\nTopic 1: development\\nTopic 2: ?\\nTopic 3: ?\\nTopic 4: city?\\nTopic 5: disaster\\nTopic 6: -\\nTopic 7: Between country\\nTopic 8: \\nTopic 9: education\\nTopic 10: economic\\nTopic 11: residence\\nTopic 12: sewol\\nTopic 16: president\\nTopic 19: MERS\\nTopic 21: president park\\nTopic 26: Party\\nTopic 27: nuclear\\nTopic 30: Electronics\\nTopic 34: Unification\\nTopic 36: mongolia\\nTopic 48: North Korea\\n'"
      ]
     },
     "execution_count": 29,
     "metadata": {},
     "output_type": "execute_result"
    }
   ],
   "source": [
    "'''\n",
    "LDA 50 topics\n",
    "Topic 5: project russian\n",
    "Topic 6: -\n",
    "Topic 7: Heritage dokdo japan history\n",
    "Topic 10: Culture\n",
    "Topic 17: Japanese sex\n",
    "Topic 18: Investigation\n",
    "Topic 21: Nuclear\n",
    "Topic 22: Twitter\n",
    "Topic 31: woman university\n",
    "Topic 32: sewol ferry\n",
    "Topic 37: navy\n",
    "Topic 38: politics\n",
    "Topic 39,40: election\n",
    "Topic 41: MERS\n",
    "Topic 44: Innovation\n",
    "'''"
   ]
  },
  {
   "cell_type": "code",
   "execution_count": 30,
   "id": "48ca0a89",
   "metadata": {},
   "outputs": [],
   "source": [
    "p_doc_topic_dist = pd.DataFrame(p_lda.transform(p_data_vectorized))\n",
    "p_doc_topic_dist.to_csv('../data/p_doc_topic_dist.csv', index=False)"
   ]
  },
  {
   "cell_type": "code",
   "execution_count": 31,
   "id": "f1c66c2d",
   "metadata": {},
   "outputs": [],
   "source": [
    "p_doc_topic_dist = pd.read_csv('../data/p_doc_topic_dist.csv')"
   ]
  },
  {
   "cell_type": "code",
   "execution_count": 50,
   "id": "1db3de96",
   "metadata": {},
   "outputs": [
    {
     "data": {
      "text/plain": [
       "['N. Korea improves coal shipment capacity at Rajin port',\n",
       " 'Koreas, Russia start third test run for logistics project',\n",
       " '2 Koreas, Russia to carry out third run for pilot logistics project',\n",
       " 'Containers carrying bottled water arrive in S. Korea via North Korean port',\n",
       " \"S. Korea awaits N. Korea's nod for 3-way coal shipment\",\n",
       " 'Three foreigners to stand trial for illegal entry',\n",
       " 'Vietnamese man detained for illegal entry',\n",
       " \"[Newsmaker] Assembly begins 'resource diplomacy' probe\",\n",
       " 'W200b budget set for drought response',\n",
       " 'Seoul to freeze trans-Korea project with Russia',\n",
       " 'Prosecutors raid state oil firm over shady energy projects',\n",
       " 'Cheong Wa Dae renews official webpage',\n",
       " \"Hwang instructs gov't to carry out state affairs 'normally' amid opposition moves to restrain him\",\n",
       " 'Senior officials report huge wealth gains',\n",
       " 'S. Korea mulling over how to name Moon‘s North Korea policy',\n",
       " 'Obama in Korea to attend conference',\n",
       " \"Botswana's president to visit S. Korea next week\",\n",
       " 'North Korea seeks to revive Tumen River development',\n",
       " 'Oil firms raided in graft probe',\n",
       " '‘Eurasia Express’ to link Korea, Europe']"
      ]
     },
     "execution_count": 50,
     "metadata": {},
     "output_type": "execute_result"
    }
   ],
   "source": [
    "# Russian project\n",
    "most_related_docs(df_p, p_doc_topic_dist, 5, num_docs=20)['title'].tolist()"
   ]
  },
  {
   "cell_type": "code",
   "execution_count": 51,
   "id": "73c19957",
   "metadata": {},
   "outputs": [
    {
     "data": {
      "text/plain": [
       "['[Herald Interview] ‘Artists should be guaranteed unlimited freedom of expression’',\n",
       " '[Herald Interview] Knowledge key in Dokdo, comfort women issues',\n",
       " '[Lee Joo-hee] Let’s not sugarcoat the truth',\n",
       " \"Park voices against Japan's world heritage bid\",\n",
       " 'CSIS chief: Troop presence in Korea serves US national interest',\n",
       " 'FM Yun set for fence-mending trip to Japan',\n",
       " 'FM Yun set for fence-mending trip to Japan',\n",
       " 'Japanese books denying responsibility for wartime sexual slavery distributed to American scholars',\n",
       " 'Japanese scholars demand U.S. textbook publisher correct sexual slavery descriptions',\n",
       " '[Herald Interview] ‘Korea sees new paradigm in democracy via nonviolent vigils’',\n",
       " 'Park delivers pep talk to S. Korean troops in UAE',\n",
       " 'Korea-China relations unlikely to suffer despite improvement in Seoul-Tokyo ties: U.S. expert',\n",
       " 'FM Yun leaves for Japan to attend fence-mending talks',\n",
       " 'Rep. Suh demands Tokyo uphold 1993 Kono apology',\n",
       " 'Court backs state order to alter history textbooks',\n",
       " 'Korea could let American troops leave if liberal candidate elected president: US expert',\n",
       " 'Chinese media cast wary eye on Korea-Japan deal on wartime sex slaves',\n",
       " 'Yun to visit Japan Sunday to mend ties',\n",
       " 'Park pleased over UNESCO recognition',\n",
       " 'Japan tries to water down statement on forced labor']"
      ]
     },
     "execution_count": 51,
     "metadata": {},
     "output_type": "execute_result"
    }
   ],
   "source": [
    "# Japanese and Korea\n",
    "most_related_docs(df_p, p_doc_topic_dist, 7, num_docs=20)['title'].tolist()"
   ]
  },
  {
   "cell_type": "code",
   "execution_count": 52,
   "id": "6074ae61",
   "metadata": {},
   "outputs": [
    {
     "data": {
      "text/plain": [
       "['France finishes celebrating 130th year of ties with Korea',\n",
       " 'Park vows to boost IT-based cultural content industry',\n",
       " \"Gov't to enact law to ensure rights of artists\",\n",
       " 'Park moves cultural diplomacy forward in France',\n",
       " 'Park to build ecosystem of cultural content industry',\n",
       " 'Park attends French food festival in Korea',\n",
       " \"ASEM culture ministers' meeting kicks off in Gwangju\",\n",
       " '‘Submarine crash may have caused Sewol sinking’',\n",
       " \"'Cultural enrichment' key to Park's second-half agenda\",\n",
       " \"Park: 'Descendants of the Sun' exemplary case of cultural enhancement\",\n",
       " 'Business tycoons to be excluded from special pardons',\n",
       " \"China's Xi vows to deepen tourism, cultural exchanges with S. Korea\",\n",
       " 'Xi vows to deepen tourism with S. Korea',\n",
       " 'Prime Minister calls for more international cultural cooperation',\n",
       " 'Ex-ambassador to France to be granted French order',\n",
       " 'S. Korea aims to attract 8 million Chinese tourists this year',\n",
       " \"Park calls for success in 'Korea Visit Years'\",\n",
       " 'Park attends event at S. Korean Cultural Service',\n",
       " 'Park at the vanguard of cultural diplomacy',\n",
       " \"ASEM culture ministers' meeting closes with chairman's statement\"]"
      ]
     },
     "execution_count": 52,
     "metadata": {},
     "output_type": "execute_result"
    }
   ],
   "source": [
    "# Culture\n",
    "most_related_docs(df_p, p_doc_topic_dist, 10, num_docs=20)['title'].tolist()"
   ]
  },
  {
   "cell_type": "code",
   "execution_count": 53,
   "id": "aa31bb1e",
   "metadata": {},
   "outputs": [
    {
     "data": {
      "text/plain": [
       "[\"Park calls North Korea's rocket launch 'outright disaster' for peace\",\n",
       " 'N.K. ups tension with short-range missiles',\n",
       " 'Park renews resolve to make Pyongyang opt for denuclearization',\n",
       " 'North Korea fans military tension',\n",
       " 'N. Korea fans military tension',\n",
       " 'N.K. ups tension with short-range missiles',\n",
       " 'Park warns N. Korea could self-destruct unless it embraces change',\n",
       " 'Park urges military readiness against N. Korean provocations',\n",
       " \"Park: N. Korea's missile launch should never be condoned\",\n",
       " 'Park urges N.K. to ditch nukes',\n",
       " 'N. Korea says it successfully conducted solid-fuel rocket test',\n",
       " \"South Korea president urges 'strong' UN response to North rocket launch\",\n",
       " 'N.K. leader warns Seoul‘s gov’t organizations will be destroyed',\n",
       " 'Park: South Korea detects signs of preparations for nuclear test in North Korea',\n",
       " \"Park: North Korea shows signs of 'serious cracks'\",\n",
       " \"Park warns that N. Korea's provocations lead to self-destruction\",\n",
       " 'Park orders military to brace for possible N. Korean provocation',\n",
       " 'N. Korea warns of retaliation against Park',\n",
       " 'N.K. might conduct underground nuke warhead test: Seoul',\n",
       " 'Seoul: N.K. might conduct underground nuke test']"
      ]
     },
     "execution_count": 53,
     "metadata": {},
     "output_type": "execute_result"
    }
   ],
   "source": [
    "# Nuclear\n",
    "most_related_docs(df_p, p_doc_topic_dist, 21, num_docs=20)['title'].tolist()"
   ]
  },
  {
   "cell_type": "code",
   "execution_count": 54,
   "id": "544789a8",
   "metadata": {},
   "outputs": [
    {
     "data": {
      "text/plain": [
       "['S. Korea to announce bid for recovery of sunken ferry this week',\n",
       " \"Gov't concludes physical recovery of sunken ferry possible\",\n",
       " '29 million tweets posted about Sewol ferry tragedy',\n",
       " 'Sewol salvage work to start in September',\n",
       " 'Sewol remembered nationwide',\n",
       " 'After Sewol tragedy, doubts remain on safety overhaul',\n",
       " 'Ruling party floor leader calls for recovery of sunken ferry',\n",
       " \"[Reporter’s column] Government's half-baked plans on 'character building education' turn up more questions than answers\",\n",
       " 'Child care centers to go on strike over budget debacle',\n",
       " \"Gov't to decide whether to recover Sewol this week\",\n",
       " 'Schools reopen after flawed MERS closures',\n",
       " '[Weekender] Criticism mounts over government’s fine dust countermeasure plan',\n",
       " 'Cabinet passes ordinance to probe ferry sinking',\n",
       " '[Newsmaker] Salvaging ferry to be uphill battle',\n",
       " '‘Hanja’ education in elementary schools stirs dispute',\n",
       " 'Korea to open six dammed reservoirs to improve inland water quality',\n",
       " 'Park vows to consider recovery of sunken ferry',\n",
       " 'Sewol victims apply for compensation',\n",
       " 'Cabinet passes ordinance for Sewol probe',\n",
       " 'Possible remains of Sewol victims found']"
      ]
     },
     "execution_count": 54,
     "metadata": {},
     "output_type": "execute_result"
    }
   ],
   "source": [
    "# Sewol\n",
    "most_related_docs(df_p, p_doc_topic_dist, 32, num_docs=20)['title'].tolist()"
   ]
  },
  {
   "cell_type": "code",
   "execution_count": 55,
   "id": "b5e166ed",
   "metadata": {},
   "outputs": [
    {
     "data": {
      "text/plain": [
       "['Aftershocks expected to continue: KMA',\n",
       " 'Govt designates quake-hit Gyeongju as special disaster zone',\n",
       " 'MERS-hit top hospital partially closed',\n",
       " 'Ministers unveil health security packages',\n",
       " 'Doubts grow over containment plans',\n",
       " 'Park names new disease prevention chief',\n",
       " 'U.S. reaffirms strong alliance with S. Korea despite bloody attack on ambassador',\n",
       " '[Newsmaker] Korea’s MERS concerns more about politics than health',\n",
       " 'Park names doctor as head of disease control agency',\n",
       " 'Korea identifies 24 MERS-affected hospitals amid growing concern over virus',\n",
       " 'Quarantine team sent to Samsung hospital',\n",
       " 'Nation goes all-out to contain MERS',\n",
       " 'Seoul announces post-MERS plan for infectious diseases',\n",
       " 'Park tours hospital with MERS patients',\n",
       " 'After MERS, Korea to beef up health expertise',\n",
       " 'S. Korea reports 5th death from MERS, 14 new cases',\n",
       " 'Park meets MERS task force officials',\n",
       " 'Park strongly denounces attack on U.S. envoy',\n",
       " 'South Korea confirms 11th MERS death',\n",
       " 'Envoy’s attacker had intention to kill: police']"
      ]
     },
     "execution_count": 55,
     "metadata": {},
     "output_type": "execute_result"
    }
   ],
   "source": [
    "# DISEASE\n",
    "most_related_docs(df_p, p_doc_topic_dist, 41, num_docs=20)['title'].tolist()"
   ]
  },
  {
   "cell_type": "code",
   "execution_count": 40,
   "id": "3da556f5",
   "metadata": {},
   "outputs": [],
   "source": [
    "df_pp = df[(df['section'] == 'Politics') & (df['agg_title_body'].str.contains(park_str, flags=re.IGNORECASE, regex=True))]"
   ]
  },
  {
   "cell_type": "code",
   "execution_count": 42,
   "id": "02399541",
   "metadata": {},
   "outputs": [
    {
     "data": {
      "text/plain": [
       "['../data/pp_data_vectorized.csv']"
      ]
     },
     "execution_count": 42,
     "metadata": {},
     "output_type": "execute_result"
    }
   ],
   "source": [
    "pp_vectorizer = CountVectorizer(tokenizer=spacy_tokenizer)\n",
    "pp_data_vectorized = pp_vectorizer.fit_transform(df_pp['agg_title_body'])\n",
    "joblib.dump(pp_vectorizer, '../data/pp_vectorizer.csv')\n",
    "joblib.dump(pp_data_vectorized, '../data/pp_data_vectorized.csv')"
   ]
  },
  {
   "cell_type": "code",
   "execution_count": 43,
   "id": "0bbdb4bd",
   "metadata": {},
   "outputs": [],
   "source": [
    "pp_vectorizer = joblib.load('../data/pp_vectorizer.csv')\n",
    "pp_data_vectorized = joblib.load('../data/pp_data_vectorized.csv')"
   ]
  },
  {
   "cell_type": "code",
   "execution_count": 44,
   "id": "d346932f",
   "metadata": {},
   "outputs": [
    {
     "data": {
      "text/plain": [
       "['../data/pp_lda.csv']"
      ]
     },
     "execution_count": 44,
     "metadata": {},
     "output_type": "execute_result"
    }
   ],
   "source": [
    "pp_lda = LatentDirichletAllocation(n_components=50, random_state=0)\n",
    "pp_lda.fit(pp_data_vectorized)\n",
    "joblib.dump(pp_lda, '../data/pp_lda.csv')"
   ]
  },
  {
   "cell_type": "code",
   "execution_count": 45,
   "id": "76c7c164",
   "metadata": {},
   "outputs": [],
   "source": [
    "pp_lda = joblib.load('../data/pp_lda.csv')"
   ]
  },
  {
   "cell_type": "code",
   "execution_count": 56,
   "id": "c4475532",
   "metadata": {},
   "outputs": [
    {
     "name": "stdout",
     "output_type": "stream",
     "text": [
      "\n",
      "Topic #0: sejong ultimate essential \"structural reiterate 2002.she deregulation.park workers.critic respectively 2015.she inflexibility seoul.park marketpresident market.one 40,000.park fundamental march.the said.president 10the party.in korea.before salaried overprotect compile reinvigorate\n",
      "\n",
      "Topic #1: north park unification north korea country south korea corruption official pyongyang say military yonhap call border year warn korean yonhap)president anti accuse uncertainty national step international luncheon\n",
      "\n",
      "Topic #2: nis national say agency intelligence park president presidential assembly official office spy law hearing government time unification parliamentary hye geun opposition service administration wa dae\n",
      "\n",
      "Topic #3: election trump day public report president say korea nec ship park face presidential bulgarian hour plevneliev call kim come lunney restore remain hero sentence fairly\n",
      "\n",
      "Topic #4: sim anti public work corruption presidential female care party say medical korea president law debt park progressive member labor purchase won woman group gift choi\n",
      "\n",
      "Topic #5: textbook school park history government say south korea education korean ministry lippert student author seoul call u.s attack state visit help country hye south yonhap secondary\n",
      "\n",
      "Topic #6: moon presidential ban election candidate ahn conservative party jae say liberal democratic hong korea president support percent race south un poll province lead year people\n",
      "\n",
      "Topic #7: rally election seoul vote citizen voter national country people president protest ballot democracy korea voting park say p.m. day turnout cast gwanghwamun central police old\n",
      "\n",
      "Topic #8: lee npad nominee minister prime confirmation hearing opposition lawmaker new nomination saenuri public main politic alliance hj257@heraldcorp.com hunny democracy rep parliamentary koo allegation wan report\n",
      "\n",
      "Topic #9: minister kim secretary park presidential chief affair senior new cabinet staff president public ministry vice cho prime name reshuffle resignation replace culture post appoint office\n",
      "\n",
      "Topic #10: hwang minister president prime kyo act ahn presidential election meeting state say impeachment day new public corruption yonhap affair park justice run hye geun party\n",
      "\n",
      "Topic #11: song book memoir moon publish minister north claim foreign policy decision roh north korea administration year say dispute argue jae resolution seoul ask un vote human\n",
      "\n",
      "Topic #12: party park opposition president say rule scandal democratic prime national state leader assembly investigation independent call minister people main choo rep impeachment korea decision probe\n",
      "\n",
      "Topic #13: bill terrorism party minjoo parliamentary passage national park set south korea rule pass opposition anti attack service assembly say meeting session terrorist follow week labor cite\n",
      "\n",
      "Topic #14: party bareun conservative liberty korea rule opposition lkp splinter minor say people leader corruption yonhap liberal bloc \"the hope merger political joo main presidential democratic\n",
      "\n",
      "Topic #15: song government ceremony sing beloved gwangju official democratization citizen ministry day claim civic park service activist administration choir submarine designate people anthem participant dispute hye\n",
      "\n",
      "Topic #16: president france park sister trump launch boost year south korea ryeong u.n alliance visit north korea geun bilateral late close state tie seoul hollande yonhap arrive set\n",
      "\n",
      "Topic #17: nuclear defense security missile thaad north korea north say deployment china seoul system president military park national korean government threat provocation south korea pyongyang test deploy area\n",
      "\n",
      "Topic #18: reform labor government pension park job year economic say public worker economy market people plan percent call system civil service create issue union sector regular\n",
      "\n",
      "Topic #19: party rep lawmaker saenuri yoo park kim rule election member conservative say committee candidate korea leader win new lee leadership floor nomination hye pro liberty\n",
      "\n",
      "Topic #20: safety public disaster people petition campaign party facebook twitter earthquake sewol message online account say poster korea start social system national government candidate kwon country\n",
      "\n",
      "Topic #21: movement rural saemaeul team ministry foreign pre passport village spread item emptive confiscate systematically chief dampen condition strategy initiative swiftly uncertainty exchange move incumbent point\n",
      "\n",
      "Topic #22: park say kim scandal call police president chief law rule probe party presidential corruption staff hye geun campaign day local cooperate government head memo prosecution\n",
      "\n",
      "Topic #23: park presidential president government wa office cheong dae say pardon senior year special secretary policy kim meeting grant geun hye chairman affair day business national\n",
      "\n",
      "Topic #24: park prosecutor president presidential team investigation counsel special woo office independent probe arrest choi lee samsung say allegation charge corruption wa seoul scandal prosecution geun\n",
      "\n",
      "Topic #25: park korean say south korea japan summit south leader china meeting president north korea visit u.s seoul hold geun hye country talk korea year issue foreign attend\n",
      "\n",
      "Topic #26: property credit loan home ratio housing myanmar profit ambassador apartment tax south korea market moody buy sea rental economic year malaysia regional household purchase value construction\n",
      "\n",
      "Topic #27: park kim artist blacklist presidential chief culture say minister staff cho hearing list deny ki choon allegation president include cultural sun government office woo yoon\n",
      "\n",
      "Topic #28: party park saenuri say president rep leader lawmaker kim opposition rule political member chung lee meeting new floor leave presidential leadership resignation assembly hye geun\n",
      "\n",
      "Topic #29: party bill say assembly opposition government national president lawmaker park parliamentary saenuri rule revision rep speaker leader year new main hold veto session parliament political\n",
      "\n",
      "Topic #30: park choi president say presidential scandal soon sil court state impeachment allegation geun office hye affair aide friend document official foundation influence trial charge involve\n",
      "\n",
      "Topic #31: park panel woo reform lkp recommendation lew mideast hong choon seok demonstration tie main retribution ask seoul sever believe communication departure right fractured sufficient recommend\n",
      "\n",
      "Topic #32: fire artillery shell mine week.those demilitarized landmine tensionspresident roughly first.the korea.south subsequent week.park fabricate plant fatethe fate.rep fate.the fated far.those fatepolice far.the fatesupreme fare father\n",
      "\n",
      "Topic #33: park country business economic south korea korea trade new economy industry say growth company korean $ cultural project market visit hye geun government export sector culture\n",
      "\n",
      "Topic #34: coordinate negotiate respectively year.more seoul.from direction seoulpresident sandwich army.it 2013.previously honorary dominance organize seasoned 2000.the knack non-parks.the seats.lawmaker ”newly policymaker.chung hankook politican correspondent reception bloc.the\n",
      "\n",
      "Topic #35: tax welfare park policy government party say new income taxis public raise increase saenuri budget economy meeting opposition child settlement scheme rate economic rule leader\n",
      "\n",
      "Topic #36: moon party election nis national agency spy intelligence service chief serve say debate seoul pyo military opposition president claim rule presidential candidate political jjing yongin\n",
      "\n",
      "Topic #37: party park political president opposition election say saenuri kim minjoo leader presidential people rep chief new rule candidate jung win national hyun chung leadership meeting\n",
      "\n",
      "Topic #38: percent rating party approval park week poll percentage point survey show conduct korea support president realmeter gallup public moon hye low geun people job come\n",
      "\n",
      "Topic #39: park say government president airport history korea political people city busan textbook new party year state group geun panel hye local plan policy rule opposition\n",
      "\n",
      "Topic #40: impeachment party vote lawmaker motion opposition saenuri assembly national say pass park president democratic rep parliament bill impeach session friday member group support early people\n",
      "\n",
      "Topic #41: innovation center jeju creative island park startup business visit economy say culture provide tourism country busan turn push energy software smart local south include small\n",
      "\n",
      "Topic #42: broadcast president ko loudspeaker moon wa propaganda bed cheong say dae audit foundation campaign envoy park land border attempt dismissal halt jae fbc demilitarized mine\n",
      "\n",
      "Topic #43: court impeachment park constitutional justice ruling president trial hearing lee final chief hold march lawyer geun say day hye expect decision delay week yonhap act\n",
      "\n",
      "Topic #44: victim japan comfort woman slavery deal government sex statue seoul japanese tokyo public mayor legal group ministry yen sexual say fund right amnesty fail compensation\n",
      "\n",
      "Topic #45: president park year roh moon leave dae family say pay country chung democracy term seoul hye geun hyun political time late office father wa hee\n",
      "\n",
      "Topic #46: say korean korea president north party people south korea park political kim issue north korea government right trump leader national power country system change think year policy\n",
      "\n",
      "Topic #47: park president revision constitution constitutional kim law national year assembly public term system pro election saenuri amendment revise lee chung presidency change order turn rule\n",
      "\n",
      "Topic #48: lee park say president minister office scandal sung prime prosecution official receive sing claim political money geun government presidential dae wa hye investigation chief include\n",
      "\n",
      "Topic #49: middle east korean park saudi oil trip al arabia nation construction kuwait medical gulf visit south nuclear qatar bin reactor energy president opportunity business expect\n",
      "\n"
     ]
    }
   ],
   "source": [
    "print_top_words(pp_lda, pp_vectorizer, n_top_words=25)"
   ]
  },
  {
   "cell_type": "code",
   "execution_count": 47,
   "id": "fed6d90e",
   "metadata": {},
   "outputs": [
    {
     "data": {
      "text/plain": [
       "'\\nLDA Park Politics 50 topics\\nTopic 1: unification\\nTopic 3: Trump\\nTopic 4: Corruption\\nTopic 5: education\\nTopic 6: election\\nTopic 7: election\\nTopic 17: nuclear security\\nTopic 18: labor\\nTopic 21: Strategy\\nTopic 41: Innovation\\nTopic 44: sexual victim\\nTopic 49: energy from middle east\\n'"
      ]
     },
     "execution_count": 47,
     "metadata": {},
     "output_type": "execute_result"
    }
   ],
   "source": [
    "'''\n",
    "LDA Park Politics 50 topics\n",
    "Topic 1: unification\n",
    "Topic 3: Trump\n",
    "Topic 4: Corruption\n",
    "Topic 5: education\n",
    "Topic 6: election\n",
    "Topic 7: election\n",
    "Topic 17: nuclear security\n",
    "Topic 18: labor\n",
    "Topic 21: Strategy\n",
    "Topic 41: Innovation\n",
    "Topic 44: sexual victim\n",
    "Topic 49: energy from middle east\n",
    "'''"
   ]
  },
  {
   "cell_type": "code",
   "execution_count": 48,
   "id": "e62c58fb",
   "metadata": {},
   "outputs": [],
   "source": [
    "pp_doc_topic_dist = pd.DataFrame(pp_lda.transform(pp_data_vectorized))\n",
    "pp_doc_topic_dist.to_csv('../data/pp_doc_topic_dist.csv', index=False)"
   ]
  },
  {
   "cell_type": "code",
   "execution_count": 57,
   "id": "b27ed67b",
   "metadata": {},
   "outputs": [
    {
     "ename": "KeyError",
     "evalue": "'1'",
     "output_type": "error",
     "traceback": [
      "\u001b[0;31m---------------------------------------------------------------------------\u001b[0m",
      "\u001b[0;31mKeyError\u001b[0m                                  Traceback (most recent call last)",
      "\u001b[0;32m/tmp/ipykernel_25486/942670231.py\u001b[0m in \u001b[0;36m<module>\u001b[0;34m\u001b[0m\n\u001b[1;32m      1\u001b[0m \u001b[0;31m# Unification\u001b[0m\u001b[0;34m\u001b[0m\u001b[0;34m\u001b[0m\u001b[0;34m\u001b[0m\u001b[0m\n\u001b[0;32m----> 2\u001b[0;31m \u001b[0mmost_related_docs\u001b[0m\u001b[0;34m(\u001b[0m\u001b[0mdf_pp\u001b[0m\u001b[0;34m,\u001b[0m \u001b[0mpp_doc_topic_dist\u001b[0m\u001b[0;34m,\u001b[0m \u001b[0;36m1\u001b[0m\u001b[0;34m,\u001b[0m \u001b[0mnum_docs\u001b[0m\u001b[0;34m=\u001b[0m\u001b[0;36m20\u001b[0m\u001b[0;34m)\u001b[0m\u001b[0;34m[\u001b[0m\u001b[0;34m'title'\u001b[0m\u001b[0;34m]\u001b[0m\u001b[0;34m.\u001b[0m\u001b[0mtolist\u001b[0m\u001b[0;34m(\u001b[0m\u001b[0;34m)\u001b[0m\u001b[0;34m\u001b[0m\u001b[0;34m\u001b[0m\u001b[0m\n\u001b[0m",
      "\u001b[0;32m/tmp/ipykernel_25486/278659782.py\u001b[0m in \u001b[0;36mmost_related_docs\u001b[0;34m(df, doc_topic_dist, topic_index, num_docs)\u001b[0m\n\u001b[1;32m      1\u001b[0m \u001b[0;32mdef\u001b[0m \u001b[0mmost_related_docs\u001b[0m\u001b[0;34m(\u001b[0m\u001b[0mdf\u001b[0m\u001b[0;34m,\u001b[0m \u001b[0mdoc_topic_dist\u001b[0m\u001b[0;34m,\u001b[0m \u001b[0mtopic_index\u001b[0m\u001b[0;34m,\u001b[0m \u001b[0mnum_docs\u001b[0m\u001b[0;34m=\u001b[0m\u001b[0;36m5\u001b[0m\u001b[0;34m)\u001b[0m\u001b[0;34m:\u001b[0m\u001b[0;34m\u001b[0m\u001b[0;34m\u001b[0m\u001b[0m\n\u001b[0;32m----> 2\u001b[0;31m     \u001b[0msorted_doc\u001b[0m \u001b[0;34m=\u001b[0m \u001b[0mdoc_topic_dist\u001b[0m\u001b[0;34m.\u001b[0m\u001b[0msort_values\u001b[0m\u001b[0;34m(\u001b[0m\u001b[0mby\u001b[0m\u001b[0;34m=\u001b[0m\u001b[0;34m[\u001b[0m\u001b[0;34m'{}'\u001b[0m\u001b[0;34m.\u001b[0m\u001b[0mformat\u001b[0m\u001b[0;34m(\u001b[0m\u001b[0mtopic_index\u001b[0m\u001b[0;34m)\u001b[0m\u001b[0;34m]\u001b[0m\u001b[0;34m,\u001b[0m \u001b[0mascending\u001b[0m\u001b[0;34m=\u001b[0m\u001b[0;32mFalse\u001b[0m\u001b[0;34m)\u001b[0m\u001b[0;34m\u001b[0m\u001b[0;34m\u001b[0m\u001b[0m\n\u001b[0m\u001b[1;32m      3\u001b[0m     \u001b[0;32mreturn\u001b[0m \u001b[0mdf\u001b[0m\u001b[0;34m.\u001b[0m\u001b[0miloc\u001b[0m\u001b[0;34m[\u001b[0m\u001b[0msorted_doc\u001b[0m\u001b[0;34m[\u001b[0m\u001b[0;34m:\u001b[0m\u001b[0mnum_docs\u001b[0m\u001b[0;34m]\u001b[0m\u001b[0;34m.\u001b[0m\u001b[0mindex\u001b[0m\u001b[0;34m]\u001b[0m\u001b[0;34m\u001b[0m\u001b[0;34m\u001b[0m\u001b[0m\n",
      "\u001b[0;32m~/miniconda3/lib/python3.9/site-packages/pandas/util/_decorators.py\u001b[0m in \u001b[0;36mwrapper\u001b[0;34m(*args, **kwargs)\u001b[0m\n\u001b[1;32m    309\u001b[0m                     \u001b[0mstacklevel\u001b[0m\u001b[0;34m=\u001b[0m\u001b[0mstacklevel\u001b[0m\u001b[0;34m,\u001b[0m\u001b[0;34m\u001b[0m\u001b[0;34m\u001b[0m\u001b[0m\n\u001b[1;32m    310\u001b[0m                 )\n\u001b[0;32m--> 311\u001b[0;31m             \u001b[0;32mreturn\u001b[0m \u001b[0mfunc\u001b[0m\u001b[0;34m(\u001b[0m\u001b[0;34m*\u001b[0m\u001b[0margs\u001b[0m\u001b[0;34m,\u001b[0m \u001b[0;34m**\u001b[0m\u001b[0mkwargs\u001b[0m\u001b[0;34m)\u001b[0m\u001b[0;34m\u001b[0m\u001b[0;34m\u001b[0m\u001b[0m\n\u001b[0m\u001b[1;32m    312\u001b[0m \u001b[0;34m\u001b[0m\u001b[0m\n\u001b[1;32m    313\u001b[0m         \u001b[0;32mreturn\u001b[0m \u001b[0mwrapper\u001b[0m\u001b[0;34m\u001b[0m\u001b[0;34m\u001b[0m\u001b[0m\n",
      "\u001b[0;32m~/miniconda3/lib/python3.9/site-packages/pandas/core/frame.py\u001b[0m in \u001b[0;36msort_values\u001b[0;34m(self, by, axis, ascending, inplace, kind, na_position, ignore_index, key)\u001b[0m\n\u001b[1;32m   6257\u001b[0m \u001b[0;34m\u001b[0m\u001b[0m\n\u001b[1;32m   6258\u001b[0m             \u001b[0mby\u001b[0m \u001b[0;34m=\u001b[0m \u001b[0mby\u001b[0m\u001b[0;34m[\u001b[0m\u001b[0;36m0\u001b[0m\u001b[0;34m]\u001b[0m\u001b[0;34m\u001b[0m\u001b[0;34m\u001b[0m\u001b[0m\n\u001b[0;32m-> 6259\u001b[0;31m             \u001b[0mk\u001b[0m \u001b[0;34m=\u001b[0m \u001b[0mself\u001b[0m\u001b[0;34m.\u001b[0m\u001b[0m_get_label_or_level_values\u001b[0m\u001b[0;34m(\u001b[0m\u001b[0mby\u001b[0m\u001b[0;34m,\u001b[0m \u001b[0maxis\u001b[0m\u001b[0;34m=\u001b[0m\u001b[0maxis\u001b[0m\u001b[0;34m)\u001b[0m\u001b[0;34m\u001b[0m\u001b[0;34m\u001b[0m\u001b[0m\n\u001b[0m\u001b[1;32m   6260\u001b[0m \u001b[0;34m\u001b[0m\u001b[0m\n\u001b[1;32m   6261\u001b[0m             \u001b[0;31m# need to rewrap column in Series to apply key function\u001b[0m\u001b[0;34m\u001b[0m\u001b[0;34m\u001b[0m\u001b[0;34m\u001b[0m\u001b[0m\n",
      "\u001b[0;32m~/miniconda3/lib/python3.9/site-packages/pandas/core/generic.py\u001b[0m in \u001b[0;36m_get_label_or_level_values\u001b[0;34m(self, key, axis)\u001b[0m\n\u001b[1;32m   1777\u001b[0m             \u001b[0mvalues\u001b[0m \u001b[0;34m=\u001b[0m \u001b[0mself\u001b[0m\u001b[0;34m.\u001b[0m\u001b[0maxes\u001b[0m\u001b[0;34m[\u001b[0m\u001b[0maxis\u001b[0m\u001b[0;34m]\u001b[0m\u001b[0;34m.\u001b[0m\u001b[0mget_level_values\u001b[0m\u001b[0;34m(\u001b[0m\u001b[0mkey\u001b[0m\u001b[0;34m)\u001b[0m\u001b[0;34m.\u001b[0m\u001b[0m_values\u001b[0m\u001b[0;34m\u001b[0m\u001b[0;34m\u001b[0m\u001b[0m\n\u001b[1;32m   1778\u001b[0m         \u001b[0;32melse\u001b[0m\u001b[0;34m:\u001b[0m\u001b[0;34m\u001b[0m\u001b[0;34m\u001b[0m\u001b[0m\n\u001b[0;32m-> 1779\u001b[0;31m             \u001b[0;32mraise\u001b[0m \u001b[0mKeyError\u001b[0m\u001b[0;34m(\u001b[0m\u001b[0mkey\u001b[0m\u001b[0;34m)\u001b[0m\u001b[0;34m\u001b[0m\u001b[0;34m\u001b[0m\u001b[0m\n\u001b[0m\u001b[1;32m   1780\u001b[0m \u001b[0;34m\u001b[0m\u001b[0m\n\u001b[1;32m   1781\u001b[0m         \u001b[0;31m# Check for duplicates\u001b[0m\u001b[0;34m\u001b[0m\u001b[0;34m\u001b[0m\u001b[0;34m\u001b[0m\u001b[0m\n",
      "\u001b[0;31mKeyError\u001b[0m: '1'"
     ]
    }
   ],
   "source": [
    "# Unification\n",
    "most_related_docs(df_pp, pp_doc_topic_dist, 1, num_docs=20)['title'].tolist()"
   ]
  },
  {
   "cell_type": "code",
   "execution_count": null,
   "id": "a1c666c8",
   "metadata": {},
   "outputs": [],
   "source": [
    "# Trump\n",
    "most_related_docs(df_pp, pp_doc_topic_dist, 3, num_docs=20)['title'].tolist()"
   ]
  },
  {
   "cell_type": "code",
   "execution_count": null,
   "id": "e607000e",
   "metadata": {},
   "outputs": [],
   "source": [
    "# Education\n",
    "most_related_docs(df_pp, pp_doc_topic_dist, 5, num_docs=20)['title'].tolist()"
   ]
  },
  {
   "cell_type": "code",
   "execution_count": null,
   "id": "1ee65e3e",
   "metadata": {},
   "outputs": [],
   "source": [
    "# Innovation\n",
    "ppp_most_related_docs(41, num_docs=20)['title'].tolist()"
   ]
  },
  {
   "cell_type": "code",
   "execution_count": null,
   "id": "7e63f9a1",
   "metadata": {},
   "outputs": [],
   "source": []
  },
  {
   "cell_type": "code",
   "execution_count": null,
   "id": "fb549f4c",
   "metadata": {},
   "outputs": [],
   "source": []
  }
 ],
 "metadata": {
  "kernelspec": {
   "display_name": "Python 3 (ipykernel)",
   "language": "python",
   "name": "python3"
  },
  "language_info": {
   "codemirror_mode": {
    "name": "ipython",
    "version": 3
   },
   "file_extension": ".py",
   "mimetype": "text/x-python",
   "name": "python",
   "nbconvert_exporter": "python",
   "pygments_lexer": "ipython3",
   "version": "3.9.5"
  }
 },
 "nbformat": 4,
 "nbformat_minor": 5
}
