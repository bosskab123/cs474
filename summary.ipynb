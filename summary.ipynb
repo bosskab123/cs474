{
 "cells": [
  {
   "cell_type": "code",
   "execution_count": 1,
   "id": "40628715",
   "metadata": {},
   "outputs": [],
   "source": [
    "import pandas as pd\n",
    "import numpy as np\n",
    "import os\n",
    "import re\n",
    "\n",
    "from sklearn.feature_extraction.text import CountVectorizer\n",
    "from sklearn.feature_extraction.text import TfidfTransformer\n",
    "from sklearn.feature_extraction.text import TfidfVectorizer\n",
    "from sklearn.decomposition import PCA\n",
    "from sklearn.decomposition import TruncatedSVD\n",
    "from sklearn.manifold import TSNE\n",
    "from sklearn.cluster import KMeans\n",
    "from sklearn.cluster import DBSCAN\n",
    "from sklearn.neighbors import NearestNeighbors\n",
    "from sklearn.metrics import silhouette_score\n",
    "\n",
    "import matplotlib.pyplot as plt\n",
    "\n",
    "import spacy\n",
    "from spacy.matcher import Matcher\n",
    "\n",
    "import torch\n",
    "from transformers import BartTokenizer, BartForConditionalGeneration, BartConfig\n",
    "from transformers import pipeline\n",
    "\n",
    "from time import time"
   ]
  },
  {
   "cell_type": "code",
   "execution_count": 2,
   "id": "657614d3",
   "metadata": {},
   "outputs": [
    {
     "data": {
      "text/plain": [
       "(23769, 6)"
      ]
     },
     "execution_count": 2,
     "metadata": {},
     "output_type": "execute_result"
    }
   ],
   "source": [
    "data_dir = 'data/'\n",
    "filename_prefix = 'koreaherald_1517_'\n",
    "df = []\n",
    "for i in range(8):\n",
    "    df.append(pd.read_json(os.path.join(data_dir, filename_prefix + str(i) + '.json')))\n",
    "df = pd.concat(df)\n",
    "df.reset_index(inplace=True)\n",
    "df = df.rename(columns=dict(zip(df.columns,[df.columns[i].strip() for i in range(len(df.columns))])))\n",
    "df.drop('index', inplace=True, axis=1)\n",
    "df.shape"
   ]
  },
  {
   "cell_type": "code",
   "execution_count": 3,
   "id": "5f275cde",
   "metadata": {},
   "outputs": [],
   "source": [
    "device = \"cuda:0\" if torch.cuda.is_available() else \"cpu\"\n",
    "model = BartForConditionalGeneration.from_pretrained('facebook/bart-large-cnn').to(device)\n",
    "tokenizer = BartTokenizer.from_pretrained('facebook/bart-large-cnn')"
   ]
  },
  {
   "cell_type": "code",
   "execution_count": 4,
   "id": "8ebc7501",
   "metadata": {},
   "outputs": [],
   "source": [
    "def summarize_text(s: str, length=10):\n",
    "    inputs = tokenizer([s], max_length=1024, return_tensors='pt', truncation=True).to(device)\n",
    "    summary_ids = model.generate(inputs['input_ids'], num_beams=4, max_length=length, early_stopping=True)\n",
    "    output = [tokenizer.decode(g, skip_special_tokens=True, clean_up_tokenization_spaces=False) for g in summary_ids]\n",
    "    torch.cuda.empty_cache()\n",
    "    return output[0]\n",
    "\n",
    "# df['summarized_body'] = df['body'][:5].apply(lambda x: summarize_text(x))"
   ]
  },
  {
   "cell_type": "code",
   "execution_count": 23,
   "id": "0189d4b9",
   "metadata": {},
   "outputs": [],
   "source": [
    "# [(67, 11),\n",
    "#  (617, 7),\n",
    "#  (3706, 5),\n",
    "#  (4733, 5),\n",
    "#  (5, 4),\n",
    "#  (6652, 4),\n",
    "#  (813, 3),\n",
    "#  (911, 3),\n",
    "#  (4110, 3),\n",
    "#  (5033, 3),\n",
    "#  (6414, 3),\n",
    "#  (44, 2),\n",
    "#  (113, 2),\n",
    "#  (114, 2),\n",
    "#  (190, 2),\n",
    "#  (313, 2),\n",
    "#  (334, 2),\n",
    "#  (591, 2),\n",
    "#  (606, 2),\n",
    "#  (849, 2)]\n",
    "\n",
    "from collections import Counter\n",
    "st = ' '.join(df['title'][[630,4376,5734,6953,7630,7954,8286]].tolist())"
   ]
  },
  {
   "cell_type": "code",
   "execution_count": 25,
   "id": "b98ee1e3",
   "metadata": {},
   "outputs": [
    {
     "data": {
      "text/plain": [
       "'Largest-ever skin impression'"
      ]
     },
     "execution_count": 25,
     "metadata": {},
     "output_type": "execute_result"
    }
   ],
   "source": [
    "summarized_630 = summarize_text(df['title'][630], length=10)\n",
    "summarized_630"
   ]
  },
  {
   "cell_type": "code",
   "execution_count": 26,
   "id": "52aeb54b",
   "metadata": {},
   "outputs": [],
   "source": [
    "summarized_sample = summarize_text(st, length=100)"
   ]
  },
  {
   "cell_type": "code",
   "execution_count": 27,
   "id": "ca59daa5",
   "metadata": {},
   "outputs": [
    {
     "data": {
      "text/plain": [
       "\"Largest-ever skin impression on dinosaur footprint found in S. Korea. Korea confirmed to have 47,000 indigenous species of animals, plants. Seoul Zoo eager to restore Korean leopards. South Korea's Sewol’s final trip Endangered brown long-eared bat found.\""
      ]
     },
     "execution_count": 27,
     "metadata": {},
     "output_type": "execute_result"
    }
   ],
   "source": [
    "summarized_sample"
   ]
  },
  {
   "cell_type": "code",
   "execution_count": 32,
   "id": "5d6133d7",
   "metadata": {},
   "outputs": [],
   "source": [
    "pd.set_option('max_colwidth', 2000)"
   ]
  },
  {
   "cell_type": "code",
   "execution_count": 36,
   "id": "62079490",
   "metadata": {},
   "outputs": [
    {
     "data": {
      "text/plain": [
       "matrix([[0, 0, 0, ..., 0, 0, 0],\n",
       "        [1, 0, 1, ..., 0, 0, 0],\n",
       "        [0, 0, 0, ..., 6, 1, 2],\n",
       "        ...,\n",
       "        [0, 0, 0, ..., 0, 0, 0],\n",
       "        [0, 0, 0, ..., 0, 0, 0],\n",
       "        [2, 1, 0, ..., 0, 0, 0]])"
      ]
     },
     "execution_count": 36,
     "metadata": {},
     "output_type": "execute_result"
    }
   ],
   "source": [
    "sample = df['body'][[630,4376,5734,6953,7630,7954,8286]]\n",
    "vectorizer = CountVectorizer()\n",
    "X = vectorizer.fit_transform(sample)\n",
    "X.todense()"
   ]
  },
  {
   "cell_type": "code",
   "execution_count": null,
   "id": "a7f52192",
   "metadata": {
    "scrolled": true
   },
   "outputs": [],
   "source": [
    "# # Load\n",
    "# df['summarized_body'] = pd.read_csv('summarized_data.csv')\n",
    "# chkpt = 380\n",
    "# total_chkpt = 1000\n",
    "# # Transform\n",
    "# chnk = int(len(df['body'])/total_chkpt)\n",
    "\n",
    "\n",
    "# for i in range(chkpt,total_chkpt):\n",
    "#     if i != total_chkpt-1:\n",
    "#         df['summarized_body'][i*chnk:(i+1)*chnk] = df['body'][i*chnk:(i+1)*chnk].apply(lambda x: summarize_text(x))\n",
    "        \n",
    "#     else:\n",
    "#         df['summarized_body'][i*chnk:] = df['body'][i*chnk:].apply(lambda x: summarize_text(x))\n",
    "#     df['summarized_body'].to_csv('summarized_data.csv', index=False)\n",
    "#     print(\"Saved checkpoint {}\".format(i))\n",
    "    "
   ]
  },
  {
   "cell_type": "code",
   "execution_count": null,
   "id": "f25521d4",
   "metadata": {},
   "outputs": [],
   "source": []
  }
 ],
 "metadata": {
  "kernelspec": {
   "display_name": "Python 3 (ipykernel)",
   "language": "python",
   "name": "python3"
  },
  "language_info": {
   "codemirror_mode": {
    "name": "ipython",
    "version": 3
   },
   "file_extension": ".py",
   "mimetype": "text/x-python",
   "name": "python",
   "nbconvert_exporter": "python",
   "pygments_lexer": "ipython3",
   "version": "3.9.5"
  }
 },
 "nbformat": 4,
 "nbformat_minor": 5
}
