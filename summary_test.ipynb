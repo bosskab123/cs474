{
 "cells": [
  {
   "cell_type": "markdown",
   "id": "15f1e39d",
   "metadata": {},
   "source": [
    "### Libs & Data"
   ]
  },
  {
   "cell_type": "code",
   "execution_count": 1,
   "id": "74952819",
   "metadata": {},
   "outputs": [],
   "source": [
    "# D:\\Program Files\\anaconda3\\envs\\tmining\\Lib\\site-packages\\Giveme5W1H\\runtime-resources\\stanford-corenlp-full-2018-10-05\n",
    "# java -Xmx4g -cp \"*\" edu.stanford.nlp.pipeline.StanfordCoreNLPServer -port 9000 -timeout 15000\n",
    "import numpy as np\n",
    "import pandas as pd\n",
    "import os\n",
    "import re\n",
    "import nltk\n",
    "\n",
    "from transformers import BartTokenizer, BartForConditionalGeneration, BartConfig\n",
    "from transformers import pipeline\n",
    "\n",
    "import matplotlib.pyplot as plt"
   ]
  },
  {
   "cell_type": "code",
   "execution_count": 2,
   "id": "8638d2b7",
   "metadata": {},
   "outputs": [
    {
     "data": {
      "text/plain": [
       "(23769, 6)"
      ]
     },
     "execution_count": 2,
     "metadata": {},
     "output_type": "execute_result"
    }
   ],
   "source": [
    "data_dir = 'data/'\n",
    "filename_prefix = 'koreaherald_1517_'\n",
    "df = []\n",
    "for i in range(8):\n",
    "    df.append(pd.read_json(os.path.join(data_dir, filename_prefix + str(i) + '.json')))\n",
    "df = pd.concat(df)\n",
    "df.reset_index(inplace=True)\n",
    "df = df.rename(columns=dict(zip(df.columns,[df.columns[i].strip() for i in range(len(df.columns))])))\n",
    "df.drop('index', inplace=True, axis=1)\n",
    "df.shape"
   ]
  },
  {
   "cell_type": "code",
   "execution_count": 3,
   "id": "58199f3d",
   "metadata": {},
   "outputs": [
    {
     "data": {
      "text/html": [
       "<div>\n",
       "<style scoped>\n",
       "    .dataframe tbody tr th:only-of-type {\n",
       "        vertical-align: middle;\n",
       "    }\n",
       "\n",
       "    .dataframe tbody tr th {\n",
       "        vertical-align: top;\n",
       "    }\n",
       "\n",
       "    .dataframe thead th {\n",
       "        text-align: right;\n",
       "    }\n",
       "</style>\n",
       "<table border=\"1\" class=\"dataframe\">\n",
       "  <thead>\n",
       "    <tr style=\"text-align: right;\">\n",
       "      <th></th>\n",
       "      <th>author</th>\n",
       "      <th>body</th>\n",
       "      <th>description</th>\n",
       "      <th>section</th>\n",
       "      <th>time</th>\n",
       "      <th>title</th>\n",
       "    </tr>\n",
       "  </thead>\n",
       "  <tbody>\n",
       "    <tr>\n",
       "      <th>0</th>\n",
       "      <td>Lee Sun-young</td>\n",
       "      <td>With birthrates persistently low and the senio...</td>\n",
       "      <td>With birthrates persistently low and the senio...</td>\n",
       "      <td>Social affairs</td>\n",
       "      <td>2018-01-01 17:07:00</td>\n",
       "      <td>A snapshot of multiculturalism in South Korea</td>\n",
       "    </tr>\n",
       "    <tr>\n",
       "      <th>1</th>\n",
       "      <td>Choi He-suk</td>\n",
       "      <td>From North Korea’s nuclear weapons program nea...</td>\n",
       "      <td>From North Korea’s nuclear weapons program nea...</td>\n",
       "      <td>Social affairs</td>\n",
       "      <td>2018-01-01 13:22:00</td>\n",
       "      <td>[Weekender] Korea’s dynamic 2017</td>\n",
       "    </tr>\n",
       "    <tr>\n",
       "      <th>2</th>\n",
       "      <td>Yonhap</td>\n",
       "      <td>South Korea's parliament on Friday passed moti...</td>\n",
       "      <td>South Korea's parliament on Friday passed moti...</td>\n",
       "      <td>Politics</td>\n",
       "      <td>2017-12-29 20:41:00</td>\n",
       "      <td>Parliament approves nominees for chief state a...</td>\n",
       "    </tr>\n",
       "    <tr>\n",
       "      <th>3</th>\n",
       "      <td>Lim Jeong-yeo</td>\n",
       "      <td>A 3.5 magnitude earthquake occurred in Pohang,...</td>\n",
       "      <td>A 3.5 magnitude earthquake occurred in Pohang,...</td>\n",
       "      <td>Social affairs</td>\n",
       "      <td>2017-12-25 16:54:00</td>\n",
       "      <td>70th aftershock of Pohang quake occurs on Chri...</td>\n",
       "    </tr>\n",
       "    <tr>\n",
       "      <th>4</th>\n",
       "      <td>Yonhap</td>\n",
       "      <td>The president of Uzbekistan will come to South...</td>\n",
       "      <td>The president of Uzbekistan will come to South...</td>\n",
       "      <td>Politics</td>\n",
       "      <td>2017-11-17 16:16:00</td>\n",
       "      <td>Uzbek president to make state visit to Korea</td>\n",
       "    </tr>\n",
       "  </tbody>\n",
       "</table>\n",
       "</div>"
      ],
      "text/plain": [
       "          author                                               body  \\\n",
       "0  Lee Sun-young  With birthrates persistently low and the senio...   \n",
       "1    Choi He-suk  From North Korea’s nuclear weapons program nea...   \n",
       "2         Yonhap  South Korea's parliament on Friday passed moti...   \n",
       "3  Lim Jeong-yeo  A 3.5 magnitude earthquake occurred in Pohang,...   \n",
       "4         Yonhap  The president of Uzbekistan will come to South...   \n",
       "\n",
       "                                         description         section  \\\n",
       "0  With birthrates persistently low and the senio...  Social affairs   \n",
       "1  From North Korea’s nuclear weapons program nea...  Social affairs   \n",
       "2  South Korea's parliament on Friday passed moti...        Politics   \n",
       "3  A 3.5 magnitude earthquake occurred in Pohang,...  Social affairs   \n",
       "4  The president of Uzbekistan will come to South...        Politics   \n",
       "\n",
       "                  time                                              title  \n",
       "0  2018-01-01 17:07:00      A snapshot of multiculturalism in South Korea  \n",
       "1  2018-01-01 13:22:00                   [Weekender] Korea’s dynamic 2017  \n",
       "2  2017-12-29 20:41:00  Parliament approves nominees for chief state a...  \n",
       "3  2017-12-25 16:54:00  70th aftershock of Pohang quake occurs on Chri...  \n",
       "4  2017-11-17 16:16:00       Uzbek president to make state visit to Korea  "
      ]
     },
     "execution_count": 3,
     "metadata": {},
     "output_type": "execute_result"
    }
   ],
   "source": [
    "df.head()"
   ]
  },
  {
   "cell_type": "markdown",
   "id": "a9425a74",
   "metadata": {},
   "source": [
    "### Summarization"
   ]
  },
  {
   "cell_type": "code",
   "execution_count": 4,
   "id": "91557038",
   "metadata": {},
   "outputs": [
    {
     "data": {
      "text/plain": [
       "'With birthrates persistently low and the senior population growing, South Korea‘s working age population is projected to shrink from 2018 onward. Against this backdrop, a steady inflow of immigrants and foreign residents is a potent factor that could bring about major changes to the fabric of South Korean society, long considered culturally and ethnically homogeneous. Here’s a look at the multiculturalism’s growing hold here, although it may not be visible yet in the mainstream.Migrant workers As of 2016, more than 2 million foreign nationals were residing in South Korea under various visa schemes. The lion’s share, totaling about 549,000, is migrant workers brought in from China and Southeast Asian countries to take up jobs that are shunned by more educated South Korean workers. The majority of these workers are in manufacturing, but there has been a noticeable rise of them in agricultural and fishery sectors which have been struggling with chronic labor shortages. The tally from Statistics Korea, however, leaves out thousands of undocumented foreign laborers living and working here without a valid visa. Foreign wives Since late 1990s, international marriages have risen rapidly to become a major route of immigration into Korea, but in recent years their pace of growth has moderated. In 2008, 11.2 percent of all marriages here involved a non-Korean national but the ratio was down to 7.7 percent in 2016. Over 65 percent of the international unions in 2016 were between a foreign wife and a Korean husband. For the first time that year, Vietnam took over China as the No. 1 country of birth for the foreign wives, with 27.4 percent. China came in second at 26.9 percent, while 4.3 percent of the wives came from the Philippines and 3.9 percent from Japan. In such unions, the average age of first marriage was 36 for the Korean husbands and 27.8 of their wives. Foreign studentsThe number of international students receiving higher education here topped the 100,000 mark for the first time in 2016. Chinese are the overwhelming No. 1 group among them with over 70 percent. Vietnam, Mongolia, Japan and the United States followed although their shares are marginal, less than 5 percent. Rise of new generation\\xa0 (Yonhap)In 2016, 19,431 babies of mixed heritage were born in South Korea, which accounted for 4.8 percent of all births in the country. Rural provinces of Jeolla recorded the highest number of multicultural babies born, followed by the southern island province of Jeju. The Education Ministry data puts the number of multicultural students attending elementary, middle and high school at 109,385 as of August 2017, surpassing the 100,000 mark for the first time. It marked a fivefold increase from 2008, when the number was around 20,000. By Lee Sun-young\\xa0 (milaya@heraldcorp.com)'"
      ]
     },
     "execution_count": 4,
     "metadata": {},
     "output_type": "execute_result"
    }
   ],
   "source": [
    "ARTICLE_TO_SUMMARIZE = df['body'][0]\n",
    "ARTICLE_TO_SUMMARIZE"
   ]
  },
  {
   "cell_type": "code",
   "execution_count": 5,
   "id": "b92bfa13",
   "metadata": {},
   "outputs": [],
   "source": [
    "# 1\n",
    "model = BartForConditionalGeneration.from_pretrained('facebook/bart-large-cnn')\n",
    "tokenizer = BartTokenizer.from_pretrained('facebook/bart-large-cnn')"
   ]
  },
  {
   "cell_type": "code",
   "execution_count": 6,
   "id": "8d665780",
   "metadata": {},
   "outputs": [
    {
     "name": "stdout",
     "output_type": "stream",
     "text": [
      "['As of 2016, more than 2 million foreign nationals were residing in South Korea under various visa schemes. The lion’s share, totaling about 549,000, is migrant workers brought in from China and Southeast Asian countries to take up jobs that are shunned by more educated South Korean workers. Over 65 percent of the international unions in 2016 were between a foreign wife and a Korean husband.']\n",
      "Wall time: 37.2 s\n"
     ]
    }
   ],
   "source": [
    "%%time\n",
    "inputs = tokenizer([ARTICLE_TO_SUMMARIZE], max_length=1024, return_tensors='pt', truncation=True)\n",
    "summary_ids = model.generate(inputs['input_ids'], num_beams=4, max_length=100, early_stopping=True)\n",
    "print([tokenizer.decode(g, skip_special_tokens=True, clean_up_tokenization_spaces=False) for g in summary_ids])"
   ]
  },
  {
   "cell_type": "code",
   "execution_count": 8,
   "id": "ad9138a6",
   "metadata": {},
   "outputs": [
    {
     "name": "stderr",
     "output_type": "stream",
     "text": [
      "No model was supplied, defaulted to sshleifer/distilbart-cnn-12-6 (https://huggingface.co/sshleifer/distilbart-cnn-12-6)\n"
     ]
    }
   ],
   "source": [
    "# 2\n",
    "summarizer = pipeline(\"summarization\")"
   ]
  },
  {
   "cell_type": "code",
   "execution_count": 9,
   "id": "fe0fed2a",
   "metadata": {},
   "outputs": [
    {
     "name": "stdout",
     "output_type": "stream",
     "text": [
      "[{'summary_text': ' As of 2016, more than 2 million foreign nationals were residing in South Korea under various visa schemes . The lion’s share, totaling about 549,000, is migrant workers brought in from China and Southeast Asian countries . The majority of these workers are in manufacturing, but there has been a noticeable rise of them in agricultural and fishery sectors .'}]\n",
      "Wall time: 26.2 s\n",
      "Parser   : 173 ms\n"
     ]
    }
   ],
   "source": [
    "%%time\n",
    "print(summarizer(ARTICLE_TO_SUMMARIZE, max_length=100, min_length=30, do_sample=False))"
   ]
  }
 ],
 "metadata": {
  "kernelspec": {
   "display_name": "tmining",
   "language": "python",
   "name": "tmining"
  },
  "language_info": {
   "codemirror_mode": {
    "name": "ipython",
    "version": 3
   },
   "file_extension": ".py",
   "mimetype": "text/x-python",
   "name": "python",
   "nbconvert_exporter": "python",
   "pygments_lexer": "ipython3",
   "version": "3.6.13"
  }
 },
 "nbformat": 4,
 "nbformat_minor": 5
}
