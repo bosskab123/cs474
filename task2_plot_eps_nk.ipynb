{
 "cells": [
  {
   "cell_type": "markdown",
   "id": "d43cc01a",
   "metadata": {},
   "source": [
    "### Libs & Data"
   ]
  },
  {
   "cell_type": "code",
   "execution_count": 1,
   "id": "3168280d",
   "metadata": {},
   "outputs": [
    {
     "name": "stderr",
     "output_type": "stream",
     "text": [
      "[nltk_data] Downloading package stopwords to\n",
      "[nltk_data]     C:\\Users\\kwsst\\AppData\\Roaming\\nltk_data...\n",
      "[nltk_data]   Package stopwords is already up-to-date!\n",
      "[nltk_data] Downloading package wordnet to\n",
      "[nltk_data]     C:\\Users\\kwsst\\AppData\\Roaming\\nltk_data...\n",
      "[nltk_data]   Package wordnet is already up-to-date!\n"
     ]
    }
   ],
   "source": [
    "import pandas as pd\n",
    "import numpy as np\n",
    "import os\n",
    "import re\n",
    "import nltk\n",
    "nltk.download('stopwords')\n",
    "nltk.download('wordnet')\n",
    "import string\n",
    "import random\n",
    "import unicodedata\n",
    "from string import punctuation\n",
    "from string import digits\n",
    "from nltk.stem import WordNetLemmatizer\n",
    "import joblib\n",
    "\n",
    "from sklearn.feature_extraction.text import CountVectorizer\n",
    "from sklearn.feature_extraction.text import TfidfTransformer\n",
    "from sklearn.feature_extraction.text import TfidfVectorizer\n",
    "from sklearn.decomposition import PCA\n",
    "from sklearn.decomposition import TruncatedSVD\n",
    "from sklearn.manifold import TSNE\n",
    "from sklearn.cluster import KMeans\n",
    "from sklearn.cluster import DBSCAN\n",
    "from sklearn.neighbors import NearestNeighbors\n",
    "from sklearn.metrics import silhouette_score\n",
    "\n",
    "import matplotlib.pyplot as plt\n",
    "\n",
    "import torch\n",
    "from transformers import BartTokenizer, BartForConditionalGeneration, BartConfig\n",
    "\n",
    "import spacy\n",
    "from spacy.matcher import Matcher"
   ]
  },
  {
   "cell_type": "code",
   "execution_count": 2,
   "id": "ced89a4f",
   "metadata": {},
   "outputs": [
    {
     "data": {
      "text/plain": [
       "(2879, 9)"
      ]
     },
     "execution_count": 2,
     "metadata": {},
     "output_type": "execute_result"
    }
   ],
   "source": [
    "df_nk = pd.read_csv(\"data/df_nk.csv\")\n",
    "df_politics = pd.read_csv(\"data/df_politics.csv\")\n",
    "df_nk.shape"
   ]
  },
  {
   "cell_type": "code",
   "execution_count": 3,
   "id": "fe631771",
   "metadata": {},
   "outputs": [
    {
     "data": {
      "text/html": [
       "<div>\n",
       "<style scoped>\n",
       "    .dataframe tbody tr th:only-of-type {\n",
       "        vertical-align: middle;\n",
       "    }\n",
       "\n",
       "    .dataframe tbody tr th {\n",
       "        vertical-align: top;\n",
       "    }\n",
       "\n",
       "    .dataframe thead th {\n",
       "        text-align: right;\n",
       "    }\n",
       "</style>\n",
       "<table border=\"1\" class=\"dataframe\">\n",
       "  <thead>\n",
       "    <tr style=\"text-align: right;\">\n",
       "      <th></th>\n",
       "      <th>Unnamed: 0</th>\n",
       "      <th>title</th>\n",
       "      <th>author</th>\n",
       "      <th>time</th>\n",
       "      <th>description</th>\n",
       "      <th>body</th>\n",
       "      <th>section</th>\n",
       "      <th>summarized_body</th>\n",
       "      <th>agg_title_body</th>\n",
       "    </tr>\n",
       "  </thead>\n",
       "  <tbody>\n",
       "    <tr>\n",
       "      <th>0</th>\n",
       "      <td>3</td>\n",
       "      <td>[Newsmaker] Panamanian vessel probed over susp...</td>\n",
       "      <td>Yonhap</td>\n",
       "      <td>2017-12-31 14:55:00</td>\n",
       "      <td>PYEONGTAEK  -- South Korea has seized and insp...</td>\n",
       "      <td>PYEONGTAEK  -- South Korea has seized and insp...</td>\n",
       "      <td>North Korea</td>\n",
       "      <td>The 5,100-ton KOTI is being held in the wester...</td>\n",
       "      <td>[Newsmaker] Panamanian vessel probed over susp...</td>\n",
       "    </tr>\n",
       "    <tr>\n",
       "      <th>1</th>\n",
       "      <td>7</td>\n",
       "      <td>Secret Sauce? Kim Jong-un applies science to k...</td>\n",
       "      <td>AP</td>\n",
       "      <td>2017-12-30 12:10:00</td>\n",
       "      <td>Kim Jong Un wants to turn the art of kimchi-ma...</td>\n",
       "      <td>Kim Jong Un wants to turn the art of kimchi-ma...</td>\n",
       "      <td>North Korea</td>\n",
       "      <td>Ryugyong Kimchi Factory produces 4,200 tons of...</td>\n",
       "      <td>Secret Sauce? Kim Jong-un applies science to k...</td>\n",
       "    </tr>\n",
       "    <tr>\n",
       "      <th>2</th>\n",
       "      <td>8</td>\n",
       "      <td>N. Korea says there will be no change to its n...</td>\n",
       "      <td>Yonhap</td>\n",
       "      <td>2017-12-30 10:31:00</td>\n",
       "      <td>North Korea will continue to enhance its nucle...</td>\n",
       "      <td>North Korea will continue to enhance its nucle...</td>\n",
       "      <td>North Korea</td>\n",
       "      <td>North Korea will continue to enhance its nucle...</td>\n",
       "      <td>N. Korea says there will be no change to its n...</td>\n",
       "    </tr>\n",
       "    <tr>\n",
       "      <th>3</th>\n",
       "      <td>14</td>\n",
       "      <td>Top diplomats of S. Korea, US reassure peacefu...</td>\n",
       "      <td>Yonhap</td>\n",
       "      <td>2017-12-29 16:31:00</td>\n",
       "      <td>The top diplomats of South Korea and the Unite...</td>\n",
       "      <td>The top diplomats of South Korea and the Unite...</td>\n",
       "      <td>North Korea</td>\n",
       "      <td>Top diplomats of South Korea and the U.S. held...</td>\n",
       "      <td>Top diplomats of S. Korea, US reassure peacefu...</td>\n",
       "    </tr>\n",
       "    <tr>\n",
       "      <th>4</th>\n",
       "      <td>19</td>\n",
       "      <td>Businessmen call for probe into shutdown of fa...</td>\n",
       "      <td>Yonhap</td>\n",
       "      <td>2017-12-29 15:04:00</td>\n",
       "      <td>A private task force on Friday pressed the gov...</td>\n",
       "      <td>A private task force on Friday pressed the gov...</td>\n",
       "      <td>North Korea</td>\n",
       "      <td>South Korea pulled the plug on the factory par...</td>\n",
       "      <td>Businessmen call for probe into shutdown of fa...</td>\n",
       "    </tr>\n",
       "  </tbody>\n",
       "</table>\n",
       "</div>"
      ],
      "text/plain": [
       "   Unnamed: 0                                              title  author  \\\n",
       "0           3  [Newsmaker] Panamanian vessel probed over susp...  Yonhap   \n",
       "1           7  Secret Sauce? Kim Jong-un applies science to k...      AP   \n",
       "2           8  N. Korea says there will be no change to its n...  Yonhap   \n",
       "3          14  Top diplomats of S. Korea, US reassure peacefu...  Yonhap   \n",
       "4          19  Businessmen call for probe into shutdown of fa...  Yonhap   \n",
       "\n",
       "                  time                                        description  \\\n",
       "0  2017-12-31 14:55:00  PYEONGTAEK  -- South Korea has seized and insp...   \n",
       "1  2017-12-30 12:10:00  Kim Jong Un wants to turn the art of kimchi-ma...   \n",
       "2  2017-12-30 10:31:00  North Korea will continue to enhance its nucle...   \n",
       "3  2017-12-29 16:31:00  The top diplomats of South Korea and the Unite...   \n",
       "4  2017-12-29 15:04:00  A private task force on Friday pressed the gov...   \n",
       "\n",
       "                                                body      section  \\\n",
       "0  PYEONGTAEK  -- South Korea has seized and insp...  North Korea   \n",
       "1  Kim Jong Un wants to turn the art of kimchi-ma...  North Korea   \n",
       "2  North Korea will continue to enhance its nucle...  North Korea   \n",
       "3  The top diplomats of South Korea and the Unite...  North Korea   \n",
       "4  A private task force on Friday pressed the gov...  North Korea   \n",
       "\n",
       "                                     summarized_body  \\\n",
       "0  The 5,100-ton KOTI is being held in the wester...   \n",
       "1  Ryugyong Kimchi Factory produces 4,200 tons of...   \n",
       "2  North Korea will continue to enhance its nucle...   \n",
       "3  Top diplomats of South Korea and the U.S. held...   \n",
       "4  South Korea pulled the plug on the factory par...   \n",
       "\n",
       "                                      agg_title_body  \n",
       "0  [Newsmaker] Panamanian vessel probed over susp...  \n",
       "1  Secret Sauce? Kim Jong-un applies science to k...  \n",
       "2  N. Korea says there will be no change to its n...  \n",
       "3  Top diplomats of S. Korea, US reassure peacefu...  \n",
       "4  Businessmen call for probe into shutdown of fa...  "
      ]
     },
     "execution_count": 3,
     "metadata": {},
     "output_type": "execute_result"
    }
   ],
   "source": [
    "df_nk.head()"
   ]
  },
  {
   "cell_type": "code",
   "execution_count": 4,
   "id": "3f7c7c9a",
   "metadata": {},
   "outputs": [
    {
     "data": {
      "text/plain": [
       "(2489, 9)"
      ]
     },
     "execution_count": 4,
     "metadata": {},
     "output_type": "execute_result"
    }
   ],
   "source": [
    "df_politics.shape"
   ]
  },
  {
   "cell_type": "code",
   "execution_count": 5,
   "id": "526ac500",
   "metadata": {},
   "outputs": [
    {
     "data": {
      "text/html": [
       "<div>\n",
       "<style scoped>\n",
       "    .dataframe tbody tr th:only-of-type {\n",
       "        vertical-align: middle;\n",
       "    }\n",
       "\n",
       "    .dataframe tbody tr th {\n",
       "        vertical-align: top;\n",
       "    }\n",
       "\n",
       "    .dataframe thead th {\n",
       "        text-align: right;\n",
       "    }\n",
       "</style>\n",
       "<table border=\"1\" class=\"dataframe\">\n",
       "  <thead>\n",
       "    <tr style=\"text-align: right;\">\n",
       "      <th></th>\n",
       "      <th>Unnamed: 0</th>\n",
       "      <th>title</th>\n",
       "      <th>author</th>\n",
       "      <th>time</th>\n",
       "      <th>description</th>\n",
       "      <th>body</th>\n",
       "      <th>section</th>\n",
       "      <th>summarized_body</th>\n",
       "      <th>agg_title_body</th>\n",
       "    </tr>\n",
       "  </thead>\n",
       "  <tbody>\n",
       "    <tr>\n",
       "      <th>0</th>\n",
       "      <td>21</td>\n",
       "      <td>Special pardons aimed at helping ordinary peop...</td>\n",
       "      <td>Yonhap</td>\n",
       "      <td>2017-12-29 11:39:00</td>\n",
       "      <td>The latest pardon extended to more than 6,000 ...</td>\n",
       "      <td>The latest pardon extended to more than 6,000 ...</td>\n",
       "      <td>Politics</td>\n",
       "      <td>The latest pardon extended to more than 6,000 ...</td>\n",
       "      <td>Special pardons aimed at helping ordinary peop...</td>\n",
       "    </tr>\n",
       "    <tr>\n",
       "      <th>1</th>\n",
       "      <td>34</td>\n",
       "      <td>[News Focus] Is multiparty system viable in Ko...</td>\n",
       "      <td>Jo He-rim</td>\n",
       "      <td>2017-12-28 16:29:00</td>\n",
       "      <td>A four-day vote of confidence in the People’s ...</td>\n",
       "      <td>A four-day vote of confidence in the People’s ...</td>\n",
       "      <td>Politics</td>\n",
       "      <td>A four-day vote of confidence in the People’s ...</td>\n",
       "      <td>[News Focus] Is multiparty system viable in Ko...</td>\n",
       "    </tr>\n",
       "    <tr>\n",
       "      <th>2</th>\n",
       "      <td>37</td>\n",
       "      <td>Political parties call on government to resolv...</td>\n",
       "      <td>Jo He-rim</td>\n",
       "      <td>2017-12-28 16:13:00</td>\n",
       "      <td>Political parties on Thursday expressed anger ...</td>\n",
       "      <td>Political parties on Thursday expressed anger ...</td>\n",
       "      <td>Politics</td>\n",
       "      <td>Political parties on Thursday expressed anger ...</td>\n",
       "      <td>Political parties call on government to resolv...</td>\n",
       "    </tr>\n",
       "    <tr>\n",
       "      <th>3</th>\n",
       "      <td>84</td>\n",
       "      <td>Korea's ODA project tainted by corruption scan...</td>\n",
       "      <td>Yonhap</td>\n",
       "      <td>2017-12-26 16:02:00</td>\n",
       "      <td>Impeached President Park Geun-hye's close frie...</td>\n",
       "      <td>Impeached President Park Geun-hye's close frie...</td>\n",
       "      <td>Politics</td>\n",
       "      <td>The probe looked into allegations that the pri...</td>\n",
       "      <td>Korea's ODA project tainted by corruption scan...</td>\n",
       "    </tr>\n",
       "    <tr>\n",
       "      <th>4</th>\n",
       "      <td>174</td>\n",
       "      <td>Ex-President Park summoned for questioning Friday</td>\n",
       "      <td>Ock Hyun-ju</td>\n",
       "      <td>2017-12-20 17:51:00</td>\n",
       "      <td>The prosecution summoned former President Park...</td>\n",
       "      <td>The prosecution summoned former President Park...</td>\n",
       "      <td>Politics</td>\n",
       "      <td>The prosecution summoned former President Park...</td>\n",
       "      <td>Ex-President Park summoned for questioning Fri...</td>\n",
       "    </tr>\n",
       "  </tbody>\n",
       "</table>\n",
       "</div>"
      ],
      "text/plain": [
       "   Unnamed: 0                                              title       author  \\\n",
       "0          21  Special pardons aimed at helping ordinary peop...       Yonhap   \n",
       "1          34  [News Focus] Is multiparty system viable in Ko...    Jo He-rim   \n",
       "2          37  Political parties call on government to resolv...    Jo He-rim   \n",
       "3          84  Korea's ODA project tainted by corruption scan...       Yonhap   \n",
       "4         174  Ex-President Park summoned for questioning Friday  Ock Hyun-ju   \n",
       "\n",
       "                  time                                        description  \\\n",
       "0  2017-12-29 11:39:00  The latest pardon extended to more than 6,000 ...   \n",
       "1  2017-12-28 16:29:00  A four-day vote of confidence in the People’s ...   \n",
       "2  2017-12-28 16:13:00  Political parties on Thursday expressed anger ...   \n",
       "3  2017-12-26 16:02:00  Impeached President Park Geun-hye's close frie...   \n",
       "4  2017-12-20 17:51:00  The prosecution summoned former President Park...   \n",
       "\n",
       "                                                body   section  \\\n",
       "0  The latest pardon extended to more than 6,000 ...  Politics   \n",
       "1  A four-day vote of confidence in the People’s ...  Politics   \n",
       "2  Political parties on Thursday expressed anger ...  Politics   \n",
       "3  Impeached President Park Geun-hye's close frie...  Politics   \n",
       "4  The prosecution summoned former President Park...  Politics   \n",
       "\n",
       "                                     summarized_body  \\\n",
       "0  The latest pardon extended to more than 6,000 ...   \n",
       "1  A four-day vote of confidence in the People’s ...   \n",
       "2  Political parties on Thursday expressed anger ...   \n",
       "3  The probe looked into allegations that the pri...   \n",
       "4  The prosecution summoned former President Park...   \n",
       "\n",
       "                                      agg_title_body  \n",
       "0  Special pardons aimed at helping ordinary peop...  \n",
       "1  [News Focus] Is multiparty system viable in Ko...  \n",
       "2  Political parties call on government to resolv...  \n",
       "3  Korea's ODA project tainted by corruption scan...  \n",
       "4  Ex-President Park summoned for questioning Fri...  "
      ]
     },
     "execution_count": 5,
     "metadata": {},
     "output_type": "execute_result"
    }
   ],
   "source": [
    "df_politics.head()"
   ]
  },
  {
   "cell_type": "markdown",
   "id": "35caf4fd",
   "metadata": {},
   "source": [
    "### Import the embedded documents"
   ]
  },
  {
   "cell_type": "code",
   "execution_count": 6,
   "id": "65845658",
   "metadata": {},
   "outputs": [
    {
     "name": "stdout",
     "output_type": "stream",
     "text": [
      "(2879, 300) (2489, 300)\n"
     ]
    }
   ],
   "source": [
    "vects_nk = joblib.load('data/tfidf_nk.csv')\n",
    "vects_politics = joblib.load('data/tfidf_politics.csv')\n",
    "print(vects_nk.shape, vects_politics.shape)"
   ]
  },
  {
   "cell_type": "markdown",
   "id": "d0ef198a",
   "metadata": {},
   "source": [
    "### Clustering"
   ]
  },
  {
   "cell_type": "code",
   "execution_count": 8,
   "id": "56488d7f",
   "metadata": {},
   "outputs": [],
   "source": [
    "### Clustering \n",
    "def document_clustering(doc_vectors, clustering_method='kmeans', epsilon=0.4, evaluate=False):\n",
    "    if clustering_method=='kmeans':\n",
    "        # Hyperparameters\n",
    "        k_event = 10000\n",
    "        k_issue = 6000\n",
    "        \n",
    "        # Clustering event\n",
    "        kmeans_event = KMeans(n_clusters=k_event, random_state=69).fit(doc_vectors)\n",
    "        # Represent each event by average sum of related news\n",
    "        event_vectors = np.zeros((k_event, doc_vectors.shape[1]))\n",
    "        for i in range(k_event):\n",
    "            event_vectors[i] = sum(doc_vectors[kmeans_event.labels_ == i])\n",
    "        \n",
    "        # Clustering issue\n",
    "        kmeans_issue = KMeans(n_clusters=k_issue, random_state=69).fit(event_vectors)\n",
    "        # Represent each issue by average sum of related news\n",
    "        issue_vectors = np.zeros((k_issue, doc_vectors.shape[1]))\n",
    "        for i in range(k_issue):\n",
    "            issue_vectors[i] = sum(event_vectors[kmeans_issue.labels_ == i])\n",
    "\n",
    "        issue_labels = np.array([ kmeans_issue.labels_[kmeans_event.labels_[i]] for i in range(doc_vectors.shape[0]) ])\n",
    "        \n",
    "        return k_issue, k_event, issue_labels, kmeans_event.labels_\n",
    "    \n",
    "    elif clustering_method=='DBSCAN':\n",
    "        \n",
    "        # Hyperparameters\n",
    "        doc_eps = 0.255\n",
    "        doc_neighbors = 1\n",
    "        event_eps = epsilon\n",
    "        event_neighbors = 1\n",
    "        \n",
    "        '''\n",
    "            Find best doc_eps and event_eps\n",
    "        '''\n",
    "        if evaluate:\n",
    "            # Find best eps to group same document\n",
    "            doc_eps_list = [ 0.2 + 0.001*i for i in range(1,601) ]\n",
    "            doc_score = []\n",
    "            doc_event = []\n",
    "            doc_best_score = 0\n",
    "            doc_best_eps = 0.0001\n",
    "            for doc_eps in doc_eps_list:\n",
    "                # Clustering event\n",
    "                db_event = DBSCAN(eps=doc_eps, min_samples=doc_neighbors).fit(doc_vectors)\n",
    "                # Number of clusters in labels, ignoring noise if present.\n",
    "                n_events_ = len(set(db_event.labels_)) - (1 if -1 in db_event.labels_ else 0)\n",
    "                if len(set(db_event.labels_)) >= 2 and len(set(db_event.labels_)) <= len(doc_vectors)-1:\n",
    "                    score_ = silhouette_score(doc_vectors, db_event.labels_)\n",
    "                else:\n",
    "                    score_ = -1\n",
    "                doc_event.append(n_events_)\n",
    "                doc_score.append(score_)\n",
    "                if score_ > doc_best_score:\n",
    "                    doc_best_score = score_\n",
    "                    doc_best_eps = doc_eps\n",
    "            print(\"Best Silhouete score is {} at eps: {} and number of events: {}\".format(doc_best_score, doc_eps, n_events_))\n",
    "            fig = plt.figure()\n",
    "            plt.plot(doc_eps_list, doc_score)\n",
    "            fig.suptitle('Doc eps and Silhouette score', fontsize=20)\n",
    "            plt.xlabel('eps', fontsize=18)\n",
    "            plt.ylabel('Silhouette score', fontsize=16)\n",
    "            plt.show()\n",
    "            \n",
    "            fig = plt.figure()\n",
    "            plt.plot(doc_eps_list, doc_event)\n",
    "            fig.suptitle('Doc eps and number of events', fontsize=20)\n",
    "            plt.xlabel('eps', fontsize=18)\n",
    "            plt.ylabel('number of events', fontsize=16)\n",
    "            plt.show()\n",
    "            \n",
    "            # Set doc_eps to the best value\n",
    "            doc_eps = doc_best_eps\n",
    "            # Find best eps to group same event\n",
    "            # Clustering event\n",
    "            db_event = DBSCAN(eps=doc_eps, min_samples=doc_neighbors).fit(doc_vectors)\n",
    "            n_events_ = len(set(db_event.labels_)) - (1 if -1 in db_event.labels_ else 0)\n",
    "            event_labels = np.array(list(map(lambda x: n_events_ if x==-1 else x, db_event.labels_)))\n",
    "            event_vectors = np.zeros((n_events_, doc_vectors.shape[1]))\n",
    "            for i in range(n_events_+1):\n",
    "                if np.sum(event_labels == i) != 0:\n",
    "                    event_vectors[i] = np.sum(doc_vectors[event_labels == i], axis=0)/np.sum(event_labels == i)\n",
    "            \n",
    "            # Clustering issue\n",
    "            event_eps_list = [ 0.2 + 0.001*i for i in range(1,601) ]\n",
    "            event_score = []\n",
    "            event_issue = []\n",
    "            event_best_score = 0\n",
    "            event_best_eps = 0.001\n",
    "            for event_eps in event_eps_list:\n",
    "                db_issue = DBSCAN(eps=event_eps, min_samples=event_neighbors).fit(event_vectors)\n",
    "                # Number of clusters in labels, ignoring noise if present.\n",
    "                n_issues_ = len(set(db_issue.labels_)) - (1 if -1 in db_issue.labels_ else 0)\n",
    "                if len(set(db_issue.labels_)) >= 2 and len(set(db_issue.labels_)) <= len(event_vectors)-1:\n",
    "                    score_ = silhouette_score(event_vectors, db_issue.labels_)\n",
    "                else:\n",
    "                    score_ = -1\n",
    "                event_issue.append(n_issues_)\n",
    "                event_score.append(score_)\n",
    "                if score_ > event_best_score:\n",
    "                    event_best_score = score_\n",
    "                    event_best_eps = event_eps\n",
    "            print(\"Best Silhouete score is {} at eps: {} and number of issues: {}\".format(event_best_score, event_eps, n_issues_))\n",
    "            fig = plt.figure()\n",
    "            plt.plot(event_eps_list, event_score)\n",
    "            fig.suptitle('Event eps and Silhouette score', fontsize=20)\n",
    "            plt.xlabel('eps', fontsize=18)\n",
    "            plt.ylabel('Silhouette score', fontsize=16)\n",
    "            plt.show()\n",
    "            \n",
    "            fig = plt.figure()\n",
    "            plt.plot(event_eps_list, event_issue)\n",
    "            fig.suptitle('Event eps and number of issues', fontsize=20)\n",
    "            plt.xlabel('eps', fontsize=18)\n",
    "            plt.ylabel('number of issues', fontsize=16)\n",
    "            plt.show()\n",
    "            \n",
    "            # Set event_eps to best value\n",
    "            event_eps = event_best_eps\n",
    "            # Clustering issue\n",
    "            db_issue = DBSCAN(eps=event_eps, min_samples=event_neighbors).fit(event_vectors)\n",
    "            # Number of clusters in labels, ignoring noise if present.\n",
    "            n_issues_ = len(set(db_issue.labels_)) - (1 if -1 in db_issue.labels_ else 0)\n",
    "            n_noise_ = list(db_issue.labels_).count(-1)\n",
    "            print(n_issues_, n_noise_)\n",
    "            # Represent each issue by average sum of related news\n",
    "            issue_labels = np.array(list(map(lambda x: n_issues_ if x==-1 else x, db_issue.labels_)))\n",
    "            issue_vectors = np.zeros((n_issues_, doc_vectors.shape[1]))\n",
    "            for i in range(n_issues_+1):\n",
    "                if np.sum(issue_labels == i) != 0:\n",
    "                    issue_vectors[i] = np.sum(event_vectors[issue_labels == i], axis=0)/np.sum(issue_labels == i)\n",
    "       \n",
    "            issue_labels = np.array([ issue_labels[event_labels[i]] for i in range(doc_vectors.shape[0]) ])\n",
    "        \n",
    "        else:\n",
    "            '''\n",
    "            Clustering using specific value\n",
    "            '''\n",
    "            # Clustering event\n",
    "            db_event = DBSCAN(eps=doc_eps, min_samples=doc_neighbors).fit(doc_vectors)\n",
    "            # Number of clusters in labels, ignoring noise if present.\n",
    "            n_events_ = len(set(db_event.labels_)) - (1 if -1 in db_event.labels_ else 0)\n",
    "            n_noise_ = list(db_event.labels_).count(-1)\n",
    "            print(n_events_, n_noise_)\n",
    "            # Represent each event by average sum of related news\n",
    "            event_labels = np.array(list(map(lambda x: n_events_ if x==-1 else x, db_event.labels_)))\n",
    "            event_vectors = np.zeros((n_events_, doc_vectors.shape[1]))\n",
    "            for i in range(n_events_+1):\n",
    "                if np.sum(event_labels == i) != 0:\n",
    "                    event_vectors[i] = np.sum(doc_vectors[event_labels == i], axis=0)/np.sum(event_labels == i)\n",
    "\n",
    "            # Clustering issue\n",
    "            db_issue = DBSCAN(eps=event_eps, min_samples=event_neighbors).fit(event_vectors)\n",
    "            # Number of clusters in labels, ignoring noise if present.\n",
    "            n_issues_ = len(set(db_issue.labels_)) - (1 if -1 in db_issue.labels_ else 0)\n",
    "            n_noise_ = list(db_issue.labels_).count(-1)\n",
    "            print(n_issues_, n_noise_)\n",
    "            # Represent each issue by average sum of related news\n",
    "            issue_labels = np.array(list(map(lambda x: n_issues_ if x==-1 else x, db_issue.labels_)))\n",
    "            issue_vectors = np.zeros((n_issues_, doc_vectors.shape[1]))\n",
    "            for i in range(n_issues_+1):\n",
    "                if np.sum(issue_labels == i) != 0:\n",
    "                    issue_vectors[i] = np.sum(event_vectors[issue_labels == i], axis=0)/np.sum(issue_labels == i)\n",
    "        \n",
    "            issue_labels = np.array([ issue_labels[event_labels[i]] for i in range(doc_vectors.shape[0]) ])\n",
    "        \n",
    "        return n_issues_, n_events_, issue_labels, event_labels\n",
    "    \n",
    "    elif clustering_method=='agglomerative':\n",
    "        \n",
    "        pass\n",
    "    \n",
    "    elif clustering_method=='LDA':\n",
    "        \n",
    "        pass\n",
    "    \n",
    "    else:\n",
    "        assert(\"Doesn't support {}\".format(clustering_method))"
   ]
  },
  {
   "cell_type": "code",
   "execution_count": 10,
   "id": "10e82b0a",
   "metadata": {},
   "outputs": [
    {
     "name": "stdout",
     "output_type": "stream",
     "text": [
      "Best Silhouete score is 0.0770873620107604 at eps: 0.8 and number of events: 1\n"
     ]
    },
    {
     "data": {
      "image/png": "[encoded data removed]",
      "text/plain": [
       "<Figure size 432x288 with 1 Axes>"
      ]
     },
     "metadata": {
      "needs_background": "light"
     },
     "output_type": "display_data"
    },
    {
     "data": {
      "image/png": "[encoded data removed]",
      "text/plain": [
       "<Figure size 432x288 with 1 Axes>"
      ]
     },
     "metadata": {
      "needs_background": "light"
     },
     "output_type": "display_data"
    },
    {
     "name": "stdout",
     "output_type": "stream",
     "text": [
      "Best Silhouete score is 0.12282687449817256 at eps: 0.8 and number of issues: 2\n"
     ]
    },
    {
     "data": {
      "image/png": "[encoded data removed]",
      "text/plain": [
       "<Figure size 432x288 with 1 Axes>"
      ]
     },
     "metadata": {
      "needs_background": "light"
     },
     "output_type": "display_data"
    },
    {
     "data": {
      "image/png": "[encoded data removed]",
      "text/plain": [
       "<Figure size 432x288 with 1 Axes>"
      ]
     },
     "metadata": {
      "needs_background": "light"
     },
     "output_type": "display_data"
    },
    {
     "name": "stdout",
     "output_type": "stream",
     "text": [
      "2 0\n"
     ]
    }
   ],
   "source": [
    "num_issue_nk, num_event_nk, issue_labels_nk, event_labels_nk = document_clustering(vects_nk,\n",
    "                                                                                   clustering_method='DBSCAN',\n",
    "                                                                                   evaluate=True)"
   ]
  },
  {
   "cell_type": "code",
   "execution_count": 11,
   "id": "a213c472",
   "metadata": {},
   "outputs": [
    {
     "name": "stdout",
     "output_type": "stream",
     "text": [
      "Best Silhouete score is 0.08047020454150436 at eps: 0.8 and number of events: 2\n"
     ]
    },
    {
     "data": {
      "image/png": "[encoded data removed]",
      "text/plain": [
       "<Figure size 432x288 with 1 Axes>"
      ]
     },
     "metadata": {
      "needs_background": "light"
     },
     "output_type": "display_data"
    },
    {
     "data": {
      "image/png": "[encoded data removed]",
      "text/plain": [
       "<Figure size 432x288 with 1 Axes>"
      ]
     },
     "metadata": {
      "needs_background": "light"
     },
     "output_type": "display_data"
    },
    {
     "name": "stdout",
     "output_type": "stream",
     "text": [
      "Best Silhouete score is 0.049221383679672624 at eps: 0.8 and number of issues: 1\n"
     ]
    },
    {
     "data": {
      "image/png": "[encoded data removed]",
      "text/plain": [
       "<Figure size 432x288 with 1 Axes>"
      ]
     },
     "metadata": {
      "needs_background": "light"
     },
     "output_type": "display_data"
    },
    {
     "data": {
      "image/png": "[encoded data removed]",
      "text/plain": [
       "<Figure size 432x288 with 1 Axes>"
      ]
     },
     "metadata": {
      "needs_background": "light"
     },
     "output_type": "display_data"
    },
    {
     "name": "stdout",
     "output_type": "stream",
     "text": [
      "2 0\n"
     ]
    }
   ],
   "source": [
    "num_issue_politics, num_event_politics, issue_labels_politics, event_labels_politics = document_clustering(vects_politics,\n",
    "                                                                                   clustering_method='DBSCAN',\n",
    "                                                                                   evaluate=True)"
   ]
  },
  {
   "cell_type": "code",
   "execution_count": 47,
   "id": "97bc0ef5",
   "metadata": {},
   "outputs": [
    {
     "name": "stdout",
     "output_type": "stream",
     "text": [
      "2837 0\n",
      "2484 0\n"
     ]
    }
   ],
   "source": [
    "num_issue_nk, num_event_nk, issue_labels_nk, event_labels_nk = document_clustering(vects_nk,\n",
    "                                                                                   clustering_method='DBSCAN',\n",
    "                                                                                   epsilon=0.47,\n",
    "                                                                                   evaluate=False)"
   ]
  },
  {
   "cell_type": "code",
   "execution_count": 48,
   "id": "2559a3be",
   "metadata": {},
   "outputs": [
    {
     "name": "stdout",
     "output_type": "stream",
     "text": [
      "2454 0\n",
      "2080 0\n"
     ]
    }
   ],
   "source": [
    "num_issue_politics, num_event_politics, issue_labels_politics, event_labels_politics = document_clustering(vects_politics,\n",
    "                                                                                   clustering_method='DBSCAN',\n",
    "                                                                                   epsilon=0.48,\n",
    "                                                                                   evaluate=False)"
   ]
  },
  {
   "cell_type": "code",
   "execution_count": 49,
   "id": "71b271a0",
   "metadata": {},
   "outputs": [],
   "source": [
    "df_nk['label'] = issue_labels_nk\n",
    "df_politics['label'] = issue_labels_politics"
   ]
  },
  {
   "cell_type": "code",
   "execution_count": 50,
   "id": "1cb12176",
   "metadata": {},
   "outputs": [
    {
     "name": "stdout",
     "output_type": "stream",
     "text": [
      "[100, 1265, 547, 2216, 203, 778, 1403, 13, 751, 342]\n",
      "[360, 642, 1212, 1329, 37, 1939, 28, 525, 1373, 1504]\n"
     ]
    }
   ],
   "source": [
    "# get top n most frequent labels\n",
    "n = 10\n",
    "label_nk = df_nk['label'].value_counts()[:n].index.tolist()\n",
    "label_politics = df_politics['label'].value_counts()[:n].index.tolist()\n",
    "print(label_nk)\n",
    "print(label_politics)"
   ]
  },
  {
   "cell_type": "code",
   "execution_count": 51,
   "id": "22d41900",
   "metadata": {},
   "outputs": [
    {
     "name": "stdout",
     "output_type": "stream",
     "text": [
      "[13, 13, 10, 9, 8, 7, 7, 7, 6, 6]\n",
      "[11, 9, 9, 8, 8, 8, 7, 7, 7, 7]\n"
     ]
    }
   ],
   "source": [
    "def freq_label(df, labels):\n",
    "    freqs = []\n",
    "    for label in labels:\n",
    "        freq = df.loc[df.label == label, 'label'].count()\n",
    "        freqs.append(freq)\n",
    "    return freqs\n",
    "print(freq_label(df_nk, label_nk))\n",
    "print(freq_label(df_politics, label_politics))"
   ]
  },
  {
   "cell_type": "code",
   "execution_count": 65,
   "id": "9facc925",
   "metadata": {},
   "outputs": [],
   "source": [
    "# Concat the sentences in each group and make a summary\n",
    "def concat_sents(df, label):\n",
    "    sents = []\n",
    "    for i in label:\n",
    "        s = ''\n",
    "        for sentence in df[df['label'] == i]['summarized_body'].tolist():\n",
    "            s += sentence\n",
    "        sents.append(s)\n",
    "    print(len(sents))\n",
    "    return sents"
   ]
  },
  {
   "cell_type": "code",
   "execution_count": 66,
   "id": "1fc83c0d",
   "metadata": {},
   "outputs": [
    {
     "name": "stdout",
     "output_type": "stream",
     "text": [
      "10\n"
     ]
    },
    {
     "data": {
      "text/plain": [
       "['North Korea appears to be advancing its submarine-launched ballistic missile (SLBM) program, a U.S. website says. Commercial satellite imagery shows the country\\'s second platform for launching missiles underwater outside of submarines has been moved. The platform, known as a submersible ballistic missile test stand barge, \"is being prepared to enter service,\" 38 North says.Recent satellite imagery indicates new activity at the test stand of North Korea\\'s main submarine-launched ballistic missile development shipyard. The April 29 imagery of the Sinpo South Shipyard shows a heavy-lift crane with its stabilizer legs deployed. The test stand was used during 2014-2016 for launch systems verification, and pop-up and prototype testing of the Pukguksong-1.North Korea is building a new bigger class of submarine than the existing Sinpo-class, an analyst says. The new project seems to have been kicked off several years ago, he says. On Wednesday, North Korea launched an SLBM from the East Sea, the country\\'s third SLBM test-fire this year.Recent satellite imagery shows North Korea is forging ahead with development of a submarine-launched ballistic missile. The imagery was taken of the North\\'s Shinpo Shipyard on April 29. It shows a submersible missile test stand barge has been moved from its normal position.North Korea may be in the process of developing a 3,000-ton submarine, experts say. The submarine could provide a stable platform to launch three submarine-launched ballistic missiles. Pyongyang may move to test-fire SLBMs until it is confident in launching a missile that can fly as far as 2,000 kilometers.The Joint Chiefs of Staff said North Korea fired a projectile that it believes was a submarine-launched ballistic missile. The JCS said it is keeping close tabs on the North Korean military while maintaining its readiness posture. Last month, a U.S. news report claimed that North Korea had conducted a ground test of an SLBM.U.S. website 38 North says North Korea appears to be continuing efforts to develop a submarine-launched ballistic missile. It said that about two months of unidentified work on the Gorae-class submarine appears to have been completed now. A removable tower used to support a rocket engine has also remained at the test stand for the past two months.The December test is the North\\'s third known SLBM test following the first in May and the second in November. Unlike the failed November test, the latest test was once reported as successful. South Korea later said the North is believed to have manipulated the video of the launch.North Korea conducted another ejection test of a ballistic missile from a submarine last month. It was apparently unsuccessful, a South Korean military official said Wednesday. It followed a Nov. 28 test in which a KN-11 missile failed to leave the water. Washington Free Beacon reported that North Korea succeeded in the underwater test on Dec. 21.The ejection test of a KN-11 missile from a submerged submarine took place on Dec. 21. The test followed a Nov. 28 test in which a missile failed to leave the water. The failure damaged the North\\'s first missile submarine, which officials identified as the Gorae.Yonhap News Agency reported that the North fired a KN-11 missile from a submarine in the East Sea on Saturday. The test ended in failure as the missile failed to soar from the waters. In May, North Korea claimed it successfully carried out an SLBM test underwater.North Korea appears to be preparing to test a vertical launch tube used in submarine-launched ballistic missiles. Satellite imagery taken on Sept. 21 showed that a launch superstructure has been erected at the east coast shipyard. Such a structure is erected to conduct tests of the stabilization and fire-control systems and for ejection, or \"pop up,\" tests.North Korea appears to have \"photoshopped\" images of the test to exaggerate progress, expert says. Joseph Bermudez says satellite imagery shows a submarine docked next to a barge. The missile used in the test is believed to be much shorter than the North\\'s Musudan or Nodong.',\n",
       " \"Cambodia hosts the biggest number of North Korean restaurants except for China. Ten restaurants from the North have opened since 2003, when Pyongyang Cold Noodle Restaurant was launched in Phnom Penh. Half of them, however, were closed as of the second half of last year.Group of 13 North Korean defectors who worked at a restaurant in China have begun to resettle in South Korea. Seoul's unification ministry said it cannot reveal further details due to concerns over their safety. In early April, one male manager and 12 female workers defected to South Korea en masse. The high-profile defection came as North Korea was slapped by U.N. sanctions.In April, a group of 13 North Korean employees at a Pyongyang-run restaurant in the Chinese eastern port city of Ningbo defected to South Korea. In June, three more North Korean restaurant employees working in China escaped to Seoul. Overseas restaurants are an increasingly important source of dollars for the North at a time when international sanctions have cut off Pyongyang.The North's move indicates that the regime faces difficulties in earning dollars. The U.N. Security Council's sanctions on Pyongyang are aimed at curbing the source of hard currency suspected of bankrolling the North's nuclear and missile programs. South Korea estimates that North Korea is running approximately 130 restaurants in some 12 countries.China's authorities have raised their guard against North Korea's move to dispatch hundreds of agents to Chinese cities. The agents belong to the Ministry of State Security or the North's reconnaissance bureau tasked with carrying out espionage missions. The North is suspected of using the money to bankroll its nuclear and missile programs.In late June, the North dispatched security agents in their 30s and 40s to the neighboring country. The move came as 13 North Koreans working at a Pyongyang-run restaurant in the Chinese eastern port city of Ningbo defected to South Korea in April. In June, three more North Korean restaurant staff working in China escaped to Seoul.Three North Korean women, who fled from a restaurant where they worked in China, may arrive in South Korea as early as this week. The women, in their late 20s and known to be seeking to defect, are staying in Thailand, awaiting to board a flight to Seoul. Last month, a group of 13 North Korean restaurant workers defected en masse to South Korea.The case is the second escape by North Korean restaurant staff working in China after the mass defection that took place in April. South Korea estimates that North Korea is running approximately130 restaurants in around 12 countries, including China, Vietnam and Cambodia. North Koreans in overseas restaurants are among some 50,000 workers sent abroad by the regime.Last week, a group of North Korean restaurant workers defected to South Korea en masse. There has been speculation that about five to seven other North Koreans who worked at the same restaurant are hiding in China. No confirmation of their whereabouts raises the chance that they may have been repatriated to North Korea, experts say.Thirteen North Korean workers at an overseas restaurant defected to South Korea last week. The government has declined to comment on their defection route and other details. North Korean restaurants have served as one of the main sources of dollars for North Korea. South Korea estimates that North Korea is running approximately130 restaurants in some 12 countries.Group defection by N. Koreans points to impact of U.N. sanctions: experts. North Koreans working at an overseas restaurant may indicate that toughened international sanctions have begun to generate an impact. Experts said that the North Korean workers might have decided to flee due to fears they may be punished, as their operations hit a snag.A group of 13 North Koreans -- one male manager and 12 female employees -- entered South Korea on Thursday. Overseas restaurants operated by North Korea are known to face difficulty in doing business following the U.N. Security Council's (UNSC) sanctions. Such restaurants have served as one of the main sources of hard currency for North Korea.Five North Korean restaurants in China's northeastern border towns have closed their doors. The shutdown took place after the U.N. Security Council adopted new sanctions against North Korea's nuclear and missile programs. There has been speculation that Chinese authorities might have refused to renew visas for the North Korean waitresses.\",\n",
       " 'Police said Sunday that around 200 propaganda leaflets from the North were found near Susaek Station in western Seoul late Saturday. The leaflets, promoting the “success of Hwasong-14 ICBM” were dropped over the South Korean capital following the launch of three short-range ballistic missiles.The leaflets distorted the 63rd anniversary of the Korean War Armistice agreement. They claimed it as the day the communist nation achieved victory against the united forces of the U.N. and the South Korean military. North Korea has been increasing its efforts to equip itself with ballistic missile capacities under orders from its leader Kim Jong-un.South Korea\\'s Joint Chiefs of Staff said Wednesday they found strongly worded North Korean leaflets in the Han River. It is the first distribution of such propaganda materials via a waterway. The leaflets also carried a message celebrating the North\\'s \"victory\" against the U.N. Forces during the Korean War (1950-53)The Fighters for Free North Korea said it sent some 300,000 leaflets from Gimpo, just west of Seoul, on Thursday. The leaflets criticized the North\\'s test-firing of the Musudan intermediate-range ballistic missile and the launch of short-rage Scuds. The civic group regularly launches big balloons carrying such anti-Pyongyang leaflets.Hundreds of leaflets praising North Korea were found in Seoul Saturday, police said. The leaflets were discovered by a passerby in the western Yangcheon Ward. They contained text that hailed North Korea\\'s nuclear weapons development and criticized South Korean President Park Geun-hye. Speculation arose that Pyongyang may have sent the leaflets as part of anti-South Korea psychological warfare.The Fighters for a Free North Korea said that it has scattered some 80,000 leaflets critical of the communist regime. The civic group regularly launches big balloons carrying such anti-Pyongyang leaflets in a campaign to spread dissenting messages. The campaign had irked North Korea in the past, which led to heightened inter-Korean tension.Police retrieved some 1,500 leaflets from Seoul National University\\'s Gwanak campus in southern Seoul. The leaflets carried criticism of President Park Geun-hye. They also urged young adults not to enter the military. In South Korea, all able-bodied men are required to serve about two years of mandatory military service.South and North Korea agreed to halt propaganda warfare along their heavily fortified border in 2004. South Korea has resumed its anti-North loudspeaker broadcasts along the border following the North\\'s nuclear test in January. North Korea has made similar verbal threats against the South over leaflets in recent years, although no actual attack has occurred.Anti-Pyongyang leaflet scattering has recently been at the center of tension between the two Koreas. North has repeatedly threatened to shoot down political leaflets flying from the South with cannons or missiles. South Korean activists, mostly North Korean defectors, have often launched big plastic balloons carrying anti-North leaflets.North Korea threatens to fire cannons or missiles at anti-Pyongyang leaflets sent from South Korea. Threat comes amid growing military tension on the peninsula over ongoing joint military drills between Seoul and Washington. South Korea is the only country that has scattered such leaflets insulting the dignity and regime of a receiving nation.',\n",
       " \"254 people of 90 families from the South met with their loved ones in the North. Unlike other families divided after the 1950-53 Korean War, Jeong's family was separated when he was abducted by Pyongyang in 1972. The second round of reunions will run until Monday. 389 people from the South and 141 from the North met for individual gatherings in the morning, a joint lunch session and another round of group reunions in the afternoon. The first round of the three-day reunions ends Thursday. The second round of reunions are to begin Saturday and end next Monday. 389 South Koreans reunited with their long-lost kin at the Mount Geumgangsan resort. More than 140 North Koreans from 96 families attended the reunions, which were held for the first time since February 2014. The reunions were possible because of a comprehensive cross-border deal on Aug. 25 to reduce border tensions and enhance bilateral ties.Nearly 400 South Koreans, part of 96 families, stopped in the city of Sokcho on their way to the scenic resort on Mount Kumgang. The upcoming event, the first since February 2014, is the result of the deal South and North Korea reached in August to defuse military tension and resume the family reunions.Red Cross officials here delivered the South's list to their northern counterparts through the truce village of Panmunjom. The two sides are preparing to hold the reunions of families separated by the 1950-53 Korean War. The reunions will take place on Oct. 20-26 at a scenic resort on Mount Kumgang on the North's east coast.The two Koreas agreed Tuesday to hold reunions of families separated by the border from Oct. 20-26 at Mount Geumgangsan. The reunions would be the first since February 2014. Under the agreement, Seoul and Pyongyang will exchange on Sept. 15 lists of 250 and 200 applicants, respectively, who claim to have relatives.The two Koreas have been holding Red Cross talks, which kicked off Monday, at the truce village of Panmunjom. There is growing speculation that the reunions are likely to be held at Mount Kumgang, a scenic resort on the North's east coast. The envisioned event, if held, will become the first reunion since February 2014.Three South Korean officials kicked off a meeting with their North Korean counterparts earlier in the day at the truce village of Panmunjom. The two Koreas reached a historic agreement in late August to make efforts to mend ties and resume the reunions. There are more than 66,000 South Korean family members separated by the Korean War.The two Koreas said they’d hold Red Cross talks early September to arrange for family reunions. There were hopes earlier that the meetings would be held around Chuseok, the Korean equivalent of Thanksgiving Day, which is celebrated in both Koreas. One stumbling block for the mid-October family meetings could be the Oct. 10 celebrations of the 70th anniversary of the Workers’Party in Pyongyang.\",\n",
       " '84 percent of Americans think President Donald Trump is \"really willing to use military force against North Korea\" The poll was conducted Oct. 25-30 by Pew Research Center. It was published Friday as Trump embarked on his first trip to Asia, including South Korea, Japan and China. There was a sharp partisan divide in confidence in Trump\\'s ability to handle the North Korean threat.Two-thirds of Americans think US President Donald Trump has made the nuclear standoff with North Korea worse. That included 45 percent who said the president has made it much worse. The poll was conducted among 1,150 adults from Sept. 28 to Oct. 2. Some 75 percent of Americans said the comments of North Korean leaders have made the situation worse.Two-thirds of Americans are against a preemptive strike on N. Korea, a poll shows. 67 percent of respondents were in favor of an attack on the North only if the regime strikes the US or its allies first. Tensions have heightened in the wake of North Korea\\'s repeated missile launches and sixth nuclear test.More than half of Americans disapprove of US President Donald Trump\\'s approach to relations with North Korea. The survey commissioned by George Washington University found that 53 percent of Americans disagreed with Trump\\'s way of handling the recalcitrant regime. But 50 percent approved of Trump\\'s handling of the economy, while 46 percent disapproved.Survey: 62 percent of Americans favor use of US troops if North Korea invaded South Korea. It is the first time there was a majority since the first survey in 1990. 75 percent of the respondents viewed North Korea\\'s nuclear program as a critical threat. The survey was conducted on a weighted national sample of 2,020 adults.40 percent of a total of 1,983 registered voters surveyed in the July 7-9 poll picked the North as the top threat to the US. The survey was conducted just three days after the North successfully carried out its first ICBM test. About 83 percent of the respondents said they\\'ve heard, read or seen about the North\\'s missile test.Only 11 percent of the 1,035 US adults polled were positive toward North Korea. It tied with Iran as the least popular country, with 86 percent of respondents saying they had unfavorable views about the country. Canada emerged top as the most favorable nation among Americans, with 92 percent of favorable ratings.Public opinion on North Korea worsened in the wake of that country\\'s fourth nuclear test and long-range missile launch. National Unification Advisory Council said 34.6 percent said Seoul should maintain a high degree of vigilance towards the North and its provocations. The same survey showed 27.2 percent of the respondents viewing the reclusive neighbor as country that the South should work with.',\n",
       " \"North Korea appears to have increased its plutonium production at the main nuclear complex in Yongbyon. The finding indicates there was batch, not continuous, processing of spent fuel rods. Experts believe it is only a matter of time before the North develops an ICBM capable of carrying a nuclear warhead to the US mainland.UN nuclear watchdog should revise its view on the amounts of fissile material North Korea needs to build a nuclear weapon. Olli Heinonen, a former deputy director general of the International Atomic Energy Agency (IAEA), made the suggestion in an article to the website of the Foundation for Defense of Democracies.North Korea could have produced and separated an additional 5.5-8 kilograms of weapon-grade plutonium. IAEA said Pyongyang appears to have unloaded fuel from its main Yongbyon nuclear facility in late 2015 and processed it to separate plutonium in the first quarter of 2016. ISIS estimates that the communist North currently has about 13 to 21 nuclear weapons.The North has already claimed to have the capability to miniaturize and diversify nuclear bombs. The latest test appears to show progress in the North’s decades-long efforts to secure nuke capabilities. Pyongyang has repeatedly said it would continue its push to strengthen “nuclear deterrence”The North has already claimed to have the capability to miniaturize and diversify nuclear bombs. The latest test appears to show progress in the North’s decades-long efforts to secure nuke capabilities. The development of these “1.5-generation” nuclear bombs is a preliminary step toward the production of a hydrogen bomb.The estimate could further increase because Pyongyang could extract plutonium from spent nuclear fuel used in the 5-megawatt nuclear reactor. As part of six-party denuclearization talks, North Korea made a declaration of its past nuclear activity in 2008. Some experts have warned that the communist nation's nuclear arsenal could expand to as many as 100 bombs by 2020.North Korea claims to have restarted all nuclear facilities, including its five-megawatt reactor and uranium enrichment factory at its main Yongbyon nuclear complex. Analysts presume that the North has come a long way in developing nuclear warheads and their delivery means such as long-range rockets. The reclusive state has also been seen steadily seeking to accumulate weapons-grade fissile materials.\",\n",
       " \"U.N. Security Council adopted Resolution 2270 in March to punish the North for its nuclear and ballistic missile tests. 66 countries have submitted their own implementation reports since then. The sanctions include mandatory inspections of all cargo going into and out of the North. Five countries -- Angola, Costa Rica, Burundi, Iraq and Senegal -- submitted reports for first time.Angola has submitted its action plan on how to implement sanctions imposed on North Korea. The African country cited bans on exports of aircraft fuel and mineral products along with its stepped-up inspection of freight planes and ships moving in and out of Pyongyang. It also specified personal information on two diplomats currently under UNSC-led investigation.A total of 41 countries have submitted action plans to the United Nations. The plans aim to penalize North Korea for conducting its fourth nuclear and long-range missile tests. The U.N. Security Council passed Resolution 2270 in March. The latest sanctions slapped on the reclusive country are viewed as being the most stringent yet.Russia's one-page report dated May 27 was made public on the U.N. website. It detailed its implementation plan for the sanctions outlined under the latest resolution. The resolution was unanimously adopted after the reclusive country detonated its fourth nuclear device and test-fired a long-range rocket early this year.China has submitted an action plan on how to implement its sanctions against North Korea. The U.N. Security Council asked the 193 member countries to draw up their own plans. They were required to submit the plans within 90 days of the resolution adopting it. The report was submitted on June 20, a government source said.The U.N. Security Council earlier asked the 193 member countries to draw up their own plans on how to enforce the sanctions on the North. They were asked to submit the plans within 90 days of the resolution in March. It has not been confirmed yet whether China, the closest ally to North Korea, has submitted its implementation report.Monaco has filed its implementation report for United Nations-led sanctions against North Korea. Details, including what measures Monaco will take, have not been disclosed. The U.N. Security Council adopted the 2270 Resolution in March in response to the North's fourth nuclear test in January.\",\n",
       " \"With 50 days left to the 2018 PyeongChang Winter Olympics, questions remain on whether North Korea will come to the games. Seoul has been urging Pyongyang to participate in the Olympics in hopes of turning it into a “peace festival” The Moon Jae-in administration has been struggling to reopen a solid inter-Korean dialogue channel in a bid to patch up ties.IOC President Thomas Bach is seeking to visit North Korea to discuss its participation in the 2018 PyeongChang Winter Games. It remains to be seen, however, whether the North would accept Bach’s visit despite heightened tensions over its nuclear and missile tests. The North last week test-fired an intercontinental ballistic missile.IOC President Thomas Bach is apparently seeking to visit North Korea to discuss its participation in the upcoming PyeongChang Winter Games. But it remains to be seen whether the North will accept his visit at a time when tensions have heightened over its nuclear and missile tests. South Korea is also actively pushing for the North's participation.North Korea missed an Oct. 30 deadline to confirm it would send its qualified pairs figure skating team to the Winter Games. North Korean figure skaters Ryom Tae-ok and Kim Ju-sik grabbed their golden ticket to PyeongChang by finishing sixth at the Nebelhorn Trophy in Germany. Pyongyang has since remained mum on the matter and made no attempts to communicate so far.The IOC said North Korea is entitled to take part in the upcoming Winter Olympics as the Olympic Charter secures the enjoyment of rights and freedoms without discrimination of any kind. On Monday, US President Donald Trump put Pyongyang back on the state sponsor of terrorism list. The 23rd Olympic Winter Games will take place in the South Korean alpine town from February 9-25.Olympics torch for 2018 PyeongChang Winter Games may be the first of its kind to cross the inter-Korean border to reach North Korea’s capital or Mount Kumkang, source says. The prospects of a North Korean leg of the torch relay look slim, however. North Korea's recent series of intercontinental ballistic missile liftoffs have posed as obstacles.Japan will allow entry to North Korean athletes for an upcoming regional sports competition as an exception to its travel ban. Japan has imposed the entry ban in light of North Korea's nuclear tests and long-range ballistic missile launches. About 20 athletes and officials have signed up for the Asian Winter Games, according to the Japanese government.\",\n",
       " \"One of Air Koryo's An-148 airplanes, whose flight number is P-672, has had no flight data since November. At present, the North's sole airline holds only four airliners on international routes. The airliner is capable of carrying up to 85 passengers with a range of 2,100?4,400 km.North Korea has featured a flight crew of its flag carrier Air Koryo in a 2017 calendar. The calendar is seen as an unprecedented move to revitalize its tourism industry. The North's production of the calendar is interpreted as a move to overcome a foreign currency shortage.The number of countries to which Air Koryo flies has dwindled to two from five, the VOA said. The state-owned carrier flew to Kuwait via Urumqi, western China, in August, but Kuwaiti authorities prevented it from landing. In April, the North's national carrier terminated its once-a-week flights on a route linking Pyongyang to Bangkok.Air Koryo did not operate the Pyongyang-Kuwait route in March and April but resumed the route for one flight last month. The North Korean flight normally conducts a transit and re-fueling stop in Islamabad, Pakistan. North Korea is reportedly experiencing hardships as it has been under strict international sanctions.North Korea's national airline, Air Koryo, has not operated its scheduled Pyongyang to Kuwait route since February. The route is now also absent from the North Korean airline company's online flight timetable. Absence of flights may indicate impact of U.N. Security Council's resolution passed in early March.Air Koryo flight JS253 flies once a week from Pyongyang to Bangkok via China's northeastern city of Shenyang. On Wednesday, the aircraft was empty except for the pilots and airline staff. North Korea has come under tough U.N. sanctions over its banned nuclear and long-range rocket tests.\",\n",
       " \"A shallow earthquake detected near North Korea’s nuclear test site on Saturday was not the result of a fresh nuclear test, experts say. The quake was detected in the northern part of Kilju, North Hamgyong Province, just 6 kilometers northwest of where the North conducted its sixth nuclear test on Sept. 3. The magnitude ranges from 3.2 to 3.5 depending on regional seismology agencies.The tremor occurred at 5:29 p.m., 20 kilometers southeast of the country's Punggye-ri nuclear test site. The agency upgraded the scale of quake from its earlier assessment of the 3.0 magnitude. Japan's Kyodo News earlier reported that a 3.4 magnitude earthquake was detected at a depth of zero kilometers.Shallow 3.5-magnitude earthquake hits North Korea near country's nuclear test site. US seismologists say quake struck 20 kilometers (12 miles) away from North's nuclear site. China's seismic service said it was a “suspected explosion”, but Seoul deemed it a ‘natural earthquake’South Korea's Yonhap news agency says a second quake was detected near North Korea's nuclear test site. The second quake measured 4.6. The US Geological Survey called the first quake an explosion with a magnitude 6.3. It came hours after North Korea claimed that its leader has inspected the loading of a hydrogen bomb into a new intercontinental ballistic missile.North Korea claims it has successfully conducted hydrogen bomb test intended for ICBM. Claim came after the detection of two tremors earlier in the day at the nuclear test site. US Geological Survey said the first tremor was 6.3 on the exponential scale. The location of the epicenter was near the site where the North had detonated nuclear explosions.The tremor occurred at 4:18 a.m. North Korean time at a depth of 537.6 km below the East Sea. The quake does not appear to have been caused by a nuclear test, a USGS official said. North Korea has conducted five underground nuclear tests since 2006.\"]"
      ]
     },
     "execution_count": 66,
     "metadata": {},
     "output_type": "execute_result"
    }
   ],
   "source": [
    "sents_nk = concat_sents(df_nk, label_nk)\n",
    "sents_nk"
   ]
  },
  {
   "cell_type": "code",
   "execution_count": 67,
   "id": "f7b7c1a5",
   "metadata": {},
   "outputs": [
    {
     "name": "stdout",
     "output_type": "stream",
     "text": [
      "10\n"
     ]
    },
    {
     "data": {
      "text/plain": [
       "[\"Moon Jae-in of the liberal Democratic Party remained the front-runner in South Korea's presidential race. The former opposition leader gained 34.4 percent last week, down 2.2 percentage points from the previous week. The decline was possibly due to voter backlash over increased mudslinging among the party's four contenders.Moon Jae-in of the liberal Democratic Party garnered a record 36.6 percent approval rating last week. The former leader of the largest party in the National Assembly rose 1.5 percentage points in a weekly survey. Moon has maintained the lead for 11 consecutive weeks. The election landscape has tilted strongly in favor of theLiberal camp after conservative President Park Geun-hye was removed from office over a corruption scandal.Moon Jae-in, the front-runner presidential hopeful from the Democratic Party, remained the most favored contender. South Gyeongsang Gov. Hong Joon-pyo rose as a strong conservative figure after the acting president decided not to enter the race. Moon posted an approval rating of 37.1 percent in the survey conducted Wednesday by Realmeter.Moon Jae-in received an approval rating of 29.9 percent. South Chungcheong Gov. An Hee-jung, also from the Democratic Party, followed with 17 percent. Acting President and Prime Minister Hwang Kyo-ahn, who has not yet expressed his presidential ambition, posted 9.1 percent.Moon posted an approval rating of 36.1 percent, beating all other contenders. The poll was conducted from Monday to Wednesday on 1,530 South Koreans. 76.9 percent claimed that the president should be removed from office, while 20.3 percent said the court should reject the impeachment. Park was impeached by the parliament in December on a corruption scandal.Moon Jae-in, former head of the Democratic Party, posted a record high approval rating among presidential hopefuls. Acting President and Prime Minister Hwang Kyo-ahn narrowed gap with the front-runner. It marked the ninth consecutive week for Moon to stand as the No. 1 contender in pollster's survey.Moon Jae-in, former head of the Democratic Party, extended his lead in approval rating. South Chungcheong Gov. An Hee-jung, on the other hand, managed to post 15 percent. An has been suffering a drop in opinion polls after making a controversial remark last month.Acting President and Prime Minister Hwang Kyo-ahn has caught up with the governor of South Chungcheong Province. Hwang posted an approval rating of 14.6 percent this week, up 3.7 percentage points on-week. Moon Jae-in, former head of the Democratic Party, saw his approval rating reach 35.2 percent.Moon Jae-in, former head of the main opposition Democratic Party, solidified his lead among presidential contenders. His rivals lost ground following controversies, an opinion poll indicated Monday. According to the poll by Realmeter, Moon posted an approval rating of 33.5 percent last week.Moon Jae-in of the main opposition Democratic Party remained unchallenged in a presidential opinion poll despite a slight fall. In the survey conducted this week by Gallup Korea, Moon received an approval rating of 32 percent. South Chungcheong Gov. An Hee-jung of the same party, stayed in second with 21 percent.Moon Jae-in, former head of main opposition Democratic Party, remained on top with 33 percent. South Chungcheong Gov. An Hee-jung surpassed the 20-percent mark for the first time. In the third place, Acting President and Prime Minister Hwang Kyo-ahn and Rep. Ahn Cheol-soo of the People's Party tied at 9 percent.\",\n",
       " \"Former UN Secretary-General Ban Ki-moon’s surprise decision not to run for the presidency prompted mixed responses from political communities. The two main conservative parties expressed shock and regret for losing their potential standard-bearer, while the opposition camp welcomed his decision. Ban has been under attack from opposition parties for supporting the controversial wartime sex slavery deal with Japan.Former UN Secretary-General Ban Ki-moon’s return home has brought him closer to his much anticipated bid for South Korean presidency. The 72-year-old former diplomat now enters domestic politics for the first time as a rookie in the electoral game. Ban is known for his amicable ties with all South Korean presidents, regardless of their respective political tendencies.Former UN Secretary-General Ban Ki-moon's return home has sent South Korea's conservative parties scurrying to court him. The ruling Saenuri Party and a soon-to-be-launched splinter party are struggling to find a potent figure to lead them through the election. They are currently pinning hopes on Ban, seen as a conservative.Ban Ki-moon will take time to decide whether to create a new party or join one of the existing entities. The former UN official, set to return home Thursday afternoon, will first place priority on taking in the public sentiment. Ban will take no delay in speaking against the recently raised bribery allegations claiming he received kickbacks from a businessman.Rival parties are scrambling to capitalize the situation in their favor amid political turmoil over President Park Geun-hye's corruption scandal. The ruling Saenuri Party's divided factions are competing to put the world's top diplomat on their ticket. The main opposition Democratic Party of Korea, on the other hand, has stepped up its attacks against Ban’s presidential bid.UN Secretary-General Ban Ki-moon pledged to devote his life to the advancement of South Korea on Tuesday. His remarks were widely viewed as his strongest declaration for a presidential bid since he first hinted about the plan in May this year. Ban has not clarified his bid for the 2017 presidential race, only saying that he has been “giving much thought” to the plan.Ban Ki-moon appears to be adopting a new strategy in the current political turmoil. He blamed the incumbent president for creating such a crisis in a country where political stability and economic prosperity have come a long way from her father’s presidency. Ban's remarks raised speculation that if he decides to throw his hat into the ring at the presidential election, he would decide instead to represent moderate conservatives.UN Secretary-General Ban Ki-moon is unlikely to join the ruling Saenuri Party after he returns to South Korea in mid-January. The 71-year-old veteran diplomat, who has been with the UN for the past 10 years, was once considered the conservatives' best shot at winning the next presidential election. South Korean conservatives are in disarray, with President Park deeply unpopular in the wake of a humiliating political scandal.Ban Ki-moon has hinted at the possibility of running for next year’s presidential election. In an interview with CNN on Tuesday, the outgoing UN chief said that he would “think about” his role in South Korea after his term ends on Dec 31. Ban also noted that he has “grave concern” over the nepotism scandal tied to President Park”s confidante Choi Soon-sil.\",\n",
       " \"President Park Geun-hye on Friday granted special pardons to more than 4,800 convicts. Among the beneficiaries was Lee Jay-hyun, the chairman of the nation’s largest food and entertainment conglomerate CJ Group. But felons and political offenders, especially those convicted for corruption charges, were not included in list.President Park Geun-hye will grant special pardons mostly to those convicted of livelihood-related crimes. The pardons are part of celebrations to mark the 71st anniversary of Korea's independence from Japan's 1910-45 colonial rule. Park will preside over an extraordinary Cabinet meeting to confirm the list of those to be granted pardons.President Park Geun-hye granted special pardons to thousands of Koreans convicted of minor crimes and millions who received administrative penalties. The president also exercised her special power to pardon 14 high-profile businessmen including SK Group chairman Chey Tae-won. Park has rarely used her right to give clemency ahead of the national holidays.President Park Geun-hye granted special pardons Thursday to a high-profile businessman and more than 6,500 people. The beneficiaries included SK Group Chairman Chey Tae-won, but Hanwha Group Chairman Kim Seung-yeon was excluded. The pardons are part of celebrations to mark the 70th anniversary of Korea's independence.President Park Geun-hye granted special pardons to thousands of Koreans convicted of minor crimes and millions who received administrative penalties. Park exercised her special power to pardon 14 high-profile businessmen including SK Group chairman Chey Tae-won. The president has rarely used her right to give clemency ahead of the national holidays.President Park Geun-hye may reduce the number of convicted business tycoons to be granted special pardons. Park plans to grant amnesty to a selected group of convicts on the occasion of the 70th anniversary of Korea's independence from Japan's 1910-45 colonial rule. At stake is whether Park will include SK Group Chairman Chey Tae-won.President Park Geun-hye is likely to finalize her plan for special pardons in a Cabinet meeting next Thursday. Speculation spread that jailed business moguls are most likely to be included on the list. Park said last month that the pardon would serve as an opportunity to “bring people together in the spirt of Korea’s Liberation Day.President Park Geun-hye indicated she would grant special pardons next month. The move is seen as a conciliatory gesture toward business and political circles. Park has rarely used her right to give clemency ahead of national holidays like Liberation’s Day, Chuseok and Lunar Holiday.President Park Geun-hye indicated she would grant special pardons next month. Park’s remarks immediately raised questions over whether she would exercise her special authority to release imprisoned business tycoons. She has not granted presidential pardons for any politicians or businessmen in prison since taking office in early 2013.\",\n",
       " 'President Park Geun-hye vetoed the controversial parliamentary hearing bill on Friday. The opposition parties vowed to re-endorse it at the next parliament. Last Thursday, the National Assembly had passed the bill that allows standing committees to call for public hearings to deliberate and investigate on any agendas considered important.The decision was made at the meeting presided over by Prime Minister Hwang Kyo-ahn. The bill, passed last week, has caused a rift between the opposition parties that favor the change and the government. The government voiced concerns that hearings will be used as a political tool and paralyze the executive branch.The bill allows the National Assembly to open hearings more often. It has caused a rift between the opposition parties that favor the change and the government. The government has voiced concerns that hearings will be used as a political tool. President Park Geun-hye is currently in Africa on a 12-day trip.No decision yet over whether President Park Geun-hye will veto a controversial bill. The bill will enable parliament to open hearings more frequently. Cheong Wa Dae called for an \"immediate\" amendment to it, arguing that it would paralyze government affairs and give inordinate power to the legislature.President Park Geun-hye on Thursday vetoed the controversial revision to the National Assembly Act. The president blasted both main parties for overstepping their boundaries and neglecting their duties. The move highlighted widening fissures within the ruling camp and prompted the outraged opposition to threaten a boycott.National Assembly Speaker Chung Ui-hwa sent the bill enabling lawmakers to seek changes to government ordinances Monday afternoon. The delivery came after a compromise reached between the ruling and main opposition party in the wording of the revision. The ball is now back in President Park Geun-hye’s court, but her spokesman expressed discontent with the latest version.The National Assembly Thursday sent a public servants pension system reform and dozens of other bills to the Cabinet. President Park Geun-hye could sign them into law. The 58 bills also includes a revised national health law, which requires tobacco companies to put pictorial warnings about the dangers of smoking on cigarette packs.President Park Geun-hye showed her stern rejection of a bill that would allow lawmakers to demand an amendment to government enforcement ordinances. The president’s rejection was widely seen as indicating her intention to use her veto if no changes are made to the bill before it reaches the stage of her endorsement. The bill requires government agencies to review their ordinances upon a request by the parliament.',\n",
       " \"67.8 percent of respondents said they approved of the way the president managed state affairs, down 0.7 percentage point from a week earlier. The slight decrease was partly attributed to the extension in the arrest of former President Park Geun-hye. The former leader had been detained since March, when she was removed from the office.The president's approval rating was 68.5 percent in a survey of 2,059 adults. The result marked a 0.8 percentage point increase from the 67.7 percent tallied from Sept. 25-29. The rise was partly attributed to the recent controversy over allegations that the Lee Myung-bak administration may have used government offices, including spy agencies, to attack and illegally gather information on political rivals.73.4 percent of respondents polled said they approved of how the president managed state affairs, down 1 percentage point from a week earlier. The local pollster partly attributed the drop to North Korea's latest missile provocation. The controversy over the recent nomination of Park Seong-jin as the new minister of small businesses and startups may have also affected the people's sentiment.72.4 percent of all respondents said they approved the president's management of state affairs. The latest reading marked the second consecutive week of drop following a 2 percentage-point decline in the previous week. The pollster partly attributed the drop to the release of what could be incriminating documents from the former administration.80 percent of respondents said they thought the president was doing a good job in managing state affairs. The latest reading marked a 3 percentage-point drop from a week earlier. The drop in Moon's approval rating marked the first of its kind in three weeks. The approval rating continues to mark one of the highest for a new president in his or her first year.85.9 percent of those surveyed said the new president was doing a good job in managing state affairs. The reading marked a 3.5 percentage point drop from a month before. Moon came into office on May 10 after winning a presidential by-election caused by the ouster of his conservative predecessor Park Geun-hye.Park Geun-hye's approval ratings continue to plunge in the face of a scandal. A mere 9.9 percent of respondents gave a positive view over Park’s state governance. The ratings for the ruling Saenuri Party also remained in the 10s for a third straight time.President Park Geun-hye's approval rating continued to decline amid a corruption scandal. Park's support came to 9.9 percent this week, dropping 1.6 percentage points on-week. The ruling Saenuri Party's support rating also fell 1 percentage point over the period.\",\n",
       " \"South Korean President Park Geun-hye returned home Monday after a four-nation Middle East swing. The trip to four Gulf States -- Kuwait, Saudi Arabia, the United Arab Emirates and Qatar -- came as oil-rich Mideast countries are pushing to diversify their economic portfolios. South Korea believes that such attempts could present new business opportunities for its companies.Leaders of South Korea and Qatar agreed to expand cooperation in infrastructure, investment, energy and medical services. Park Geun-hye and her Qatari counterpart emir Sheikh Tamim Bin Hamad Al Thanion discussed ways to bolster ties in infrastructure projects. The oil-rich Gulf state will host the event and plans to spend about $100 billion on construction projects.Park Geun-hye to meet with Qatar's emir to discuss ways to boost bilateral economic cooperation. Summit scheduled at 11:40 a.m. (local time) Comes as Park winds down her four-nation Middle East swing that was focused on expanding economic ties beyond oil and construction.President Park Geun-hye plans to meet with South Korean businessmen in Qatar on Saturday. The meeting would be the latest in a series of meetings she has held during her Mideast swing. Park is set to hold talks with Qatar's Emir Sheikh Tamim bin Hamad al-Thani on Sunday.President Park Geun-hye and the emir of Kuwait agreed to expand cooperation in renewable energy, medical services and information technology. The two sides also agreed to exempt entry visa issuance of South Korean diplomats and officials to the oil-rich nation. Park is the first South Korean president to visit Kuwait in eight years.President Park Geun-hye says she will seek new business opportunities for South Korean companies in the Middle East. Her trip is aimed at forging fresh strategic ties with the region amid falling oil prices and South Korea’s slowing economy. Park is the first South Korean president to visit Kuwait in eight years.President Park Geun-hye arrives in Kuwait for first leg of four-nation trip to Middle East. Park is set to hold summits with leaders of four nations to expand cooperation. 116 representatives of public and private firms have joined the presidential trip. Business forums will be held in all the four Gulf nations to help South Korean firms.President Park Geun-hye is set to embark on her nine-day trip on Sunday. She plans to visit Kuwait, Saudi Arabia, the United Arab Emirates and Qatar. This year marks the 50th year since South Korean builders entered foreign markets. Park urged officials to expand economic cooperation with the region.\",\n",
       " \"Eight former renegade lawmakers returned to the main opposition Liberty Korea Party on Thursday. The defections from the minor Bareun Party stripped it of its status as a parliamentary negotiating bloc that requires at least 20 lawmakers. The number of LKP legislators swelled to 115, just six less than that of the ruling Democratic Party.Eight lawmakers of the minor Bareun Party were set to officially defect on Wednesday. They plan to join the main opposition Liberty Korea Party on Thursday. The defections come after the LKP decided to expel corruption-tainted former President Park Geun-hye.Eight lawmakers from the minor Bareun Party announced their decision to defect to the main opposition Liberty Korea Party. Floor leader Joo Ho-young will also join them after the party concludes its leadership contest scheduled for next Monday. Their defections, if finalized, will reduce the number of the embattled party's legislators to 11.Liberty Korea Party decided Friday to expel corruption-tainted former President Park Geun-hye. The decision came about a fortnight after the LKP ethics committee agreed to recommend she voluntarily leave the party. In line with its constitution, the party can strip Park of membership 10 days after the recommendation.Bareun Party members remain at loggerheads over whether to join forces with main opposition party. Rep. Yoo Seong-min, the former presidential candidate, dismissed a call to delay the party's leadership election slated for Nov. 13. Gyeonggi Province Gov. Nam Kyung-pil has proposed the delay and floated the idea of dissolving the two parties' leaderships.Right-wingers struggling to bring the Bareun Party into their orbit. Liberals eyeing an alliance with the divided party to further cement its legislative foothold. LKP's drive for a merger with Bareun has gathered steam as it seeks to sever ties with corruption-tainted former President Park Geun-hye.Liberty Korea Party is set to take a crucial step to sever ties with disgraced former President Park Geun-hye. Park's LKP affiliation has long been a hurdle to uniting the fractured conservative bloc. Reformist members of the splinter Bareun Party have called on the LKp to remove all traces of the disgraced leader.\",\n",
       " \"Seoul court on Tuesday held the first preparatory hearing on two former aides to President Park Geun-hye. Former Chief of Staff Kim Ki-choon and Former Culture Minister Cho Yoon-sun were charged earlier this month with abuse of authority and coercion. Prosecutors suspect they masterminded the creation and management of the blacklist.Yoo Jin-ryong, who served as the minister from March 2013 to July 2014, made the remark as he appeared before the office of a special prosecutor's team to undergo questioning. The probe team on Saturday formally arrested Culture Minister Cho Yoon-sun and Kim Ki-choon on charges of abuse of authority.A Seoul court held a hearing Friday to decide whether to issue arrest warrants for an incumbent culture minister and a former presidential chief of staff. Special investigators looking into the massive scandal involving President Park Geun-hye have sought warrants for Minister Cho Yoon-sun and Kim Ki-choon. The hearing, held at the Seoul Central District Court, lasted three hours.A South Korean court held a hearing on Friday to decide whether to issue warrants to arrest the country's culture minister and a former presidential chief of staff. An independent counsel team, looking into an influence-peddling scandal involving President Park Geun-hye and her confidante, on Wednesday requested the warrants. Minister Cho Yoon-sun and former top secretary Kim Ki-choon on charges of abuse of authority and perjury.Culture Minister Cho Yoon-sun and former Presidential Chief of Staff Kim Ki-choon appear at independent counsel's office. They are suspected of abusing their power and obstructed the exercise of rights by others. The allegation that the administration discriminated against certain artists is a serious breach of constitutional values.Minister Cho Yoon-sun and former presidential chief of staff Kim Ki-choon appeared at the office of the special prosecutor looking into an influence-peddling scandal. The investigation team suspects that the two were the masterminds behind the alleged creation and management of the blacklist.Kim Jong-deok and Kim Sang-ryul are accused of keeping a blacklist of about 10,000 artists deemed unfriendly to the government. The list reportedly included some of the country’s most renowned cultural figures, including “Oldboy” film director Park Chan-wook and poet Ko Un.\",\n",
       " 'President Park Geun-hye secured Iran\\'s support for denuclearization on the Korean Peninsula. She also met with Iran\\'s supreme leader Ayatollah Ali Khamenei in a symbolic gesture that underscored bilateral commitment to further strengthening relations. Park expressed hope that her trip could create a new momentum for a \"second Middle East boom\"President Park Geun-hye’s landmark visit to Iran is hoped by the government to give much-needed momentum to state affairs. The economic achievement, for one, has been questioned by many here for allegedly being exaggerated. The event had come amid heightening anticipation toward the promising Iranian market since international economic sanctions were lifted.President Park Geun-hye arrived in Seoul on Wednesday after a landmark state visit to Tehran. Park and her Iranian counterpart Hassan Rouhani observed the signing of nearly 20 out of 66 memorandums of understanding worth up to $45.6 billion. Park also met with Iran\\'s supreme leader Ayatollah Ali Khamenei.South Korean President Park Geun-hye ends three-day visit to recently sanction-freed Iran. She highlights the high economic yields expected in the infrastructure sector. Park also expressed hopes that productive ties may be expanded to underdeveloped fields. Iran\\'s top leaders also called for denuclearization, once again denying alleged military ties with the communist regime.President Park Geun-hye praised the renewed bilateral partnership of the two states. She also expressed hopes that such productive ties may be expanded to underdeveloped fields. Iran\\'s top leaders also called for denuclearization, once again denying alleged military ties with the communist regime. They did not, however, directly mention North Korea and its nuclear armament.South Korean President Park Geun-hye held landmark summit talks with her Iranian counterpart Hassan Rouhani on Monday. The summit was the first since the two countries established diplomatic relations back in 1962. South Korea seeks to gain a foothold in the promising Iranian market hoping for a second Middle East boom.President Park Geun-hye’s historic visit to Iran is expected to significantly improve the diplomatic, economic and cultural relations. The four-day trip from Sunday to Wednesday is part of the South Korean government\\'s endeavor to seize business opportunities in the Iranian market. Park is scheduled to meet with Iranian counterpart Hassan Rouhani on Monday, marking the first summit between the two countries since 1962.',\n",
       " 'President Park Geun-hye remained unfazed by the umbrella labor unions’ withdrawal from the tripartite deal on labor reforms. She called for the relevant parties to compromise and indicated the government would continue to spearhead the measures. The FKTU, one of the nation’s two largest umbrella organizations, announced a day earlier that it would withdraw from the deal.The Federation of Korean Trade Unions said Tuesday that it would no longer acknowledge the tripartite agreement. The union chairman pledged to file an injunction or an unconstitutionality suit against the government’s labor guidelines. President Park Geun-hye reiterated her calls for the passage of the controversial labor bills.President Park Geun-hye repeated her calls for the nation on Tuesday to participate in a petition campaign led by economic organizations. The president claimed that the petition was the last resort to save the economy and to boost employment. The main opposition the Minjoo Party of Korea denounced the president for detouring due legislative procedure.The Park Geun-hye administration is pushing for two labor-management guidelines. It\\'s a follow-up measure to the \"grand compromise\" at tripartite talks in September. The Federation of Korean Trade Unions claims the conservative Park government has drawn up the guidelines unilaterally.President Park Geun-hye said Tuesday that the government is open for further discussions with unions and employers on a set of labor reform measures. In a luncheon with representatives of a trilateral panel of the government, labor union and the business representatives, the president thanked them for reaching a landmark deal on labor reform.Cheong Wa Dae, the government and the ruling party agreed Sunday to draw up specifics to spur the implementation of a trilateral commission\\'s recent deal on labor reform.Last Sunday, representatives from labor, management and the government reached a last-ditch agreement that would allow companies to dismiss workers who are either negligent or underperforming.President Park Geun-hye thanked the workers for making a \"tough\" decision to compromise on reform measures. The tripartite committee of labor, business and government representatives unanimously passed a labor market reform deal. The government has vowed to implement the reforms within this year, even without workers’ approval.']"
      ]
     },
     "execution_count": 67,
     "metadata": {},
     "output_type": "execute_result"
    }
   ],
   "source": [
    "sents_politics = concat_sents(df_politics, label_politics)\n",
    "sents_politics"
   ]
  },
  {
   "cell_type": "code",
   "execution_count": 60,
   "id": "c69f4161",
   "metadata": {},
   "outputs": [],
   "source": [
    "device = \"cuda:0\" if torch.cuda.is_available() else \"cpu\"\n",
    "model = BartForConditionalGeneration.from_pretrained('facebook/bart-large-cnn').to(device)\n",
    "tokenizer = BartTokenizer.from_pretrained('facebook/bart-large-cnn')"
   ]
  },
  {
   "cell_type": "code",
   "execution_count": 61,
   "id": "62579324",
   "metadata": {},
   "outputs": [],
   "source": [
    "def summarize_text(s: str):\n",
    "    inputs = tokenizer([s], max_length=1024, return_tensors='pt', truncation=True).to(device)\n",
    "    summary_ids = model.generate(inputs['input_ids'], num_beams=4, max_length=100, early_stopping=True)\n",
    "    output = [tokenizer.decode(g, skip_special_tokens=True, clean_up_tokenization_spaces=False) for g in summary_ids]\n",
    "    torch.cuda.empty_cache()\n",
    "    return output[0]"
   ]
  },
  {
   "cell_type": "code",
   "execution_count": 63,
   "id": "de843c1a",
   "metadata": {},
   "outputs": [],
   "source": [
    "def summarize(sents):\n",
    "    summary = []\n",
    "    for sent in sents:\n",
    "        summary.append(summarize_text(sent))\n",
    "    return summary"
   ]
  },
  {
   "cell_type": "code",
   "execution_count": 70,
   "id": "91a2b0a6",
   "metadata": {},
   "outputs": [
    {
     "data": {
      "text/plain": [
       "['North Korea appears to be advancing its submarine-launched ballistic missile program. Commercial satellite imagery shows the country\\'s second platform for launching missiles underwater outside of submarines has been moved. The platform, known as a submersible ballistic missile test stand barge, \"is being prepared to enter service,\" 38 North says.',\n",
       " \"Group of 13 North Korean defectors who worked at a restaurant in China have begun to resettle in South Korea. Seoul's unification ministry said it cannot reveal further details due to concerns over their safety. Overseas restaurants are an increasingly important source of dollars for the North at a time when international sanctions have cut off Pyongyang.\",\n",
       " 'Around 200 propaganda leaflets from the North were found near Susaek Station in western Seoul late Saturday. The leaflets, promoting the “success of Hwasong-14 ICBM” were dropped over the South Korean capital. North Korea has been increasing its efforts to equip itself with ballistic missile capacities.',\n",
       " '254 people of 90 families from the South met with their loved ones in the North. 389 South Koreans reunited with their long-lost kin at the Mount Geumgangsan resort. More than 140 North Koreans from 96 families attended the reunions, which were held for the first time since February 2014. The reunions were possible because of a comprehensive cross-border deal on Aug. 25 to reduce border tensions and enhance bilateral ties.',\n",
       " '84 percent of Americans think President Donald Trump is \"really willing to use military force against North Korea\" The poll was conducted Oct. 25-30 by Pew Research Center. There was a sharp partisan divide in confidence in Trump\\'s ability to handle the North Korean threat. Tensions have heightened in the wake of North Korea\\'s repeated missile launches and sixth nuclear test.',\n",
       " 'UN nuclear watchdog should revise its view on the amounts of fissile material North Korea needs to build a nuclear weapon. Experts believe it is only a matter of time before the North develops an ICBM capable of carrying a nuclear warhead to the US mainland. ISIS estimates that the communist North currently has about 13 to 21 nuclear weapons.',\n",
       " 'U.N. Security Council adopted Resolution 2270 in March to punish the North for its nuclear and ballistic missile tests. 66 countries have submitted their own implementation reports since then. The sanctions include mandatory inspections of all cargo going into and out of the North. Five countries -- Angola, Costa Rica, Burundi, Iraq and Senegal -- submitted reports for first time.',\n",
       " 'IOC President Thomas Bach is seeking to visit North Korea to discuss its participation in the 2018 PyeongChang Winter Games. It remains to be seen, however, whether the North would accept Bach’s visit despite heightened tensions over its nuclear and missile tests. The 23rd Olympic Winter Games will take place in the South Korean alpine town from February 9-25.',\n",
       " \"North Korea has featured a flight crew of its flag carrier Air Koryo in a 2017 calendar. The calendar is seen as an unprecedented move to revitalize its tourism industry. At present, the North's sole airline holds only four airliners on international routes. North Korea is reportedly experiencing hardships as it has been under strict international sanctions.\",\n",
       " \"Shallow 3.5-magnitude earthquake hits North Korea near country's nuclear test site. US seismologists say quake struck 20 kilometers (12 miles) away from North's nuclear site. First tremor was 6.3 on the exponential scale. The location of the epicenter was near the site where the North had detonated nuclear explosions.\"]"
      ]
     },
     "execution_count": 70,
     "metadata": {},
     "output_type": "execute_result"
    }
   ],
   "source": [
    "summary_nk = summarize(sents_nk)\n",
    "summary_nk"
   ]
  },
  {
   "cell_type": "code",
   "execution_count": 71,
   "id": "2890f455",
   "metadata": {},
   "outputs": [
    {
     "data": {
      "text/plain": [
       "['Moon Jae-in of the liberal Democratic Party garnered a record 36.6 percent approval rating last week. The former leader of the largest party in the National Assembly rose 1.5 percentage points in a weekly survey. South Gyeongsang Gov. Hong Joon-pyo rose as a strong conservative figure after the acting president decided not to enter the race.',\n",
       " 'Former UN Secretary-General Ban Ki-moon’s return home has brought him closer to his much anticipated bid for South Korean presidency. The 72-year-old former diplomat now enters domestic politics for the first time as a rookie in the electoral game. The two main conservative parties expressed shock and regret for losing their potential standard-bearer, while the opposition camp welcomed his decision.',\n",
       " \"President Park Geun-hye on Friday granted special pardons to more than 4,800 convicts. Among the beneficiaries was Lee Jay-hyun, the chairman of the nation’s largest food and entertainment conglomerate CJ Group. The pardons are part of celebrations to mark the 71st anniversary of Korea's independence from Japan's 1910-45 colonial rule.\",\n",
       " 'President Park Geun-hye vetoed the controversial parliamentary hearing bill on Friday. The opposition parties vowed to re-endorse it at the next parliament. The bill allows the National Assembly to open hearings more often. It has caused a rift between the opposition parties that favor the change and the government.',\n",
       " '67.8 percent of respondents said they approved of the way the president managed state affairs, down 0.7 percentage point from a week earlier. The slight decrease was partly attributed to the extension in the arrest of former President Park Geun-hye. The approval rating continues to mark one of the highest for a new president in his or her first year.',\n",
       " 'South Korean President Park Geun-hye returned home Monday after a four-nation Middle East swing. The trip to four Gulf States -- Kuwait, Saudi Arabia, the United Arab Emirates and Qatar -- came as oil-rich Mideast countries are pushing to diversify their economic portfolios. South Korea believes that such attempts could present new business opportunities for its companies.',\n",
       " 'Eight former renegade lawmakers returned to the main opposition Liberty Korea Party on Thursday. The defections from the minor Bareun Party stripped it of its status as a parliamentary negotiating bloc that requires at least 20 lawmakers. Number of LKP legislators swelled to 115, just six less than that of the ruling Democratic Party.',\n",
       " 'Seoul court on Tuesday held the first preparatory hearing on two former aides to President Park Geun-hye. Former Chief of Staff Kim Ki-choon and Former Culture Minister Cho Yoon-sun were charged earlier this month with abuse of authority and coercion. Prosecutors suspect they masterminded the creation and management of the blacklist.',\n",
       " 'President Park Geun-hye arrived in Seoul on Wednesday after a landmark state visit to Tehran. Park and her Iranian counterpart Hassan Rouhani observed the signing of nearly 20 out of 66 memorandums of understanding worth up to $45.6 billion. The summit was the first since the two countries established diplomatic relations back in 1962.',\n",
       " 'The Federation of Korean Trade Unions said Tuesday that it would no longer acknowledge the tripartite agreement. Union chairman pledged to file an injunction or an unconstitutionality suit against the government’s labor guidelines. President Park Geun-hye reiterated her calls for the passage of the controversial labor bills.']"
      ]
     },
     "execution_count": 71,
     "metadata": {},
     "output_type": "execute_result"
    }
   ],
   "source": [
    "summary_politics = summarize(sents_politics)\n",
    "summary_politics"
   ]
  },
  {
   "cell_type": "code",
   "execution_count": 72,
   "id": "4caed520",
   "metadata": {},
   "outputs": [],
   "source": [
    "def top_n_sum(df, summary, label):\n",
    "    topnsum = pd.DataFrame(summary, columns=['summary'])\n",
    "    topnsum['label'] = label\n",
    "    topnsum['freq'] = freq_label(df, label)\n",
    "    return topnsum"
   ]
  },
  {
   "cell_type": "code",
   "execution_count": 78,
   "id": "3785cf54",
   "metadata": {},
   "outputs": [
    {
     "data": {
      "text/html": [
       "<div>\n",
       "<style scoped>\n",
       "    .dataframe tbody tr th:only-of-type {\n",
       "        vertical-align: middle;\n",
       "    }\n",
       "\n",
       "    .dataframe tbody tr th {\n",
       "        vertical-align: top;\n",
       "    }\n",
       "\n",
       "    .dataframe thead th {\n",
       "        text-align: right;\n",
       "    }\n",
       "</style>\n",
       "<table border=\"1\" class=\"dataframe\">\n",
       "  <thead>\n",
       "    <tr style=\"text-align: right;\">\n",
       "      <th></th>\n",
       "      <th>summary</th>\n",
       "      <th>label</th>\n",
       "      <th>freq</th>\n",
       "    </tr>\n",
       "  </thead>\n",
       "  <tbody>\n",
       "    <tr>\n",
       "      <th>0</th>\n",
       "      <td>North Korea appears to be advancing its submar...</td>\n",
       "      <td>100</td>\n",
       "      <td>13</td>\n",
       "    </tr>\n",
       "    <tr>\n",
       "      <th>1</th>\n",
       "      <td>Group of 13 North Korean defectors who worked ...</td>\n",
       "      <td>1265</td>\n",
       "      <td>13</td>\n",
       "    </tr>\n",
       "    <tr>\n",
       "      <th>2</th>\n",
       "      <td>Around 200 propaganda leaflets from the North ...</td>\n",
       "      <td>547</td>\n",
       "      <td>10</td>\n",
       "    </tr>\n",
       "    <tr>\n",
       "      <th>3</th>\n",
       "      <td>254 people of 90 families from the South met w...</td>\n",
       "      <td>2216</td>\n",
       "      <td>9</td>\n",
       "    </tr>\n",
       "    <tr>\n",
       "      <th>4</th>\n",
       "      <td>84 percent of Americans think President Donald...</td>\n",
       "      <td>203</td>\n",
       "      <td>8</td>\n",
       "    </tr>\n",
       "    <tr>\n",
       "      <th>5</th>\n",
       "      <td>UN nuclear watchdog should revise its view on ...</td>\n",
       "      <td>778</td>\n",
       "      <td>7</td>\n",
       "    </tr>\n",
       "    <tr>\n",
       "      <th>6</th>\n",
       "      <td>U.N. Security Council adopted Resolution 2270 ...</td>\n",
       "      <td>1403</td>\n",
       "      <td>7</td>\n",
       "    </tr>\n",
       "    <tr>\n",
       "      <th>7</th>\n",
       "      <td>IOC President Thomas Bach is seeking to visit ...</td>\n",
       "      <td>13</td>\n",
       "      <td>7</td>\n",
       "    </tr>\n",
       "    <tr>\n",
       "      <th>8</th>\n",
       "      <td>North Korea has featured a flight crew of its ...</td>\n",
       "      <td>751</td>\n",
       "      <td>6</td>\n",
       "    </tr>\n",
       "    <tr>\n",
       "      <th>9</th>\n",
       "      <td>Shallow 3.5-magnitude earthquake hits North Ko...</td>\n",
       "      <td>342</td>\n",
       "      <td>6</td>\n",
       "    </tr>\n",
       "  </tbody>\n",
       "</table>\n",
       "</div>"
      ],
      "text/plain": [
       "                                             summary  label  freq\n",
       "0  North Korea appears to be advancing its submar...    100    13\n",
       "1  Group of 13 North Korean defectors who worked ...   1265    13\n",
       "2  Around 200 propaganda leaflets from the North ...    547    10\n",
       "3  254 people of 90 families from the South met w...   2216     9\n",
       "4  84 percent of Americans think President Donald...    203     8\n",
       "5  UN nuclear watchdog should revise its view on ...    778     7\n",
       "6  U.N. Security Council adopted Resolution 2270 ...   1403     7\n",
       "7  IOC President Thomas Bach is seeking to visit ...     13     7\n",
       "8  North Korea has featured a flight crew of its ...    751     6\n",
       "9  Shallow 3.5-magnitude earthquake hits North Ko...    342     6"
      ]
     },
     "execution_count": 78,
     "metadata": {},
     "output_type": "execute_result"
    }
   ],
   "source": [
    "top_nk = top_n_sum(df_nk, summary_nk, label_nk)\n",
    "top_nk.to_csv(\"data/top_nk.csv\", index=False)\n",
    "df_nk.to_csv(\"data/df_nk_labeled\", index=False)\n",
    "top_nk"
   ]
  },
  {
   "cell_type": "code",
   "execution_count": 79,
   "id": "f2b2222e",
   "metadata": {},
   "outputs": [
    {
     "data": {
      "text/html": [
       "<div>\n",
       "<style scoped>\n",
       "    .dataframe tbody tr th:only-of-type {\n",
       "        vertical-align: middle;\n",
       "    }\n",
       "\n",
       "    .dataframe tbody tr th {\n",
       "        vertical-align: top;\n",
       "    }\n",
       "\n",
       "    .dataframe thead th {\n",
       "        text-align: right;\n",
       "    }\n",
       "</style>\n",
       "<table border=\"1\" class=\"dataframe\">\n",
       "  <thead>\n",
       "    <tr style=\"text-align: right;\">\n",
       "      <th></th>\n",
       "      <th>summary</th>\n",
       "      <th>label</th>\n",
       "      <th>freq</th>\n",
       "    </tr>\n",
       "  </thead>\n",
       "  <tbody>\n",
       "    <tr>\n",
       "      <th>0</th>\n",
       "      <td>Moon Jae-in of the liberal Democratic Party ga...</td>\n",
       "      <td>360</td>\n",
       "      <td>11</td>\n",
       "    </tr>\n",
       "    <tr>\n",
       "      <th>1</th>\n",
       "      <td>Former UN Secretary-General Ban Ki-moon’s retu...</td>\n",
       "      <td>642</td>\n",
       "      <td>9</td>\n",
       "    </tr>\n",
       "    <tr>\n",
       "      <th>2</th>\n",
       "      <td>President Park Geun-hye on Friday granted spec...</td>\n",
       "      <td>1212</td>\n",
       "      <td>9</td>\n",
       "    </tr>\n",
       "    <tr>\n",
       "      <th>3</th>\n",
       "      <td>President Park Geun-hye vetoed the controversi...</td>\n",
       "      <td>1329</td>\n",
       "      <td>8</td>\n",
       "    </tr>\n",
       "    <tr>\n",
       "      <th>4</th>\n",
       "      <td>67.8 percent of respondents said they approved...</td>\n",
       "      <td>37</td>\n",
       "      <td>8</td>\n",
       "    </tr>\n",
       "    <tr>\n",
       "      <th>5</th>\n",
       "      <td>South Korean President Park Geun-hye returned ...</td>\n",
       "      <td>1939</td>\n",
       "      <td>8</td>\n",
       "    </tr>\n",
       "    <tr>\n",
       "      <th>6</th>\n",
       "      <td>Eight former renegade lawmakers returned to th...</td>\n",
       "      <td>28</td>\n",
       "      <td>7</td>\n",
       "    </tr>\n",
       "    <tr>\n",
       "      <th>7</th>\n",
       "      <td>Seoul court on Tuesday held the first preparat...</td>\n",
       "      <td>525</td>\n",
       "      <td>7</td>\n",
       "    </tr>\n",
       "    <tr>\n",
       "      <th>8</th>\n",
       "      <td>President Park Geun-hye arrived in Seoul on We...</td>\n",
       "      <td>1373</td>\n",
       "      <td>7</td>\n",
       "    </tr>\n",
       "    <tr>\n",
       "      <th>9</th>\n",
       "      <td>The Federation of Korean Trade Unions said Tue...</td>\n",
       "      <td>1504</td>\n",
       "      <td>7</td>\n",
       "    </tr>\n",
       "  </tbody>\n",
       "</table>\n",
       "</div>"
      ],
      "text/plain": [
       "                                             summary  label  freq\n",
       "0  Moon Jae-in of the liberal Democratic Party ga...    360    11\n",
       "1  Former UN Secretary-General Ban Ki-moon’s retu...    642     9\n",
       "2  President Park Geun-hye on Friday granted spec...   1212     9\n",
       "3  President Park Geun-hye vetoed the controversi...   1329     8\n",
       "4  67.8 percent of respondents said they approved...     37     8\n",
       "5  South Korean President Park Geun-hye returned ...   1939     8\n",
       "6  Eight former renegade lawmakers returned to th...     28     7\n",
       "7  Seoul court on Tuesday held the first preparat...    525     7\n",
       "8  President Park Geun-hye arrived in Seoul on We...   1373     7\n",
       "9  The Federation of Korean Trade Unions said Tue...   1504     7"
      ]
     },
     "execution_count": 79,
     "metadata": {},
     "output_type": "execute_result"
    }
   ],
   "source": [
    "top_politics = top_n_sum(df_politics, summary_politics, label_politics)\n",
    "top_politics.to_csv(\"data/top_politics.csv\", index=False)\n",
    "df_politics.to_csv(\"data/df_politics_labeled\", index=False)\n",
    "top_politics"
   ]
  },
  {
   "cell_type": "code",
   "execution_count": null,
   "id": "6c1832e9",
   "metadata": {},
   "outputs": [],
   "source": []
  }
 ],
 "metadata": {
  "kernelspec": {
   "display_name": "Python 3 (ipykernel)",
   "language": "python",
   "name": "python3"
  },
  "language_info": {
   "codemirror_mode": {
    "name": "ipython",
    "version": 3
   },
   "file_extension": ".py",
   "mimetype": "text/x-python",
   "name": "python",
   "nbconvert_exporter": "python",
   "pygments_lexer": "ipython3",
   "version": "3.8.8"
  }
 },
 "nbformat": 4,
 "nbformat_minor": 5
}
