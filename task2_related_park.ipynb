{
 "cells": [
  {
   "cell_type": "code",
   "execution_count": 1,
   "id": "9585bd15",
   "metadata": {},
   "outputs": [
    {
     "name": "stderr",
     "output_type": "stream",
     "text": [
      "[nltk_data] Downloading package stopwords to\n",
      "[nltk_data]     C:\\Users\\Modern\\AppData\\Roaming\\nltk_data...\n",
      "[nltk_data]   Package stopwords is already up-to-date!\n",
      "[nltk_data] Downloading package wordnet to\n",
      "[nltk_data]     C:\\Users\\Modern\\AppData\\Roaming\\nltk_data...\n",
      "[nltk_data]   Package wordnet is already up-to-date!\n"
     ]
    }
   ],
   "source": [
    "import pandas as pd\n",
    "import numpy as np\n",
    "import os\n",
    "import re\n",
    "import nltk\n",
    "nltk.download('stopwords')\n",
    "nltk.download('wordnet')\n",
    "import string\n",
    "import random\n",
    "import unicodedata\n",
    "from string import punctuation\n",
    "from string import digits\n",
    "from nltk.stem import WordNetLemmatizer\n",
    "import joblib\n",
    "\n",
    "from sklearn.feature_extraction.text import CountVectorizer\n",
    "from sklearn.decomposition import LatentDirichletAllocation\n",
    "\n",
    "from tqdm import tqdm\n",
    "import spacy\n",
    "from spacy.matcher import Matcher"
   ]
  },
  {
   "cell_type": "code",
   "execution_count": 2,
   "id": "125a6b86",
   "metadata": {},
   "outputs": [
    {
     "data": {
      "text/plain": [
       "(23769, 7)"
      ]
     },
     "execution_count": 2,
     "metadata": {},
     "output_type": "execute_result"
    }
   ],
   "source": [
    "pd.set_option('display.max_colwidth', 2000)\n",
    "### Reading data\n",
    "data_dir = 'data/'\n",
    "filename_prefix = 'koreaherald_1517_'\n",
    "df = []\n",
    "\n",
    "for i in range(8):\n",
    "    df.append(pd.read_json(os.path.join(data_dir, filename_prefix + str(i) + '.json')))\n",
    "df = pd.concat(df)\n",
    "df.reset_index(inplace=True)\n",
    "df = df.rename(columns=dict(zip(df.columns,[df.columns[i].strip() for i in range(len(df.columns))])))\n",
    "df.drop('index', inplace=True, axis=1)\n",
    "df['agg_title_body'] = df['title'] + df['body']\n",
    "\n",
    "df.shape"
   ]
  },
  {
   "cell_type": "code",
   "execution_count": 3,
   "id": "ef5aac54",
   "metadata": {},
   "outputs": [],
   "source": [
    "nlp = spacy.load('en_core_web_lg')"
   ]
  },
  {
   "cell_type": "code",
   "execution_count": 4,
   "id": "4fd2fca5",
   "metadata": {},
   "outputs": [],
   "source": [
    "### Lemmatization tool\n",
    "stemmer = WordNetLemmatizer()\n",
    "### Change similar words to the same word\n",
    "UN_WORD = \"The United Nations\"\n",
    "US_WORD = \"The United States\"\n",
    "NK_WORD = \"North Korea\"\n",
    "SK_WORD = \"South Korea\"\n",
    "PARK_WORD = \"Park Geun-hye\"\n",
    "\n",
    "similar_words = {\n",
    "    # Change to \"The United States\"\n",
    "    \"U.S.\": US_WORD,\n",
    "    \"US\": US_WORD,\n",
    "    \"USA\": US_WORD,\n",
    "    \"United States\": US_WORD,\n",
    "    \"United States'\": US_WORD,\n",
    "    \"The United States'\": US_WORD,\n",
    "    \n",
    "    # Change to \"North Korea\"\n",
    "    \"NK\": NK_WORD,\n",
    "    \"NK's\": NK_WORD,\n",
    "    \"N. Korea\": NK_WORD,\n",
    "    \"N. Korea's\": NK_WORD,\n",
    "    \"North Korea's\": NK_WORD,\n",
    "    \n",
    "    # Change to \"South Korea\"\n",
    "    \"SK\": SK_WORD,\n",
    "    \"SK's\": SK_WORD,\n",
    "    \"S. Korea\": SK_WORD,\n",
    "    \"S. Korea's\": SK_WORD,\n",
    "    \"South Korea's\": SK_WORD,\n",
    "    \n",
    "    # Change to \"The United Nations\"\n",
    "    \"United Nations\": UN_WORD,\n",
    "    \"United Nations'\": UN_WORD,\n",
    "    \"The United Nations'\": UN_WORD,\n",
    "    \"UN\": UN_WORD,\n",
    "    \n",
    "    # Change to \"Park Geun-hye\"\n",
    "    \"President Park Geun-hye's\": PARK_WORD,\n",
    "    \"President Park Geun-Hye's\": PARK_WORD,\n",
    "    \"President Park Geun Hye's\": PARK_WORD,\n",
    "    \"President Park Geun-hye\": PARK_WORD,\n",
    "    \"President Park Geun-Hye\": PARK_WORD,\n",
    "    \"President Park Geun Hye\": PARK_WORD,\n",
    "    \"President Park's\": PARK_WORD,\n",
    "    \"President Park\": PARK_WORD,\n",
    "    \"Park Geun-hye's\": PARK_WORD,\n",
    "    \"Park Geun-Hye's\": PARK_WORD,\n",
    "    \"Park Geun Hye's\": PARK_WORD,\n",
    "    \"Park Geun-Hye\": PARK_WORD,\n",
    "    \"Park Geun Hye\": PARK_WORD,\n",
    "}\n",
    "\n",
    "### Transform function\n",
    "def text_cleaning(s: str):\n",
    "        \n",
    "    def replace_strange_char(s: str):\n",
    "        non_en_chars = {\n",
    "            \"’\": \"'\",\n",
    "            \"‘\": \"'\"\n",
    "        }\n",
    "\n",
    "        def remove_non_en_chars(txt):\n",
    "            # remove non english characters\n",
    "            txt = convert_latin_chars(txt)\n",
    "            for char in non_en_chars.keys():\n",
    "                txt = re.sub(char, non_en_chars[char], txt)\n",
    "            txt = re.sub(r'[^\\x00-\\x7F]+', ' ', txt)\n",
    "            return txt\n",
    "\n",
    "        def convert_latin_chars(txt):\n",
    "            # convert latin characters\n",
    "            return ''.join(char for char in unicodedata.normalize('NFKD', txt) if unicodedata.category(char) != 'Mn')\n",
    "\n",
    "        s = remove_non_en_chars(s)\n",
    "        s = convert_latin_chars(s)\n",
    "        return s\n",
    "    s = replace_strange_char(s)\n",
    "    for key,value in similar_words.items():\n",
    "        s = re.sub(key, value, s)\n",
    "    return s\n",
    "\n",
    "def spacy_tokenizer(s: str):\n",
    "    # Change similar terms to the same term\n",
    "    new_str = text_cleaning(s)\n",
    "    doc = nlp(new_str)\n",
    "    # Group tokens\n",
    "    matcher = Matcher(nlp.vocab)\n",
    "    token_groupup_pattern = [\n",
    "        [{\"LOWER\": \"the\"}, {\"LOWER\": \"united\"}, {\"LOWER\": \"nations\"}],\n",
    "        [{\"LOWER\": \"the\"}, {\"LOWER\": \"united\"}, {\"LOWER\": \"states\"}],\n",
    "        [{\"LOWER\": \"north\"}, {\"LOWER\": \"korea\"}],\n",
    "        [{\"LOWER\": \"south\"}, {\"LOWER\": \"korea\"}],\n",
    "    ]\n",
    "    matcher.add(\"TermGroup\",token_groupup_pattern)\n",
    "    matches = matcher(doc)\n",
    "    merge_doc = []\n",
    "    for nid, start, end in matches:\n",
    "        merge_doc.append((start,end))\n",
    "    with doc.retokenize() as retokenizer:\n",
    "        for i in range(len(merge_doc)-1,-1,-1):\n",
    "            retokenizer.merge(doc[merge_doc[i][0]:merge_doc[i][1]])\n",
    "        \n",
    "    # Remove all stopword, punctuation, number\n",
    "    tokens = [ token.lemma_.lower() for token in doc \\\n",
    "              if not token.is_stop and not token.is_punct and not token.like_num and token.lemma_.strip()!= '']\n",
    "    return tokens"
   ]
  },
  {
   "cell_type": "code",
   "execution_count": 5,
   "id": "6dfcd71e",
   "metadata": {},
   "outputs": [],
   "source": [
    "def print_top_words(model, vectorizer, n_top_words):\n",
    "    feature_names = vectorizer.get_feature_names()\n",
    "    for topic_idx, topic in enumerate(model.components_):\n",
    "        message = \"\\nTopic #%d: \" % topic_idx\n",
    "        message += \" \".join([feature_names[i]\n",
    "                             for i in topic.argsort()[:-n_top_words - 1:-1]])\n",
    "        print(message)\n",
    "    print()"
   ]
  },
  {
   "cell_type": "code",
   "execution_count": 6,
   "id": "e7c9a015",
   "metadata": {},
   "outputs": [],
   "source": [
    "def most_related_docs(df, doc_topic_dist, topic_index, num_docs=5):\n",
    "    sorted_doc = doc_topic_dist.sort_values(by=['{}'.format(topic_index)], ascending=False)\n",
    "    return df.iloc[sorted_doc[:num_docs].index]"
   ]
  },
  {
   "cell_type": "code",
   "execution_count": 7,
   "id": "4ec68c02",
   "metadata": {},
   "outputs": [],
   "source": [
    "park_str = \"President Park Geun-hye's|President Park Geun-Hye's|President Park Geun Hye's|President Park Geun-hye|President Park Geun hye\"\n",
    "# df_park is extracted from df with president and park existing in doc's body\n",
    "df_p = df[df['agg_title_body'].str.contains(park_str, flags=re.IGNORECASE, regex=True)]"
   ]
  },
  {
   "cell_type": "code",
   "execution_count": 8,
   "id": "8ebaae56",
   "metadata": {},
   "outputs": [
    {
     "data": {
      "text/plain": [
       "['../data/p_data_vectorized.csv']"
      ]
     },
     "execution_count": 8,
     "metadata": {},
     "output_type": "execute_result"
    }
   ],
   "source": [
    "p_vectorizer = CountVectorizer(tokenizer=spacy_tokenizer)\n",
    "p_data_vectorized = p_vectorizer.fit_transform(df_p['agg_title_body'])\n",
    "joblib.dump(p_vectorizer, 'data/p_vectorizer.csv')\n",
    "joblib.dump(p_data_vectorized, 'data/p_data_vectorized.csv')"
   ]
  },
  {
   "cell_type": "code",
   "execution_count": 9,
   "id": "73bbf1d7",
   "metadata": {},
   "outputs": [],
   "source": [
    "p_vectorizer = joblib.load('data/p_vectorizer.csv')\n",
    "p_data_vectorized = joblib.load('data/p_data_vectorized.csv')"
   ]
  },
  {
   "cell_type": "code",
   "execution_count": 10,
   "id": "0bb50b84",
   "metadata": {},
   "outputs": [
    {
     "data": {
      "text/plain": [
       "['../data/p_lda.csv']"
      ]
     },
     "execution_count": 10,
     "metadata": {},
     "output_type": "execute_result"
    }
   ],
   "source": [
    "p_lda = LatentDirichletAllocation(n_components=50, random_state=0)\n",
    "p_lda.fit(p_data_vectorized)\n",
    "joblib.dump(p_lda, 'data/p_lda.csv')"
   ]
  },
  {
   "cell_type": "code",
   "execution_count": 11,
   "id": "cd50add5",
   "metadata": {},
   "outputs": [],
   "source": [
    "p_lda = joblib.load('data/p_lda.csv')"
   ]
  },
  {
   "cell_type": "code",
   "execution_count": 12,
   "id": "93cdd0de",
   "metadata": {},
   "outputs": [],
   "source": [
    "def print_top_words(model, vectorizer, n_top_words):\n",
    "    feature_names = vectorizer.get_feature_names()\n",
    "    for topic_idx, topic in enumerate(model.components_):\n",
    "        message = \"\\nTopic #%d: \" % topic_idx\n",
    "        message += \" \".join([feature_names[i]\n",
    "                             for i in topic.argsort()[:-n_top_words - 1:-1]])\n",
    "        print(message)\n",
    "    print()"
   ]
  },
  {
   "cell_type": "code",
   "execution_count": 13,
   "id": "0a31ae7d",
   "metadata": {},
   "outputs": [
    {
     "name": "stdout",
     "output_type": "stream",
     "text": [
      "\n",
      "Topic #0: say government airport ministry english city official country earthquake report new public safety quake disaster busan year daegu korea president park magnitude water region korean\n",
      "\n",
      "Topic #1: tax budget welfare percent income policy won increase government raise year park win rate pay $ taxis hike settlement scheme finance money debt economic extra\n",
      "\n",
      "Topic #2: peru park baek death brazil hospital oxy seoul humidifier colombia say peruvian product disinfectant state visit victim president cause humala vietnam people doctor toxic die\n",
      "\n",
      "Topic #3: say president park korean obama state south korea house south leader visit kerry nation country government talk geun uzbekistan white hye democracy character word plan u.s\n",
      "\n",
      "Topic #4: park rally police president seoul say protest geun hold hye people saturday korea year country group public office central street citizen protester old take anti\n",
      "\n",
      "Topic #5: say president public park government dae wa ministry cheong official office hwang security presidential year chief hye geun new people national call minister time information\n",
      "\n",
      "Topic #6: park visit summit president south korea leader say attend hold meeting u.s trip hye geun u.n korean cooperation country plan china discuss seoul global meet include\n",
      "\n",
      "Topic #7: president presidential park office investigation team hwang counsel probe scandal say independent special choi wa prosecutor dae cheong state minister affair secretary day official face\n",
      "\n",
      "Topic #8: training reserve force chinese tourist reservist myeong dong shop travel duty army say officer ban mobilize instructor customer number china immigration division leave shooting owner\n",
      "\n",
      "Topic #9: thaad defense missile deployment system deploy altitude terminal decision seoul area say security government high south korea battery china threat plan ministry opposition military north advanced\n",
      "\n",
      "Topic #10: labor government reform say park bill worker job year plan union market economy call meeting economic wage system rule company regular push business issue korean\n",
      "\n",
      "Topic #11: u.s say china south korea seoul korea korean alliance president washington security japan country issue trump south park relation ally north korea beijing think cooperation foreign interest\n",
      "\n",
      "Topic #12: year korea say government country economic percent work development new korean system economy people $ plan world ministry growth policy industry public park need global\n",
      "\n",
      "Topic #13: party moon presidential election conservative candidate ahn ban korea president jae liberal say democratic political hong liberty support people race percent lead poll park bareun\n",
      "\n",
      "Topic #14: pension health public say government outbreak hospital mer patient disease medical mers virus park respiratory civil middle ministry syndrome people case east center seoul servant\n",
      "\n",
      "Topic #15: park korean country south korea cooperation korea south visit trade economic say business president bilateral iran $ project energy trip middle company tie hye geun year\n",
      "\n",
      "Topic #16: party park president opposition say impeachment assembly leader national people rule rep saenuri lawmaker vote political democratic constitutional parliament presidential motion meeting bill floor court\n",
      "\n",
      "Topic #17: party park lee president kim minister new political opposition say saenuri rep chief prime public leader presidential rule national lawmaker nomination election leadership hyun parliamentary\n",
      "\n",
      "Topic #18: summit hold china meeting park japan trilateral talk minister abe chinese foreign bilateral seoul south korea leader say cooperation year korean japanese prime way meet agree\n",
      "\n",
      "Topic #19: nuclear north korea test security say sanction park council international north meeting weapon minister china resolution u.n south korea u.s talk pyongyang strong president call obama threat\n",
      "\n",
      "Topic #20: china chinese sewol ship ferry say parade maritime government beijing operation salvage sinking south remain rescue committee ministry attend year accident island military official passenger\n",
      "\n",
      "Topic #21: chung university school daughter choi president student ewha yoo professor ra mother ministry say womans admission soon high give education favor special sil academic year\n",
      "\n",
      "Topic #22: military defense korean north seoul u.s south official say border drill broadcast war provocation pyongyang joint exercise han soldier force minister ministry troop technology attack\n",
      "\n",
      "Topic #23: korea project creative center asia ambassador lee economy eurasia country year seoul minister initiative korean russia city europe cooperation innovation railway investment singapore joel technology\n",
      "\n",
      "Topic #24: park nis agency office official say president intelligence lee spy ferry presidential receive prosecutor report service medical geun wa dae kim national chief cheong year\n",
      "\n",
      "Topic #25: law corruption lee park official scandal say bill prime public graft right human act minister anti resignation record illegal accept archive investigation gift government sing\n",
      "\n",
      "Topic #26: memorial song ceremony ferry year people victim democracy sewol say family uprising disaster president south gwangju kill government pay april anniversary park visit mark movement\n",
      "\n",
      "Topic #27: korea korean colombia british lee britain colombian joel thailand greece trade greek ambassador woman hammond country hay serbia national tourism u.k investment year reception food\n",
      "\n",
      "Topic #28: park korean say south korea south kim year complex government president funeral factory national call hye industrial geun korea time report state kaesong country seoul nation\n",
      "\n",
      "Topic #29: choi park president say presidential foundation scandal soon sil sport allegation state k influence secretary affair company jeong suspect local office document close mir report\n",
      "\n",
      "Topic #30: japan japanese issue woman korean tokyo say victim abe seoul deal minister comfort sexual war sex slavery world government wartime park agreement foreign korea south korea\n",
      "\n",
      "Topic #31: say lee sing hong park minister party political prosecution kim claim jong list scandal chief election prime president rule fund politician wan money sung probe\n",
      "\n",
      "Topic #32: party saenuri lawmaker rep say bill rule opposition assembly leader parliamentary national kim committee member chung park floor minjoo yoo president government session suk main\n",
      "\n",
      "Topic #33: tuition radar say meter hanja official location local seongju x base cheonan seongsan ministry fee scholarship course alternative college golf half near ri government hwang\n",
      "\n",
      "Topic #34: park court president impeachment trial say constitutional justice hearing choi geun hye lawyer ruling lee march chief charge seoul scandal soon hold office sil impeach\n",
      "\n",
      "Topic #35: french france ambassador korea paris tech korean embassy seoul year foreign hollande diplomat station city green envoy myanmar say consul industry vietnam yoo hub global\n",
      "\n",
      "Topic #36: percent party park rating approval week point poll percentage survey saenuri opposition election show support people rule say conduct minjoo president hye geun korea public\n",
      "\n",
      "Topic #37: korean park family south say reunion korea hold koreas separate year president war north south korea talk deal people end member exchange geun time hye call\n",
      "\n",
      "Topic #38: park samsung lee arrest choi court charge group prosecutor president bribery prosecution seoul warrant say scandal corruption jae district trial year suspect bribe business chairman\n",
      "\n",
      "Topic #39: opening game google ceremony pitch baseball kia province throw tiger mungyeong sport fertilizer world player mark gyeongsang series olympics greenhouse gwangju closing ceremonial war.on korean\n",
      "\n",
      "Topic #40: party bareun opposition liberty park conservative korea lkp say leader main pyo political lawmaker member reform scandal rule rep corruption president hye panel splinter minor\n",
      "\n",
      "Topic #41: park pardon day special say independence liberation holiday grant year president aug business people official geun national anniversary hye chey chairman presidential meeting colonial include\n",
      "\n",
      "Topic #42: universiade summer kcci cruise country south korea host official say region park parole preparation kys@heraldcorp.com korea international yon raise nex1 vice speed hold justice war game\n",
      "\n",
      "Topic #43: cyberattack hack email shim ishikane hacker computer smartphone czech software bureau kimihiro nis steal thousand oceanian phone director remembrance ministry malware scholar information link chin\n",
      "\n",
      "Topic #44: park textbook government woo state history kim culture say ministry president minister prosecutor cho prosecution blacklist author education official case investigation artist geun school high\n",
      "\n",
      "Topic #45: north north korea korean nuclear say missile test military korea launch pyongyang park south korea provocation south range kim ballistic sanction rocket long jong leader un yonhap\n",
      "\n",
      "Topic #46: education child program care government city ministry school student say seoul welfare office free center budget year parent social day youth percent teacher subsidy province\n",
      "\n",
      "Topic #47: revision constitutional system president constitution say year presidential national change term issue amendment current debate revise political minister power government lawmaker election need plan single\n",
      "\n",
      "Topic #48: election vote voting voter percent ballot people day turnout cast early presidential young commission year national age country fund overseas park official bulgaria say hope\n",
      "\n",
      "Topic #49: north korean say north korea seoul kim pyongyang unification year nuclear park talk president country inter foreign policy south relation sanction un international leader regime dialogue\n",
      "\n"
     ]
    }
   ],
   "source": [
    "print_top_words(p_lda, p_vectorizer, n_top_words=25)"
   ]
  },
  {
   "cell_type": "code",
   "execution_count": 14,
   "id": "48ca0a89",
   "metadata": {},
   "outputs": [],
   "source": [
    "p_doc_topic_dist = pd.DataFrame(p_lda.transform(p_data_vectorized))\n",
    "p_doc_topic_dist.to_csv('data/p_doc_topic_dist.csv', index=False)"
   ]
  },
  {
   "cell_type": "code",
   "execution_count": 15,
   "id": "f1c66c2d",
   "metadata": {},
   "outputs": [],
   "source": [
    "p_doc_topic_dist = pd.read_csv('data/p_doc_topic_dist.csv')"
   ]
  },
  {
   "cell_type": "code",
   "execution_count": 16,
   "id": "9918a6e4",
   "metadata": {},
   "outputs": [
    {
     "data": {
      "text/plain": [
       "22928    Corporate tax hike should be last resort: ruling party head\n",
       "5337                    Moon to pay for his own private expenditures\n",
       "22662           Parliament to hold interpellation sessions this week\n",
       "Name: title, dtype: object"
      ]
     },
     "execution_count": 16,
     "metadata": {},
     "output_type": "execute_result"
    }
   ],
   "source": [
    "# Park education\n",
    "most_related_docs(df_p, p_doc_topic_dist, 1, num_docs=3)['title']"
   ]
  },
  {
   "cell_type": "code",
   "execution_count": 17,
   "id": "3da556f5",
   "metadata": {},
   "outputs": [],
   "source": [
    "df_pp = df[(df['section'] == 'Politics') & (df['agg_title_body'].str.contains(park_str, flags=re.IGNORECASE, regex=True))]"
   ]
  },
  {
   "cell_type": "code",
   "execution_count": 47,
   "id": "838180c3",
   "metadata": {},
   "outputs": [],
   "source": [
    "# Extract entities from sentences\n",
    "def extract_entity(sents, index, df):\n",
    "    print(\"[ Detailed Information (per event) ]\\n\")\n",
    "    \n",
    "    ent_per = []\n",
    "    ent_org = []\n",
    "    ent_loc = []\n",
    "    \n",
    "    event = df.iloc[index].sort_values(by=['time'])['title'].tolist()\n",
    "    \n",
    "    for i in reversed(range(len(sents))):\n",
    "        doc = nlp(sents[i])\n",
    "        for ent in doc.ents:\n",
    "            word = ent.text.title()\n",
    "            if word in ent_per or word in ent_org or word in ent_loc:\n",
    "                continue\n",
    "            if ent.label_ == 'PERSON':\n",
    "                ent_per.append(word)\n",
    "            elif ent.label_ == 'ORG':\n",
    "                ent_org.append(word)\n",
    "            elif ent.label_ in ['GPE', 'LOC']:\n",
    "                ent_loc.append(word)\n",
    "        \n",
    "        print(\"Event: \", event[i])\n",
    "        print(\"- Person: \", \", \".join([i for i in ent_per]))\n",
    "        print(\"- Organization: \", \", \".join([i for i in ent_org]))\n",
    "        print(\"- Place: \", \", \".join([i for i in ent_loc]))\n",
    "        print()"
   ]
  },
  {
   "cell_type": "code",
   "execution_count": 54,
   "id": "4e390c0a",
   "metadata": {},
   "outputs": [],
   "source": [
    "def print_events(df, index):\n",
    "    event = df.iloc[index].sort_values(by=['time'])['title'].tolist()\n",
    "    print(\"[ Related-Issue Events ]\\n\")\n",
    "    print(\", \".join([i for i in event]))\n",
    "    print()"
   ]
  },
  {
   "cell_type": "code",
   "execution_count": 55,
   "id": "18943f27",
   "metadata": {},
   "outputs": [
    {
     "name": "stdout",
     "output_type": "stream",
     "text": [
      "[ Related-Issue Events ]\n",
      "\n",
      "Park to build ecosystem of cultural content industry, Park tours hospital with MERS patients, Park, Moon clash over history textbooks, Park names new disease prevention chief, Park requests 15 more witnesses at impeachment trial\n",
      "\n",
      "[ Detailed Information (per event) ]\n",
      "\n",
      "Event:  Park requests 15 more witnesses at impeachment trial\n",
      "- Person:  Park Geun, Lee Joong Hwan, Lee, Lee Jung Mi, Han Chul\n",
      "- Organization:  \n",
      "- Place:  Geun\n",
      "\n",
      "Event:  Park names new disease prevention chief\n",
      "- Person:  Park Geun, Lee Joong Hwan, Lee, Lee Jung Mi, Han Chul, Jung Ki, Bae Hyun Jung\n",
      "- Organization:  \n",
      "- Place:  Geun\n",
      "\n",
      "Event:  Park, Moon clash over history textbooks\n",
      "- Person:  Park Geun, Lee Joong Hwan, Lee, Lee Jung Mi, Han Chul, Jung Ki, Bae Hyun Jung, Cheong Wa Dae, Npad, Moon Jae, Hye Greet, Kim Moo, Moon Jae Cheong Wa Dae, Yoo Chul Npad, Lee Jong Kul, Kim Moon, Kim, Kim Sung, Kim Support Park, Hwang Kyo Ahn South Korea, Hwang\n",
      "- Organization:  Saenuri Party, China Vietnam New Zealand, Pyongyang Washington Express, Japan Self Defense Force Korean, Cho Chung Un\n",
      "- Place:  Geun, South Korea, Japan, Washington, Korea, U.S.\n",
      "\n",
      "Event:  Park tours hospital with MERS patients\n",
      "- Person:  Park Geun, Lee Joong Hwan, Lee, Lee Jung Mi, Han Chul, Jung Ki, Bae Hyun Jung, Cheong Wa Dae, Npad, Moon Jae, Hye Greet, Kim Moo, Moon Jae Cheong Wa Dae, Yoo Chul Npad, Lee Jong Kul, Kim Moon, Kim, Kim Sung, Kim Support Park, Hwang Kyo Ahn South Korea, Hwang, Kyung Wook, Park\n",
      "- Organization:  Saenuri Party, China Vietnam New Zealand, Pyongyang Washington Express, Japan Self Defense Force Korean, Cho Chung Un\n",
      "- Place:  Geun, South Korea, Japan, Washington, Korea, U.S., Middle East, Seoul, Saudi Arabia\n",
      "\n",
      "Event:  Park to build ecosystem of cultural content industry\n",
      "- Person:  Park Geun, Lee Joong Hwan, Lee, Lee Jung Mi, Han Chul, Jung Ki, Bae Hyun Jung, Cheong Wa Dae, Npad, Moon Jae, Hye Greet, Kim Moo, Moon Jae Cheong Wa Dae, Yoo Chul Npad, Lee Jong Kul, Kim Moon, Kim, Kim Sung, Kim Support Park, Hwang Kyo Ahn South Korea, Hwang, Kyung Wook, Park, Park Geun Hye\n",
      "- Organization:  Saenuri Party, China Vietnam New Zealand, Pyongyang Washington Express, Japan Self Defense Force Korean, Cho Chung Un\n",
      "- Place:  Geun, South Korea, Japan, Washington, Korea, U.S., Middle East, Seoul, Saudi Arabia, China, Bank Korea\n",
      "\n"
     ]
    }
   ],
   "source": [
    "sents_p = [ ' '.join(spacy_tokenizer(s)) for s in df.iloc[related_issue_index].sort_values(by=['time'])['body']]\n",
    "print_events(df, related_issue_index)\n",
    "extract_entity(sents_p, related_issue_index, df)"
   ]
  },
  {
   "cell_type": "code",
   "execution_count": null,
   "id": "daaa6ae0",
   "metadata": {},
   "outputs": [],
   "source": []
  }
 ],
 "metadata": {
  "kernelspec": {
   "display_name": "Python 3 (ipykernel)",
   "language": "python",
   "name": "python3"
  },
  "language_info": {
   "codemirror_mode": {
    "name": "ipython",
    "version": 3
   },
   "file_extension": ".py",
   "mimetype": "text/x-python",
   "name": "python",
   "nbconvert_exporter": "python",
   "pygments_lexer": "ipython3",
   "version": "3.8.8"
  }
 },
 "nbformat": 4,
 "nbformat_minor": 5
}
